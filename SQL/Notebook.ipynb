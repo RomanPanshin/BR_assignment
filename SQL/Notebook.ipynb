{
    "metadata": {
        "kernelspec": {
            "name": "SQL",
            "display_name": "SQL",
            "language": "sql"
        },
        "language_info": {
            "name": "sql",
            "version": ""
        }
    },
    "nbformat_minor": 2,
    "nbformat": 4,
    "cells": [
        {
            "cell_type": "markdown",
            "source": [
                "**<span lang=\"RU\" style=\"font-size: 12pt; font-family: Arial, sans-serif; color: rgb(31, 73, 125);\">Рейтинг 1</span>**"
            ],
            "metadata": {
                "azdata_cell_guid": "bbad4fed-0779-4550-8688-e171c6ed2268"
            },
            "attachments": {}
        },
        {
            "cell_type": "markdown",
            "source": [
                "<span style=\"caret-color: rgb(0, 0, 0); color: rgb(0, 0, 0); font-family: -webkit-standard; font-size: medium;\">Скольких покупателей обслужил продавец, лидирующий по общему количеству заказов?</span>"
            ],
            "metadata": {
                "azdata_cell_guid": "7d8860eb-ab4c-4c57-a386-924f1b285782"
            },
            "attachments": {}
        },
        {
            "cell_type": "code",
            "source": [
                "USE Northwind;\n",
                "WITH SalesCounts AS (\n",
                "    SELECT \n",
                "        OrderID,\n",
                "        EmployeeID,\n",
                "        CustomerID,\n",
                "        COUNT(OrderID) OVER (PARTITION BY EmployeeID) AS TotalOrders\n",
                "    FROM Orders\n",
                ")\n",
                "SELECT \n",
                "    TOP 1 EmployeeID,\n",
                "    COUNT(DISTINCT CustomerID) AS CustomerCount\n",
                "FROM SalesCounts\n",
                "GROUP BY EmployeeID, TotalOrders\n",
                "ORDER BY TotalOrders DESC;\n",
                ""
            ],
            "metadata": {
                "azdata_cell_guid": "0e26cf88-0637-470c-ae4a-72868fb292b8",
                "language": "sql"
            },
            "outputs": [
                {
                    "output_type": "display_data",
                    "data": {
                        "text/html": "(1 row affected)"
                    },
                    "metadata": {}
                },
                {
                    "output_type": "display_data",
                    "data": {
                        "text/html": "Total execution time: 00:00:00.007"
                    },
                    "metadata": {}
                },
                {
                    "output_type": "execute_result",
                    "metadata": {},
                    "execution_count": 1,
                    "data": {
                        "application/vnd.dataresource+json": {
                            "schema": {
                                "fields": [
                                    {
                                        "name": "EmployeeID"
                                    },
                                    {
                                        "name": "CustomerCount"
                                    }
                                ]
                            },
                            "data": [
                                {
                                    "EmployeeID": "4",
                                    "CustomerCount": "75"
                                }
                            ]
                        },
                        "text/html": [
                            "<table>",
                            "<tr><th>EmployeeID</th><th>CustomerCount</th></tr>",
                            "<tr><td>4</td><td>75</td></tr>",
                            "</table>"
                        ]
                    }
                }
            ],
            "execution_count": 1
        },
        {
            "cell_type": "markdown",
            "source": [
                "<span style=\"caret-color: rgb(0, 0, 0); color: rgb(0, 0, 0); font-family: -webkit-standard; font-size: medium;\">Сколько французских городов обслужил продавец №1 в 1997-м?</span>"
            ],
            "metadata": {
                "azdata_cell_guid": "b7a95d09-4ef4-4c44-b56e-fd5f67aac252"
            },
            "attachments": {}
        },
        {
            "cell_type": "code",
            "source": [
                "SELECT \n",
                "    COUNT(DISTINCT ShipCity) AS FrenchCityCount\n",
                "FROM Orders\n",
                "WHERE \n",
                "    EmployeeID = 1\n",
                "    AND ShipCountry = 'France'\n",
                "    AND YEAR(OrderDate) = 1997;\n",
                ""
            ],
            "metadata": {
                "azdata_cell_guid": "99ba6ed9-59a9-4f83-adc9-97a10a1e2db4",
                "language": "sql"
            },
            "outputs": [
                {
                    "output_type": "display_data",
                    "data": {
                        "text/html": "(1 row affected)"
                    },
                    "metadata": {}
                },
                {
                    "output_type": "display_data",
                    "data": {
                        "text/html": "Total execution time: 00:00:00.003"
                    },
                    "metadata": {}
                },
                {
                    "output_type": "execute_result",
                    "metadata": {},
                    "execution_count": 2,
                    "data": {
                        "application/vnd.dataresource+json": {
                            "schema": {
                                "fields": [
                                    {
                                        "name": "FrenchCityCount"
                                    }
                                ]
                            },
                            "data": [
                                {
                                    "FrenchCityCount": "4"
                                }
                            ]
                        },
                        "text/html": [
                            "<table>",
                            "<tr><th>FrenchCityCount</th></tr>",
                            "<tr><td>4</td></tr>",
                            "</table>"
                        ]
                    }
                }
            ],
            "execution_count": 2
        },
        {
            "cell_type": "markdown",
            "source": [
                "<span style=\"caret-color: rgb(0, 0, 0); color: rgb(0, 0, 0); font-family: -webkit-standard; font-size: medium;\">В каких странах есть города, в которые было отправлено больше двух заказов?</span>"
            ],
            "metadata": {
                "azdata_cell_guid": "fe37265c-d016-40c5-891c-e5f314dd12db"
            },
            "attachments": {}
        },
        {
            "cell_type": "code",
            "source": [
                "SELECT \n",
                "    ShipCountry,\n",
                "    ShipCity,\n",
                "    COUNT(OrderID) AS OrderCount\n",
                "FROM Orders\n",
                "GROUP BY ShipCountry, ShipCity\n",
                "HAVING COUNT(OrderID) > 2;\n",
                ""
            ],
            "metadata": {
                "azdata_cell_guid": "970d03a3-abd5-41fb-ba63-2bd1ed47f9ab",
                "language": "sql"
            },
            "outputs": [
                {
                    "output_type": "display_data",
                    "data": {
                        "text/html": "(68 rows affected)"
                    },
                    "metadata": {}
                },
                {
                    "output_type": "display_data",
                    "data": {
                        "text/html": "Total execution time: 00:00:00.006"
                    },
                    "metadata": {}
                },
                {
                    "output_type": "execute_result",
                    "metadata": {},
                    "execution_count": 3,
                    "data": {
                        "application/vnd.dataresource+json": {
                            "schema": {
                                "fields": [
                                    {
                                        "name": "ShipCountry"
                                    },
                                    {
                                        "name": "ShipCity"
                                    },
                                    {
                                        "name": "OrderCount"
                                    }
                                ]
                            },
                            "data": [
                                {
                                    "ShipCountry": "Germany",
                                    "ShipCity": "Aachen",
                                    "OrderCount": "6"
                                },
                                {
                                    "ShipCountry": "USA",
                                    "ShipCity": "Albuquerque",
                                    "OrderCount": "18"
                                },
                                {
                                    "ShipCountry": "USA",
                                    "ShipCity": "Anchorage",
                                    "OrderCount": "10"
                                },
                                {
                                    "ShipCountry": "Denmark",
                                    "ShipCity": "Århus",
                                    "OrderCount": "11"
                                },
                                {
                                    "ShipCountry": "Spain",
                                    "ShipCity": "Barcelona",
                                    "OrderCount": "5"
                                },
                                {
                                    "ShipCountry": "Venezuela",
                                    "ShipCity": "Barquisimeto",
                                    "OrderCount": "14"
                                },
                                {
                                    "ShipCountry": "Italy",
                                    "ShipCity": "Bergamo",
                                    "OrderCount": "10"
                                },
                                {
                                    "ShipCountry": "Germany",
                                    "ShipCity": "Berlin",
                                    "OrderCount": "6"
                                },
                                {
                                    "ShipCountry": "Switzerland",
                                    "ShipCity": "Bern",
                                    "OrderCount": "8"
                                },
                                {
                                    "ShipCountry": "USA",
                                    "ShipCity": "Boise",
                                    "OrderCount": "31"
                                },
                                {
                                    "ShipCountry": "Sweden",
                                    "ShipCity": "Bräcke",
                                    "OrderCount": "19"
                                },
                                {
                                    "ShipCountry": "Germany",
                                    "ShipCity": "Brandenburg",
                                    "OrderCount": "14"
                                },
                                {
                                    "ShipCountry": "Belgium",
                                    "ShipCity": "Bruxelles",
                                    "OrderCount": "7"
                                },
                                {
                                    "ShipCountry": "Argentina",
                                    "ShipCity": "Buenos Aires",
                                    "OrderCount": "16"
                                },
                                {
                                    "ShipCountry": "USA",
                                    "ShipCity": "Butte",
                                    "OrderCount": "3"
                                },
                                {
                                    "ShipCountry": "Brazil",
                                    "ShipCity": "Campinas",
                                    "OrderCount": "9"
                                },
                                {
                                    "ShipCountry": "Belgium",
                                    "ShipCity": "Charleroi",
                                    "OrderCount": "12"
                                },
                                {
                                    "ShipCountry": "UK",
                                    "ShipCity": "Colchester",
                                    "OrderCount": "13"
                                },
                                {
                                    "ShipCountry": "Ireland",
                                    "ShipCity": "Cork",
                                    "OrderCount": "19"
                                },
                                {
                                    "ShipCountry": "UK",
                                    "ShipCity": "Cowes",
                                    "OrderCount": "10"
                                },
                                {
                                    "ShipCountry": "Germany",
                                    "ShipCity": "Cunewalde",
                                    "OrderCount": "28"
                                },
                                {
                                    "ShipCountry": "USA",
                                    "ShipCity": "Elgin",
                                    "OrderCount": "5"
                                },
                                {
                                    "ShipCountry": "USA",
                                    "ShipCity": "Eugene",
                                    "OrderCount": "11"
                                },
                                {
                                    "ShipCountry": "Germany",
                                    "ShipCity": "Frankfurt a.M.",
                                    "OrderCount": "15"
                                },
                                {
                                    "ShipCountry": "Switzerland",
                                    "ShipCity": "Genève",
                                    "OrderCount": "10"
                                },
                                {
                                    "ShipCountry": "Austria",
                                    "ShipCity": "Graz",
                                    "OrderCount": "30"
                                },
                                {
                                    "ShipCountry": "Finland",
                                    "ShipCity": "Helsinki",
                                    "OrderCount": "7"
                                },
                                {
                                    "ShipCountry": "Venezuela",
                                    "ShipCity": "I. de Margarita",
                                    "OrderCount": "12"
                                },
                                {
                                    "ShipCountry": "USA",
                                    "ShipCity": "Kirkland",
                                    "OrderCount": "3"
                                },
                                {
                                    "ShipCountry": "Denmark",
                                    "ShipCity": "Kobenhavn",
                                    "OrderCount": "7"
                                },
                                {
                                    "ShipCountry": "Germany",
                                    "ShipCity": "Köln",
                                    "OrderCount": "10"
                                },
                                {
                                    "ShipCountry": "USA",
                                    "ShipCity": "Lander",
                                    "OrderCount": "9"
                                },
                                {
                                    "ShipCountry": "Germany",
                                    "ShipCity": "Leipzig",
                                    "OrderCount": "5"
                                },
                                {
                                    "ShipCountry": "France",
                                    "ShipCity": "Lille",
                                    "OrderCount": "5"
                                },
                                {
                                    "ShipCountry": "Portugal",
                                    "ShipCity": "Lisboa",
                                    "OrderCount": "13"
                                },
                                {
                                    "ShipCountry": "UK",
                                    "ShipCity": "London",
                                    "OrderCount": "33"
                                },
                                {
                                    "ShipCountry": "Sweden",
                                    "ShipCity": "Luleå",
                                    "OrderCount": "18"
                                },
                                {
                                    "ShipCountry": "France",
                                    "ShipCity": "Lyon",
                                    "OrderCount": "10"
                                },
                                {
                                    "ShipCountry": "Spain",
                                    "ShipCity": "Madrid",
                                    "OrderCount": "8"
                                },
                                {
                                    "ShipCountry": "Germany",
                                    "ShipCity": "Mannheim",
                                    "OrderCount": "7"
                                },
                                {
                                    "ShipCountry": "France",
                                    "ShipCity": "Marseille",
                                    "OrderCount": "17"
                                },
                                {
                                    "ShipCountry": "Mexico",
                                    "ShipCity": "México D.F.",
                                    "OrderCount": "28"
                                },
                                {
                                    "ShipCountry": "Canada",
                                    "ShipCity": "Montréal",
                                    "OrderCount": "13"
                                },
                                {
                                    "ShipCountry": "Germany",
                                    "ShipCity": "München",
                                    "OrderCount": "15"
                                },
                                {
                                    "ShipCountry": "Germany",
                                    "ShipCity": "Münster",
                                    "OrderCount": "6"
                                },
                                {
                                    "ShipCountry": "France",
                                    "ShipCity": "Nantes",
                                    "OrderCount": "7"
                                },
                                {
                                    "ShipCountry": "Finland",
                                    "ShipCity": "Oulu",
                                    "OrderCount": "15"
                                },
                                {
                                    "ShipCountry": "France",
                                    "ShipCity": "Paris",
                                    "OrderCount": "4"
                                },
                                {
                                    "ShipCountry": "USA",
                                    "ShipCity": "Portland",
                                    "OrderCount": "12"
                                },
                                {
                                    "ShipCountry": "Italy",
                                    "ShipCity": "Reggio Emilia",
                                    "OrderCount": "12"
                                },
                                {
                                    "ShipCountry": "France",
                                    "ShipCity": "Reims",
                                    "OrderCount": "5"
                                },
                                {
                                    "ShipCountry": "Brazil",
                                    "ShipCity": "Resende",
                                    "OrderCount": "9"
                                },
                                {
                                    "ShipCountry": "Brazil",
                                    "ShipCity": "Rio de Janeiro",
                                    "OrderCount": "34"
                                },
                                {
                                    "ShipCountry": "Austria",
                                    "ShipCity": "Salzburg",
                                    "OrderCount": "10"
                                },
                                {
                                    "ShipCountry": "Venezuela",
                                    "ShipCity": "San Cristóbal",
                                    "OrderCount": "18"
                                },
                                {
                                    "ShipCountry": "USA",
                                    "ShipCity": "San Francisco",
                                    "OrderCount": "4"
                                },
                                {
                                    "ShipCountry": "Brazil",
                                    "ShipCity": "Sao Paulo",
                                    "OrderCount": "31"
                                },
                                {
                                    "ShipCountry": "USA",
                                    "ShipCity": "Seattle",
                                    "OrderCount": "14"
                                },
                                {
                                    "ShipCountry": "Spain",
                                    "ShipCity": "Sevilla",
                                    "OrderCount": "10"
                                },
                                {
                                    "ShipCountry": "Norway",
                                    "ShipCity": "Stavern",
                                    "OrderCount": "6"
                                },
                                {
                                    "ShipCountry": "France",
                                    "ShipCity": "Strasbourg",
                                    "OrderCount": "11"
                                },
                                {
                                    "ShipCountry": "Germany",
                                    "ShipCity": "Stuttgart",
                                    "OrderCount": "10"
                                },
                                {
                                    "ShipCountry": "Italy",
                                    "ShipCity": "Torino",
                                    "OrderCount": "6"
                                },
                                {
                                    "ShipCountry": "France",
                                    "ShipCity": "Toulouse",
                                    "OrderCount": "14"
                                },
                                {
                                    "ShipCountry": "Canada",
                                    "ShipCity": "Tsawassen",
                                    "OrderCount": "14"
                                },
                                {
                                    "ShipCountry": "Canada",
                                    "ShipCity": "Vancouver",
                                    "OrderCount": "3"
                                },
                                {
                                    "ShipCountry": "France",
                                    "ShipCity": "Versailles",
                                    "OrderCount": "4"
                                },
                                {
                                    "ShipCountry": "Poland",
                                    "ShipCity": "Warszawa",
                                    "OrderCount": "7"
                                }
                            ]
                        },
                        "text/html": [
                            "<table>",
                            "<tr><th>ShipCountry</th><th>ShipCity</th><th>OrderCount</th></tr>",
                            "<tr><td>Germany</td><td>Aachen</td><td>6</td></tr>",
                            "<tr><td>USA</td><td>Albuquerque</td><td>18</td></tr>",
                            "<tr><td>USA</td><td>Anchorage</td><td>10</td></tr>",
                            "<tr><td>Denmark</td><td>Århus</td><td>11</td></tr>",
                            "<tr><td>Spain</td><td>Barcelona</td><td>5</td></tr>",
                            "<tr><td>Venezuela</td><td>Barquisimeto</td><td>14</td></tr>",
                            "<tr><td>Italy</td><td>Bergamo</td><td>10</td></tr>",
                            "<tr><td>Germany</td><td>Berlin</td><td>6</td></tr>",
                            "<tr><td>Switzerland</td><td>Bern</td><td>8</td></tr>",
                            "<tr><td>USA</td><td>Boise</td><td>31</td></tr>",
                            "<tr><td>Sweden</td><td>Bräcke</td><td>19</td></tr>",
                            "<tr><td>Germany</td><td>Brandenburg</td><td>14</td></tr>",
                            "<tr><td>Belgium</td><td>Bruxelles</td><td>7</td></tr>",
                            "<tr><td>Argentina</td><td>Buenos Aires</td><td>16</td></tr>",
                            "<tr><td>USA</td><td>Butte</td><td>3</td></tr>",
                            "<tr><td>Brazil</td><td>Campinas</td><td>9</td></tr>",
                            "<tr><td>Belgium</td><td>Charleroi</td><td>12</td></tr>",
                            "<tr><td>UK</td><td>Colchester</td><td>13</td></tr>",
                            "<tr><td>Ireland</td><td>Cork</td><td>19</td></tr>",
                            "<tr><td>UK</td><td>Cowes</td><td>10</td></tr>",
                            "<tr><td>Germany</td><td>Cunewalde</td><td>28</td></tr>",
                            "<tr><td>USA</td><td>Elgin</td><td>5</td></tr>",
                            "<tr><td>USA</td><td>Eugene</td><td>11</td></tr>",
                            "<tr><td>Germany</td><td>Frankfurt a.M.</td><td>15</td></tr>",
                            "<tr><td>Switzerland</td><td>Genève</td><td>10</td></tr>",
                            "<tr><td>Austria</td><td>Graz</td><td>30</td></tr>",
                            "<tr><td>Finland</td><td>Helsinki</td><td>7</td></tr>",
                            "<tr><td>Venezuela</td><td>I. de Margarita</td><td>12</td></tr>",
                            "<tr><td>USA</td><td>Kirkland</td><td>3</td></tr>",
                            "<tr><td>Denmark</td><td>Kobenhavn</td><td>7</td></tr>",
                            "<tr><td>Germany</td><td>Köln</td><td>10</td></tr>",
                            "<tr><td>USA</td><td>Lander</td><td>9</td></tr>",
                            "<tr><td>Germany</td><td>Leipzig</td><td>5</td></tr>",
                            "<tr><td>France</td><td>Lille</td><td>5</td></tr>",
                            "<tr><td>Portugal</td><td>Lisboa</td><td>13</td></tr>",
                            "<tr><td>UK</td><td>London</td><td>33</td></tr>",
                            "<tr><td>Sweden</td><td>Luleå</td><td>18</td></tr>",
                            "<tr><td>France</td><td>Lyon</td><td>10</td></tr>",
                            "<tr><td>Spain</td><td>Madrid</td><td>8</td></tr>",
                            "<tr><td>Germany</td><td>Mannheim</td><td>7</td></tr>",
                            "<tr><td>France</td><td>Marseille</td><td>17</td></tr>",
                            "<tr><td>Mexico</td><td>México D.F.</td><td>28</td></tr>",
                            "<tr><td>Canada</td><td>Montréal</td><td>13</td></tr>",
                            "<tr><td>Germany</td><td>München</td><td>15</td></tr>",
                            "<tr><td>Germany</td><td>Münster</td><td>6</td></tr>",
                            "<tr><td>France</td><td>Nantes</td><td>7</td></tr>",
                            "<tr><td>Finland</td><td>Oulu</td><td>15</td></tr>",
                            "<tr><td>France</td><td>Paris</td><td>4</td></tr>",
                            "<tr><td>USA</td><td>Portland</td><td>12</td></tr>",
                            "<tr><td>Italy</td><td>Reggio Emilia</td><td>12</td></tr>",
                            "<tr><td>France</td><td>Reims</td><td>5</td></tr>",
                            "<tr><td>Brazil</td><td>Resende</td><td>9</td></tr>",
                            "<tr><td>Brazil</td><td>Rio de Janeiro</td><td>34</td></tr>",
                            "<tr><td>Austria</td><td>Salzburg</td><td>10</td></tr>",
                            "<tr><td>Venezuela</td><td>San Cristóbal</td><td>18</td></tr>",
                            "<tr><td>USA</td><td>San Francisco</td><td>4</td></tr>",
                            "<tr><td>Brazil</td><td>Sao Paulo</td><td>31</td></tr>",
                            "<tr><td>USA</td><td>Seattle</td><td>14</td></tr>",
                            "<tr><td>Spain</td><td>Sevilla</td><td>10</td></tr>",
                            "<tr><td>Norway</td><td>Stavern</td><td>6</td></tr>",
                            "<tr><td>France</td><td>Strasbourg</td><td>11</td></tr>",
                            "<tr><td>Germany</td><td>Stuttgart</td><td>10</td></tr>",
                            "<tr><td>Italy</td><td>Torino</td><td>6</td></tr>",
                            "<tr><td>France</td><td>Toulouse</td><td>14</td></tr>",
                            "<tr><td>Canada</td><td>Tsawassen</td><td>14</td></tr>",
                            "<tr><td>Canada</td><td>Vancouver</td><td>3</td></tr>",
                            "<tr><td>France</td><td>Versailles</td><td>4</td></tr>",
                            "<tr><td>Poland</td><td>Warszawa</td><td>7</td></tr>",
                            "</table>"
                        ]
                    }
                }
            ],
            "execution_count": 3
        },
        {
            "cell_type": "markdown",
            "source": [
                "**<span lang=\"RU\" style=\"font-size: 12pt; font-family: Arial, sans-serif; color: rgb(31, 73, 125);\">Рейтинг 2</span>**"
            ],
            "metadata": {
                "azdata_cell_guid": "9aedb0ca-58ee-4eae-9820-b5fe78604325"
            },
            "attachments": {}
        },
        {
            "cell_type": "markdown",
            "source": [
                "_<span lang=\"RU\" style=\"font-size: 12pt; font-family: Arial, sans-serif; color: rgb(31, 73, 125);\">1.<span style=\"font-style: normal; font-variant-numeric: normal; font-variant-east-asian: normal; font-variant-alternates: normal; font-kerning: auto; font-optical-sizing: auto; font-feature-settings: normal; font-variation-settings: normal; font-stretch: normal; font-size: 7pt; line-height: normal; font-family: &quot;Times New Roman&quot;;\">&nbsp;&nbsp;&nbsp; </span></span>_        _<span lang=\"RU\" style=\"font-size: 12pt; font-family: Arial, sans-serif; color: rgb(31, 73, 125);\">Перечислите названия товаров, которые были проданы в количестве менее 1000 штук (</span>**<span lang=\"EN-US\" style=\"font-size: 12pt; font-family: Arial, sans-serif; color: rgb(31, 73, 125);\">quantity</span>**<span lang=\"RU\" style=\"font-size: 12pt; font-family: Arial, sans-serif; color: rgb(31, 73, 125);\">)?</span>_"
            ],
            "metadata": {
                "azdata_cell_guid": "e53c0fe7-0305-4282-88c6-281f40efd90c"
            },
            "attachments": {}
        },
        {
            "cell_type": "markdown",
            "source": [
                "1.1 <span style=\"caret-color: rgb(0, 0, 0); color: rgb(0, 0, 0); font-family: -webkit-standard; font-size: medium;\">Подзапросы</span>"
            ],
            "metadata": {
                "azdata_cell_guid": "160e1090-8236-46b7-8b5f-27e33ae18d65"
            },
            "attachments": {}
        },
        {
            "cell_type": "code",
            "source": [
                "SELECT ProductName\n",
                "FROM Products\n",
                "WHERE ProductID IN (\n",
                "    SELECT ProductID\n",
                "    FROM [Order Details]\n",
                "    GROUP BY ProductID\n",
                "    HAVING SUM(Quantity) < 1000\n",
                ");\n",
                ""
            ],
            "metadata": {
                "azdata_cell_guid": "495f2a50-3a60-4518-8928-d387e55969f2",
                "language": "sql"
            },
            "outputs": [
                {
                    "output_type": "display_data",
                    "data": {
                        "text/html": "(65 rows affected)"
                    },
                    "metadata": {}
                },
                {
                    "output_type": "display_data",
                    "data": {
                        "text/html": "Total execution time: 00:00:00.067"
                    },
                    "metadata": {}
                },
                {
                    "output_type": "execute_result",
                    "metadata": {},
                    "execution_count": 4,
                    "data": {
                        "application/vnd.dataresource+json": {
                            "schema": {
                                "fields": [
                                    {
                                        "name": "ProductName"
                                    }
                                ]
                            },
                            "data": [
                                {
                                    "ProductName": "Tunnbröd"
                                },
                                {
                                    "ProductName": "Spegesild"
                                },
                                {
                                    "ProductName": "Gudbrandsdalsost"
                                },
                                {
                                    "ProductName": "Thüringer Rostbratwurst"
                                },
                                {
                                    "ProductName": "Genen Shouyu"
                                },
                                {
                                    "ProductName": "Mishi Kobe Niku"
                                },
                                {
                                    "ProductName": "Aniseed Syrup"
                                },
                                {
                                    "ProductName": "Filo Mix"
                                },
                                {
                                    "ProductName": "Mozzarella di Giovanni"
                                },
                                {
                                    "ProductName": "Louisiana Hot Spiced Okra"
                                },
                                {
                                    "ProductName": "Mascarpone Fabioli"
                                },
                                {
                                    "ProductName": "Gumbär Gummibärchen"
                                },
                                {
                                    "ProductName": "Queso Manchego La Pastora"
                                },
                                {
                                    "ProductName": "Steeleye Stout"
                                },
                                {
                                    "ProductName": "Vegie-spread"
                                },
                                {
                                    "ProductName": "Grandma's Boysenberry Spread"
                                },
                                {
                                    "ProductName": "Pâté chinois"
                                },
                                {
                                    "ProductName": "Ipoh Coffee"
                                },
                                {
                                    "ProductName": "Maxilaku"
                                },
                                {
                                    "ProductName": "Laughing Lumberjack Lager"
                                },
                                {
                                    "ProductName": "Schoggi Schokolade"
                                },
                                {
                                    "ProductName": "Escargots de Bourgogne"
                                },
                                {
                                    "ProductName": "Wimmers gute Semmelknödel"
                                },
                                {
                                    "ProductName": "Côte de Blaye"
                                },
                                {
                                    "ProductName": "Uncle Bob's Organic Dried Pears"
                                },
                                {
                                    "ProductName": "Gula Malacca"
                                },
                                {
                                    "ProductName": "Chai"
                                },
                                {
                                    "ProductName": "Valkoinen suklaa"
                                },
                                {
                                    "ProductName": "Zaanse koeken"
                                },
                                {
                                    "ProductName": "Outback Lager"
                                },
                                {
                                    "ProductName": "Nord-Ost Matjeshering"
                                },
                                {
                                    "ProductName": "Carnarvon Tigers"
                                },
                                {
                                    "ProductName": "Ikura"
                                },
                                {
                                    "ProductName": "Sirop d'érable"
                                },
                                {
                                    "ProductName": "Jack's New England Clam Chowder"
                                },
                                {
                                    "ProductName": "Chef Anton's Cajun Seasoning"
                                },
                                {
                                    "ProductName": "Louisiana Fiery Hot Pepper Sauce"
                                },
                                {
                                    "ProductName": "Teatime Chocolate Biscuits"
                                },
                                {
                                    "ProductName": "Röd Kaviar"
                                },
                                {
                                    "ProductName": "NuNuCa Nuß-Nougat-Creme"
                                },
                                {
                                    "ProductName": "Inlagd Sill"
                                },
                                {
                                    "ProductName": "Konbu"
                                },
                                {
                                    "ProductName": "Singaporean Hokkien Fried Mee"
                                },
                                {
                                    "ProductName": "Chef Anton's Gumbo Mix"
                                },
                                {
                                    "ProductName": "Gustaf's Knäckebröd"
                                },
                                {
                                    "ProductName": "Lakkalikööri"
                                },
                                {
                                    "ProductName": "Geitost"
                                },
                                {
                                    "ProductName": "Chartreuse verte"
                                },
                                {
                                    "ProductName": "Perth Pasties"
                                },
                                {
                                    "ProductName": "Rogede sild"
                                },
                                {
                                    "ProductName": "Chocolade"
                                },
                                {
                                    "ProductName": "Original Frankfurter grüne Soße"
                                },
                                {
                                    "ProductName": "Alice Mutton"
                                },
                                {
                                    "ProductName": "Sasquatch Ale"
                                },
                                {
                                    "ProductName": "Queso Cabrales"
                                },
                                {
                                    "ProductName": "Tourtière"
                                },
                                {
                                    "ProductName": "Sir Rodney's Marmalade"
                                },
                                {
                                    "ProductName": "Scottish Longbreads"
                                },
                                {
                                    "ProductName": "Rössle Sauerkraut"
                                },
                                {
                                    "ProductName": "Longlife Tofu"
                                },
                                {
                                    "ProductName": "Ravioli Angelo"
                                },
                                {
                                    "ProductName": "Tofu"
                                },
                                {
                                    "ProductName": "Gravad lax"
                                },
                                {
                                    "ProductName": "Northwoods Cranberry Sauce"
                                },
                                {
                                    "ProductName": "Manjimup Dried Apples"
                                }
                            ]
                        },
                        "text/html": [
                            "<table>",
                            "<tr><th>ProductName</th></tr>",
                            "<tr><td>Tunnbröd</td></tr>",
                            "<tr><td>Spegesild</td></tr>",
                            "<tr><td>Gudbrandsdalsost</td></tr>",
                            "<tr><td>Thüringer Rostbratwurst</td></tr>",
                            "<tr><td>Genen Shouyu</td></tr>",
                            "<tr><td>Mishi Kobe Niku</td></tr>",
                            "<tr><td>Aniseed Syrup</td></tr>",
                            "<tr><td>Filo Mix</td></tr>",
                            "<tr><td>Mozzarella di Giovanni</td></tr>",
                            "<tr><td>Louisiana Hot Spiced Okra</td></tr>",
                            "<tr><td>Mascarpone Fabioli</td></tr>",
                            "<tr><td>Gumbär Gummibärchen</td></tr>",
                            "<tr><td>Queso Manchego La Pastora</td></tr>",
                            "<tr><td>Steeleye Stout</td></tr>",
                            "<tr><td>Vegie-spread</td></tr>",
                            "<tr><td>Grandma&#39;s Boysenberry Spread</td></tr>",
                            "<tr><td>Pâté chinois</td></tr>",
                            "<tr><td>Ipoh Coffee</td></tr>",
                            "<tr><td>Maxilaku</td></tr>",
                            "<tr><td>Laughing Lumberjack Lager</td></tr>",
                            "<tr><td>Schoggi Schokolade</td></tr>",
                            "<tr><td>Escargots de Bourgogne</td></tr>",
                            "<tr><td>Wimmers gute Semmelknödel</td></tr>",
                            "<tr><td>Côte de Blaye</td></tr>",
                            "<tr><td>Uncle Bob&#39;s Organic Dried Pears</td></tr>",
                            "<tr><td>Gula Malacca</td></tr>",
                            "<tr><td>Chai</td></tr>",
                            "<tr><td>Valkoinen suklaa</td></tr>",
                            "<tr><td>Zaanse koeken</td></tr>",
                            "<tr><td>Outback Lager</td></tr>",
                            "<tr><td>Nord-Ost Matjeshering</td></tr>",
                            "<tr><td>Carnarvon Tigers</td></tr>",
                            "<tr><td>Ikura</td></tr>",
                            "<tr><td>Sirop d&#39;érable</td></tr>",
                            "<tr><td>Jack&#39;s New England Clam Chowder</td></tr>",
                            "<tr><td>Chef Anton&#39;s Cajun Seasoning</td></tr>",
                            "<tr><td>Louisiana Fiery Hot Pepper Sauce</td></tr>",
                            "<tr><td>Teatime Chocolate Biscuits</td></tr>",
                            "<tr><td>Röd Kaviar</td></tr>",
                            "<tr><td>NuNuCa Nuß-Nougat-Creme</td></tr>",
                            "<tr><td>Inlagd Sill</td></tr>",
                            "<tr><td>Konbu</td></tr>",
                            "<tr><td>Singaporean Hokkien Fried Mee</td></tr>",
                            "<tr><td>Chef Anton&#39;s Gumbo Mix</td></tr>",
                            "<tr><td>Gustaf&#39;s Knäckebröd</td></tr>",
                            "<tr><td>Lakkalikööri</td></tr>",
                            "<tr><td>Geitost</td></tr>",
                            "<tr><td>Chartreuse verte</td></tr>",
                            "<tr><td>Perth Pasties</td></tr>",
                            "<tr><td>Rogede sild</td></tr>",
                            "<tr><td>Chocolade</td></tr>",
                            "<tr><td>Original Frankfurter grüne Soße</td></tr>",
                            "<tr><td>Alice Mutton</td></tr>",
                            "<tr><td>Sasquatch Ale</td></tr>",
                            "<tr><td>Queso Cabrales</td></tr>",
                            "<tr><td>Tourtière</td></tr>",
                            "<tr><td>Sir Rodney&#39;s Marmalade</td></tr>",
                            "<tr><td>Scottish Longbreads</td></tr>",
                            "<tr><td>Rössle Sauerkraut</td></tr>",
                            "<tr><td>Longlife Tofu</td></tr>",
                            "<tr><td>Ravioli Angelo</td></tr>",
                            "<tr><td>Tofu</td></tr>",
                            "<tr><td>Gravad lax</td></tr>",
                            "<tr><td>Northwoods Cranberry Sauce</td></tr>",
                            "<tr><td>Manjimup Dried Apples</td></tr>",
                            "</table>"
                        ]
                    }
                }
            ],
            "execution_count": 4
        },
        {
            "cell_type": "markdown",
            "source": [
                "<span style=\"caret-color: rgb(0, 0, 0); color: rgb(0, 0, 0); font-family: -webkit-standard; font-size: medium;\">1.2 Джойны</span>"
            ],
            "metadata": {
                "language": "sql",
                "azdata_cell_guid": "0304cbbe-4801-4423-8507-f525af539ee1"
            },
            "attachments": {}
        },
        {
            "cell_type": "code",
            "source": [
                "SELECT DISTINCT p.ProductName\n",
                "FROM Products p\n",
                "JOIN [Order Details] od ON p.ProductID = od.ProductID\n",
                "GROUP BY p.ProductName\n",
                "HAVING SUM(od.Quantity) < 1000;\n",
                ""
            ],
            "metadata": {
                "language": "sql",
                "azdata_cell_guid": "5e6e4057-42dd-44b0-8a2e-66b8e94c8236"
            },
            "outputs": [
                {
                    "output_type": "display_data",
                    "data": {
                        "text/html": "(65 rows affected)"
                    },
                    "metadata": {}
                },
                {
                    "output_type": "display_data",
                    "data": {
                        "text/html": "Total execution time: 00:00:00.024"
                    },
                    "metadata": {}
                },
                {
                    "output_type": "execute_result",
                    "metadata": {},
                    "execution_count": 5,
                    "data": {
                        "application/vnd.dataresource+json": {
                            "schema": {
                                "fields": [
                                    {
                                        "name": "ProductName"
                                    }
                                ]
                            },
                            "data": [
                                {
                                    "ProductName": "Alice Mutton"
                                },
                                {
                                    "ProductName": "Aniseed Syrup"
                                },
                                {
                                    "ProductName": "Carnarvon Tigers"
                                },
                                {
                                    "ProductName": "Chai"
                                },
                                {
                                    "ProductName": "Chartreuse verte"
                                },
                                {
                                    "ProductName": "Chef Anton's Cajun Seasoning"
                                },
                                {
                                    "ProductName": "Chef Anton's Gumbo Mix"
                                },
                                {
                                    "ProductName": "Chocolade"
                                },
                                {
                                    "ProductName": "Côte de Blaye"
                                },
                                {
                                    "ProductName": "Escargots de Bourgogne"
                                },
                                {
                                    "ProductName": "Filo Mix"
                                },
                                {
                                    "ProductName": "Geitost"
                                },
                                {
                                    "ProductName": "Genen Shouyu"
                                },
                                {
                                    "ProductName": "Grandma's Boysenberry Spread"
                                },
                                {
                                    "ProductName": "Gravad lax"
                                },
                                {
                                    "ProductName": "Gudbrandsdalsost"
                                },
                                {
                                    "ProductName": "Gula Malacca"
                                },
                                {
                                    "ProductName": "Gumbär Gummibärchen"
                                },
                                {
                                    "ProductName": "Gustaf's Knäckebröd"
                                },
                                {
                                    "ProductName": "Ikura"
                                },
                                {
                                    "ProductName": "Inlagd Sill"
                                },
                                {
                                    "ProductName": "Ipoh Coffee"
                                },
                                {
                                    "ProductName": "Jack's New England Clam Chowder"
                                },
                                {
                                    "ProductName": "Konbu"
                                },
                                {
                                    "ProductName": "Lakkalikööri"
                                },
                                {
                                    "ProductName": "Laughing Lumberjack Lager"
                                },
                                {
                                    "ProductName": "Longlife Tofu"
                                },
                                {
                                    "ProductName": "Louisiana Fiery Hot Pepper Sauce"
                                },
                                {
                                    "ProductName": "Louisiana Hot Spiced Okra"
                                },
                                {
                                    "ProductName": "Manjimup Dried Apples"
                                },
                                {
                                    "ProductName": "Mascarpone Fabioli"
                                },
                                {
                                    "ProductName": "Maxilaku"
                                },
                                {
                                    "ProductName": "Mishi Kobe Niku"
                                },
                                {
                                    "ProductName": "Mozzarella di Giovanni"
                                },
                                {
                                    "ProductName": "Nord-Ost Matjeshering"
                                },
                                {
                                    "ProductName": "Northwoods Cranberry Sauce"
                                },
                                {
                                    "ProductName": "NuNuCa Nuß-Nougat-Creme"
                                },
                                {
                                    "ProductName": "Original Frankfurter grüne Soße"
                                },
                                {
                                    "ProductName": "Outback Lager"
                                },
                                {
                                    "ProductName": "Pâté chinois"
                                },
                                {
                                    "ProductName": "Perth Pasties"
                                },
                                {
                                    "ProductName": "Queso Cabrales"
                                },
                                {
                                    "ProductName": "Queso Manchego La Pastora"
                                },
                                {
                                    "ProductName": "Ravioli Angelo"
                                },
                                {
                                    "ProductName": "Röd Kaviar"
                                },
                                {
                                    "ProductName": "Rogede sild"
                                },
                                {
                                    "ProductName": "Rössle Sauerkraut"
                                },
                                {
                                    "ProductName": "Sasquatch Ale"
                                },
                                {
                                    "ProductName": "Schoggi Schokolade"
                                },
                                {
                                    "ProductName": "Scottish Longbreads"
                                },
                                {
                                    "ProductName": "Singaporean Hokkien Fried Mee"
                                },
                                {
                                    "ProductName": "Sir Rodney's Marmalade"
                                },
                                {
                                    "ProductName": "Sirop d'érable"
                                },
                                {
                                    "ProductName": "Spegesild"
                                },
                                {
                                    "ProductName": "Steeleye Stout"
                                },
                                {
                                    "ProductName": "Teatime Chocolate Biscuits"
                                },
                                {
                                    "ProductName": "Thüringer Rostbratwurst"
                                },
                                {
                                    "ProductName": "Tofu"
                                },
                                {
                                    "ProductName": "Tourtière"
                                },
                                {
                                    "ProductName": "Tunnbröd"
                                },
                                {
                                    "ProductName": "Uncle Bob's Organic Dried Pears"
                                },
                                {
                                    "ProductName": "Valkoinen suklaa"
                                },
                                {
                                    "ProductName": "Vegie-spread"
                                },
                                {
                                    "ProductName": "Wimmers gute Semmelknödel"
                                },
                                {
                                    "ProductName": "Zaanse koeken"
                                }
                            ]
                        },
                        "text/html": [
                            "<table>",
                            "<tr><th>ProductName</th></tr>",
                            "<tr><td>Alice Mutton</td></tr>",
                            "<tr><td>Aniseed Syrup</td></tr>",
                            "<tr><td>Carnarvon Tigers</td></tr>",
                            "<tr><td>Chai</td></tr>",
                            "<tr><td>Chartreuse verte</td></tr>",
                            "<tr><td>Chef Anton&#39;s Cajun Seasoning</td></tr>",
                            "<tr><td>Chef Anton&#39;s Gumbo Mix</td></tr>",
                            "<tr><td>Chocolade</td></tr>",
                            "<tr><td>Côte de Blaye</td></tr>",
                            "<tr><td>Escargots de Bourgogne</td></tr>",
                            "<tr><td>Filo Mix</td></tr>",
                            "<tr><td>Geitost</td></tr>",
                            "<tr><td>Genen Shouyu</td></tr>",
                            "<tr><td>Grandma&#39;s Boysenberry Spread</td></tr>",
                            "<tr><td>Gravad lax</td></tr>",
                            "<tr><td>Gudbrandsdalsost</td></tr>",
                            "<tr><td>Gula Malacca</td></tr>",
                            "<tr><td>Gumbär Gummibärchen</td></tr>",
                            "<tr><td>Gustaf&#39;s Knäckebröd</td></tr>",
                            "<tr><td>Ikura</td></tr>",
                            "<tr><td>Inlagd Sill</td></tr>",
                            "<tr><td>Ipoh Coffee</td></tr>",
                            "<tr><td>Jack&#39;s New England Clam Chowder</td></tr>",
                            "<tr><td>Konbu</td></tr>",
                            "<tr><td>Lakkalikööri</td></tr>",
                            "<tr><td>Laughing Lumberjack Lager</td></tr>",
                            "<tr><td>Longlife Tofu</td></tr>",
                            "<tr><td>Louisiana Fiery Hot Pepper Sauce</td></tr>",
                            "<tr><td>Louisiana Hot Spiced Okra</td></tr>",
                            "<tr><td>Manjimup Dried Apples</td></tr>",
                            "<tr><td>Mascarpone Fabioli</td></tr>",
                            "<tr><td>Maxilaku</td></tr>",
                            "<tr><td>Mishi Kobe Niku</td></tr>",
                            "<tr><td>Mozzarella di Giovanni</td></tr>",
                            "<tr><td>Nord-Ost Matjeshering</td></tr>",
                            "<tr><td>Northwoods Cranberry Sauce</td></tr>",
                            "<tr><td>NuNuCa Nuß-Nougat-Creme</td></tr>",
                            "<tr><td>Original Frankfurter grüne Soße</td></tr>",
                            "<tr><td>Outback Lager</td></tr>",
                            "<tr><td>Pâté chinois</td></tr>",
                            "<tr><td>Perth Pasties</td></tr>",
                            "<tr><td>Queso Cabrales</td></tr>",
                            "<tr><td>Queso Manchego La Pastora</td></tr>",
                            "<tr><td>Ravioli Angelo</td></tr>",
                            "<tr><td>Röd Kaviar</td></tr>",
                            "<tr><td>Rogede sild</td></tr>",
                            "<tr><td>Rössle Sauerkraut</td></tr>",
                            "<tr><td>Sasquatch Ale</td></tr>",
                            "<tr><td>Schoggi Schokolade</td></tr>",
                            "<tr><td>Scottish Longbreads</td></tr>",
                            "<tr><td>Singaporean Hokkien Fried Mee</td></tr>",
                            "<tr><td>Sir Rodney&#39;s Marmalade</td></tr>",
                            "<tr><td>Sirop d&#39;érable</td></tr>",
                            "<tr><td>Spegesild</td></tr>",
                            "<tr><td>Steeleye Stout</td></tr>",
                            "<tr><td>Teatime Chocolate Biscuits</td></tr>",
                            "<tr><td>Thüringer Rostbratwurst</td></tr>",
                            "<tr><td>Tofu</td></tr>",
                            "<tr><td>Tourtière</td></tr>",
                            "<tr><td>Tunnbröd</td></tr>",
                            "<tr><td>Uncle Bob&#39;s Organic Dried Pears</td></tr>",
                            "<tr><td>Valkoinen suklaa</td></tr>",
                            "<tr><td>Vegie-spread</td></tr>",
                            "<tr><td>Wimmers gute Semmelknödel</td></tr>",
                            "<tr><td>Zaanse koeken</td></tr>",
                            "</table>"
                        ]
                    }
                }
            ],
            "execution_count": 5
        },
        {
            "cell_type": "markdown",
            "source": [
                "_<span lang=\"RU\" style=\"font-size: 12pt; font-family: Arial, sans-serif; color: rgb(31, 73, 125);\">2.<span style=\"font-style: normal; font-variant-numeric: normal; font-variant-east-asian: normal; font-variant-alternates: normal; font-kerning: auto; font-optical-sizing: auto; font-feature-settings: normal; font-variation-settings: normal; font-stretch: normal; font-size: 7pt; line-height: normal; font-family: &quot;Times New Roman&quot;;\">&nbsp;&nbsp;&nbsp; </span></span>_        _<span lang=\"RU\" style=\"font-size: 12pt; font-family: Arial, sans-serif; color: rgb(31, 73, 125);\">Как зовут покупателей, которые делали заказы с доставкой в другой город (не в тот, в котором они прописаны)?</span>_"
            ],
            "metadata": {
                "azdata_cell_guid": "c7da018b-27bb-4f3c-8641-ca5a75acbd9c"
            },
            "attachments": {}
        },
        {
            "cell_type": "markdown",
            "source": [
                "2.1 <span style=\"caret-color: rgb(0, 0, 0); color: rgb(0, 0, 0); font-family: -webkit-standard; font-size: medium;\">Подзапросы</span>"
            ],
            "metadata": {
                "azdata_cell_guid": "6e37563b-23d5-47e2-8bfb-d9b176d3933d"
            },
            "attachments": {}
        },
        {
            "cell_type": "code",
            "source": [
                "SELECT CustomerID, ContactName\n",
                "FROM Customers\n",
                "WHERE CustomerID IN (\n",
                "    SELECT CustomerID\n",
                "    FROM Orders\n",
                "    WHERE ShipCity <> (SELECT City FROM Customers WHERE Customers.CustomerID = Orders.CustomerID)\n",
                ");\n",
                ""
            ],
            "metadata": {
                "azdata_cell_guid": "7bcf41eb-5d95-44ab-90ee-9487a6f1c47f",
                "language": "sql"
            },
            "outputs": [
                {
                    "output_type": "display_data",
                    "data": {
                        "text/html": "(1 row affected)"
                    },
                    "metadata": {}
                },
                {
                    "output_type": "display_data",
                    "data": {
                        "text/html": "Total execution time: 00:00:00.053"
                    },
                    "metadata": {}
                },
                {
                    "output_type": "execute_result",
                    "metadata": {},
                    "execution_count": 6,
                    "data": {
                        "application/vnd.dataresource+json": {
                            "schema": {
                                "fields": [
                                    {
                                        "name": "CustomerID"
                                    },
                                    {
                                        "name": "ContactName"
                                    }
                                ]
                            },
                            "data": [
                                {
                                    "CustomerID": "AROUT",
                                    "ContactName": "Thomas Hardy"
                                }
                            ]
                        },
                        "text/html": [
                            "<table>",
                            "<tr><th>CustomerID</th><th>ContactName</th></tr>",
                            "<tr><td>AROUT</td><td>Thomas Hardy</td></tr>",
                            "</table>"
                        ]
                    }
                }
            ],
            "execution_count": 6
        },
        {
            "cell_type": "markdown",
            "source": [
                "2.2 <span style=\"caret-color: rgb(0, 0, 0); color: rgb(0, 0, 0); font-family: -webkit-standard; font-size: medium;\">Джойны</span>"
            ],
            "metadata": {
                "language": "sql",
                "azdata_cell_guid": "9c0f4633-ac5a-4251-a0e6-b62a4d565ddd"
            },
            "attachments": {}
        },
        {
            "cell_type": "code",
            "source": [
                "SELECT DISTINCT c.CustomerID, c.ContactName\n",
                "FROM Customers c\n",
                "JOIN Orders o ON c.CustomerID = o.CustomerID\n",
                "WHERE c.City <> o.ShipCity;\n",
                ""
            ],
            "metadata": {
                "language": "sql",
                "azdata_cell_guid": "28a1e0d3-6aa8-4641-8522-fa9be9034a1a"
            },
            "outputs": [
                {
                    "output_type": "display_data",
                    "data": {
                        "text/html": "(1 row affected)"
                    },
                    "metadata": {}
                },
                {
                    "output_type": "display_data",
                    "data": {
                        "text/html": "Total execution time: 00:00:00.021"
                    },
                    "metadata": {}
                },
                {
                    "output_type": "execute_result",
                    "metadata": {},
                    "execution_count": 7,
                    "data": {
                        "application/vnd.dataresource+json": {
                            "schema": {
                                "fields": [
                                    {
                                        "name": "CustomerID"
                                    },
                                    {
                                        "name": "ContactName"
                                    }
                                ]
                            },
                            "data": [
                                {
                                    "CustomerID": "AROUT",
                                    "ContactName": "Thomas Hardy"
                                }
                            ]
                        },
                        "text/html": [
                            "<table>",
                            "<tr><th>CustomerID</th><th>ContactName</th></tr>",
                            "<tr><td>AROUT</td><td>Thomas Hardy</td></tr>",
                            "</table>"
                        ]
                    }
                }
            ],
            "execution_count": 7
        },
        {
            "cell_type": "markdown",
            "source": [
                "_<span lang=\"RU\" style=\"font-size: 12pt; font-family: Arial, sans-serif; color: rgb(31, 73, 125);\">3.<span style=\"font-style: normal; font-variant-numeric: normal; font-variant-east-asian: normal; font-variant-alternates: normal; font-kerning: auto; font-optical-sizing: auto; font-feature-settings: normal; font-variation-settings: normal; font-stretch: normal; font-size: 7pt; line-height: normal; font-family: &quot;Times New Roman&quot;;\">&nbsp;&nbsp;&nbsp; </span></span>_        _<span lang=\"RU\" style=\"font-size: 12pt; font-family: Arial, sans-serif; color: rgb(31, 73, 125);\">Товарами из какой категории в 1997-м году заинтересовалось больше всего компаний, имеющих факс?</span>_"
            ],
            "metadata": {
                "azdata_cell_guid": "99ba9704-e854-44e4-b406-ac42c7c37af0"
            },
            "attachments": {}
        },
        {
            "cell_type": "markdown",
            "source": [
                "3.1 <span style=\"caret-color: rgb(0, 0, 0); color: rgb(0, 0, 0); font-family: -webkit-standard; font-size: medium;\">Подзапросы</span>"
            ],
            "metadata": {
                "azdata_cell_guid": "3ae2908b-717c-4337-9bd4-1988002dfb82",
                "language": ""
            },
            "attachments": {}
        },
        {
            "cell_type": "code",
            "source": [
                "SELECT TOP 1 c.CategoryName, COUNT(DISTINCT o.CustomerID) AS CompanyCount\n",
                "FROM Categories c\n",
                "JOIN Products p ON c.CategoryID = p.CategoryID\n",
                "JOIN [Order Details] od ON p.ProductID = od.ProductID\n",
                "JOIN Orders o ON od.OrderID = o.OrderID\n",
                "WHERE YEAR(o.OrderDate) = 1997\n",
                "  AND o.CustomerID IN (\n",
                "    SELECT CustomerID\n",
                "    FROM Customers\n",
                "    WHERE Fax IS NOT NULL\n",
                "  )\n",
                "GROUP BY c.CategoryName\n",
                "ORDER BY CompanyCount DESC;\n",
                ""
            ],
            "metadata": {
                "azdata_cell_guid": "5fe7ab49-07ae-4399-a65d-fb29093d23cd",
                "language": "sql"
            },
            "outputs": [
                {
                    "output_type": "display_data",
                    "data": {
                        "text/html": "(1 row affected)"
                    },
                    "metadata": {}
                },
                {
                    "output_type": "display_data",
                    "data": {
                        "text/html": "Total execution time: 00:00:00.105"
                    },
                    "metadata": {}
                },
                {
                    "output_type": "execute_result",
                    "metadata": {},
                    "execution_count": 8,
                    "data": {
                        "application/vnd.dataresource+json": {
                            "schema": {
                                "fields": [
                                    {
                                        "name": "CategoryName"
                                    },
                                    {
                                        "name": "CompanyCount"
                                    }
                                ]
                            },
                            "data": [
                                {
                                    "CategoryName": "Confections",
                                    "CompanyCount": "49"
                                }
                            ]
                        },
                        "text/html": [
                            "<table>",
                            "<tr><th>CategoryName</th><th>CompanyCount</th></tr>",
                            "<tr><td>Confections</td><td>49</td></tr>",
                            "</table>"
                        ]
                    }
                }
            ],
            "execution_count": 8
        },
        {
            "cell_type": "markdown",
            "source": [
                "3.2 <span style=\"caret-color: rgb(0, 0, 0); color: rgb(0, 0, 0); font-family: -webkit-standard; font-size: medium;\">Джойны</span>"
            ],
            "metadata": {
                "language": "",
                "azdata_cell_guid": "a9db8d82-04a7-4b3b-a210-050d1a0496ce"
            },
            "attachments": {}
        },
        {
            "cell_type": "code",
            "source": [
                "SELECT TOP 1 c.CategoryName, COUNT(DISTINCT o.CustomerID) AS CompanyCount\n",
                "FROM Categories c\n",
                "JOIN Products p ON c.CategoryID = p.CategoryID\n",
                "JOIN [Order Details] od ON p.ProductID = od.ProductID\n",
                "JOIN Orders o ON od.OrderID = o.OrderID\n",
                "JOIN Customers cu ON o.CustomerID = cu.CustomerID\n",
                "WHERE YEAR(o.OrderDate) = 1997\n",
                "  AND cu.Fax IS NOT NULL\n",
                "GROUP BY c.CategoryName\n",
                "ORDER BY CompanyCount DESC;\n",
                ""
            ],
            "metadata": {
                "azdata_cell_guid": "a100559a-fb80-4cc2-aad8-aebf5beb6398",
                "language": ""
            },
            "outputs": [
                {
                    "output_type": "display_data",
                    "data": {
                        "text/html": "(1 row affected)"
                    },
                    "metadata": {}
                },
                {
                    "output_type": "display_data",
                    "data": {
                        "text/html": "Total execution time: 00:00:00.061"
                    },
                    "metadata": {}
                },
                {
                    "output_type": "execute_result",
                    "metadata": {},
                    "execution_count": 9,
                    "data": {
                        "application/vnd.dataresource+json": {
                            "schema": {
                                "fields": [
                                    {
                                        "name": "CategoryName"
                                    },
                                    {
                                        "name": "CompanyCount"
                                    }
                                ]
                            },
                            "data": [
                                {
                                    "CategoryName": "Confections",
                                    "CompanyCount": "49"
                                }
                            ]
                        },
                        "text/html": [
                            "<table>",
                            "<tr><th>CategoryName</th><th>CompanyCount</th></tr>",
                            "<tr><td>Confections</td><td>49</td></tr>",
                            "</table>"
                        ]
                    }
                }
            ],
            "execution_count": 9
        },
        {
            "cell_type": "markdown",
            "source": [
                "**<span lang=\"RU\" style=\"font-size: 12pt; font-family: Arial, sans-serif; color: rgb(31, 73, 125);\">Рейтинг 3</span>**"
            ],
            "metadata": {
                "azdata_cell_guid": "d572b400-b7d3-418e-a712-cc267ea224bd",
                "language": ""
            },
            "attachments": {}
        },
        {
            "cell_type": "markdown",
            "source": [
                "1. _<span lang=\"RU\" style=\"font-size: 12pt; font-family: Arial, sans-serif;\">Для каждого покупателя показать название его любимого товара в каждой категории. Любимый товар – это тот, которого покупатель купил больше всего штук (столбец Quantity).</span>_"
            ],
            "metadata": {
                "azdata_cell_guid": "157ad2ca-4679-4bab-a550-fd0484a229dd"
            },
            "attachments": {}
        },
        {
            "cell_type": "code",
            "source": [
                "WITH CustomerCategorySales AS (\n",
                "    SELECT\n",
                "        c.CustomerID,\n",
                "        c.ContactName,\n",
                "        p.CategoryID,\n",
                "        p.ProductID,\n",
                "        SUM(od.Quantity) AS TotalQuantity\n",
                "    FROM Customers c\n",
                "    JOIN Orders o ON c.CustomerID = o.CustomerID\n",
                "    JOIN [Order Details] od ON o.OrderID = od.OrderID\n",
                "    JOIN Products p ON od.ProductID = p.ProductID\n",
                "    GROUP BY c.CustomerID, c.ContactName, p.CategoryID, p.ProductID\n",
                "),\n",
                "CustomerFavoriteProducts AS (\n",
                "    SELECT\n",
                "        ccs.CustomerID,\n",
                "        ccs.ContactName,\n",
                "        ccs.CategoryID,\n",
                "        ccs.ProductID,\n",
                "        ccs.TotalQuantity,\n",
                "        ROW_NUMBER() OVER (PARTITION BY ccs.CustomerID, ccs.CategoryID ORDER BY ccs.TotalQuantity DESC) AS rn\n",
                "    FROM CustomerCategorySales ccs\n",
                ")\n",
                "SELECT \n",
                "    cfp.CustomerID,\n",
                "    cfp.ContactName,\n",
                "    cat.CategoryName,\n",
                "    p.ProductName,\n",
                "    cfp.TotalQuantity\n",
                "FROM CustomerFavoriteProducts cfp\n",
                "JOIN Products p ON cfp.ProductID = p.ProductID\n",
                "JOIN Categories cat ON cfp.CategoryID = cat.CategoryID\n",
                "WHERE cfp.rn = 1\n",
                "ORDER BY cfp.CustomerID, cfp.CategoryID;\n",
                ""
            ],
            "metadata": {
                "azdata_cell_guid": "d354b7a2-117d-49b7-9dc0-2f661ade6cc6",
                "language": "sql"
            },
            "outputs": [
                {
                    "output_type": "display_data",
                    "data": {
                        "text/html": "(598 rows affected)"
                    },
                    "metadata": {}
                },
                {
                    "output_type": "display_data",
                    "data": {
                        "text/html": "Total execution time: 00:00:00.095"
                    },
                    "metadata": {}
                },
                {
                    "output_type": "execute_result",
                    "metadata": {},
                    "execution_count": 10,
                    "data": {
                        "application/vnd.dataresource+json": {
                            "schema": {
                                "fields": [
                                    {
                                        "name": "CustomerID"
                                    },
                                    {
                                        "name": "ContactName"
                                    },
                                    {
                                        "name": "CategoryName"
                                    },
                                    {
                                        "name": "ProductName"
                                    },
                                    {
                                        "name": "TotalQuantity"
                                    }
                                ]
                            },
                            "data": [
                                {
                                    "CustomerID": "ALFKI",
                                    "ContactName": "Maria Anders",
                                    "CategoryName": "Beverages",
                                    "ProductName": "Chartreuse verte",
                                    "TotalQuantity": "21"
                                },
                                {
                                    "CustomerID": "ALFKI",
                                    "ContactName": "Maria Anders",
                                    "CategoryName": "Condiments",
                                    "ProductName": "Vegie-spread",
                                    "TotalQuantity": "20"
                                },
                                {
                                    "CustomerID": "ALFKI",
                                    "ContactName": "Maria Anders",
                                    "CategoryName": "Dairy Products",
                                    "ProductName": "Flotemysost",
                                    "TotalQuantity": "20"
                                },
                                {
                                    "CustomerID": "ALFKI",
                                    "ContactName": "Maria Anders",
                                    "CategoryName": "Produce",
                                    "ProductName": "Rössle Sauerkraut",
                                    "TotalQuantity": "17"
                                },
                                {
                                    "CustomerID": "ALFKI",
                                    "ContactName": "Maria Anders",
                                    "CategoryName": "Seafood",
                                    "ProductName": "Escargots de Bourgogne",
                                    "TotalQuantity": "40"
                                },
                                {
                                    "CustomerID": "ANATR",
                                    "ContactName": "Ana Trujillo",
                                    "CategoryName": "Beverages",
                                    "ProductName": "Outback Lager",
                                    "TotalQuantity": "5"
                                },
                                {
                                    "CustomerID": "ANATR",
                                    "ContactName": "Ana Trujillo",
                                    "CategoryName": "Confections",
                                    "ProductName": "Teatime Chocolate Biscuits",
                                    "TotalQuantity": "7"
                                },
                                {
                                    "CustomerID": "ANATR",
                                    "ContactName": "Ana Trujillo",
                                    "CategoryName": "Dairy Products",
                                    "ProductName": "Mascarpone Fabioli",
                                    "TotalQuantity": "10"
                                },
                                {
                                    "CustomerID": "ANATR",
                                    "ContactName": "Ana Trujillo",
                                    "CategoryName": "Grains/Cereals",
                                    "ProductName": "Singaporean Hokkien Fried Mee",
                                    "TotalQuantity": "5"
                                },
                                {
                                    "CustomerID": "ANATR",
                                    "ContactName": "Ana Trujillo",
                                    "CategoryName": "Produce",
                                    "ProductName": "Tofu",
                                    "TotalQuantity": "3"
                                },
                                {
                                    "CustomerID": "ANATR",
                                    "ContactName": "Ana Trujillo",
                                    "CategoryName": "Seafood",
                                    "ProductName": "Konbu",
                                    "TotalQuantity": "10"
                                },
                                {
                                    "CustomerID": "ANTON",
                                    "ContactName": "Antonio Moreno",
                                    "CategoryName": "Beverages",
                                    "ProductName": "Sasquatch Ale",
                                    "TotalQuantity": "40"
                                },
                                {
                                    "CustomerID": "ANTON",
                                    "ContactName": "Antonio Moreno",
                                    "CategoryName": "Condiments",
                                    "ProductName": "Louisiana Hot Spiced Okra",
                                    "TotalQuantity": "4"
                                },
                                {
                                    "CustomerID": "ANTON",
                                    "ContactName": "Antonio Moreno",
                                    "CategoryName": "Confections",
                                    "ProductName": "Gumbär Gummibärchen",
                                    "TotalQuantity": "30"
                                },
                                {
                                    "CustomerID": "ANTON",
                                    "ContactName": "Antonio Moreno",
                                    "CategoryName": "Dairy Products",
                                    "ProductName": "Queso Cabrales",
                                    "TotalQuantity": "74"
                                },
                                {
                                    "CustomerID": "ANTON",
                                    "ContactName": "Antonio Moreno",
                                    "CategoryName": "Grains/Cereals",
                                    "ProductName": "Singaporean Hokkien Fried Mee",
                                    "TotalQuantity": "20"
                                },
                                {
                                    "CustomerID": "ANTON",
                                    "ContactName": "Antonio Moreno",
                                    "CategoryName": "Meat/Poultry",
                                    "ProductName": "Perth Pasties",
                                    "TotalQuantity": "25"
                                },
                                {
                                    "CustomerID": "ANTON",
                                    "ContactName": "Antonio Moreno",
                                    "CategoryName": "Seafood",
                                    "ProductName": "Boston Crab Meat",
                                    "TotalQuantity": "10"
                                },
                                {
                                    "CustomerID": "AROUT",
                                    "ContactName": "Thomas Hardy",
                                    "CategoryName": "Beverages",
                                    "ProductName": "Outback Lager",
                                    "TotalQuantity": "53"
                                },
                                {
                                    "CustomerID": "AROUT",
                                    "ContactName": "Thomas Hardy",
                                    "CategoryName": "Confections",
                                    "ProductName": "Sir Rodney's Marmalade",
                                    "TotalQuantity": "50"
                                },
                                {
                                    "CustomerID": "AROUT",
                                    "ContactName": "Thomas Hardy",
                                    "CategoryName": "Dairy Products",
                                    "ProductName": "Gorgonzola Telino",
                                    "TotalQuantity": "115"
                                },
                                {
                                    "CustomerID": "AROUT",
                                    "ContactName": "Thomas Hardy",
                                    "CategoryName": "Grains/Cereals",
                                    "ProductName": "Ravioli Angelo",
                                    "TotalQuantity": "65"
                                },
                                {
                                    "CustomerID": "AROUT",
                                    "ContactName": "Thomas Hardy",
                                    "CategoryName": "Meat/Poultry",
                                    "ProductName": "Pâté chinois",
                                    "TotalQuantity": "21"
                                },
                                {
                                    "CustomerID": "AROUT",
                                    "ContactName": "Thomas Hardy",
                                    "CategoryName": "Produce",
                                    "ProductName": "Manjimup Dried Apples",
                                    "TotalQuantity": "20"
                                },
                                {
                                    "CustomerID": "AROUT",
                                    "ContactName": "Thomas Hardy",
                                    "CategoryName": "Seafood",
                                    "ProductName": "Spegesild",
                                    "TotalQuantity": "28"
                                },
                                {
                                    "CustomerID": "BERGS",
                                    "ContactName": "Christina Berglund",
                                    "CategoryName": "Beverages",
                                    "ProductName": "Ipoh Coffee",
                                    "TotalQuantity": "60"
                                },
                                {
                                    "CustomerID": "BERGS",
                                    "ContactName": "Christina Berglund",
                                    "CategoryName": "Condiments",
                                    "ProductName": "Aniseed Syrup",
                                    "TotalQuantity": "30"
                                },
                                {
                                    "CustomerID": "BERGS",
                                    "ContactName": "Christina Berglund",
                                    "CategoryName": "Confections",
                                    "ProductName": "Zaanse koeken",
                                    "TotalQuantity": "61"
                                },
                                {
                                    "CustomerID": "BERGS",
                                    "ContactName": "Christina Berglund",
                                    "CategoryName": "Dairy Products",
                                    "ProductName": "Camembert Pierrot",
                                    "TotalQuantity": "35"
                                },
                                {
                                    "CustomerID": "BERGS",
                                    "ContactName": "Christina Berglund",
                                    "CategoryName": "Grains/Cereals",
                                    "ProductName": "Filo Mix",
                                    "TotalQuantity": "25"
                                },
                                {
                                    "CustomerID": "BERGS",
                                    "ContactName": "Christina Berglund",
                                    "CategoryName": "Meat/Poultry",
                                    "ProductName": "Tourtière",
                                    "TotalQuantity": "36"
                                },
                                {
                                    "CustomerID": "BERGS",
                                    "ContactName": "Christina Berglund",
                                    "CategoryName": "Produce",
                                    "ProductName": "Rössle Sauerkraut",
                                    "TotalQuantity": "50"
                                },
                                {
                                    "CustomerID": "BERGS",
                                    "ContactName": "Christina Berglund",
                                    "CategoryName": "Seafood",
                                    "ProductName": "Boston Crab Meat",
                                    "TotalQuantity": "75"
                                },
                                {
                                    "CustomerID": "BLAUS",
                                    "ContactName": "Hanna Moos",
                                    "CategoryName": "Beverages",
                                    "ProductName": "Lakkalikööri",
                                    "TotalQuantity": "14"
                                },
                                {
                                    "CustomerID": "BLAUS",
                                    "ContactName": "Hanna Moos",
                                    "CategoryName": "Condiments",
                                    "ProductName": "Sirop d'érable",
                                    "TotalQuantity": "4"
                                },
                                {
                                    "CustomerID": "BLAUS",
                                    "ContactName": "Hanna Moos",
                                    "CategoryName": "Confections",
                                    "ProductName": "Sir Rodney's Scones",
                                    "TotalQuantity": "23"
                                },
                                {
                                    "CustomerID": "BLAUS",
                                    "ContactName": "Hanna Moos",
                                    "CategoryName": "Dairy Products",
                                    "ProductName": "Camembert Pierrot",
                                    "TotalQuantity": "21"
                                },
                                {
                                    "CustomerID": "BLAUS",
                                    "ContactName": "Hanna Moos",
                                    "CategoryName": "Grains/Cereals",
                                    "ProductName": "Ravioli Angelo",
                                    "TotalQuantity": "4"
                                },
                                {
                                    "CustomerID": "BLAUS",
                                    "ContactName": "Hanna Moos",
                                    "CategoryName": "Meat/Poultry",
                                    "ProductName": "Tourtière",
                                    "TotalQuantity": "20"
                                },
                                {
                                    "CustomerID": "BLAUS",
                                    "ContactName": "Hanna Moos",
                                    "CategoryName": "Produce",
                                    "ProductName": "Manjimup Dried Apples",
                                    "TotalQuantity": "8"
                                },
                                {
                                    "CustomerID": "BLAUS",
                                    "ContactName": "Hanna Moos",
                                    "CategoryName": "Seafood",
                                    "ProductName": "Carnarvon Tigers",
                                    "TotalQuantity": "10"
                                },
                                {
                                    "CustomerID": "BLONP",
                                    "ContactName": "Frédérique Citeaux",
                                    "CategoryName": "Beverages",
                                    "ProductName": "Chartreuse verte",
                                    "TotalQuantity": "60"
                                },
                                {
                                    "CustomerID": "BLONP",
                                    "ContactName": "Frédérique Citeaux",
                                    "CategoryName": "Confections",
                                    "ProductName": "Maxilaku",
                                    "TotalQuantity": "35"
                                },
                                {
                                    "CustomerID": "BLONP",
                                    "ContactName": "Frédérique Citeaux",
                                    "CategoryName": "Dairy Products",
                                    "ProductName": "Gorgonzola Telino",
                                    "TotalQuantity": "85"
                                },
                                {
                                    "CustomerID": "BLONP",
                                    "ContactName": "Frédérique Citeaux",
                                    "CategoryName": "Grains/Cereals",
                                    "ProductName": "Gnocchi di nonna Alice",
                                    "TotalQuantity": "40"
                                },
                                {
                                    "CustomerID": "BLONP",
                                    "ContactName": "Frédérique Citeaux",
                                    "CategoryName": "Meat/Poultry",
                                    "ProductName": "Thüringer Rostbratwurst",
                                    "TotalQuantity": "35"
                                },
                                {
                                    "CustomerID": "BLONP",
                                    "ContactName": "Frédérique Citeaux",
                                    "CategoryName": "Produce",
                                    "ProductName": "Rössle Sauerkraut",
                                    "TotalQuantity": "30"
                                },
                                {
                                    "CustomerID": "BLONP",
                                    "ContactName": "Frédérique Citeaux",
                                    "CategoryName": "Seafood",
                                    "ProductName": "Carnarvon Tigers",
                                    "TotalQuantity": "18"
                                },
                                {
                                    "CustomerID": "BOLID",
                                    "ContactName": "Martín Sommer",
                                    "CategoryName": "Beverages",
                                    "ProductName": "Rhönbräu Klosterbier",
                                    "TotalQuantity": "50"
                                },
                                {
                                    "CustomerID": "BOLID",
                                    "ContactName": "Martín Sommer",
                                    "CategoryName": "Condiments",
                                    "ProductName": "Chef Anton's Cajun Seasoning",
                                    "TotalQuantity": "24"
                                },
                                {
                                    "CustomerID": "BOLID",
                                    "ContactName": "Martín Sommer",
                                    "CategoryName": "Grains/Cereals",
                                    "ProductName": "Filo Mix",
                                    "TotalQuantity": "40"
                                },
                                {
                                    "CustomerID": "BOLID",
                                    "ContactName": "Martín Sommer",
                                    "CategoryName": "Meat/Poultry",
                                    "ProductName": "Alice Mutton",
                                    "TotalQuantity": "40"
                                },
                                {
                                    "CustomerID": "BONAP",
                                    "ContactName": "Laurence Lebihan",
                                    "CategoryName": "Beverages",
                                    "ProductName": "Ipoh Coffee",
                                    "TotalQuantity": "40"
                                },
                                {
                                    "CustomerID": "BONAP",
                                    "ContactName": "Laurence Lebihan",
                                    "CategoryName": "Condiments",
                                    "ProductName": "Grandma's Boysenberry Spread",
                                    "TotalQuantity": "70"
                                },
                                {
                                    "CustomerID": "BONAP",
                                    "ContactName": "Laurence Lebihan",
                                    "CategoryName": "Confections",
                                    "ProductName": "Pavlova",
                                    "TotalQuantity": "57"
                                },
                                {
                                    "CustomerID": "BONAP",
                                    "ContactName": "Laurence Lebihan",
                                    "CategoryName": "Dairy Products",
                                    "ProductName": "Flotemysost",
                                    "TotalQuantity": "30"
                                },
                                {
                                    "CustomerID": "BONAP",
                                    "ContactName": "Laurence Lebihan",
                                    "CategoryName": "Grains/Cereals",
                                    "ProductName": "Gnocchi di nonna Alice",
                                    "TotalQuantity": "30"
                                },
                                {
                                    "CustomerID": "BONAP",
                                    "ContactName": "Laurence Lebihan",
                                    "CategoryName": "Meat/Poultry",
                                    "ProductName": "Tourtière",
                                    "TotalQuantity": "39"
                                },
                                {
                                    "CustomerID": "BONAP",
                                    "ContactName": "Laurence Lebihan",
                                    "CategoryName": "Produce",
                                    "ProductName": "Uncle Bob's Organic Dried Pears",
                                    "TotalQuantity": "58"
                                },
                                {
                                    "CustomerID": "BONAP",
                                    "ContactName": "Laurence Lebihan",
                                    "CategoryName": "Seafood",
                                    "ProductName": "Carnarvon Tigers",
                                    "TotalQuantity": "50"
                                },
                                {
                                    "CustomerID": "BOTTM",
                                    "ContactName": "Elizabeth Lincoln",
                                    "CategoryName": "Beverages",
                                    "ProductName": "Chai",
                                    "TotalQuantity": "60"
                                },
                                {
                                    "CustomerID": "BOTTM",
                                    "ContactName": "Elizabeth Lincoln",
                                    "CategoryName": "Condiments",
                                    "ProductName": "Gula Malacca",
                                    "TotalQuantity": "58"
                                },
                                {
                                    "CustomerID": "BOTTM",
                                    "ContactName": "Elizabeth Lincoln",
                                    "CategoryName": "Confections",
                                    "ProductName": "Tarte au sucre",
                                    "TotalQuantity": "101"
                                },
                                {
                                    "CustomerID": "BOTTM",
                                    "ContactName": "Elizabeth Lincoln",
                                    "CategoryName": "Dairy Products",
                                    "ProductName": "Camembert Pierrot",
                                    "TotalQuantity": "75"
                                },
                                {
                                    "CustomerID": "BOTTM",
                                    "ContactName": "Elizabeth Lincoln",
                                    "CategoryName": "Grains/Cereals",
                                    "ProductName": "Singaporean Hokkien Fried Mee",
                                    "TotalQuantity": "20"
                                },
                                {
                                    "CustomerID": "BOTTM",
                                    "ContactName": "Elizabeth Lincoln",
                                    "CategoryName": "Meat/Poultry",
                                    "ProductName": "Alice Mutton",
                                    "TotalQuantity": "56"
                                },
                                {
                                    "CustomerID": "BOTTM",
                                    "ContactName": "Elizabeth Lincoln",
                                    "CategoryName": "Produce",
                                    "ProductName": "Manjimup Dried Apples",
                                    "TotalQuantity": "24"
                                },
                                {
                                    "CustomerID": "BOTTM",
                                    "ContactName": "Elizabeth Lincoln",
                                    "CategoryName": "Seafood",
                                    "ProductName": "Boston Crab Meat",
                                    "TotalQuantity": "50"
                                },
                                {
                                    "CustomerID": "BSBEV",
                                    "ContactName": "Victoria Ashworth",
                                    "CategoryName": "Beverages",
                                    "ProductName": "Ipoh Coffee",
                                    "TotalQuantity": "30"
                                },
                                {
                                    "CustomerID": "BSBEV",
                                    "ContactName": "Victoria Ashworth",
                                    "CategoryName": "Condiments",
                                    "ProductName": "Aniseed Syrup",
                                    "TotalQuantity": "30"
                                },
                                {
                                    "CustomerID": "BSBEV",
                                    "ContactName": "Victoria Ashworth",
                                    "CategoryName": "Confections",
                                    "ProductName": "Sir Rodney's Scones",
                                    "TotalQuantity": "29"
                                },
                                {
                                    "CustomerID": "BSBEV",
                                    "ContactName": "Victoria Ashworth",
                                    "CategoryName": "Dairy Products",
                                    "ProductName": "Geitost",
                                    "TotalQuantity": "15"
                                },
                                {
                                    "CustomerID": "BSBEV",
                                    "ContactName": "Victoria Ashworth",
                                    "CategoryName": "Grains/Cereals",
                                    "ProductName": "Gustaf's Knäckebröd",
                                    "TotalQuantity": "21"
                                },
                                {
                                    "CustomerID": "BSBEV",
                                    "ContactName": "Victoria Ashworth",
                                    "CategoryName": "Produce",
                                    "ProductName": "Uncle Bob's Organic Dried Pears",
                                    "TotalQuantity": "34"
                                },
                                {
                                    "CustomerID": "BSBEV",
                                    "ContactName": "Victoria Ashworth",
                                    "CategoryName": "Seafood",
                                    "ProductName": "Konbu",
                                    "TotalQuantity": "23"
                                },
                                {
                                    "CustomerID": "CACTU",
                                    "ContactName": "Patricio Simpson",
                                    "CategoryName": "Beverages",
                                    "ProductName": "Sasquatch Ale",
                                    "TotalQuantity": "20"
                                },
                                {
                                    "CustomerID": "CACTU",
                                    "ContactName": "Patricio Simpson",
                                    "CategoryName": "Confections",
                                    "ProductName": "Scottish Longbreads",
                                    "TotalQuantity": "6"
                                },
                                {
                                    "CustomerID": "CACTU",
                                    "ContactName": "Patricio Simpson",
                                    "CategoryName": "Dairy Products",
                                    "ProductName": "Geitost",
                                    "TotalQuantity": "10"
                                },
                                {
                                    "CustomerID": "CACTU",
                                    "ContactName": "Patricio Simpson",
                                    "CategoryName": "Produce",
                                    "ProductName": "Rössle Sauerkraut",
                                    "TotalQuantity": "8"
                                },
                                {
                                    "CustomerID": "CACTU",
                                    "ContactName": "Patricio Simpson",
                                    "CategoryName": "Seafood",
                                    "ProductName": "Jack's New England Clam Chowder",
                                    "TotalQuantity": "10"
                                },
                                {
                                    "CustomerID": "CENTC",
                                    "ContactName": "Francisco Chang",
                                    "CategoryName": "Confections",
                                    "ProductName": "Sir Rodney's Scones",
                                    "TotalQuantity": "10"
                                },
                                {
                                    "CustomerID": "CENTC",
                                    "ContactName": "Francisco Chang",
                                    "CategoryName": "Seafood",
                                    "ProductName": "Gravad lax",
                                    "TotalQuantity": "1"
                                },
                                {
                                    "CustomerID": "CHOPS",
                                    "ContactName": "Yang Wang",
                                    "CategoryName": "Beverages",
                                    "ProductName": "Chang",
                                    "TotalQuantity": "30"
                                },
                                {
                                    "CustomerID": "CHOPS",
                                    "ContactName": "Yang Wang",
                                    "CategoryName": "Condiments",
                                    "ProductName": "Vegie-spread",
                                    "TotalQuantity": "42"
                                },
                                {
                                    "CustomerID": "CHOPS",
                                    "ContactName": "Yang Wang",
                                    "CategoryName": "Confections",
                                    "ProductName": "Sir Rodney's Scones",
                                    "TotalQuantity": "40"
                                },
                                {
                                    "CustomerID": "CHOPS",
                                    "ContactName": "Yang Wang",
                                    "CategoryName": "Dairy Products",
                                    "ProductName": "Gudbrandsdalsost",
                                    "TotalQuantity": "40"
                                },
                                {
                                    "CustomerID": "CHOPS",
                                    "ContactName": "Yang Wang",
                                    "CategoryName": "Grains/Cereals",
                                    "ProductName": "Gnocchi di nonna Alice",
                                    "TotalQuantity": "72"
                                },
                                {
                                    "CustomerID": "CHOPS",
                                    "ContactName": "Yang Wang",
                                    "CategoryName": "Meat/Poultry",
                                    "ProductName": "Pâté chinois",
                                    "TotalQuantity": "21"
                                },
                                {
                                    "CustomerID": "CHOPS",
                                    "ContactName": "Yang Wang",
                                    "CategoryName": "Produce",
                                    "ProductName": "Longlife Tofu",
                                    "TotalQuantity": "41"
                                },
                                {
                                    "CustomerID": "CHOPS",
                                    "ContactName": "Yang Wang",
                                    "CategoryName": "Seafood",
                                    "ProductName": "Ikura",
                                    "TotalQuantity": "16"
                                },
                                {
                                    "CustomerID": "COMMI",
                                    "ContactName": "Pedro Afonso",
                                    "CategoryName": "Condiments",
                                    "ProductName": "Chef Anton's Gumbo Mix",
                                    "TotalQuantity": "20"
                                },
                                {
                                    "CustomerID": "COMMI",
                                    "ContactName": "Pedro Afonso",
                                    "CategoryName": "Confections",
                                    "ProductName": "Maxilaku",
                                    "TotalQuantity": "15"
                                },
                                {
                                    "CustomerID": "COMMI",
                                    "ContactName": "Pedro Afonso",
                                    "CategoryName": "Dairy Products",
                                    "ProductName": "Queso Cabrales",
                                    "TotalQuantity": "10"
                                },
                                {
                                    "CustomerID": "COMMI",
                                    "ContactName": "Pedro Afonso",
                                    "CategoryName": "Grains/Cereals",
                                    "ProductName": "Gnocchi di nonna Alice",
                                    "TotalQuantity": "30"
                                },
                                {
                                    "CustomerID": "COMMI",
                                    "ContactName": "Pedro Afonso",
                                    "CategoryName": "Meat/Poultry",
                                    "ProductName": "Thüringer Rostbratwurst",
                                    "TotalQuantity": "15"
                                },
                                {
                                    "CustomerID": "COMMI",
                                    "ContactName": "Pedro Afonso",
                                    "CategoryName": "Seafood",
                                    "ProductName": "Spegesild",
                                    "TotalQuantity": "14"
                                },
                                {
                                    "CustomerID": "CONSH",
                                    "ContactName": "Elizabeth Brown",
                                    "CategoryName": "Beverages",
                                    "ProductName": "Chang",
                                    "TotalQuantity": "10"
                                },
                                {
                                    "CustomerID": "CONSH",
                                    "ContactName": "Elizabeth Brown",
                                    "CategoryName": "Condiments",
                                    "ProductName": "Chef Anton's Gumbo Mix",
                                    "TotalQuantity": "30"
                                },
                                {
                                    "CustomerID": "CONSH",
                                    "ContactName": "Elizabeth Brown",
                                    "CategoryName": "Dairy Products",
                                    "ProductName": "Mozzarella di Giovanni",
                                    "TotalQuantity": "10"
                                },
                                {
                                    "CustomerID": "CONSH",
                                    "ContactName": "Elizabeth Brown",
                                    "CategoryName": "Grains/Cereals",
                                    "ProductName": "Tunnbröd",
                                    "TotalQuantity": "21"
                                },
                                {
                                    "CustomerID": "CONSH",
                                    "ContactName": "Elizabeth Brown",
                                    "CategoryName": "Meat/Poultry",
                                    "ProductName": "Mishi Kobe Niku",
                                    "TotalQuantity": "3"
                                },
                                {
                                    "CustomerID": "CONSH",
                                    "ContactName": "Elizabeth Brown",
                                    "CategoryName": "Seafood",
                                    "ProductName": "Konbu",
                                    "TotalQuantity": "1"
                                },
                                {
                                    "CustomerID": "DRACD",
                                    "ContactName": "Sven Ottlieb",
                                    "CategoryName": "Beverages",
                                    "ProductName": "Rhönbräu Klosterbier",
                                    "TotalQuantity": "12"
                                },
                                {
                                    "CustomerID": "DRACD",
                                    "ContactName": "Sven Ottlieb",
                                    "CategoryName": "Confections",
                                    "ProductName": "Gumbär Gummibärchen",
                                    "TotalQuantity": "12"
                                },
                                {
                                    "CustomerID": "DRACD",
                                    "ContactName": "Sven Ottlieb",
                                    "CategoryName": "Dairy Products",
                                    "ProductName": "Raclette Courdavault",
                                    "TotalQuantity": "30"
                                },
                                {
                                    "CustomerID": "DRACD",
                                    "ContactName": "Sven Ottlieb",
                                    "CategoryName": "Meat/Poultry",
                                    "ProductName": "Perth Pasties",
                                    "TotalQuantity": "20"
                                },
                                {
                                    "CustomerID": "DRACD",
                                    "ContactName": "Sven Ottlieb",
                                    "CategoryName": "Seafood",
                                    "ProductName": "Konbu",
                                    "TotalQuantity": "25"
                                },
                                {
                                    "CustomerID": "DUMON",
                                    "ContactName": "Janine Labrune",
                                    "CategoryName": "Beverages",
                                    "ProductName": "Sasquatch Ale",
                                    "TotalQuantity": "10"
                                },
                                {
                                    "CustomerID": "DUMON",
                                    "ContactName": "Janine Labrune",
                                    "CategoryName": "Confections",
                                    "ProductName": "Sir Rodney's Scones",
                                    "TotalQuantity": "6"
                                },
                                {
                                    "CustomerID": "DUMON",
                                    "ContactName": "Janine Labrune",
                                    "CategoryName": "Dairy Products",
                                    "ProductName": "Gudbrandsdalsost",
                                    "TotalQuantity": "7"
                                },
                                {
                                    "CustomerID": "DUMON",
                                    "ContactName": "Janine Labrune",
                                    "CategoryName": "Grains/Cereals",
                                    "ProductName": "Filo Mix",
                                    "TotalQuantity": "9"
                                },
                                {
                                    "CustomerID": "DUMON",
                                    "ContactName": "Janine Labrune",
                                    "CategoryName": "Meat/Poultry",
                                    "ProductName": "Alice Mutton",
                                    "TotalQuantity": "15"
                                },
                                {
                                    "CustomerID": "DUMON",
                                    "ContactName": "Janine Labrune",
                                    "CategoryName": "Seafood",
                                    "ProductName": "Jack's New England Clam Chowder",
                                    "TotalQuantity": "14"
                                },
                                {
                                    "CustomerID": "EASTC",
                                    "ContactName": "Ann Devon",
                                    "CategoryName": "Beverages",
                                    "ProductName": "Steeleye Stout",
                                    "TotalQuantity": "35"
                                },
                                {
                                    "CustomerID": "EASTC",
                                    "ContactName": "Ann Devon",
                                    "CategoryName": "Condiments",
                                    "ProductName": "Chef Anton's Gumbo Mix",
                                    "TotalQuantity": "30"
                                },
                                {
                                    "CustomerID": "EASTC",
                                    "ContactName": "Ann Devon",
                                    "CategoryName": "Confections",
                                    "ProductName": "Maxilaku",
                                    "TotalQuantity": "30"
                                },
                                {
                                    "CustomerID": "EASTC",
                                    "ContactName": "Ann Devon",
                                    "CategoryName": "Dairy Products",
                                    "ProductName": "Flotemysost",
                                    "TotalQuantity": "55"
                                },
                                {
                                    "CustomerID": "EASTC",
                                    "ContactName": "Ann Devon",
                                    "CategoryName": "Meat/Poultry",
                                    "ProductName": "Pâté chinois",
                                    "TotalQuantity": "35"
                                },
                                {
                                    "CustomerID": "EASTC",
                                    "ContactName": "Ann Devon",
                                    "CategoryName": "Produce",
                                    "ProductName": "Uncle Bob's Organic Dried Pears",
                                    "TotalQuantity": "100"
                                },
                                {
                                    "CustomerID": "EASTC",
                                    "ContactName": "Ann Devon",
                                    "CategoryName": "Seafood",
                                    "ProductName": "Nord-Ost Matjeshering",
                                    "TotalQuantity": "15"
                                },
                                {
                                    "CustomerID": "ERNSH",
                                    "ContactName": "Roland Mendel",
                                    "CategoryName": "Beverages",
                                    "ProductName": "Guaraná Fantástica",
                                    "TotalQuantity": "248"
                                },
                                {
                                    "CustomerID": "ERNSH",
                                    "ContactName": "Roland Mendel",
                                    "CategoryName": "Condiments",
                                    "ProductName": "Sirop d'érable",
                                    "TotalQuantity": "186"
                                },
                                {
                                    "CustomerID": "ERNSH",
                                    "ContactName": "Roland Mendel",
                                    "CategoryName": "Confections",
                                    "ProductName": "Pavlova",
                                    "TotalQuantity": "146"
                                },
                                {
                                    "CustomerID": "ERNSH",
                                    "ContactName": "Roland Mendel",
                                    "CategoryName": "Dairy Products",
                                    "ProductName": "Raclette Courdavault",
                                    "TotalQuantity": "180"
                                },
                                {
                                    "CustomerID": "ERNSH",
                                    "ContactName": "Roland Mendel",
                                    "CategoryName": "Grains/Cereals",
                                    "ProductName": "Wimmers gute Semmelknödel",
                                    "TotalQuantity": "199"
                                },
                                {
                                    "CustomerID": "ERNSH",
                                    "ContactName": "Roland Mendel",
                                    "CategoryName": "Meat/Poultry",
                                    "ProductName": "Alice Mutton",
                                    "TotalQuantity": "121"
                                },
                                {
                                    "CustomerID": "ERNSH",
                                    "ContactName": "Roland Mendel",
                                    "CategoryName": "Produce",
                                    "ProductName": "Manjimup Dried Apples",
                                    "TotalQuantity": "120"
                                },
                                {
                                    "CustomerID": "ERNSH",
                                    "ContactName": "Roland Mendel",
                                    "CategoryName": "Seafood",
                                    "ProductName": "Ikura",
                                    "TotalQuantity": "100"
                                },
                                {
                                    "CustomerID": "FAMIA",
                                    "ContactName": "Aria Cruz",
                                    "CategoryName": "Beverages",
                                    "ProductName": "Rhönbräu Klosterbier",
                                    "TotalQuantity": "56"
                                },
                                {
                                    "CustomerID": "FAMIA",
                                    "ContactName": "Aria Cruz",
                                    "CategoryName": "Confections",
                                    "ProductName": "Teatime Chocolate Biscuits",
                                    "TotalQuantity": "18"
                                },
                                {
                                    "CustomerID": "FAMIA",
                                    "ContactName": "Aria Cruz",
                                    "CategoryName": "Dairy Products",
                                    "ProductName": "Geitost",
                                    "TotalQuantity": "50"
                                },
                                {
                                    "CustomerID": "FAMIA",
                                    "ContactName": "Aria Cruz",
                                    "CategoryName": "Grains/Cereals",
                                    "ProductName": "Filo Mix",
                                    "TotalQuantity": "4"
                                },
                                {
                                    "CustomerID": "FAMIA",
                                    "ContactName": "Aria Cruz",
                                    "CategoryName": "Meat/Poultry",
                                    "ProductName": "Tourtière",
                                    "TotalQuantity": "30"
                                },
                                {
                                    "CustomerID": "FAMIA",
                                    "ContactName": "Aria Cruz",
                                    "CategoryName": "Seafood",
                                    "ProductName": "Nord-Ost Matjeshering",
                                    "TotalQuantity": "30"
                                },
                                {
                                    "CustomerID": "FOLIG",
                                    "ContactName": "Martine Rancé",
                                    "CategoryName": "Beverages",
                                    "ProductName": "Guaraná Fantástica",
                                    "TotalQuantity": "20"
                                },
                                {
                                    "CustomerID": "FOLIG",
                                    "ContactName": "Martine Rancé",
                                    "CategoryName": "Condiments",
                                    "ProductName": "Vegie-spread",
                                    "TotalQuantity": "30"
                                },
                                {
                                    "CustomerID": "FOLIG",
                                    "ContactName": "Martine Rancé",
                                    "CategoryName": "Confections",
                                    "ProductName": "Sir Rodney's Scones",
                                    "TotalQuantity": "40"
                                },
                                {
                                    "CustomerID": "FOLIG",
                                    "ContactName": "Martine Rancé",
                                    "CategoryName": "Dairy Products",
                                    "ProductName": "Raclette Courdavault",
                                    "TotalQuantity": "12"
                                },
                                {
                                    "CustomerID": "FOLIG",
                                    "ContactName": "Martine Rancé",
                                    "CategoryName": "Grains/Cereals",
                                    "ProductName": "Gustaf's Knäckebröd",
                                    "TotalQuantity": "6"
                                },
                                {
                                    "CustomerID": "FOLIG",
                                    "ContactName": "Martine Rancé",
                                    "CategoryName": "Meat/Poultry",
                                    "ProductName": "Tourtière",
                                    "TotalQuantity": "6"
                                },
                                {
                                    "CustomerID": "FOLIG",
                                    "ContactName": "Martine Rancé",
                                    "CategoryName": "Produce",
                                    "ProductName": "Uncle Bob's Organic Dried Pears",
                                    "TotalQuantity": "35"
                                },
                                {
                                    "CustomerID": "FOLIG",
                                    "ContactName": "Martine Rancé",
                                    "CategoryName": "Seafood",
                                    "ProductName": "Carnarvon Tigers",
                                    "TotalQuantity": "80"
                                },
                                {
                                    "CustomerID": "FOLKO",
                                    "ContactName": "Maria Larsson",
                                    "CategoryName": "Beverages",
                                    "ProductName": "Lakkalikööri",
                                    "TotalQuantity": "68"
                                },
                                {
                                    "CustomerID": "FOLKO",
                                    "ContactName": "Maria Larsson",
                                    "CategoryName": "Condiments",
                                    "ProductName": "Chef Anton's Cajun Seasoning",
                                    "TotalQuantity": "50"
                                },
                                {
                                    "CustomerID": "FOLKO",
                                    "ContactName": "Maria Larsson",
                                    "CategoryName": "Confections",
                                    "ProductName": "Zaanse koeken",
                                    "TotalQuantity": "60"
                                },
                                {
                                    "CustomerID": "FOLKO",
                                    "ContactName": "Maria Larsson",
                                    "CategoryName": "Dairy Products",
                                    "ProductName": "Queso Cabrales",
                                    "TotalQuantity": "56"
                                },
                                {
                                    "CustomerID": "FOLKO",
                                    "ContactName": "Maria Larsson",
                                    "CategoryName": "Grains/Cereals",
                                    "ProductName": "Gnocchi di nonna Alice",
                                    "TotalQuantity": "60"
                                },
                                {
                                    "CustomerID": "FOLKO",
                                    "ContactName": "Maria Larsson",
                                    "CategoryName": "Meat/Poultry",
                                    "ProductName": "Thüringer Rostbratwurst",
                                    "TotalQuantity": "50"
                                },
                                {
                                    "CustomerID": "FOLKO",
                                    "ContactName": "Maria Larsson",
                                    "CategoryName": "Produce",
                                    "ProductName": "Manjimup Dried Apples",
                                    "TotalQuantity": "88"
                                },
                                {
                                    "CustomerID": "FOLKO",
                                    "ContactName": "Maria Larsson",
                                    "CategoryName": "Seafood",
                                    "ProductName": "Jack's New England Clam Chowder",
                                    "TotalQuantity": "72"
                                },
                                {
                                    "CustomerID": "FRANK",
                                    "ContactName": "Peter Franken",
                                    "CategoryName": "Beverages",
                                    "ProductName": "Rhönbräu Klosterbier",
                                    "TotalQuantity": "74"
                                },
                                {
                                    "CustomerID": "FRANK",
                                    "ContactName": "Peter Franken",
                                    "CategoryName": "Condiments",
                                    "ProductName": "Original Frankfurter grüne Soße",
                                    "TotalQuantity": "15"
                                },
                                {
                                    "CustomerID": "FRANK",
                                    "ContactName": "Peter Franken",
                                    "CategoryName": "Confections",
                                    "ProductName": "Sir Rodney's Scones",
                                    "TotalQuantity": "117"
                                },
                                {
                                    "CustomerID": "FRANK",
                                    "ContactName": "Peter Franken",
                                    "CategoryName": "Dairy Products",
                                    "ProductName": "Flotemysost",
                                    "TotalQuantity": "120"
                                },
                                {
                                    "CustomerID": "FRANK",
                                    "ContactName": "Peter Franken",
                                    "CategoryName": "Grains/Cereals",
                                    "ProductName": "Tunnbröd",
                                    "TotalQuantity": "112"
                                },
                                {
                                    "CustomerID": "FRANK",
                                    "ContactName": "Peter Franken",
                                    "CategoryName": "Meat/Poultry",
                                    "ProductName": "Tourtière",
                                    "TotalQuantity": "50"
                                },
                                {
                                    "CustomerID": "FRANK",
                                    "ContactName": "Peter Franken",
                                    "CategoryName": "Produce",
                                    "ProductName": "Tofu",
                                    "TotalQuantity": "51"
                                },
                                {
                                    "CustomerID": "FRANK",
                                    "ContactName": "Peter Franken",
                                    "CategoryName": "Seafood",
                                    "ProductName": "Röd Kaviar",
                                    "TotalQuantity": "70"
                                },
                                {
                                    "CustomerID": "FRANR",
                                    "ContactName": "Carine Schmitt",
                                    "CategoryName": "Beverages",
                                    "ProductName": "Lakkalikööri",
                                    "TotalQuantity": "20"
                                },
                                {
                                    "CustomerID": "FRANR",
                                    "ContactName": "Carine Schmitt",
                                    "CategoryName": "Condiments",
                                    "ProductName": "Louisiana Fiery Hot Pepper Sauce",
                                    "TotalQuantity": "12"
                                },
                                {
                                    "CustomerID": "FRANR",
                                    "ContactName": "Carine Schmitt",
                                    "CategoryName": "Confections",
                                    "ProductName": "Tarte au sucre",
                                    "TotalQuantity": "10"
                                },
                                {
                                    "CustomerID": "FRANR",
                                    "ContactName": "Carine Schmitt",
                                    "CategoryName": "Meat/Poultry",
                                    "ProductName": "Thüringer Rostbratwurst",
                                    "TotalQuantity": "14"
                                },
                                {
                                    "CustomerID": "FRANR",
                                    "ContactName": "Carine Schmitt",
                                    "CategoryName": "Produce",
                                    "ProductName": "Manjimup Dried Apples",
                                    "TotalQuantity": "3"
                                },
                                {
                                    "CustomerID": "FRANS",
                                    "ContactName": "Paolo Accorti",
                                    "CategoryName": "Condiments",
                                    "ProductName": "Original Frankfurter grüne Soße",
                                    "TotalQuantity": "10"
                                },
                                {
                                    "CustomerID": "FRANS",
                                    "ContactName": "Paolo Accorti",
                                    "CategoryName": "Confections",
                                    "ProductName": "Zaanse koeken",
                                    "TotalQuantity": "5"
                                },
                                {
                                    "CustomerID": "FRANS",
                                    "ContactName": "Paolo Accorti",
                                    "CategoryName": "Dairy Products",
                                    "ProductName": "Camembert Pierrot",
                                    "TotalQuantity": "4"
                                },
                                {
                                    "CustomerID": "FRANS",
                                    "ContactName": "Paolo Accorti",
                                    "CategoryName": "Produce",
                                    "ProductName": "Manjimup Dried Apples",
                                    "TotalQuantity": "10"
                                },
                                {
                                    "CustomerID": "FRANS",
                                    "ContactName": "Paolo Accorti",
                                    "CategoryName": "Seafood",
                                    "ProductName": "Carnarvon Tigers",
                                    "TotalQuantity": "8"
                                },
                                {
                                    "CustomerID": "FURIB",
                                    "ContactName": "Lino Rodriguez",
                                    "CategoryName": "Beverages",
                                    "ProductName": "Steeleye Stout",
                                    "TotalQuantity": "20"
                                },
                                {
                                    "CustomerID": "FURIB",
                                    "ContactName": "Lino Rodriguez",
                                    "CategoryName": "Condiments",
                                    "ProductName": "Gula Malacca",
                                    "TotalQuantity": "55"
                                },
                                {
                                    "CustomerID": "FURIB",
                                    "ContactName": "Lino Rodriguez",
                                    "CategoryName": "Confections",
                                    "ProductName": "Pavlova",
                                    "TotalQuantity": "40"
                                },
                                {
                                    "CustomerID": "FURIB",
                                    "ContactName": "Lino Rodriguez",
                                    "CategoryName": "Dairy Products",
                                    "ProductName": "Camembert Pierrot",
                                    "TotalQuantity": "22"
                                },
                                {
                                    "CustomerID": "FURIB",
                                    "ContactName": "Lino Rodriguez",
                                    "CategoryName": "Grains/Cereals",
                                    "ProductName": "Gnocchi di nonna Alice",
                                    "TotalQuantity": "42"
                                },
                                {
                                    "CustomerID": "FURIB",
                                    "ContactName": "Lino Rodriguez",
                                    "CategoryName": "Meat/Poultry",
                                    "ProductName": "Tourtière",
                                    "TotalQuantity": "20"
                                },
                                {
                                    "CustomerID": "FURIB",
                                    "ContactName": "Lino Rodriguez",
                                    "CategoryName": "Seafood",
                                    "ProductName": "Ikura",
                                    "TotalQuantity": "24"
                                },
                                {
                                    "CustomerID": "GALED",
                                    "ContactName": "Eduardo Saavedra",
                                    "CategoryName": "Beverages",
                                    "ProductName": "Lakkalikööri",
                                    "TotalQuantity": "5"
                                },
                                {
                                    "CustomerID": "GALED",
                                    "ContactName": "Eduardo Saavedra",
                                    "CategoryName": "Condiments",
                                    "ProductName": "Original Frankfurter grüne Soße",
                                    "TotalQuantity": "5"
                                },
                                {
                                    "CustomerID": "GALED",
                                    "ContactName": "Eduardo Saavedra",
                                    "CategoryName": "Confections",
                                    "ProductName": "Zaanse koeken",
                                    "TotalQuantity": "5"
                                },
                                {
                                    "CustomerID": "GALED",
                                    "ContactName": "Eduardo Saavedra",
                                    "CategoryName": "Grains/Cereals",
                                    "ProductName": "Wimmers gute Semmelknödel",
                                    "TotalQuantity": "7"
                                },
                                {
                                    "CustomerID": "GALED",
                                    "ContactName": "Eduardo Saavedra",
                                    "CategoryName": "Seafood",
                                    "ProductName": "Ikura",
                                    "TotalQuantity": "5"
                                },
                                {
                                    "CustomerID": "GODOS",
                                    "ContactName": "José Pedro Freyre",
                                    "CategoryName": "Beverages",
                                    "ProductName": "Chang",
                                    "TotalQuantity": "20"
                                },
                                {
                                    "CustomerID": "GODOS",
                                    "ContactName": "José Pedro Freyre",
                                    "CategoryName": "Condiments",
                                    "ProductName": "Louisiana Fiery Hot Pepper Sauce",
                                    "TotalQuantity": "51"
                                },
                                {
                                    "CustomerID": "GODOS",
                                    "ContactName": "José Pedro Freyre",
                                    "CategoryName": "Confections",
                                    "ProductName": "Scottish Longbreads",
                                    "TotalQuantity": "33"
                                },
                                {
                                    "CustomerID": "GODOS",
                                    "ContactName": "José Pedro Freyre",
                                    "CategoryName": "Dairy Products",
                                    "ProductName": "Camembert Pierrot",
                                    "TotalQuantity": "9"
                                },
                                {
                                    "CustomerID": "GODOS",
                                    "ContactName": "José Pedro Freyre",
                                    "CategoryName": "Grains/Cereals",
                                    "ProductName": "Wimmers gute Semmelknödel",
                                    "TotalQuantity": "24"
                                },
                                {
                                    "CustomerID": "GODOS",
                                    "ContactName": "José Pedro Freyre",
                                    "CategoryName": "Meat/Poultry",
                                    "ProductName": "Thüringer Rostbratwurst",
                                    "TotalQuantity": "20"
                                },
                                {
                                    "CustomerID": "GODOS",
                                    "ContactName": "José Pedro Freyre",
                                    "CategoryName": "Produce",
                                    "ProductName": "Manjimup Dried Apples",
                                    "TotalQuantity": "40"
                                },
                                {
                                    "CustomerID": "GODOS",
                                    "ContactName": "José Pedro Freyre",
                                    "CategoryName": "Seafood",
                                    "ProductName": "Boston Crab Meat",
                                    "TotalQuantity": "40"
                                },
                                {
                                    "CustomerID": "GOURL",
                                    "ContactName": "André Fonseca",
                                    "CategoryName": "Beverages",
                                    "ProductName": "Lakkalikööri",
                                    "TotalQuantity": "20"
                                },
                                {
                                    "CustomerID": "GOURL",
                                    "ContactName": "André Fonseca",
                                    "CategoryName": "Condiments",
                                    "ProductName": "Northwoods Cranberry Sauce",
                                    "TotalQuantity": "40"
                                },
                                {
                                    "CustomerID": "GOURL",
                                    "ContactName": "André Fonseca",
                                    "CategoryName": "Confections",
                                    "ProductName": "Zaanse koeken",
                                    "TotalQuantity": "15"
                                },
                                {
                                    "CustomerID": "GOURL",
                                    "ContactName": "André Fonseca",
                                    "CategoryName": "Dairy Products",
                                    "ProductName": "Raclette Courdavault",
                                    "TotalQuantity": "20"
                                },
                                {
                                    "CustomerID": "GOURL",
                                    "ContactName": "André Fonseca",
                                    "CategoryName": "Grains/Cereals",
                                    "ProductName": "Singaporean Hokkien Fried Mee",
                                    "TotalQuantity": "40"
                                },
                                {
                                    "CustomerID": "GOURL",
                                    "ContactName": "André Fonseca",
                                    "CategoryName": "Produce",
                                    "ProductName": "Manjimup Dried Apples",
                                    "TotalQuantity": "28"
                                },
                                {
                                    "CustomerID": "GOURL",
                                    "ContactName": "André Fonseca",
                                    "CategoryName": "Seafood",
                                    "ProductName": "Ikura",
                                    "TotalQuantity": "20"
                                },
                                {
                                    "CustomerID": "GREAL",
                                    "ContactName": "Howard Snyder",
                                    "CategoryName": "Beverages",
                                    "ProductName": "Côte de Blaye",
                                    "TotalQuantity": "45"
                                },
                                {
                                    "CustomerID": "GREAL",
                                    "ContactName": "Howard Snyder",
                                    "CategoryName": "Condiments",
                                    "ProductName": "Gula Malacca",
                                    "TotalQuantity": "28"
                                },
                                {
                                    "CustomerID": "GREAL",
                                    "ContactName": "Howard Snyder",
                                    "CategoryName": "Confections",
                                    "ProductName": "Sir Rodney's Scones",
                                    "TotalQuantity": "32"
                                },
                                {
                                    "CustomerID": "GREAL",
                                    "ContactName": "Howard Snyder",
                                    "CategoryName": "Dairy Products",
                                    "ProductName": "Raclette Courdavault",
                                    "TotalQuantity": "30"
                                },
                                {
                                    "CustomerID": "GREAL",
                                    "ContactName": "Howard Snyder",
                                    "CategoryName": "Grains/Cereals",
                                    "ProductName": "Wimmers gute Semmelknödel",
                                    "TotalQuantity": "28"
                                },
                                {
                                    "CustomerID": "GREAL",
                                    "ContactName": "Howard Snyder",
                                    "CategoryName": "Meat/Poultry",
                                    "ProductName": "Thüringer Rostbratwurst",
                                    "TotalQuantity": "2"
                                },
                                {
                                    "CustomerID": "GREAL",
                                    "ContactName": "Howard Snyder",
                                    "CategoryName": "Produce",
                                    "ProductName": "Tofu",
                                    "TotalQuantity": "3"
                                },
                                {
                                    "CustomerID": "GREAL",
                                    "ContactName": "Howard Snyder",
                                    "CategoryName": "Seafood",
                                    "ProductName": "Inlagd Sill",
                                    "TotalQuantity": "30"
                                },
                                {
                                    "CustomerID": "GROSR",
                                    "ContactName": "Manuel Pereira",
                                    "CategoryName": "Beverages",
                                    "ProductName": "Rhönbräu Klosterbier",
                                    "TotalQuantity": "10"
                                },
                                {
                                    "CustomerID": "GROSR",
                                    "ContactName": "Manuel Pereira",
                                    "CategoryName": "Dairy Products",
                                    "ProductName": "Mozzarella di Giovanni",
                                    "TotalQuantity": "4"
                                },
                                {
                                    "CustomerID": "GROSR",
                                    "ContactName": "Manuel Pereira",
                                    "CategoryName": "Meat/Poultry",
                                    "ProductName": "Thüringer Rostbratwurst",
                                    "TotalQuantity": "10"
                                },
                                {
                                    "CustomerID": "GROSR",
                                    "ContactName": "Manuel Pereira",
                                    "CategoryName": "Seafood",
                                    "ProductName": "Ikura",
                                    "TotalQuantity": "10"
                                },
                                {
                                    "CustomerID": "HANAR",
                                    "ContactName": "Mario Pontes",
                                    "CategoryName": "Beverages",
                                    "ProductName": "Guaraná Fantástica",
                                    "TotalQuantity": "70"
                                },
                                {
                                    "CustomerID": "HANAR",
                                    "ContactName": "Mario Pontes",
                                    "CategoryName": "Condiments",
                                    "ProductName": "Louisiana Fiery Hot Pepper Sauce",
                                    "TotalQuantity": "72"
                                },
                                {
                                    "CustomerID": "HANAR",
                                    "ContactName": "Mario Pontes",
                                    "CategoryName": "Confections",
                                    "ProductName": "Maxilaku",
                                    "TotalQuantity": "40"
                                },
                                {
                                    "CustomerID": "HANAR",
                                    "ContactName": "Mario Pontes",
                                    "CategoryName": "Dairy Products",
                                    "ProductName": "Gorgonzola Telino",
                                    "TotalQuantity": "65"
                                },
                                {
                                    "CustomerID": "HANAR",
                                    "ContactName": "Mario Pontes",
                                    "CategoryName": "Grains/Cereals",
                                    "ProductName": "Gnocchi di nonna Alice",
                                    "TotalQuantity": "20"
                                },
                                {
                                    "CustomerID": "HANAR",
                                    "ContactName": "Mario Pontes",
                                    "CategoryName": "Meat/Poultry",
                                    "ProductName": "Alice Mutton",
                                    "TotalQuantity": "15"
                                },
                                {
                                    "CustomerID": "HANAR",
                                    "ContactName": "Mario Pontes",
                                    "CategoryName": "Produce",
                                    "ProductName": "Manjimup Dried Apples",
                                    "TotalQuantity": "35"
                                },
                                {
                                    "CustomerID": "HANAR",
                                    "ContactName": "Mario Pontes",
                                    "CategoryName": "Seafood",
                                    "ProductName": "Ikura",
                                    "TotalQuantity": "70"
                                },
                                {
                                    "CustomerID": "HILAA",
                                    "ContactName": "Carlos Hernández",
                                    "CategoryName": "Beverages",
                                    "ProductName": "Rhönbräu Klosterbier",
                                    "TotalQuantity": "106"
                                },
                                {
                                    "CustomerID": "HILAA",
                                    "ContactName": "Carlos Hernández",
                                    "CategoryName": "Condiments",
                                    "ProductName": "Original Frankfurter grüne Soße",
                                    "TotalQuantity": "15"
                                },
                                {
                                    "CustomerID": "HILAA",
                                    "ContactName": "Carlos Hernández",
                                    "CategoryName": "Confections",
                                    "ProductName": "Scottish Longbreads",
                                    "TotalQuantity": "30"
                                },
                                {
                                    "CustomerID": "HILAA",
                                    "ContactName": "Carlos Hernández",
                                    "CategoryName": "Dairy Products",
                                    "ProductName": "Raclette Courdavault",
                                    "TotalQuantity": "95"
                                },
                                {
                                    "CustomerID": "HILAA",
                                    "ContactName": "Carlos Hernández",
                                    "CategoryName": "Grains/Cereals",
                                    "ProductName": "Wimmers gute Semmelknödel",
                                    "TotalQuantity": "43"
                                },
                                {
                                    "CustomerID": "HILAA",
                                    "ContactName": "Carlos Hernández",
                                    "CategoryName": "Meat/Poultry",
                                    "ProductName": "Perth Pasties",
                                    "TotalQuantity": "70"
                                },
                                {
                                    "CustomerID": "HILAA",
                                    "ContactName": "Carlos Hernández",
                                    "CategoryName": "Produce",
                                    "ProductName": "Manjimup Dried Apples",
                                    "TotalQuantity": "45"
                                },
                                {
                                    "CustomerID": "HILAA",
                                    "ContactName": "Carlos Hernández",
                                    "CategoryName": "Seafood",
                                    "ProductName": "Konbu",
                                    "TotalQuantity": "68"
                                },
                                {
                                    "CustomerID": "HUNGC",
                                    "ContactName": "Yoshi Latimer",
                                    "CategoryName": "Confections",
                                    "ProductName": "Sir Rodney's Marmalade",
                                    "TotalQuantity": "21"
                                },
                                {
                                    "CustomerID": "HUNGC",
                                    "ContactName": "Yoshi Latimer",
                                    "CategoryName": "Dairy Products",
                                    "ProductName": "Geitost",
                                    "TotalQuantity": "20"
                                },
                                {
                                    "CustomerID": "HUNGC",
                                    "ContactName": "Yoshi Latimer",
                                    "CategoryName": "Meat/Poultry",
                                    "ProductName": "Tourtière",
                                    "TotalQuantity": "14"
                                },
                                {
                                    "CustomerID": "HUNGC",
                                    "ContactName": "Yoshi Latimer",
                                    "CategoryName": "Produce",
                                    "ProductName": "Tofu",
                                    "TotalQuantity": "15"
                                },
                                {
                                    "CustomerID": "HUNGC",
                                    "ContactName": "Yoshi Latimer",
                                    "CategoryName": "Seafood",
                                    "ProductName": "Röd Kaviar",
                                    "TotalQuantity": "30"
                                },
                                {
                                    "CustomerID": "HUNGO",
                                    "ContactName": "Patricia McKenna",
                                    "CategoryName": "Beverages",
                                    "ProductName": "Chang",
                                    "TotalQuantity": "47"
                                },
                                {
                                    "CustomerID": "HUNGO",
                                    "ContactName": "Patricia McKenna",
                                    "CategoryName": "Condiments",
                                    "ProductName": "Louisiana Fiery Hot Pepper Sauce",
                                    "TotalQuantity": "60"
                                },
                                {
                                    "CustomerID": "HUNGO",
                                    "ContactName": "Patricia McKenna",
                                    "CategoryName": "Confections",
                                    "ProductName": "Valkoinen suklaa",
                                    "TotalQuantity": "40"
                                },
                                {
                                    "CustomerID": "HUNGO",
                                    "ContactName": "Patricia McKenna",
                                    "CategoryName": "Dairy Products",
                                    "ProductName": "Raclette Courdavault",
                                    "TotalQuantity": "112"
                                },
                                {
                                    "CustomerID": "HUNGO",
                                    "ContactName": "Patricia McKenna",
                                    "CategoryName": "Grains/Cereals",
                                    "ProductName": "Gnocchi di nonna Alice",
                                    "TotalQuantity": "30"
                                },
                                {
                                    "CustomerID": "HUNGO",
                                    "ContactName": "Patricia McKenna",
                                    "CategoryName": "Meat/Poultry",
                                    "ProductName": "Thüringer Rostbratwurst",
                                    "TotalQuantity": "150"
                                },
                                {
                                    "CustomerID": "HUNGO",
                                    "ContactName": "Patricia McKenna",
                                    "CategoryName": "Produce",
                                    "ProductName": "Tofu",
                                    "TotalQuantity": "70"
                                },
                                {
                                    "CustomerID": "HUNGO",
                                    "ContactName": "Patricia McKenna",
                                    "CategoryName": "Seafood",
                                    "ProductName": "Escargots de Bourgogne",
                                    "TotalQuantity": "129"
                                },
                                {
                                    "CustomerID": "ISLAT",
                                    "ContactName": "Helen Bennett",
                                    "CategoryName": "Beverages",
                                    "ProductName": "Outback Lager",
                                    "TotalQuantity": "50"
                                },
                                {
                                    "CustomerID": "ISLAT",
                                    "ContactName": "Helen Bennett",
                                    "CategoryName": "Condiments",
                                    "ProductName": "Sirop d'érable",
                                    "TotalQuantity": "30"
                                },
                                {
                                    "CustomerID": "ISLAT",
                                    "ContactName": "Helen Bennett",
                                    "CategoryName": "Confections",
                                    "ProductName": "Teatime Chocolate Biscuits",
                                    "TotalQuantity": "5"
                                },
                                {
                                    "CustomerID": "ISLAT",
                                    "ContactName": "Helen Bennett",
                                    "CategoryName": "Dairy Products",
                                    "ProductName": "Flotemysost",
                                    "TotalQuantity": "27"
                                },
                                {
                                    "CustomerID": "ISLAT",
                                    "ContactName": "Helen Bennett",
                                    "CategoryName": "Grains/Cereals",
                                    "ProductName": "Gnocchi di nonna Alice",
                                    "TotalQuantity": "15"
                                },
                                {
                                    "CustomerID": "ISLAT",
                                    "ContactName": "Helen Bennett",
                                    "CategoryName": "Meat/Poultry",
                                    "ProductName": "Perth Pasties",
                                    "TotalQuantity": "2"
                                },
                                {
                                    "CustomerID": "ISLAT",
                                    "ContactName": "Helen Bennett",
                                    "CategoryName": "Seafood",
                                    "ProductName": "Jack's New England Clam Chowder",
                                    "TotalQuantity": "20"
                                },
                                {
                                    "CustomerID": "KOENE",
                                    "ContactName": "Philip Cramer",
                                    "CategoryName": "Beverages",
                                    "ProductName": "Lakkalikööri",
                                    "TotalQuantity": "35"
                                },
                                {
                                    "CustomerID": "KOENE",
                                    "ContactName": "Philip Cramer",
                                    "CategoryName": "Condiments",
                                    "ProductName": "Aniseed Syrup",
                                    "TotalQuantity": "49"
                                },
                                {
                                    "CustomerID": "KOENE",
                                    "ContactName": "Philip Cramer",
                                    "CategoryName": "Confections",
                                    "ProductName": "Gumbär Gummibärchen",
                                    "TotalQuantity": "58"
                                },
                                {
                                    "CustomerID": "KOENE",
                                    "ContactName": "Philip Cramer",
                                    "CategoryName": "Dairy Products",
                                    "ProductName": "Raclette Courdavault",
                                    "TotalQuantity": "85"
                                },
                                {
                                    "CustomerID": "KOENE",
                                    "ContactName": "Philip Cramer",
                                    "CategoryName": "Meat/Poultry",
                                    "ProductName": "Pâté chinois",
                                    "TotalQuantity": "47"
                                },
                                {
                                    "CustomerID": "KOENE",
                                    "ContactName": "Philip Cramer",
                                    "CategoryName": "Produce",
                                    "ProductName": "Tofu",
                                    "TotalQuantity": "9"
                                },
                                {
                                    "CustomerID": "KOENE",
                                    "ContactName": "Philip Cramer",
                                    "CategoryName": "Seafood",
                                    "ProductName": "Inlagd Sill",
                                    "TotalQuantity": "60"
                                },
                                {
                                    "CustomerID": "LACOR",
                                    "ContactName": "Daniel Tonini",
                                    "CategoryName": "Beverages",
                                    "ProductName": "Lakkalikööri",
                                    "TotalQuantity": "20"
                                },
                                {
                                    "CustomerID": "LACOR",
                                    "ContactName": "Daniel Tonini",
                                    "CategoryName": "Confections",
                                    "ProductName": "Schoggi Schokolade",
                                    "TotalQuantity": "10"
                                },
                                {
                                    "CustomerID": "LACOR",
                                    "ContactName": "Daniel Tonini",
                                    "CategoryName": "Dairy Products",
                                    "ProductName": "Geitost",
                                    "TotalQuantity": "7"
                                },
                                {
                                    "CustomerID": "LACOR",
                                    "ContactName": "Daniel Tonini",
                                    "CategoryName": "Grains/Cereals",
                                    "ProductName": "Filo Mix",
                                    "TotalQuantity": "5"
                                },
                                {
                                    "CustomerID": "LACOR",
                                    "ContactName": "Daniel Tonini",
                                    "CategoryName": "Meat/Poultry",
                                    "ProductName": "Alice Mutton",
                                    "TotalQuantity": "6"
                                },
                                {
                                    "CustomerID": "LACOR",
                                    "ContactName": "Daniel Tonini",
                                    "CategoryName": "Produce",
                                    "ProductName": "Uncle Bob's Organic Dried Pears",
                                    "TotalQuantity": "5"
                                },
                                {
                                    "CustomerID": "LACOR",
                                    "ContactName": "Daniel Tonini",
                                    "CategoryName": "Seafood",
                                    "ProductName": "Jack's New England Clam Chowder",
                                    "TotalQuantity": "6"
                                },
                                {
                                    "CustomerID": "LAMAI",
                                    "ContactName": "Annette Roulet",
                                    "CategoryName": "Beverages",
                                    "ProductName": "Lakkalikööri",
                                    "TotalQuantity": "34"
                                },
                                {
                                    "CustomerID": "LAMAI",
                                    "ContactName": "Annette Roulet",
                                    "CategoryName": "Condiments",
                                    "ProductName": "Gula Malacca",
                                    "TotalQuantity": "16"
                                },
                                {
                                    "CustomerID": "LAMAI",
                                    "ContactName": "Annette Roulet",
                                    "CategoryName": "Confections",
                                    "ProductName": "Tarte au sucre",
                                    "TotalQuantity": "40"
                                },
                                {
                                    "CustomerID": "LAMAI",
                                    "ContactName": "Annette Roulet",
                                    "CategoryName": "Dairy Products",
                                    "ProductName": "Gudbrandsdalsost",
                                    "TotalQuantity": "28"
                                },
                                {
                                    "CustomerID": "LAMAI",
                                    "ContactName": "Annette Roulet",
                                    "CategoryName": "Grains/Cereals",
                                    "ProductName": "Singaporean Hokkien Fried Mee",
                                    "TotalQuantity": "10"
                                },
                                {
                                    "CustomerID": "LAMAI",
                                    "ContactName": "Annette Roulet",
                                    "CategoryName": "Meat/Poultry",
                                    "ProductName": "Thüringer Rostbratwurst",
                                    "TotalQuantity": "20"
                                },
                                {
                                    "CustomerID": "LAMAI",
                                    "ContactName": "Annette Roulet",
                                    "CategoryName": "Produce",
                                    "ProductName": "Rössle Sauerkraut",
                                    "TotalQuantity": "8"
                                },
                                {
                                    "CustomerID": "LAMAI",
                                    "ContactName": "Annette Roulet",
                                    "CategoryName": "Seafood",
                                    "ProductName": "Inlagd Sill",
                                    "TotalQuantity": "47"
                                },
                                {
                                    "CustomerID": "LAUGB",
                                    "ContactName": "Yoshi Tannamuri",
                                    "CategoryName": "Beverages",
                                    "ProductName": "Guaraná Fantástica",
                                    "TotalQuantity": "5"
                                },
                                {
                                    "CustomerID": "LAUGB",
                                    "ContactName": "Yoshi Tannamuri",
                                    "CategoryName": "Condiments",
                                    "ProductName": "Original Frankfurter grüne Soße",
                                    "TotalQuantity": "5"
                                },
                                {
                                    "CustomerID": "LAUGB",
                                    "ContactName": "Yoshi Tannamuri",
                                    "CategoryName": "Confections",
                                    "ProductName": "NuNuCa Nuß-Nougat-Creme",
                                    "TotalQuantity": "5"
                                },
                                {
                                    "CustomerID": "LAUGB",
                                    "ContactName": "Yoshi Tannamuri",
                                    "CategoryName": "Grains/Cereals",
                                    "ProductName": "Tunnbröd",
                                    "TotalQuantity": "10"
                                },
                                {
                                    "CustomerID": "LAUGB",
                                    "ContactName": "Yoshi Tannamuri",
                                    "CategoryName": "Seafood",
                                    "ProductName": "Jack's New England Clam Chowder",
                                    "TotalQuantity": "20"
                                },
                                {
                                    "CustomerID": "LAZYK",
                                    "ContactName": "John Steel",
                                    "CategoryName": "Dairy Products",
                                    "ProductName": "Queso Cabrales",
                                    "TotalQuantity": "10"
                                },
                                {
                                    "CustomerID": "LAZYK",
                                    "ContactName": "John Steel",
                                    "CategoryName": "Seafood",
                                    "ProductName": "Boston Crab Meat",
                                    "TotalQuantity": "10"
                                },
                                {
                                    "CustomerID": "LEHMS",
                                    "ContactName": "Renate Messner",
                                    "CategoryName": "Beverages",
                                    "ProductName": "Chai",
                                    "TotalQuantity": "80"
                                },
                                {
                                    "CustomerID": "LEHMS",
                                    "ContactName": "Renate Messner",
                                    "CategoryName": "Condiments",
                                    "ProductName": "Original Frankfurter grüne Soße",
                                    "TotalQuantity": "25"
                                },
                                {
                                    "CustomerID": "LEHMS",
                                    "ContactName": "Renate Messner",
                                    "CategoryName": "Confections",
                                    "ProductName": "Pavlova",
                                    "TotalQuantity": "30"
                                },
                                {
                                    "CustomerID": "LEHMS",
                                    "ContactName": "Renate Messner",
                                    "CategoryName": "Dairy Products",
                                    "ProductName": "Camembert Pierrot",
                                    "TotalQuantity": "55"
                                },
                                {
                                    "CustomerID": "LEHMS",
                                    "ContactName": "Renate Messner",
                                    "CategoryName": "Grains/Cereals",
                                    "ProductName": "Wimmers gute Semmelknödel",
                                    "TotalQuantity": "80"
                                },
                                {
                                    "CustomerID": "LEHMS",
                                    "ContactName": "Renate Messner",
                                    "CategoryName": "Meat/Poultry",
                                    "ProductName": "Thüringer Rostbratwurst",
                                    "TotalQuantity": "18"
                                },
                                {
                                    "CustomerID": "LEHMS",
                                    "ContactName": "Renate Messner",
                                    "CategoryName": "Seafood",
                                    "ProductName": "Nord-Ost Matjeshering",
                                    "TotalQuantity": "45"
                                },
                                {
                                    "CustomerID": "LETSS",
                                    "ContactName": "Jaime Yorres",
                                    "CategoryName": "Beverages",
                                    "ProductName": "Rhönbräu Klosterbier",
                                    "TotalQuantity": "21"
                                },
                                {
                                    "CustomerID": "LETSS",
                                    "ContactName": "Jaime Yorres",
                                    "CategoryName": "Condiments",
                                    "ProductName": "Sirop d'érable",
                                    "TotalQuantity": "20"
                                },
                                {
                                    "CustomerID": "LETSS",
                                    "ContactName": "Jaime Yorres",
                                    "CategoryName": "Confections",
                                    "ProductName": "Sir Rodney's Scones",
                                    "TotalQuantity": "40"
                                },
                                {
                                    "CustomerID": "LETSS",
                                    "ContactName": "Jaime Yorres",
                                    "CategoryName": "Grains/Cereals",
                                    "ProductName": "Gnocchi di nonna Alice",
                                    "TotalQuantity": "21"
                                },
                                {
                                    "CustomerID": "LETSS",
                                    "ContactName": "Jaime Yorres",
                                    "CategoryName": "Meat/Poultry",
                                    "ProductName": "Tourtière",
                                    "TotalQuantity": "40"
                                },
                                {
                                    "CustomerID": "LETSS",
                                    "ContactName": "Jaime Yorres",
                                    "CategoryName": "Seafood",
                                    "ProductName": "Carnarvon Tigers",
                                    "TotalQuantity": "12"
                                },
                                {
                                    "CustomerID": "LILAS",
                                    "ContactName": "Carlos González",
                                    "CategoryName": "Beverages",
                                    "ProductName": "Outback Lager",
                                    "TotalQuantity": "35"
                                },
                                {
                                    "CustomerID": "LILAS",
                                    "ContactName": "Carlos González",
                                    "CategoryName": "Condiments",
                                    "ProductName": "Original Frankfurter grüne Soße",
                                    "TotalQuantity": "30"
                                },
                                {
                                    "CustomerID": "LILAS",
                                    "ContactName": "Carlos González",
                                    "CategoryName": "Confections",
                                    "ProductName": "Gumbär Gummibärchen",
                                    "TotalQuantity": "66"
                                },
                                {
                                    "CustomerID": "LILAS",
                                    "ContactName": "Carlos González",
                                    "CategoryName": "Dairy Products",
                                    "ProductName": "Mascarpone Fabioli",
                                    "TotalQuantity": "50"
                                },
                                {
                                    "CustomerID": "LILAS",
                                    "ContactName": "Carlos González",
                                    "CategoryName": "Grains/Cereals",
                                    "ProductName": "Tunnbröd",
                                    "TotalQuantity": "70"
                                },
                                {
                                    "CustomerID": "LILAS",
                                    "ContactName": "Carlos González",
                                    "CategoryName": "Meat/Poultry",
                                    "ProductName": "Pâté chinois",
                                    "TotalQuantity": "60"
                                },
                                {
                                    "CustomerID": "LILAS",
                                    "ContactName": "Carlos González",
                                    "CategoryName": "Produce",
                                    "ProductName": "Rössle Sauerkraut",
                                    "TotalQuantity": "20"
                                },
                                {
                                    "CustomerID": "LILAS",
                                    "ContactName": "Carlos González",
                                    "CategoryName": "Seafood",
                                    "ProductName": "Nord-Ost Matjeshering",
                                    "TotalQuantity": "32"
                                },
                                {
                                    "CustomerID": "LINOD",
                                    "ContactName": "Felipe Izquierdo",
                                    "CategoryName": "Beverages",
                                    "ProductName": "Outback Lager",
                                    "TotalQuantity": "90"
                                },
                                {
                                    "CustomerID": "LINOD",
                                    "ContactName": "Felipe Izquierdo",
                                    "CategoryName": "Condiments",
                                    "ProductName": "Aniseed Syrup",
                                    "TotalQuantity": "70"
                                },
                                {
                                    "CustomerID": "LINOD",
                                    "ContactName": "Felipe Izquierdo",
                                    "CategoryName": "Confections",
                                    "ProductName": "Maxilaku",
                                    "TotalQuantity": "60"
                                },
                                {
                                    "CustomerID": "LINOD",
                                    "ContactName": "Felipe Izquierdo",
                                    "CategoryName": "Dairy Products",
                                    "ProductName": "Mozzarella di Giovanni",
                                    "TotalQuantity": "60"
                                },
                                {
                                    "CustomerID": "LINOD",
                                    "ContactName": "Felipe Izquierdo",
                                    "CategoryName": "Grains/Cereals",
                                    "ProductName": "Ravioli Angelo",
                                    "TotalQuantity": "28"
                                },
                                {
                                    "CustomerID": "LINOD",
                                    "ContactName": "Felipe Izquierdo",
                                    "CategoryName": "Meat/Poultry",
                                    "ProductName": "Pâté chinois",
                                    "TotalQuantity": "30"
                                },
                                {
                                    "CustomerID": "LINOD",
                                    "ContactName": "Felipe Izquierdo",
                                    "CategoryName": "Produce",
                                    "ProductName": "Rössle Sauerkraut",
                                    "TotalQuantity": "20"
                                },
                                {
                                    "CustomerID": "LINOD",
                                    "ContactName": "Felipe Izquierdo",
                                    "CategoryName": "Seafood",
                                    "ProductName": "Inlagd Sill",
                                    "TotalQuantity": "50"
                                },
                                {
                                    "CustomerID": "LONEP",
                                    "ContactName": "Fran Wilson",
                                    "CategoryName": "Beverages",
                                    "ProductName": "Chai",
                                    "TotalQuantity": "20"
                                },
                                {
                                    "CustomerID": "LONEP",
                                    "ContactName": "Fran Wilson",
                                    "CategoryName": "Confections",
                                    "ProductName": "Scottish Longbreads",
                                    "TotalQuantity": "13"
                                },
                                {
                                    "CustomerID": "LONEP",
                                    "ContactName": "Fran Wilson",
                                    "CategoryName": "Dairy Products",
                                    "ProductName": "Queso Manchego La Pastora",
                                    "TotalQuantity": "20"
                                },
                                {
                                    "CustomerID": "LONEP",
                                    "ContactName": "Fran Wilson",
                                    "CategoryName": "Grains/Cereals",
                                    "ProductName": "Gnocchi di nonna Alice",
                                    "TotalQuantity": "5"
                                },
                                {
                                    "CustomerID": "LONEP",
                                    "ContactName": "Fran Wilson",
                                    "CategoryName": "Meat/Poultry",
                                    "ProductName": "Perth Pasties",
                                    "TotalQuantity": "3"
                                },
                                {
                                    "CustomerID": "LONEP",
                                    "ContactName": "Fran Wilson",
                                    "CategoryName": "Produce",
                                    "ProductName": "Manjimup Dried Apples",
                                    "TotalQuantity": "20"
                                },
                                {
                                    "CustomerID": "LONEP",
                                    "ContactName": "Fran Wilson",
                                    "CategoryName": "Seafood",
                                    "ProductName": "Carnarvon Tigers",
                                    "TotalQuantity": "10"
                                },
                                {
                                    "CustomerID": "MAGAA",
                                    "ContactName": "Giovanni Rovelli",
                                    "CategoryName": "Beverages",
                                    "ProductName": "Guaraná Fantástica",
                                    "TotalQuantity": "40"
                                },
                                {
                                    "CustomerID": "MAGAA",
                                    "ContactName": "Giovanni Rovelli",
                                    "CategoryName": "Condiments",
                                    "ProductName": "Louisiana Hot Spiced Okra",
                                    "TotalQuantity": "30"
                                },
                                {
                                    "CustomerID": "MAGAA",
                                    "ContactName": "Giovanni Rovelli",
                                    "CategoryName": "Confections",
                                    "ProductName": "Gumbär Gummibärchen",
                                    "TotalQuantity": "30"
                                },
                                {
                                    "CustomerID": "MAGAA",
                                    "ContactName": "Giovanni Rovelli",
                                    "CategoryName": "Dairy Products",
                                    "ProductName": "Mozzarella di Giovanni",
                                    "TotalQuantity": "30"
                                },
                                {
                                    "CustomerID": "MAGAA",
                                    "ContactName": "Giovanni Rovelli",
                                    "CategoryName": "Grains/Cereals",
                                    "ProductName": "Singaporean Hokkien Fried Mee",
                                    "TotalQuantity": "40"
                                },
                                {
                                    "CustomerID": "MAGAA",
                                    "ContactName": "Giovanni Rovelli",
                                    "CategoryName": "Seafood",
                                    "ProductName": "Inlagd Sill",
                                    "TotalQuantity": "30"
                                },
                                {
                                    "CustomerID": "MAISD",
                                    "ContactName": "Catherine Dewey",
                                    "CategoryName": "Beverages",
                                    "ProductName": "Ipoh Coffee",
                                    "TotalQuantity": "30"
                                },
                                {
                                    "CustomerID": "MAISD",
                                    "ContactName": "Catherine Dewey",
                                    "CategoryName": "Condiments",
                                    "ProductName": "Northwoods Cranberry Sauce",
                                    "TotalQuantity": "20"
                                },
                                {
                                    "CustomerID": "MAISD",
                                    "ContactName": "Catherine Dewey",
                                    "CategoryName": "Confections",
                                    "ProductName": "Schoggi Schokolade",
                                    "TotalQuantity": "40"
                                },
                                {
                                    "CustomerID": "MAISD",
                                    "ContactName": "Catherine Dewey",
                                    "CategoryName": "Dairy Products",
                                    "ProductName": "Raclette Courdavault",
                                    "TotalQuantity": "40"
                                },
                                {
                                    "CustomerID": "MAISD",
                                    "ContactName": "Catherine Dewey",
                                    "CategoryName": "Grains/Cereals",
                                    "ProductName": "Gnocchi di nonna Alice",
                                    "TotalQuantity": "16"
                                },
                                {
                                    "CustomerID": "MAISD",
                                    "ContactName": "Catherine Dewey",
                                    "CategoryName": "Meat/Poultry",
                                    "ProductName": "Pâté chinois",
                                    "TotalQuantity": "14"
                                },
                                {
                                    "CustomerID": "MAISD",
                                    "ContactName": "Catherine Dewey",
                                    "CategoryName": "Produce",
                                    "ProductName": "Rössle Sauerkraut",
                                    "TotalQuantity": "20"
                                },
                                {
                                    "CustomerID": "MAISD",
                                    "ContactName": "Catherine Dewey",
                                    "CategoryName": "Seafood",
                                    "ProductName": "Rogede sild",
                                    "TotalQuantity": "15"
                                },
                                {
                                    "CustomerID": "MEREP",
                                    "ContactName": "Jean Fresnière",
                                    "CategoryName": "Beverages",
                                    "ProductName": "Steeleye Stout",
                                    "TotalQuantity": "60"
                                },
                                {
                                    "CustomerID": "MEREP",
                                    "ContactName": "Jean Fresnière",
                                    "CategoryName": "Condiments",
                                    "ProductName": "Grandma's Boysenberry Spread",
                                    "TotalQuantity": "70"
                                },
                                {
                                    "CustomerID": "MEREP",
                                    "ContactName": "Jean Fresnière",
                                    "CategoryName": "Confections",
                                    "ProductName": "Pavlova",
                                    "TotalQuantity": "46"
                                },
                                {
                                    "CustomerID": "MEREP",
                                    "ContactName": "Jean Fresnière",
                                    "CategoryName": "Dairy Products",
                                    "ProductName": "Camembert Pierrot",
                                    "TotalQuantity": "70"
                                },
                                {
                                    "CustomerID": "MEREP",
                                    "ContactName": "Jean Fresnière",
                                    "CategoryName": "Grains/Cereals",
                                    "ProductName": "Gnocchi di nonna Alice",
                                    "TotalQuantity": "80"
                                },
                                {
                                    "CustomerID": "MEREP",
                                    "ContactName": "Jean Fresnière",
                                    "CategoryName": "Meat/Poultry",
                                    "ProductName": "Alice Mutton",
                                    "TotalQuantity": "70"
                                },
                                {
                                    "CustomerID": "MEREP",
                                    "ContactName": "Jean Fresnière",
                                    "CategoryName": "Produce",
                                    "ProductName": "Longlife Tofu",
                                    "TotalQuantity": "30"
                                },
                                {
                                    "CustomerID": "MEREP",
                                    "ContactName": "Jean Fresnière",
                                    "CategoryName": "Seafood",
                                    "ProductName": "Carnarvon Tigers",
                                    "TotalQuantity": "40"
                                },
                                {
                                    "CustomerID": "MORGK",
                                    "ContactName": "Alexander Feuer",
                                    "CategoryName": "Beverages",
                                    "ProductName": "Lakkalikööri",
                                    "TotalQuantity": "10"
                                },
                                {
                                    "CustomerID": "MORGK",
                                    "ContactName": "Alexander Feuer",
                                    "CategoryName": "Condiments",
                                    "ProductName": "Vegie-spread",
                                    "TotalQuantity": "6"
                                },
                                {
                                    "CustomerID": "MORGK",
                                    "ContactName": "Alexander Feuer",
                                    "CategoryName": "Confections",
                                    "ProductName": "Tarte au sucre",
                                    "TotalQuantity": "32"
                                },
                                {
                                    "CustomerID": "MORGK",
                                    "ContactName": "Alexander Feuer",
                                    "CategoryName": "Dairy Products",
                                    "ProductName": "Mozzarella di Giovanni",
                                    "TotalQuantity": "30"
                                },
                                {
                                    "CustomerID": "MORGK",
                                    "ContactName": "Alexander Feuer",
                                    "CategoryName": "Produce",
                                    "ProductName": "Rössle Sauerkraut",
                                    "TotalQuantity": "20"
                                },
                                {
                                    "CustomerID": "MORGK",
                                    "ContactName": "Alexander Feuer",
                                    "CategoryName": "Seafood",
                                    "ProductName": "Konbu",
                                    "TotalQuantity": "20"
                                },
                                {
                                    "CustomerID": "NORTS",
                                    "ContactName": "Simon Crowther",
                                    "CategoryName": "Beverages",
                                    "ProductName": "Outback Lager",
                                    "TotalQuantity": "9"
                                },
                                {
                                    "CustomerID": "NORTS",
                                    "ContactName": "Simon Crowther",
                                    "CategoryName": "Dairy Products",
                                    "ProductName": "Raclette Courdavault",
                                    "TotalQuantity": "4"
                                },
                                {
                                    "CustomerID": "NORTS",
                                    "ContactName": "Simon Crowther",
                                    "CategoryName": "Grains/Cereals",
                                    "ProductName": "Filo Mix",
                                    "TotalQuantity": "6"
                                },
                                {
                                    "CustomerID": "OCEAN",
                                    "ContactName": "Yvonne Moncada",
                                    "CategoryName": "Beverages",
                                    "ProductName": "Lakkalikööri",
                                    "TotalQuantity": "10"
                                },
                                {
                                    "CustomerID": "OCEAN",
                                    "ContactName": "Yvonne Moncada",
                                    "CategoryName": "Condiments",
                                    "ProductName": "Chef Anton's Gumbo Mix",
                                    "TotalQuantity": "20"
                                },
                                {
                                    "CustomerID": "OCEAN",
                                    "ContactName": "Yvonne Moncada",
                                    "CategoryName": "Confections",
                                    "ProductName": "Sir Rodney's Marmalade",
                                    "TotalQuantity": "15"
                                },
                                {
                                    "CustomerID": "OCEAN",
                                    "ContactName": "Yvonne Moncada",
                                    "CategoryName": "Dairy Products",
                                    "ProductName": "Queso Cabrales",
                                    "TotalQuantity": "30"
                                },
                                {
                                    "CustomerID": "OCEAN",
                                    "ContactName": "Yvonne Moncada",
                                    "CategoryName": "Produce",
                                    "ProductName": "Tofu",
                                    "TotalQuantity": "12"
                                },
                                {
                                    "CustomerID": "OCEAN",
                                    "ContactName": "Yvonne Moncada",
                                    "CategoryName": "Seafood",
                                    "ProductName": "Konbu",
                                    "TotalQuantity": "5"
                                },
                                {
                                    "CustomerID": "OLDWO",
                                    "ContactName": "Rene Phillips",
                                    "CategoryName": "Beverages",
                                    "ProductName": "Lakkalikööri",
                                    "TotalQuantity": "50"
                                },
                                {
                                    "CustomerID": "OLDWO",
                                    "ContactName": "Rene Phillips",
                                    "CategoryName": "Condiments",
                                    "ProductName": "Louisiana Fiery Hot Pepper Sauce",
                                    "TotalQuantity": "15"
                                },
                                {
                                    "CustomerID": "OLDWO",
                                    "ContactName": "Rene Phillips",
                                    "CategoryName": "Confections",
                                    "ProductName": "Pavlova",
                                    "TotalQuantity": "120"
                                },
                                {
                                    "CustomerID": "OLDWO",
                                    "ContactName": "Rene Phillips",
                                    "CategoryName": "Dairy Products",
                                    "ProductName": "Gorgonzola Telino",
                                    "TotalQuantity": "34"
                                },
                                {
                                    "CustomerID": "OLDWO",
                                    "ContactName": "Rene Phillips",
                                    "CategoryName": "Grains/Cereals",
                                    "ProductName": "Gnocchi di nonna Alice",
                                    "TotalQuantity": "44"
                                },
                                {
                                    "CustomerID": "OLDWO",
                                    "ContactName": "Rene Phillips",
                                    "CategoryName": "Meat/Poultry",
                                    "ProductName": "Thüringer Rostbratwurst",
                                    "TotalQuantity": "25"
                                },
                                {
                                    "CustomerID": "OLDWO",
                                    "ContactName": "Rene Phillips",
                                    "CategoryName": "Produce",
                                    "ProductName": "Manjimup Dried Apples",
                                    "TotalQuantity": "16"
                                },
                                {
                                    "CustomerID": "OLDWO",
                                    "ContactName": "Rene Phillips",
                                    "CategoryName": "Seafood",
                                    "ProductName": "Escargots de Bourgogne",
                                    "TotalQuantity": "30"
                                },
                                {
                                    "CustomerID": "OTTIK",
                                    "ContactName": "Henriette Pfalzheim",
                                    "CategoryName": "Beverages",
                                    "ProductName": "Chang",
                                    "TotalQuantity": "40"
                                },
                                {
                                    "CustomerID": "OTTIK",
                                    "ContactName": "Henriette Pfalzheim",
                                    "CategoryName": "Condiments",
                                    "ProductName": "Original Frankfurter grüne Soße",
                                    "TotalQuantity": "31"
                                },
                                {
                                    "CustomerID": "OTTIK",
                                    "ContactName": "Henriette Pfalzheim",
                                    "CategoryName": "Confections",
                                    "ProductName": "Zaanse koeken",
                                    "TotalQuantity": "40"
                                },
                                {
                                    "CustomerID": "OTTIK",
                                    "ContactName": "Henriette Pfalzheim",
                                    "CategoryName": "Dairy Products",
                                    "ProductName": "Queso Cabrales",
                                    "TotalQuantity": "30"
                                },
                                {
                                    "CustomerID": "OTTIK",
                                    "ContactName": "Henriette Pfalzheim",
                                    "CategoryName": "Grains/Cereals",
                                    "ProductName": "Ravioli Angelo",
                                    "TotalQuantity": "50"
                                },
                                {
                                    "CustomerID": "OTTIK",
                                    "ContactName": "Henriette Pfalzheim",
                                    "CategoryName": "Meat/Poultry",
                                    "ProductName": "Perth Pasties",
                                    "TotalQuantity": "9"
                                },
                                {
                                    "CustomerID": "OTTIK",
                                    "ContactName": "Henriette Pfalzheim",
                                    "CategoryName": "Produce",
                                    "ProductName": "Uncle Bob's Organic Dried Pears",
                                    "TotalQuantity": "55"
                                },
                                {
                                    "CustomerID": "OTTIK",
                                    "ContactName": "Henriette Pfalzheim",
                                    "CategoryName": "Seafood",
                                    "ProductName": "Jack's New England Clam Chowder",
                                    "TotalQuantity": "45"
                                },
                                {
                                    "CustomerID": "PERIC",
                                    "ContactName": "Guillermo Fernández",
                                    "CategoryName": "Beverages",
                                    "ProductName": "Laughing Lumberjack Lager",
                                    "TotalQuantity": "30"
                                },
                                {
                                    "CustomerID": "PERIC",
                                    "ContactName": "Guillermo Fernández",
                                    "CategoryName": "Dairy Products",
                                    "ProductName": "Queso Cabrales",
                                    "TotalQuantity": "10"
                                },
                                {
                                    "CustomerID": "PERIC",
                                    "ContactName": "Guillermo Fernández",
                                    "CategoryName": "Grains/Cereals",
                                    "ProductName": "Filo Mix",
                                    "TotalQuantity": "20"
                                },
                                {
                                    "CustomerID": "PERIC",
                                    "ContactName": "Guillermo Fernández",
                                    "CategoryName": "Meat/Poultry",
                                    "ProductName": "Perth Pasties",
                                    "TotalQuantity": "6"
                                },
                                {
                                    "CustomerID": "PERIC",
                                    "ContactName": "Guillermo Fernández",
                                    "CategoryName": "Produce",
                                    "ProductName": "Manjimup Dried Apples",
                                    "TotalQuantity": "20"
                                },
                                {
                                    "CustomerID": "PERIC",
                                    "ContactName": "Guillermo Fernández",
                                    "CategoryName": "Seafood",
                                    "ProductName": "Rogede sild",
                                    "TotalQuantity": "21"
                                },
                                {
                                    "CustomerID": "PICCO",
                                    "ContactName": "Georg Pipps",
                                    "CategoryName": "Beverages",
                                    "ProductName": "Côte de Blaye",
                                    "TotalQuantity": "50"
                                },
                                {
                                    "CustomerID": "PICCO",
                                    "ContactName": "Georg Pipps",
                                    "CategoryName": "Condiments",
                                    "ProductName": "Sirop d'érable",
                                    "TotalQuantity": "20"
                                },
                                {
                                    "CustomerID": "PICCO",
                                    "ContactName": "Georg Pipps",
                                    "CategoryName": "Confections",
                                    "ProductName": "Pavlova",
                                    "TotalQuantity": "18"
                                },
                                {
                                    "CustomerID": "PICCO",
                                    "ContactName": "Georg Pipps",
                                    "CategoryName": "Dairy Products",
                                    "ProductName": "Gudbrandsdalsost",
                                    "TotalQuantity": "80"
                                },
                                {
                                    "CustomerID": "PICCO",
                                    "ContactName": "Georg Pipps",
                                    "CategoryName": "Grains/Cereals",
                                    "ProductName": "Gustaf's Knäckebröd",
                                    "TotalQuantity": "35"
                                },
                                {
                                    "CustomerID": "PICCO",
                                    "ContactName": "Georg Pipps",
                                    "CategoryName": "Meat/Poultry",
                                    "ProductName": "Alice Mutton",
                                    "TotalQuantity": "70"
                                },
                                {
                                    "CustomerID": "PICCO",
                                    "ContactName": "Georg Pipps",
                                    "CategoryName": "Produce",
                                    "ProductName": "Tofu",
                                    "TotalQuantity": "35"
                                },
                                {
                                    "CustomerID": "PICCO",
                                    "ContactName": "Georg Pipps",
                                    "CategoryName": "Seafood",
                                    "ProductName": "Carnarvon Tigers",
                                    "TotalQuantity": "35"
                                },
                                {
                                    "CustomerID": "PRINI",
                                    "ContactName": "Isabel de Castro",
                                    "CategoryName": "Beverages",
                                    "ProductName": "Chartreuse verte",
                                    "TotalQuantity": "20"
                                },
                                {
                                    "CustomerID": "PRINI",
                                    "ContactName": "Isabel de Castro",
                                    "CategoryName": "Condiments",
                                    "ProductName": "Northwoods Cranberry Sauce",
                                    "TotalQuantity": "30"
                                },
                                {
                                    "CustomerID": "PRINI",
                                    "ContactName": "Isabel de Castro",
                                    "CategoryName": "Confections",
                                    "ProductName": "Sir Rodney's Scones",
                                    "TotalQuantity": "31"
                                },
                                {
                                    "CustomerID": "PRINI",
                                    "ContactName": "Isabel de Castro",
                                    "CategoryName": "Grains/Cereals",
                                    "ProductName": "Gnocchi di nonna Alice",
                                    "TotalQuantity": "28"
                                },
                                {
                                    "CustomerID": "PRINI",
                                    "ContactName": "Isabel de Castro",
                                    "CategoryName": "Meat/Poultry",
                                    "ProductName": "Thüringer Rostbratwurst",
                                    "TotalQuantity": "10"
                                },
                                {
                                    "CustomerID": "PRINI",
                                    "ContactName": "Isabel de Castro",
                                    "CategoryName": "Produce",
                                    "ProductName": "Manjimup Dried Apples",
                                    "TotalQuantity": "18"
                                },
                                {
                                    "CustomerID": "QUEDE",
                                    "ContactName": "Bernardo Batista",
                                    "CategoryName": "Beverages",
                                    "ProductName": "Steeleye Stout",
                                    "TotalQuantity": "61"
                                },
                                {
                                    "CustomerID": "QUEDE",
                                    "ContactName": "Bernardo Batista",
                                    "CategoryName": "Condiments",
                                    "ProductName": "Grandma's Boysenberry Spread",
                                    "TotalQuantity": "40"
                                },
                                {
                                    "CustomerID": "QUEDE",
                                    "ContactName": "Bernardo Batista",
                                    "CategoryName": "Confections",
                                    "ProductName": "Gumbär Gummibärchen",
                                    "TotalQuantity": "36"
                                },
                                {
                                    "CustomerID": "QUEDE",
                                    "ContactName": "Bernardo Batista",
                                    "CategoryName": "Dairy Products",
                                    "ProductName": "Queso Cabrales",
                                    "TotalQuantity": "15"
                                },
                                {
                                    "CustomerID": "QUEDE",
                                    "ContactName": "Bernardo Batista",
                                    "CategoryName": "Meat/Poultry",
                                    "ProductName": "Perth Pasties",
                                    "TotalQuantity": "15"
                                },
                                {
                                    "CustomerID": "QUEDE",
                                    "ContactName": "Bernardo Batista",
                                    "CategoryName": "Produce",
                                    "ProductName": "Tofu",
                                    "TotalQuantity": "15"
                                },
                                {
                                    "CustomerID": "QUEDE",
                                    "ContactName": "Bernardo Batista",
                                    "CategoryName": "Seafood",
                                    "ProductName": "Konbu",
                                    "TotalQuantity": "20"
                                },
                                {
                                    "CustomerID": "QUEEN",
                                    "ContactName": "Lúcia Carvalho",
                                    "CategoryName": "Beverages",
                                    "ProductName": "Lakkalikööri",
                                    "TotalQuantity": "60"
                                },
                                {
                                    "CustomerID": "QUEEN",
                                    "ContactName": "Lúcia Carvalho",
                                    "CategoryName": "Condiments",
                                    "ProductName": "Chef Anton's Cajun Seasoning",
                                    "TotalQuantity": "36"
                                },
                                {
                                    "CustomerID": "QUEEN",
                                    "ContactName": "Lúcia Carvalho",
                                    "CategoryName": "Confections",
                                    "ProductName": "Gumbär Gummibärchen",
                                    "TotalQuantity": "50"
                                },
                                {
                                    "CustomerID": "QUEEN",
                                    "ContactName": "Lúcia Carvalho",
                                    "CategoryName": "Dairy Products",
                                    "ProductName": "Camembert Pierrot",
                                    "TotalQuantity": "85"
                                },
                                {
                                    "CustomerID": "QUEEN",
                                    "ContactName": "Lúcia Carvalho",
                                    "CategoryName": "Grains/Cereals",
                                    "ProductName": "Gnocchi di nonna Alice",
                                    "TotalQuantity": "60"
                                },
                                {
                                    "CustomerID": "QUEEN",
                                    "ContactName": "Lúcia Carvalho",
                                    "CategoryName": "Meat/Poultry",
                                    "ProductName": "Tourtière",
                                    "TotalQuantity": "24"
                                },
                                {
                                    "CustomerID": "QUEEN",
                                    "ContactName": "Lúcia Carvalho",
                                    "CategoryName": "Produce",
                                    "ProductName": "Rössle Sauerkraut",
                                    "TotalQuantity": "50"
                                },
                                {
                                    "CustomerID": "QUEEN",
                                    "ContactName": "Lúcia Carvalho",
                                    "CategoryName": "Seafood",
                                    "ProductName": "Boston Crab Meat",
                                    "TotalQuantity": "32"
                                },
                                {
                                    "CustomerID": "QUICK",
                                    "ContactName": "Horst Kloss",
                                    "CategoryName": "Beverages",
                                    "ProductName": "Lakkalikööri",
                                    "TotalQuantity": "167"
                                },
                                {
                                    "CustomerID": "QUICK",
                                    "ContactName": "Horst Kloss",
                                    "CategoryName": "Condiments",
                                    "ProductName": "Original Frankfurter grüne Soße",
                                    "TotalQuantity": "125"
                                },
                                {
                                    "CustomerID": "QUICK",
                                    "ContactName": "Horst Kloss",
                                    "CategoryName": "Confections",
                                    "ProductName": "Teatime Chocolate Biscuits",
                                    "TotalQuantity": "130"
                                },
                                {
                                    "CustomerID": "QUICK",
                                    "ContactName": "Horst Kloss",
                                    "CategoryName": "Dairy Products",
                                    "ProductName": "Camembert Pierrot",
                                    "TotalQuantity": "243"
                                },
                                {
                                    "CustomerID": "QUICK",
                                    "ContactName": "Horst Kloss",
                                    "CategoryName": "Grains/Cereals",
                                    "ProductName": "Singaporean Hokkien Fried Mee",
                                    "TotalQuantity": "191"
                                },
                                {
                                    "CustomerID": "QUICK",
                                    "ContactName": "Horst Kloss",
                                    "CategoryName": "Meat/Poultry",
                                    "ProductName": "Pâté chinois",
                                    "TotalQuantity": "120"
                                },
                                {
                                    "CustomerID": "QUICK",
                                    "ContactName": "Horst Kloss",
                                    "CategoryName": "Produce",
                                    "ProductName": "Uncle Bob's Organic Dried Pears",
                                    "TotalQuantity": "135"
                                },
                                {
                                    "CustomerID": "QUICK",
                                    "ContactName": "Horst Kloss",
                                    "CategoryName": "Seafood",
                                    "ProductName": "Boston Crab Meat",
                                    "TotalQuantity": "170"
                                },
                                {
                                    "CustomerID": "RANCH",
                                    "ContactName": "Sergio Gutiérrez",
                                    "CategoryName": "Beverages",
                                    "ProductName": "Côte de Blaye",
                                    "TotalQuantity": "2"
                                },
                                {
                                    "CustomerID": "RANCH",
                                    "ContactName": "Sergio Gutiérrez",
                                    "CategoryName": "Condiments",
                                    "ProductName": "Sirop d'érable",
                                    "TotalQuantity": "10"
                                },
                                {
                                    "CustomerID": "RANCH",
                                    "ContactName": "Sergio Gutiérrez",
                                    "CategoryName": "Confections",
                                    "ProductName": "Pavlova",
                                    "TotalQuantity": "6"
                                },
                                {
                                    "CustomerID": "RANCH",
                                    "ContactName": "Sergio Gutiérrez",
                                    "CategoryName": "Dairy Products",
                                    "ProductName": "Mascarpone Fabioli",
                                    "TotalQuantity": "6"
                                },
                                {
                                    "CustomerID": "RANCH",
                                    "ContactName": "Sergio Gutiérrez",
                                    "CategoryName": "Grains/Cereals",
                                    "ProductName": "Ravioli Angelo",
                                    "TotalQuantity": "20"
                                },
                                {
                                    "CustomerID": "RANCH",
                                    "ContactName": "Sergio Gutiérrez",
                                    "CategoryName": "Produce",
                                    "ProductName": "Manjimup Dried Apples",
                                    "TotalQuantity": "7"
                                },
                                {
                                    "CustomerID": "RANCH",
                                    "ContactName": "Sergio Gutiérrez",
                                    "CategoryName": "Seafood",
                                    "ProductName": "Boston Crab Meat",
                                    "TotalQuantity": "20"
                                },
                                {
                                    "CustomerID": "RATTC",
                                    "ContactName": "Paula Wilson",
                                    "CategoryName": "Beverages",
                                    "ProductName": "Côte de Blaye",
                                    "TotalQuantity": "70"
                                },
                                {
                                    "CustomerID": "RATTC",
                                    "ContactName": "Paula Wilson",
                                    "CategoryName": "Condiments",
                                    "ProductName": "Original Frankfurter grüne Soße",
                                    "TotalQuantity": "32"
                                },
                                {
                                    "CustomerID": "RATTC",
                                    "ContactName": "Paula Wilson",
                                    "CategoryName": "Confections",
                                    "ProductName": "Tarte au sucre",
                                    "TotalQuantity": "185"
                                },
                                {
                                    "CustomerID": "RATTC",
                                    "ContactName": "Paula Wilson",
                                    "CategoryName": "Dairy Products",
                                    "ProductName": "Gorgonzola Telino",
                                    "TotalQuantity": "81"
                                },
                                {
                                    "CustomerID": "RATTC",
                                    "ContactName": "Paula Wilson",
                                    "CategoryName": "Grains/Cereals",
                                    "ProductName": "Gnocchi di nonna Alice",
                                    "TotalQuantity": "122"
                                },
                                {
                                    "CustomerID": "RATTC",
                                    "ContactName": "Paula Wilson",
                                    "CategoryName": "Meat/Poultry",
                                    "ProductName": "Alice Mutton",
                                    "TotalQuantity": "73"
                                },
                                {
                                    "CustomerID": "RATTC",
                                    "ContactName": "Paula Wilson",
                                    "CategoryName": "Produce",
                                    "ProductName": "Uncle Bob's Organic Dried Pears",
                                    "TotalQuantity": "76"
                                },
                                {
                                    "CustomerID": "RATTC",
                                    "ContactName": "Paula Wilson",
                                    "CategoryName": "Seafood",
                                    "ProductName": "Escargots de Bourgogne",
                                    "TotalQuantity": "30"
                                },
                                {
                                    "CustomerID": "REGGC",
                                    "ContactName": "Maurizio Moroni",
                                    "CategoryName": "Beverages",
                                    "ProductName": "Outback Lager",
                                    "TotalQuantity": "12"
                                },
                                {
                                    "CustomerID": "REGGC",
                                    "ContactName": "Maurizio Moroni",
                                    "CategoryName": "Condiments",
                                    "ProductName": "Original Frankfurter grüne Soße",
                                    "TotalQuantity": "20"
                                },
                                {
                                    "CustomerID": "REGGC",
                                    "ContactName": "Maurizio Moroni",
                                    "CategoryName": "Confections",
                                    "ProductName": "Maxilaku",
                                    "TotalQuantity": "28"
                                },
                                {
                                    "CustomerID": "REGGC",
                                    "ContactName": "Maurizio Moroni",
                                    "CategoryName": "Dairy Products",
                                    "ProductName": "Mozzarella di Giovanni",
                                    "TotalQuantity": "40"
                                },
                                {
                                    "CustomerID": "REGGC",
                                    "ContactName": "Maurizio Moroni",
                                    "CategoryName": "Grains/Cereals",
                                    "ProductName": "Filo Mix",
                                    "TotalQuantity": "18"
                                },
                                {
                                    "CustomerID": "REGGC",
                                    "ContactName": "Maurizio Moroni",
                                    "CategoryName": "Meat/Poultry",
                                    "ProductName": "Alice Mutton",
                                    "TotalQuantity": "20"
                                },
                                {
                                    "CustomerID": "REGGC",
                                    "ContactName": "Maurizio Moroni",
                                    "CategoryName": "Produce",
                                    "ProductName": "Uncle Bob's Organic Dried Pears",
                                    "TotalQuantity": "40"
                                },
                                {
                                    "CustomerID": "REGGC",
                                    "ContactName": "Maurizio Moroni",
                                    "CategoryName": "Seafood",
                                    "ProductName": "Spegesild",
                                    "TotalQuantity": "20"
                                },
                                {
                                    "CustomerID": "RICAR",
                                    "ContactName": "Janete Limeira",
                                    "CategoryName": "Beverages",
                                    "ProductName": "Chang",
                                    "TotalQuantity": "37"
                                },
                                {
                                    "CustomerID": "RICAR",
                                    "ContactName": "Janete Limeira",
                                    "CategoryName": "Condiments",
                                    "ProductName": "Louisiana Fiery Hot Pepper Sauce",
                                    "TotalQuantity": "35"
                                },
                                {
                                    "CustomerID": "RICAR",
                                    "ContactName": "Janete Limeira",
                                    "CategoryName": "Confections",
                                    "ProductName": "Pavlova",
                                    "TotalQuantity": "70"
                                },
                                {
                                    "CustomerID": "RICAR",
                                    "ContactName": "Janete Limeira",
                                    "CategoryName": "Dairy Products",
                                    "ProductName": "Camembert Pierrot",
                                    "TotalQuantity": "75"
                                },
                                {
                                    "CustomerID": "RICAR",
                                    "ContactName": "Janete Limeira",
                                    "CategoryName": "Grains/Cereals",
                                    "ProductName": "Filo Mix",
                                    "TotalQuantity": "70"
                                },
                                {
                                    "CustomerID": "RICAR",
                                    "ContactName": "Janete Limeira",
                                    "CategoryName": "Meat/Poultry",
                                    "ProductName": "Alice Mutton",
                                    "TotalQuantity": "12"
                                },
                                {
                                    "CustomerID": "RICAR",
                                    "ContactName": "Janete Limeira",
                                    "CategoryName": "Seafood",
                                    "ProductName": "Spegesild",
                                    "TotalQuantity": "50"
                                },
                                {
                                    "CustomerID": "RICSU",
                                    "ContactName": "Michael Holz",
                                    "CategoryName": "Beverages",
                                    "ProductName": "Rhönbräu Klosterbier",
                                    "TotalQuantity": "50"
                                },
                                {
                                    "CustomerID": "RICSU",
                                    "ContactName": "Michael Holz",
                                    "CategoryName": "Condiments",
                                    "ProductName": "Louisiana Fiery Hot Pepper Sauce",
                                    "TotalQuantity": "10"
                                },
                                {
                                    "CustomerID": "RICSU",
                                    "ContactName": "Michael Holz",
                                    "CategoryName": "Confections",
                                    "ProductName": "Pavlova",
                                    "TotalQuantity": "35"
                                },
                                {
                                    "CustomerID": "RICSU",
                                    "ContactName": "Michael Holz",
                                    "CategoryName": "Dairy Products",
                                    "ProductName": "Camembert Pierrot",
                                    "TotalQuantity": "60"
                                },
                                {
                                    "CustomerID": "RICSU",
                                    "ContactName": "Michael Holz",
                                    "CategoryName": "Grains/Cereals",
                                    "ProductName": "Filo Mix",
                                    "TotalQuantity": "60"
                                },
                                {
                                    "CustomerID": "RICSU",
                                    "ContactName": "Michael Holz",
                                    "CategoryName": "Meat/Poultry",
                                    "ProductName": "Perth Pasties",
                                    "TotalQuantity": "70"
                                },
                                {
                                    "CustomerID": "RICSU",
                                    "ContactName": "Michael Holz",
                                    "CategoryName": "Produce",
                                    "ProductName": "Manjimup Dried Apples",
                                    "TotalQuantity": "6"
                                },
                                {
                                    "CustomerID": "RICSU",
                                    "ContactName": "Michael Holz",
                                    "CategoryName": "Seafood",
                                    "ProductName": "Konbu",
                                    "TotalQuantity": "42"
                                },
                                {
                                    "CustomerID": "ROMEY",
                                    "ContactName": "Alejandra Camino",
                                    "CategoryName": "Beverages",
                                    "ProductName": "Guaraná Fantástica",
                                    "TotalQuantity": "6"
                                },
                                {
                                    "CustomerID": "ROMEY",
                                    "ContactName": "Alejandra Camino",
                                    "CategoryName": "Confections",
                                    "ProductName": "Scottish Longbreads",
                                    "TotalQuantity": "2"
                                },
                                {
                                    "CustomerID": "ROMEY",
                                    "ContactName": "Alejandra Camino",
                                    "CategoryName": "Dairy Products",
                                    "ProductName": "Camembert Pierrot",
                                    "TotalQuantity": "10"
                                },
                                {
                                    "CustomerID": "ROMEY",
                                    "ContactName": "Alejandra Camino",
                                    "CategoryName": "Grains/Cereals",
                                    "ProductName": "Tunnbröd",
                                    "TotalQuantity": "10"
                                },
                                {
                                    "CustomerID": "ROMEY",
                                    "ContactName": "Alejandra Camino",
                                    "CategoryName": "Meat/Poultry",
                                    "ProductName": "Perth Pasties",
                                    "TotalQuantity": "10"
                                },
                                {
                                    "CustomerID": "ROMEY",
                                    "ContactName": "Alejandra Camino",
                                    "CategoryName": "Seafood",
                                    "ProductName": "Rogede sild",
                                    "TotalQuantity": "20"
                                },
                                {
                                    "CustomerID": "SANTG",
                                    "ContactName": "Jonas Bergulfsen",
                                    "CategoryName": "Beverages",
                                    "ProductName": "Guaraná Fantástica",
                                    "TotalQuantity": "23"
                                },
                                {
                                    "CustomerID": "SANTG",
                                    "ContactName": "Jonas Bergulfsen",
                                    "CategoryName": "Condiments",
                                    "ProductName": "Original Frankfurter grüne Soße",
                                    "TotalQuantity": "18"
                                },
                                {
                                    "CustomerID": "SANTG",
                                    "ContactName": "Jonas Bergulfsen",
                                    "CategoryName": "Confections",
                                    "ProductName": "Pavlova",
                                    "TotalQuantity": "15"
                                },
                                {
                                    "CustomerID": "SANTG",
                                    "ContactName": "Jonas Bergulfsen",
                                    "CategoryName": "Dairy Products",
                                    "ProductName": "Flotemysost",
                                    "TotalQuantity": "15"
                                },
                                {
                                    "CustomerID": "SANTG",
                                    "ContactName": "Jonas Bergulfsen",
                                    "CategoryName": "Meat/Poultry",
                                    "ProductName": "Perth Pasties",
                                    "TotalQuantity": "5"
                                },
                                {
                                    "CustomerID": "SANTG",
                                    "ContactName": "Jonas Bergulfsen",
                                    "CategoryName": "Produce",
                                    "ProductName": "Uncle Bob's Organic Dried Pears",
                                    "TotalQuantity": "12"
                                },
                                {
                                    "CustomerID": "SANTG",
                                    "ContactName": "Jonas Bergulfsen",
                                    "CategoryName": "Seafood",
                                    "ProductName": "Nord-Ost Matjeshering",
                                    "TotalQuantity": "15"
                                },
                                {
                                    "CustomerID": "SAVEA",
                                    "ContactName": "Jose Pavarotti",
                                    "CategoryName": "Beverages",
                                    "ProductName": "Chang",
                                    "TotalQuantity": "203"
                                },
                                {
                                    "CustomerID": "SAVEA",
                                    "ContactName": "Jose Pavarotti",
                                    "CategoryName": "Condiments",
                                    "ProductName": "Gula Malacca",
                                    "TotalQuantity": "100"
                                },
                                {
                                    "CustomerID": "SAVEA",
                                    "ContactName": "Jose Pavarotti",
                                    "CategoryName": "Confections",
                                    "ProductName": "Scottish Longbreads",
                                    "TotalQuantity": "220"
                                },
                                {
                                    "CustomerID": "SAVEA",
                                    "ContactName": "Jose Pavarotti",
                                    "CategoryName": "Dairy Products",
                                    "ProductName": "Raclette Courdavault",
                                    "TotalQuantity": "147"
                                },
                                {
                                    "CustomerID": "SAVEA",
                                    "ContactName": "Jose Pavarotti",
                                    "CategoryName": "Grains/Cereals",
                                    "ProductName": "Gnocchi di nonna Alice",
                                    "TotalQuantity": "131"
                                },
                                {
                                    "CustomerID": "SAVEA",
                                    "ContactName": "Jose Pavarotti",
                                    "CategoryName": "Meat/Poultry",
                                    "ProductName": "Alice Mutton",
                                    "TotalQuantity": "204"
                                },
                                {
                                    "CustomerID": "SAVEA",
                                    "ContactName": "Jose Pavarotti",
                                    "CategoryName": "Produce",
                                    "ProductName": "Tofu",
                                    "TotalQuantity": "72"
                                },
                                {
                                    "CustomerID": "SAVEA",
                                    "ContactName": "Jose Pavarotti",
                                    "CategoryName": "Seafood",
                                    "ProductName": "Konbu",
                                    "TotalQuantity": "248"
                                },
                                {
                                    "CustomerID": "SEVES",
                                    "ContactName": "Hari Kumar",
                                    "CategoryName": "Beverages",
                                    "ProductName": "Guaraná Fantástica",
                                    "TotalQuantity": "80"
                                },
                                {
                                    "CustomerID": "SEVES",
                                    "ContactName": "Hari Kumar",
                                    "CategoryName": "Confections",
                                    "ProductName": "Pavlova",
                                    "TotalQuantity": "56"
                                },
                                {
                                    "CustomerID": "SEVES",
                                    "ContactName": "Hari Kumar",
                                    "CategoryName": "Dairy Products",
                                    "ProductName": "Camembert Pierrot",
                                    "TotalQuantity": "80"
                                },
                                {
                                    "CustomerID": "SEVES",
                                    "ContactName": "Hari Kumar",
                                    "CategoryName": "Grains/Cereals",
                                    "ProductName": "Tunnbröd",
                                    "TotalQuantity": "50"
                                },
                                {
                                    "CustomerID": "SEVES",
                                    "ContactName": "Hari Kumar",
                                    "CategoryName": "Meat/Poultry",
                                    "ProductName": "Perth Pasties",
                                    "TotalQuantity": "40"
                                },
                                {
                                    "CustomerID": "SEVES",
                                    "ContactName": "Hari Kumar",
                                    "CategoryName": "Produce",
                                    "ProductName": "Rössle Sauerkraut",
                                    "TotalQuantity": "44"
                                },
                                {
                                    "CustomerID": "SEVES",
                                    "ContactName": "Hari Kumar",
                                    "CategoryName": "Seafood",
                                    "ProductName": "Inlagd Sill",
                                    "TotalQuantity": "60"
                                },
                                {
                                    "CustomerID": "SIMOB",
                                    "ContactName": "Jytte Petersen",
                                    "CategoryName": "Beverages",
                                    "ProductName": "Côte de Blaye",
                                    "TotalQuantity": "50"
                                },
                                {
                                    "CustomerID": "SIMOB",
                                    "ContactName": "Jytte Petersen",
                                    "CategoryName": "Condiments",
                                    "ProductName": "Original Frankfurter grüne Soße",
                                    "TotalQuantity": "35"
                                },
                                {
                                    "CustomerID": "SIMOB",
                                    "ContactName": "Jytte Petersen",
                                    "CategoryName": "Confections",
                                    "ProductName": "Scottish Longbreads",
                                    "TotalQuantity": "36"
                                },
                                {
                                    "CustomerID": "SIMOB",
                                    "ContactName": "Jytte Petersen",
                                    "CategoryName": "Dairy Products",
                                    "ProductName": "Mozzarella di Giovanni",
                                    "TotalQuantity": "24"
                                },
                                {
                                    "CustomerID": "SIMOB",
                                    "ContactName": "Jytte Petersen",
                                    "CategoryName": "Meat/Poultry",
                                    "ProductName": "Pâté chinois",
                                    "TotalQuantity": "60"
                                },
                                {
                                    "CustomerID": "SIMOB",
                                    "ContactName": "Jytte Petersen",
                                    "CategoryName": "Produce",
                                    "ProductName": "Manjimup Dried Apples",
                                    "TotalQuantity": "30"
                                },
                                {
                                    "CustomerID": "SIMOB",
                                    "ContactName": "Jytte Petersen",
                                    "CategoryName": "Seafood",
                                    "ProductName": "Inlagd Sill",
                                    "TotalQuantity": "30"
                                },
                                {
                                    "CustomerID": "SPECD",
                                    "ContactName": "Dominique Perrier",
                                    "CategoryName": "Beverages",
                                    "ProductName": "Rhönbräu Klosterbier",
                                    "TotalQuantity": "14"
                                },
                                {
                                    "CustomerID": "SPECD",
                                    "ContactName": "Dominique Perrier",
                                    "CategoryName": "Confections",
                                    "ProductName": "Pavlova",
                                    "TotalQuantity": "3"
                                },
                                {
                                    "CustomerID": "SPECD",
                                    "ContactName": "Dominique Perrier",
                                    "CategoryName": "Dairy Products",
                                    "ProductName": "Queso Cabrales",
                                    "TotalQuantity": "10"
                                },
                                {
                                    "CustomerID": "SPECD",
                                    "ContactName": "Dominique Perrier",
                                    "CategoryName": "Seafood",
                                    "ProductName": "Carnarvon Tigers",
                                    "TotalQuantity": "6"
                                },
                                {
                                    "CustomerID": "SPLIR",
                                    "ContactName": "Art Braunschweiger",
                                    "CategoryName": "Beverages",
                                    "ProductName": "Steeleye Stout",
                                    "TotalQuantity": "20"
                                },
                                {
                                    "CustomerID": "SPLIR",
                                    "ContactName": "Art Braunschweiger",
                                    "CategoryName": "Condiments",
                                    "ProductName": "Vegie-spread",
                                    "TotalQuantity": "10"
                                },
                                {
                                    "CustomerID": "SPLIR",
                                    "ContactName": "Art Braunschweiger",
                                    "CategoryName": "Confections",
                                    "ProductName": "Scottish Longbreads",
                                    "TotalQuantity": "14"
                                },
                                {
                                    "CustomerID": "SPLIR",
                                    "ContactName": "Art Braunschweiger",
                                    "CategoryName": "Dairy Products",
                                    "ProductName": "Geitost",
                                    "TotalQuantity": "24"
                                },
                                {
                                    "CustomerID": "SPLIR",
                                    "ContactName": "Art Braunschweiger",
                                    "CategoryName": "Grains/Cereals",
                                    "ProductName": "Gnocchi di nonna Alice",
                                    "TotalQuantity": "30"
                                },
                                {
                                    "CustomerID": "SPLIR",
                                    "ContactName": "Art Braunschweiger",
                                    "CategoryName": "Meat/Poultry",
                                    "ProductName": "Tourtière",
                                    "TotalQuantity": "64"
                                },
                                {
                                    "CustomerID": "SPLIR",
                                    "ContactName": "Art Braunschweiger",
                                    "CategoryName": "Produce",
                                    "ProductName": "Uncle Bob's Organic Dried Pears",
                                    "TotalQuantity": "10"
                                },
                                {
                                    "CustomerID": "SPLIR",
                                    "ContactName": "Art Braunschweiger",
                                    "CategoryName": "Seafood",
                                    "ProductName": "Carnarvon Tigers",
                                    "TotalQuantity": "21"
                                },
                                {
                                    "CustomerID": "SUPRD",
                                    "ContactName": "Pascale Cartrain",
                                    "CategoryName": "Beverages",
                                    "ProductName": "Steeleye Stout",
                                    "TotalQuantity": "60"
                                },
                                {
                                    "CustomerID": "SUPRD",
                                    "ContactName": "Pascale Cartrain",
                                    "CategoryName": "Condiments",
                                    "ProductName": "Louisiana Hot Spiced Okra",
                                    "TotalQuantity": "60"
                                },
                                {
                                    "CustomerID": "SUPRD",
                                    "ContactName": "Pascale Cartrain",
                                    "CategoryName": "Confections",
                                    "ProductName": "Sir Rodney's Marmalade",
                                    "TotalQuantity": "40"
                                },
                                {
                                    "CustomerID": "SUPRD",
                                    "ContactName": "Pascale Cartrain",
                                    "CategoryName": "Dairy Products",
                                    "ProductName": "Flotemysost",
                                    "TotalQuantity": "80"
                                },
                                {
                                    "CustomerID": "SUPRD",
                                    "ContactName": "Pascale Cartrain",
                                    "CategoryName": "Grains/Cereals",
                                    "ProductName": "Singaporean Hokkien Fried Mee",
                                    "TotalQuantity": "82"
                                },
                                {
                                    "CustomerID": "SUPRD",
                                    "ContactName": "Pascale Cartrain",
                                    "CategoryName": "Meat/Poultry",
                                    "ProductName": "Alice Mutton",
                                    "TotalQuantity": "40"
                                },
                                {
                                    "CustomerID": "SUPRD",
                                    "ContactName": "Pascale Cartrain",
                                    "CategoryName": "Produce",
                                    "ProductName": "Rössle Sauerkraut",
                                    "TotalQuantity": "58"
                                },
                                {
                                    "CustomerID": "SUPRD",
                                    "ContactName": "Pascale Cartrain",
                                    "CategoryName": "Seafood",
                                    "ProductName": "Escargots de Bourgogne",
                                    "TotalQuantity": "30"
                                },
                                {
                                    "CustomerID": "THEBI",
                                    "ContactName": "Liz Nixon",
                                    "CategoryName": "Beverages",
                                    "ProductName": "Côte de Blaye",
                                    "TotalQuantity": "10"
                                },
                                {
                                    "CustomerID": "THEBI",
                                    "ContactName": "Liz Nixon",
                                    "CategoryName": "Condiments",
                                    "ProductName": "Chef Anton's Gumbo Mix",
                                    "TotalQuantity": "4"
                                },
                                {
                                    "CustomerID": "THEBI",
                                    "ContactName": "Liz Nixon",
                                    "CategoryName": "Confections",
                                    "ProductName": "Pavlova",
                                    "TotalQuantity": "10"
                                },
                                {
                                    "CustomerID": "THEBI",
                                    "ContactName": "Liz Nixon",
                                    "CategoryName": "Dairy Products",
                                    "ProductName": "Mozzarella di Giovanni",
                                    "TotalQuantity": "2"
                                },
                                {
                                    "CustomerID": "THEBI",
                                    "ContactName": "Liz Nixon",
                                    "CategoryName": "Seafood",
                                    "ProductName": "Inlagd Sill",
                                    "TotalQuantity": "5"
                                },
                                {
                                    "CustomerID": "THECR",
                                    "ContactName": "Liu Wong",
                                    "CategoryName": "Beverages",
                                    "ProductName": "Chai",
                                    "TotalQuantity": "4"
                                },
                                {
                                    "CustomerID": "THECR",
                                    "ContactName": "Liu Wong",
                                    "CategoryName": "Condiments",
                                    "ProductName": "Gula Malacca",
                                    "TotalQuantity": "10"
                                },
                                {
                                    "CustomerID": "THECR",
                                    "ContactName": "Liu Wong",
                                    "CategoryName": "Grains/Cereals",
                                    "ProductName": "Filo Mix",
                                    "TotalQuantity": "10"
                                },
                                {
                                    "CustomerID": "THECR",
                                    "ContactName": "Liu Wong",
                                    "CategoryName": "Meat/Poultry",
                                    "ProductName": "Thüringer Rostbratwurst",
                                    "TotalQuantity": "6"
                                },
                                {
                                    "CustomerID": "THECR",
                                    "ContactName": "Liu Wong",
                                    "CategoryName": "Produce",
                                    "ProductName": "Rössle Sauerkraut",
                                    "TotalQuantity": "10"
                                },
                                {
                                    "CustomerID": "THECR",
                                    "ContactName": "Liu Wong",
                                    "CategoryName": "Seafood",
                                    "ProductName": "Boston Crab Meat",
                                    "TotalQuantity": "10"
                                },
                                {
                                    "CustomerID": "TOMSP",
                                    "ContactName": "Karin Josephs",
                                    "CategoryName": "Beverages",
                                    "ProductName": "Sasquatch Ale",
                                    "TotalQuantity": "30"
                                },
                                {
                                    "CustomerID": "TOMSP",
                                    "ContactName": "Karin Josephs",
                                    "CategoryName": "Confections",
                                    "ProductName": "Maxilaku",
                                    "TotalQuantity": "40"
                                },
                                {
                                    "CustomerID": "TOMSP",
                                    "ContactName": "Karin Josephs",
                                    "CategoryName": "Dairy Products",
                                    "ProductName": "Gorgonzola Telino",
                                    "TotalQuantity": "3"
                                },
                                {
                                    "CustomerID": "TOMSP",
                                    "ContactName": "Karin Josephs",
                                    "CategoryName": "Grains/Cereals",
                                    "ProductName": "Gnocchi di nonna Alice",
                                    "TotalQuantity": "28"
                                },
                                {
                                    "CustomerID": "TOMSP",
                                    "ContactName": "Karin Josephs",
                                    "CategoryName": "Produce",
                                    "ProductName": "Manjimup Dried Apples",
                                    "TotalQuantity": "40"
                                },
                                {
                                    "CustomerID": "TOMSP",
                                    "ContactName": "Karin Josephs",
                                    "CategoryName": "Seafood",
                                    "ProductName": "Jack's New England Clam Chowder",
                                    "TotalQuantity": "14"
                                },
                                {
                                    "CustomerID": "TORTU",
                                    "ContactName": "Miguel Angel Paolino",
                                    "CategoryName": "Beverages",
                                    "ProductName": "Lakkalikööri",
                                    "TotalQuantity": "30"
                                },
                                {
                                    "CustomerID": "TORTU",
                                    "ContactName": "Miguel Angel Paolino",
                                    "CategoryName": "Condiments",
                                    "ProductName": "Gula Malacca",
                                    "TotalQuantity": "51"
                                },
                                {
                                    "CustomerID": "TORTU",
                                    "ContactName": "Miguel Angel Paolino",
                                    "CategoryName": "Confections",
                                    "ProductName": "Maxilaku",
                                    "TotalQuantity": "30"
                                },
                                {
                                    "CustomerID": "TORTU",
                                    "ContactName": "Miguel Angel Paolino",
                                    "CategoryName": "Dairy Products",
                                    "ProductName": "Geitost",
                                    "TotalQuantity": "30"
                                },
                                {
                                    "CustomerID": "TORTU",
                                    "ContactName": "Miguel Angel Paolino",
                                    "CategoryName": "Meat/Poultry",
                                    "ProductName": "Alice Mutton",
                                    "TotalQuantity": "18"
                                },
                                {
                                    "CustomerID": "TORTU",
                                    "ContactName": "Miguel Angel Paolino",
                                    "CategoryName": "Produce",
                                    "ProductName": "Rössle Sauerkraut",
                                    "TotalQuantity": "14"
                                },
                                {
                                    "CustomerID": "TORTU",
                                    "ContactName": "Miguel Angel Paolino",
                                    "CategoryName": "Seafood",
                                    "ProductName": "Ikura",
                                    "TotalQuantity": "17"
                                },
                                {
                                    "CustomerID": "TRADH",
                                    "ContactName": "Anabela Domingues",
                                    "CategoryName": "Beverages",
                                    "ProductName": "Chartreuse verte",
                                    "TotalQuantity": "28"
                                },
                                {
                                    "CustomerID": "TRADH",
                                    "ContactName": "Anabela Domingues",
                                    "CategoryName": "Condiments",
                                    "ProductName": "Chef Anton's Cajun Seasoning",
                                    "TotalQuantity": "20"
                                },
                                {
                                    "CustomerID": "TRADH",
                                    "ContactName": "Anabela Domingues",
                                    "CategoryName": "Confections",
                                    "ProductName": "Scottish Longbreads",
                                    "TotalQuantity": "24"
                                },
                                {
                                    "CustomerID": "TRADH",
                                    "ContactName": "Anabela Domingues",
                                    "CategoryName": "Dairy Products",
                                    "ProductName": "Camembert Pierrot",
                                    "TotalQuantity": "30"
                                },
                                {
                                    "CustomerID": "TRADH",
                                    "ContactName": "Anabela Domingues",
                                    "CategoryName": "Meat/Poultry",
                                    "ProductName": "Pâté chinois",
                                    "TotalQuantity": "20"
                                },
                                {
                                    "CustomerID": "TRADH",
                                    "ContactName": "Anabela Domingues",
                                    "CategoryName": "Seafood",
                                    "ProductName": "Escargots de Bourgogne",
                                    "TotalQuantity": "30"
                                },
                                {
                                    "CustomerID": "TRAIH",
                                    "ContactName": "Helvetius Nagy",
                                    "CategoryName": "Beverages",
                                    "ProductName": "Rhönbräu Klosterbier",
                                    "TotalQuantity": "20"
                                },
                                {
                                    "CustomerID": "TRAIH",
                                    "ContactName": "Helvetius Nagy",
                                    "CategoryName": "Condiments",
                                    "ProductName": "Original Frankfurter grüne Soße",
                                    "TotalQuantity": "18"
                                },
                                {
                                    "CustomerID": "TRAIH",
                                    "ContactName": "Helvetius Nagy",
                                    "CategoryName": "Confections",
                                    "ProductName": "Tarte au sucre",
                                    "TotalQuantity": "13"
                                },
                                {
                                    "CustomerID": "TRAIH",
                                    "ContactName": "Helvetius Nagy",
                                    "CategoryName": "Dairy Products",
                                    "ProductName": "Geitost",
                                    "TotalQuantity": "14"
                                },
                                {
                                    "CustomerID": "TRAIH",
                                    "ContactName": "Helvetius Nagy",
                                    "CategoryName": "Grains/Cereals",
                                    "ProductName": "Wimmers gute Semmelknödel",
                                    "TotalQuantity": "6"
                                },
                                {
                                    "CustomerID": "TRAIH",
                                    "ContactName": "Helvetius Nagy",
                                    "CategoryName": "Seafood",
                                    "ProductName": "Boston Crab Meat",
                                    "TotalQuantity": "2"
                                },
                                {
                                    "CustomerID": "VAFFE",
                                    "ContactName": "Palle Ibsen",
                                    "CategoryName": "Beverages",
                                    "ProductName": "Sasquatch Ale",
                                    "TotalQuantity": "50"
                                },
                                {
                                    "CustomerID": "VAFFE",
                                    "ContactName": "Palle Ibsen",
                                    "CategoryName": "Condiments",
                                    "ProductName": "Original Frankfurter grüne Soße",
                                    "TotalQuantity": "66"
                                },
                                {
                                    "CustomerID": "VAFFE",
                                    "ContactName": "Palle Ibsen",
                                    "CategoryName": "Confections",
                                    "ProductName": "Scottish Longbreads",
                                    "TotalQuantity": "60"
                                },
                                {
                                    "CustomerID": "VAFFE",
                                    "ContactName": "Palle Ibsen",
                                    "CategoryName": "Dairy Products",
                                    "ProductName": "Flotemysost",
                                    "TotalQuantity": "30"
                                },
                                {
                                    "CustomerID": "VAFFE",
                                    "ContactName": "Palle Ibsen",
                                    "CategoryName": "Grains/Cereals",
                                    "ProductName": "Filo Mix",
                                    "TotalQuantity": "15"
                                },
                                {
                                    "CustomerID": "VAFFE",
                                    "ContactName": "Palle Ibsen",
                                    "CategoryName": "Meat/Poultry",
                                    "ProductName": "Tourtière",
                                    "TotalQuantity": "68"
                                },
                                {
                                    "CustomerID": "VAFFE",
                                    "ContactName": "Palle Ibsen",
                                    "CategoryName": "Produce",
                                    "ProductName": "Rössle Sauerkraut",
                                    "TotalQuantity": "60"
                                },
                                {
                                    "CustomerID": "VAFFE",
                                    "ContactName": "Palle Ibsen",
                                    "CategoryName": "Seafood",
                                    "ProductName": "Boston Crab Meat",
                                    "TotalQuantity": "70"
                                },
                                {
                                    "CustomerID": "VICTE",
                                    "ContactName": "Mary Saveley",
                                    "CategoryName": "Beverages",
                                    "ProductName": "Steeleye Stout",
                                    "TotalQuantity": "30"
                                },
                                {
                                    "CustomerID": "VICTE",
                                    "ContactName": "Mary Saveley",
                                    "CategoryName": "Condiments",
                                    "ProductName": "Sirop d'érable",
                                    "TotalQuantity": "30"
                                },
                                {
                                    "CustomerID": "VICTE",
                                    "ContactName": "Mary Saveley",
                                    "CategoryName": "Confections",
                                    "ProductName": "Tarte au sucre",
                                    "TotalQuantity": "40"
                                },
                                {
                                    "CustomerID": "VICTE",
                                    "ContactName": "Mary Saveley",
                                    "CategoryName": "Dairy Products",
                                    "ProductName": "Mozzarella di Giovanni",
                                    "TotalQuantity": "40"
                                },
                                {
                                    "CustomerID": "VICTE",
                                    "ContactName": "Mary Saveley",
                                    "CategoryName": "Grains/Cereals",
                                    "ProductName": "Ravioli Angelo",
                                    "TotalQuantity": "15"
                                },
                                {
                                    "CustomerID": "VICTE",
                                    "ContactName": "Mary Saveley",
                                    "CategoryName": "Meat/Poultry",
                                    "ProductName": "Tourtière",
                                    "TotalQuantity": "6"
                                },
                                {
                                    "CustomerID": "VICTE",
                                    "ContactName": "Mary Saveley",
                                    "CategoryName": "Produce",
                                    "ProductName": "Uncle Bob's Organic Dried Pears",
                                    "TotalQuantity": "26"
                                },
                                {
                                    "CustomerID": "VICTE",
                                    "ContactName": "Mary Saveley",
                                    "CategoryName": "Seafood",
                                    "ProductName": "Ikura",
                                    "TotalQuantity": "40"
                                },
                                {
                                    "CustomerID": "VINET",
                                    "ContactName": "Paul Henriot",
                                    "CategoryName": "Dairy Products",
                                    "ProductName": "Flotemysost",
                                    "TotalQuantity": "20"
                                },
                                {
                                    "CustomerID": "VINET",
                                    "ContactName": "Paul Henriot",
                                    "CategoryName": "Grains/Cereals",
                                    "ProductName": "Filo Mix",
                                    "TotalQuantity": "18"
                                },
                                {
                                    "CustomerID": "VINET",
                                    "ContactName": "Paul Henriot",
                                    "CategoryName": "Seafood",
                                    "ProductName": "Jack's New England Clam Chowder",
                                    "TotalQuantity": "12"
                                },
                                {
                                    "CustomerID": "WANDK",
                                    "ContactName": "Rita Müller",
                                    "CategoryName": "Beverages",
                                    "ProductName": "Chang",
                                    "TotalQuantity": "30"
                                },
                                {
                                    "CustomerID": "WANDK",
                                    "ContactName": "Rita Müller",
                                    "CategoryName": "Condiments",
                                    "ProductName": "Sirop d'érable",
                                    "TotalQuantity": "15"
                                },
                                {
                                    "CustomerID": "WANDK",
                                    "ContactName": "Rita Müller",
                                    "CategoryName": "Confections",
                                    "ProductName": "Sir Rodney's Scones",
                                    "TotalQuantity": "40"
                                },
                                {
                                    "CustomerID": "WANDK",
                                    "ContactName": "Rita Müller",
                                    "CategoryName": "Dairy Products",
                                    "ProductName": "Mascarpone Fabioli",
                                    "TotalQuantity": "65"
                                },
                                {
                                    "CustomerID": "WANDK",
                                    "ContactName": "Rita Müller",
                                    "CategoryName": "Grains/Cereals",
                                    "ProductName": "Tunnbröd",
                                    "TotalQuantity": "25"
                                },
                                {
                                    "CustomerID": "WANDK",
                                    "ContactName": "Rita Müller",
                                    "CategoryName": "Meat/Poultry",
                                    "ProductName": "Perth Pasties",
                                    "TotalQuantity": "20"
                                },
                                {
                                    "CustomerID": "WANDK",
                                    "ContactName": "Rita Müller",
                                    "CategoryName": "Produce",
                                    "ProductName": "Rössle Sauerkraut",
                                    "TotalQuantity": "4"
                                },
                                {
                                    "CustomerID": "WANDK",
                                    "ContactName": "Rita Müller",
                                    "CategoryName": "Seafood",
                                    "ProductName": "Boston Crab Meat",
                                    "TotalQuantity": "10"
                                },
                                {
                                    "CustomerID": "WARTH",
                                    "ContactName": "Pirkko Koskitalo",
                                    "CategoryName": "Beverages",
                                    "ProductName": "Ipoh Coffee",
                                    "TotalQuantity": "25"
                                },
                                {
                                    "CustomerID": "WARTH",
                                    "ContactName": "Pirkko Koskitalo",
                                    "CategoryName": "Condiments",
                                    "ProductName": "Chef Anton's Cajun Seasoning",
                                    "TotalQuantity": "25"
                                },
                                {
                                    "CustomerID": "WARTH",
                                    "ContactName": "Pirkko Koskitalo",
                                    "CategoryName": "Confections",
                                    "ProductName": "Teatime Chocolate Biscuits",
                                    "TotalQuantity": "20"
                                },
                                {
                                    "CustomerID": "WARTH",
                                    "ContactName": "Pirkko Koskitalo",
                                    "CategoryName": "Dairy Products",
                                    "ProductName": "Flotemysost",
                                    "TotalQuantity": "100"
                                },
                                {
                                    "CustomerID": "WARTH",
                                    "ContactName": "Pirkko Koskitalo",
                                    "CategoryName": "Grains/Cereals",
                                    "ProductName": "Gnocchi di nonna Alice",
                                    "TotalQuantity": "50"
                                },
                                {
                                    "CustomerID": "WARTH",
                                    "ContactName": "Pirkko Koskitalo",
                                    "CategoryName": "Meat/Poultry",
                                    "ProductName": "Perth Pasties",
                                    "TotalQuantity": "75"
                                },
                                {
                                    "CustomerID": "WARTH",
                                    "ContactName": "Pirkko Koskitalo",
                                    "CategoryName": "Produce",
                                    "ProductName": "Tofu",
                                    "TotalQuantity": "35"
                                },
                                {
                                    "CustomerID": "WARTH",
                                    "ContactName": "Pirkko Koskitalo",
                                    "CategoryName": "Seafood",
                                    "ProductName": "Rogede sild",
                                    "TotalQuantity": "40"
                                },
                                {
                                    "CustomerID": "WELLI",
                                    "ContactName": "Paula Parente",
                                    "CategoryName": "Beverages",
                                    "ProductName": "Chai",
                                    "TotalQuantity": "41"
                                },
                                {
                                    "CustomerID": "WELLI",
                                    "ContactName": "Paula Parente",
                                    "CategoryName": "Condiments",
                                    "ProductName": "Original Frankfurter grüne Soße",
                                    "TotalQuantity": "12"
                                },
                                {
                                    "CustomerID": "WELLI",
                                    "ContactName": "Paula Parente",
                                    "CategoryName": "Confections",
                                    "ProductName": "Teatime Chocolate Biscuits",
                                    "TotalQuantity": "24"
                                },
                                {
                                    "CustomerID": "WELLI",
                                    "ContactName": "Paula Parente",
                                    "CategoryName": "Dairy Products",
                                    "ProductName": "Raclette Courdavault",
                                    "TotalQuantity": "15"
                                },
                                {
                                    "CustomerID": "WELLI",
                                    "ContactName": "Paula Parente",
                                    "CategoryName": "Grains/Cereals",
                                    "ProductName": "Filo Mix",
                                    "TotalQuantity": "20"
                                },
                                {
                                    "CustomerID": "WELLI",
                                    "ContactName": "Paula Parente",
                                    "CategoryName": "Meat/Poultry",
                                    "ProductName": "Mishi Kobe Niku",
                                    "TotalQuantity": "20"
                                },
                                {
                                    "CustomerID": "WELLI",
                                    "ContactName": "Paula Parente",
                                    "CategoryName": "Seafood",
                                    "ProductName": "Spegesild",
                                    "TotalQuantity": "21"
                                },
                                {
                                    "CustomerID": "WHITC",
                                    "ContactName": "Karl Jablonski",
                                    "CategoryName": "Beverages",
                                    "ProductName": "Sasquatch Ale",
                                    "TotalQuantity": "70"
                                },
                                {
                                    "CustomerID": "WHITC",
                                    "ContactName": "Karl Jablonski",
                                    "CategoryName": "Condiments",
                                    "ProductName": "Northwoods Cranberry Sauce",
                                    "TotalQuantity": "70"
                                },
                                {
                                    "CustomerID": "WHITC",
                                    "ContactName": "Karl Jablonski",
                                    "CategoryName": "Confections",
                                    "ProductName": "Sir Rodney's Scones",
                                    "TotalQuantity": "52"
                                },
                                {
                                    "CustomerID": "WHITC",
                                    "ContactName": "Karl Jablonski",
                                    "CategoryName": "Dairy Products",
                                    "ProductName": "Geitost",
                                    "TotalQuantity": "95"
                                },
                                {
                                    "CustomerID": "WHITC",
                                    "ContactName": "Karl Jablonski",
                                    "CategoryName": "Grains/Cereals",
                                    "ProductName": "Gnocchi di nonna Alice",
                                    "TotalQuantity": "19"
                                },
                                {
                                    "CustomerID": "WHITC",
                                    "ContactName": "Karl Jablonski",
                                    "CategoryName": "Meat/Poultry",
                                    "ProductName": "Alice Mutton",
                                    "TotalQuantity": "62"
                                },
                                {
                                    "CustomerID": "WHITC",
                                    "ContactName": "Karl Jablonski",
                                    "CategoryName": "Produce",
                                    "ProductName": "Rössle Sauerkraut",
                                    "TotalQuantity": "5"
                                },
                                {
                                    "CustomerID": "WHITC",
                                    "ContactName": "Karl Jablonski",
                                    "CategoryName": "Seafood",
                                    "ProductName": "Rogede sild",
                                    "TotalQuantity": "40"
                                },
                                {
                                    "CustomerID": "WILMK",
                                    "ContactName": "Matti Karttunen",
                                    "CategoryName": "Beverages",
                                    "ProductName": "Guaraná Fantástica",
                                    "TotalQuantity": "20"
                                },
                                {
                                    "CustomerID": "WILMK",
                                    "ContactName": "Matti Karttunen",
                                    "CategoryName": "Condiments",
                                    "ProductName": "Northwoods Cranberry Sauce",
                                    "TotalQuantity": "10"
                                },
                                {
                                    "CustomerID": "WILMK",
                                    "ContactName": "Matti Karttunen",
                                    "CategoryName": "Confections",
                                    "ProductName": "Sir Rodney's Scones",
                                    "TotalQuantity": "20"
                                },
                                {
                                    "CustomerID": "WILMK",
                                    "ContactName": "Matti Karttunen",
                                    "CategoryName": "Dairy Products",
                                    "ProductName": "Raclette Courdavault",
                                    "TotalQuantity": "10"
                                },
                                {
                                    "CustomerID": "WILMK",
                                    "ContactName": "Matti Karttunen",
                                    "CategoryName": "Grains/Cereals",
                                    "ProductName": "Singaporean Hokkien Fried Mee",
                                    "TotalQuantity": "6"
                                },
                                {
                                    "CustomerID": "WILMK",
                                    "ContactName": "Matti Karttunen",
                                    "CategoryName": "Meat/Poultry",
                                    "ProductName": "Pâté chinois",
                                    "TotalQuantity": "5"
                                },
                                {
                                    "CustomerID": "WILMK",
                                    "ContactName": "Matti Karttunen",
                                    "CategoryName": "Produce",
                                    "ProductName": "Rössle Sauerkraut",
                                    "TotalQuantity": "3"
                                },
                                {
                                    "CustomerID": "WILMK",
                                    "ContactName": "Matti Karttunen",
                                    "CategoryName": "Seafood",
                                    "ProductName": "Boston Crab Meat",
                                    "TotalQuantity": "12"
                                },
                                {
                                    "CustomerID": "WOLZA",
                                    "ContactName": "Zbyszek Piestrzeniewicz",
                                    "CategoryName": "Beverages",
                                    "ProductName": "Rhönbräu Klosterbier",
                                    "TotalQuantity": "30"
                                },
                                {
                                    "CustomerID": "WOLZA",
                                    "ContactName": "Zbyszek Piestrzeniewicz",
                                    "CategoryName": "Condiments",
                                    "ProductName": "Sirop d'érable",
                                    "TotalQuantity": "22"
                                },
                                {
                                    "CustomerID": "WOLZA",
                                    "ContactName": "Zbyszek Piestrzeniewicz",
                                    "CategoryName": "Confections",
                                    "ProductName": "Scottish Longbreads",
                                    "TotalQuantity": "15"
                                },
                                {
                                    "CustomerID": "WOLZA",
                                    "ContactName": "Zbyszek Piestrzeniewicz",
                                    "CategoryName": "Dairy Products",
                                    "ProductName": "Gorgonzola Telino",
                                    "TotalQuantity": "30"
                                },
                                {
                                    "CustomerID": "WOLZA",
                                    "ContactName": "Zbyszek Piestrzeniewicz",
                                    "CategoryName": "Meat/Poultry",
                                    "ProductName": "Tourtière",
                                    "TotalQuantity": "3"
                                },
                                {
                                    "CustomerID": "WOLZA",
                                    "ContactName": "Zbyszek Piestrzeniewicz",
                                    "CategoryName": "Produce",
                                    "ProductName": "Longlife Tofu",
                                    "TotalQuantity": "20"
                                },
                                {
                                    "CustomerID": "WOLZA",
                                    "ContactName": "Zbyszek Piestrzeniewicz",
                                    "CategoryName": "Seafood",
                                    "ProductName": "Escargots de Bourgogne",
                                    "TotalQuantity": "15"
                                }
                            ]
                        },
                        "text/html": [
                            "<table>",
                            "<tr><th>CustomerID</th><th>ContactName</th><th>CategoryName</th><th>ProductName</th><th>TotalQuantity</th></tr>",
                            "<tr><td>ALFKI</td><td>Maria Anders</td><td>Beverages</td><td>Chartreuse verte</td><td>21</td></tr>",
                            "<tr><td>ALFKI</td><td>Maria Anders</td><td>Condiments</td><td>Vegie-spread</td><td>20</td></tr>",
                            "<tr><td>ALFKI</td><td>Maria Anders</td><td>Dairy Products</td><td>Flotemysost</td><td>20</td></tr>",
                            "<tr><td>ALFKI</td><td>Maria Anders</td><td>Produce</td><td>Rössle Sauerkraut</td><td>17</td></tr>",
                            "<tr><td>ALFKI</td><td>Maria Anders</td><td>Seafood</td><td>Escargots de Bourgogne</td><td>40</td></tr>",
                            "<tr><td>ANATR</td><td>Ana Trujillo</td><td>Beverages</td><td>Outback Lager</td><td>5</td></tr>",
                            "<tr><td>ANATR</td><td>Ana Trujillo</td><td>Confections</td><td>Teatime Chocolate Biscuits</td><td>7</td></tr>",
                            "<tr><td>ANATR</td><td>Ana Trujillo</td><td>Dairy Products</td><td>Mascarpone Fabioli</td><td>10</td></tr>",
                            "<tr><td>ANATR</td><td>Ana Trujillo</td><td>Grains/Cereals</td><td>Singaporean Hokkien Fried Mee</td><td>5</td></tr>",
                            "<tr><td>ANATR</td><td>Ana Trujillo</td><td>Produce</td><td>Tofu</td><td>3</td></tr>",
                            "<tr><td>ANATR</td><td>Ana Trujillo</td><td>Seafood</td><td>Konbu</td><td>10</td></tr>",
                            "<tr><td>ANTON</td><td>Antonio Moreno</td><td>Beverages</td><td>Sasquatch Ale</td><td>40</td></tr>",
                            "<tr><td>ANTON</td><td>Antonio Moreno</td><td>Condiments</td><td>Louisiana Hot Spiced Okra</td><td>4</td></tr>",
                            "<tr><td>ANTON</td><td>Antonio Moreno</td><td>Confections</td><td>Gumbär Gummibärchen</td><td>30</td></tr>",
                            "<tr><td>ANTON</td><td>Antonio Moreno</td><td>Dairy Products</td><td>Queso Cabrales</td><td>74</td></tr>",
                            "<tr><td>ANTON</td><td>Antonio Moreno</td><td>Grains/Cereals</td><td>Singaporean Hokkien Fried Mee</td><td>20</td></tr>",
                            "<tr><td>ANTON</td><td>Antonio Moreno</td><td>Meat/Poultry</td><td>Perth Pasties</td><td>25</td></tr>",
                            "<tr><td>ANTON</td><td>Antonio Moreno</td><td>Seafood</td><td>Boston Crab Meat</td><td>10</td></tr>",
                            "<tr><td>AROUT</td><td>Thomas Hardy</td><td>Beverages</td><td>Outback Lager</td><td>53</td></tr>",
                            "<tr><td>AROUT</td><td>Thomas Hardy</td><td>Confections</td><td>Sir Rodney&#39;s Marmalade</td><td>50</td></tr>",
                            "<tr><td>AROUT</td><td>Thomas Hardy</td><td>Dairy Products</td><td>Gorgonzola Telino</td><td>115</td></tr>",
                            "<tr><td>AROUT</td><td>Thomas Hardy</td><td>Grains/Cereals</td><td>Ravioli Angelo</td><td>65</td></tr>",
                            "<tr><td>AROUT</td><td>Thomas Hardy</td><td>Meat/Poultry</td><td>Pâté chinois</td><td>21</td></tr>",
                            "<tr><td>AROUT</td><td>Thomas Hardy</td><td>Produce</td><td>Manjimup Dried Apples</td><td>20</td></tr>",
                            "<tr><td>AROUT</td><td>Thomas Hardy</td><td>Seafood</td><td>Spegesild</td><td>28</td></tr>",
                            "<tr><td>BERGS</td><td>Christina Berglund</td><td>Beverages</td><td>Ipoh Coffee</td><td>60</td></tr>",
                            "<tr><td>BERGS</td><td>Christina Berglund</td><td>Condiments</td><td>Aniseed Syrup</td><td>30</td></tr>",
                            "<tr><td>BERGS</td><td>Christina Berglund</td><td>Confections</td><td>Zaanse koeken</td><td>61</td></tr>",
                            "<tr><td>BERGS</td><td>Christina Berglund</td><td>Dairy Products</td><td>Camembert Pierrot</td><td>35</td></tr>",
                            "<tr><td>BERGS</td><td>Christina Berglund</td><td>Grains/Cereals</td><td>Filo Mix</td><td>25</td></tr>",
                            "<tr><td>BERGS</td><td>Christina Berglund</td><td>Meat/Poultry</td><td>Tourtière</td><td>36</td></tr>",
                            "<tr><td>BERGS</td><td>Christina Berglund</td><td>Produce</td><td>Rössle Sauerkraut</td><td>50</td></tr>",
                            "<tr><td>BERGS</td><td>Christina Berglund</td><td>Seafood</td><td>Boston Crab Meat</td><td>75</td></tr>",
                            "<tr><td>BLAUS</td><td>Hanna Moos</td><td>Beverages</td><td>Lakkalikööri</td><td>14</td></tr>",
                            "<tr><td>BLAUS</td><td>Hanna Moos</td><td>Condiments</td><td>Sirop d&#39;érable</td><td>4</td></tr>",
                            "<tr><td>BLAUS</td><td>Hanna Moos</td><td>Confections</td><td>Sir Rodney&#39;s Scones</td><td>23</td></tr>",
                            "<tr><td>BLAUS</td><td>Hanna Moos</td><td>Dairy Products</td><td>Camembert Pierrot</td><td>21</td></tr>",
                            "<tr><td>BLAUS</td><td>Hanna Moos</td><td>Grains/Cereals</td><td>Ravioli Angelo</td><td>4</td></tr>",
                            "<tr><td>BLAUS</td><td>Hanna Moos</td><td>Meat/Poultry</td><td>Tourtière</td><td>20</td></tr>",
                            "<tr><td>BLAUS</td><td>Hanna Moos</td><td>Produce</td><td>Manjimup Dried Apples</td><td>8</td></tr>",
                            "<tr><td>BLAUS</td><td>Hanna Moos</td><td>Seafood</td><td>Carnarvon Tigers</td><td>10</td></tr>",
                            "<tr><td>BLONP</td><td>Frédérique Citeaux</td><td>Beverages</td><td>Chartreuse verte</td><td>60</td></tr>",
                            "<tr><td>BLONP</td><td>Frédérique Citeaux</td><td>Confections</td><td>Maxilaku</td><td>35</td></tr>",
                            "<tr><td>BLONP</td><td>Frédérique Citeaux</td><td>Dairy Products</td><td>Gorgonzola Telino</td><td>85</td></tr>",
                            "<tr><td>BLONP</td><td>Frédérique Citeaux</td><td>Grains/Cereals</td><td>Gnocchi di nonna Alice</td><td>40</td></tr>",
                            "<tr><td>BLONP</td><td>Frédérique Citeaux</td><td>Meat/Poultry</td><td>Thüringer Rostbratwurst</td><td>35</td></tr>",
                            "<tr><td>BLONP</td><td>Frédérique Citeaux</td><td>Produce</td><td>Rössle Sauerkraut</td><td>30</td></tr>",
                            "<tr><td>BLONP</td><td>Frédérique Citeaux</td><td>Seafood</td><td>Carnarvon Tigers</td><td>18</td></tr>",
                            "<tr><td>BOLID</td><td>Martín Sommer</td><td>Beverages</td><td>Rhönbräu Klosterbier</td><td>50</td></tr>",
                            "<tr><td>BOLID</td><td>Martín Sommer</td><td>Condiments</td><td>Chef Anton&#39;s Cajun Seasoning</td><td>24</td></tr>",
                            "<tr><td>BOLID</td><td>Martín Sommer</td><td>Grains/Cereals</td><td>Filo Mix</td><td>40</td></tr>",
                            "<tr><td>BOLID</td><td>Martín Sommer</td><td>Meat/Poultry</td><td>Alice Mutton</td><td>40</td></tr>",
                            "<tr><td>BONAP</td><td>Laurence Lebihan</td><td>Beverages</td><td>Ipoh Coffee</td><td>40</td></tr>",
                            "<tr><td>BONAP</td><td>Laurence Lebihan</td><td>Condiments</td><td>Grandma&#39;s Boysenberry Spread</td><td>70</td></tr>",
                            "<tr><td>BONAP</td><td>Laurence Lebihan</td><td>Confections</td><td>Pavlova</td><td>57</td></tr>",
                            "<tr><td>BONAP</td><td>Laurence Lebihan</td><td>Dairy Products</td><td>Flotemysost</td><td>30</td></tr>",
                            "<tr><td>BONAP</td><td>Laurence Lebihan</td><td>Grains/Cereals</td><td>Gnocchi di nonna Alice</td><td>30</td></tr>",
                            "<tr><td>BONAP</td><td>Laurence Lebihan</td><td>Meat/Poultry</td><td>Tourtière</td><td>39</td></tr>",
                            "<tr><td>BONAP</td><td>Laurence Lebihan</td><td>Produce</td><td>Uncle Bob&#39;s Organic Dried Pears</td><td>58</td></tr>",
                            "<tr><td>BONAP</td><td>Laurence Lebihan</td><td>Seafood</td><td>Carnarvon Tigers</td><td>50</td></tr>",
                            "<tr><td>BOTTM</td><td>Elizabeth Lincoln</td><td>Beverages</td><td>Chai</td><td>60</td></tr>",
                            "<tr><td>BOTTM</td><td>Elizabeth Lincoln</td><td>Condiments</td><td>Gula Malacca</td><td>58</td></tr>",
                            "<tr><td>BOTTM</td><td>Elizabeth Lincoln</td><td>Confections</td><td>Tarte au sucre</td><td>101</td></tr>",
                            "<tr><td>BOTTM</td><td>Elizabeth Lincoln</td><td>Dairy Products</td><td>Camembert Pierrot</td><td>75</td></tr>",
                            "<tr><td>BOTTM</td><td>Elizabeth Lincoln</td><td>Grains/Cereals</td><td>Singaporean Hokkien Fried Mee</td><td>20</td></tr>",
                            "<tr><td>BOTTM</td><td>Elizabeth Lincoln</td><td>Meat/Poultry</td><td>Alice Mutton</td><td>56</td></tr>",
                            "<tr><td>BOTTM</td><td>Elizabeth Lincoln</td><td>Produce</td><td>Manjimup Dried Apples</td><td>24</td></tr>",
                            "<tr><td>BOTTM</td><td>Elizabeth Lincoln</td><td>Seafood</td><td>Boston Crab Meat</td><td>50</td></tr>",
                            "<tr><td>BSBEV</td><td>Victoria Ashworth</td><td>Beverages</td><td>Ipoh Coffee</td><td>30</td></tr>",
                            "<tr><td>BSBEV</td><td>Victoria Ashworth</td><td>Condiments</td><td>Aniseed Syrup</td><td>30</td></tr>",
                            "<tr><td>BSBEV</td><td>Victoria Ashworth</td><td>Confections</td><td>Sir Rodney&#39;s Scones</td><td>29</td></tr>",
                            "<tr><td>BSBEV</td><td>Victoria Ashworth</td><td>Dairy Products</td><td>Geitost</td><td>15</td></tr>",
                            "<tr><td>BSBEV</td><td>Victoria Ashworth</td><td>Grains/Cereals</td><td>Gustaf&#39;s Knäckebröd</td><td>21</td></tr>",
                            "<tr><td>BSBEV</td><td>Victoria Ashworth</td><td>Produce</td><td>Uncle Bob&#39;s Organic Dried Pears</td><td>34</td></tr>",
                            "<tr><td>BSBEV</td><td>Victoria Ashworth</td><td>Seafood</td><td>Konbu</td><td>23</td></tr>",
                            "<tr><td>CACTU</td><td>Patricio Simpson</td><td>Beverages</td><td>Sasquatch Ale</td><td>20</td></tr>",
                            "<tr><td>CACTU</td><td>Patricio Simpson</td><td>Confections</td><td>Scottish Longbreads</td><td>6</td></tr>",
                            "<tr><td>CACTU</td><td>Patricio Simpson</td><td>Dairy Products</td><td>Geitost</td><td>10</td></tr>",
                            "<tr><td>CACTU</td><td>Patricio Simpson</td><td>Produce</td><td>Rössle Sauerkraut</td><td>8</td></tr>",
                            "<tr><td>CACTU</td><td>Patricio Simpson</td><td>Seafood</td><td>Jack&#39;s New England Clam Chowder</td><td>10</td></tr>",
                            "<tr><td>CENTC</td><td>Francisco Chang</td><td>Confections</td><td>Sir Rodney&#39;s Scones</td><td>10</td></tr>",
                            "<tr><td>CENTC</td><td>Francisco Chang</td><td>Seafood</td><td>Gravad lax</td><td>1</td></tr>",
                            "<tr><td>CHOPS</td><td>Yang Wang</td><td>Beverages</td><td>Chang</td><td>30</td></tr>",
                            "<tr><td>CHOPS</td><td>Yang Wang</td><td>Condiments</td><td>Vegie-spread</td><td>42</td></tr>",
                            "<tr><td>CHOPS</td><td>Yang Wang</td><td>Confections</td><td>Sir Rodney&#39;s Scones</td><td>40</td></tr>",
                            "<tr><td>CHOPS</td><td>Yang Wang</td><td>Dairy Products</td><td>Gudbrandsdalsost</td><td>40</td></tr>",
                            "<tr><td>CHOPS</td><td>Yang Wang</td><td>Grains/Cereals</td><td>Gnocchi di nonna Alice</td><td>72</td></tr>",
                            "<tr><td>CHOPS</td><td>Yang Wang</td><td>Meat/Poultry</td><td>Pâté chinois</td><td>21</td></tr>",
                            "<tr><td>CHOPS</td><td>Yang Wang</td><td>Produce</td><td>Longlife Tofu</td><td>41</td></tr>",
                            "<tr><td>CHOPS</td><td>Yang Wang</td><td>Seafood</td><td>Ikura</td><td>16</td></tr>",
                            "<tr><td>COMMI</td><td>Pedro Afonso</td><td>Condiments</td><td>Chef Anton&#39;s Gumbo Mix</td><td>20</td></tr>",
                            "<tr><td>COMMI</td><td>Pedro Afonso</td><td>Confections</td><td>Maxilaku</td><td>15</td></tr>",
                            "<tr><td>COMMI</td><td>Pedro Afonso</td><td>Dairy Products</td><td>Queso Cabrales</td><td>10</td></tr>",
                            "<tr><td>COMMI</td><td>Pedro Afonso</td><td>Grains/Cereals</td><td>Gnocchi di nonna Alice</td><td>30</td></tr>",
                            "<tr><td>COMMI</td><td>Pedro Afonso</td><td>Meat/Poultry</td><td>Thüringer Rostbratwurst</td><td>15</td></tr>",
                            "<tr><td>COMMI</td><td>Pedro Afonso</td><td>Seafood</td><td>Spegesild</td><td>14</td></tr>",
                            "<tr><td>CONSH</td><td>Elizabeth Brown</td><td>Beverages</td><td>Chang</td><td>10</td></tr>",
                            "<tr><td>CONSH</td><td>Elizabeth Brown</td><td>Condiments</td><td>Chef Anton&#39;s Gumbo Mix</td><td>30</td></tr>",
                            "<tr><td>CONSH</td><td>Elizabeth Brown</td><td>Dairy Products</td><td>Mozzarella di Giovanni</td><td>10</td></tr>",
                            "<tr><td>CONSH</td><td>Elizabeth Brown</td><td>Grains/Cereals</td><td>Tunnbröd</td><td>21</td></tr>",
                            "<tr><td>CONSH</td><td>Elizabeth Brown</td><td>Meat/Poultry</td><td>Mishi Kobe Niku</td><td>3</td></tr>",
                            "<tr><td>CONSH</td><td>Elizabeth Brown</td><td>Seafood</td><td>Konbu</td><td>1</td></tr>",
                            "<tr><td>DRACD</td><td>Sven Ottlieb</td><td>Beverages</td><td>Rhönbräu Klosterbier</td><td>12</td></tr>",
                            "<tr><td>DRACD</td><td>Sven Ottlieb</td><td>Confections</td><td>Gumbär Gummibärchen</td><td>12</td></tr>",
                            "<tr><td>DRACD</td><td>Sven Ottlieb</td><td>Dairy Products</td><td>Raclette Courdavault</td><td>30</td></tr>",
                            "<tr><td>DRACD</td><td>Sven Ottlieb</td><td>Meat/Poultry</td><td>Perth Pasties</td><td>20</td></tr>",
                            "<tr><td>DRACD</td><td>Sven Ottlieb</td><td>Seafood</td><td>Konbu</td><td>25</td></tr>",
                            "<tr><td>DUMON</td><td>Janine Labrune</td><td>Beverages</td><td>Sasquatch Ale</td><td>10</td></tr>",
                            "<tr><td>DUMON</td><td>Janine Labrune</td><td>Confections</td><td>Sir Rodney&#39;s Scones</td><td>6</td></tr>",
                            "<tr><td>DUMON</td><td>Janine Labrune</td><td>Dairy Products</td><td>Gudbrandsdalsost</td><td>7</td></tr>",
                            "<tr><td>DUMON</td><td>Janine Labrune</td><td>Grains/Cereals</td><td>Filo Mix</td><td>9</td></tr>",
                            "<tr><td>DUMON</td><td>Janine Labrune</td><td>Meat/Poultry</td><td>Alice Mutton</td><td>15</td></tr>",
                            "<tr><td>DUMON</td><td>Janine Labrune</td><td>Seafood</td><td>Jack&#39;s New England Clam Chowder</td><td>14</td></tr>",
                            "<tr><td>EASTC</td><td>Ann Devon</td><td>Beverages</td><td>Steeleye Stout</td><td>35</td></tr>",
                            "<tr><td>EASTC</td><td>Ann Devon</td><td>Condiments</td><td>Chef Anton&#39;s Gumbo Mix</td><td>30</td></tr>",
                            "<tr><td>EASTC</td><td>Ann Devon</td><td>Confections</td><td>Maxilaku</td><td>30</td></tr>",
                            "<tr><td>EASTC</td><td>Ann Devon</td><td>Dairy Products</td><td>Flotemysost</td><td>55</td></tr>",
                            "<tr><td>EASTC</td><td>Ann Devon</td><td>Meat/Poultry</td><td>Pâté chinois</td><td>35</td></tr>",
                            "<tr><td>EASTC</td><td>Ann Devon</td><td>Produce</td><td>Uncle Bob&#39;s Organic Dried Pears</td><td>100</td></tr>",
                            "<tr><td>EASTC</td><td>Ann Devon</td><td>Seafood</td><td>Nord-Ost Matjeshering</td><td>15</td></tr>",
                            "<tr><td>ERNSH</td><td>Roland Mendel</td><td>Beverages</td><td>Guaraná Fantástica</td><td>248</td></tr>",
                            "<tr><td>ERNSH</td><td>Roland Mendel</td><td>Condiments</td><td>Sirop d&#39;érable</td><td>186</td></tr>",
                            "<tr><td>ERNSH</td><td>Roland Mendel</td><td>Confections</td><td>Pavlova</td><td>146</td></tr>",
                            "<tr><td>ERNSH</td><td>Roland Mendel</td><td>Dairy Products</td><td>Raclette Courdavault</td><td>180</td></tr>",
                            "<tr><td>ERNSH</td><td>Roland Mendel</td><td>Grains/Cereals</td><td>Wimmers gute Semmelknödel</td><td>199</td></tr>",
                            "<tr><td>ERNSH</td><td>Roland Mendel</td><td>Meat/Poultry</td><td>Alice Mutton</td><td>121</td></tr>",
                            "<tr><td>ERNSH</td><td>Roland Mendel</td><td>Produce</td><td>Manjimup Dried Apples</td><td>120</td></tr>",
                            "<tr><td>ERNSH</td><td>Roland Mendel</td><td>Seafood</td><td>Ikura</td><td>100</td></tr>",
                            "<tr><td>FAMIA</td><td>Aria Cruz</td><td>Beverages</td><td>Rhönbräu Klosterbier</td><td>56</td></tr>",
                            "<tr><td>FAMIA</td><td>Aria Cruz</td><td>Confections</td><td>Teatime Chocolate Biscuits</td><td>18</td></tr>",
                            "<tr><td>FAMIA</td><td>Aria Cruz</td><td>Dairy Products</td><td>Geitost</td><td>50</td></tr>",
                            "<tr><td>FAMIA</td><td>Aria Cruz</td><td>Grains/Cereals</td><td>Filo Mix</td><td>4</td></tr>",
                            "<tr><td>FAMIA</td><td>Aria Cruz</td><td>Meat/Poultry</td><td>Tourtière</td><td>30</td></tr>",
                            "<tr><td>FAMIA</td><td>Aria Cruz</td><td>Seafood</td><td>Nord-Ost Matjeshering</td><td>30</td></tr>",
                            "<tr><td>FOLIG</td><td>Martine Rancé</td><td>Beverages</td><td>Guaraná Fantástica</td><td>20</td></tr>",
                            "<tr><td>FOLIG</td><td>Martine Rancé</td><td>Condiments</td><td>Vegie-spread</td><td>30</td></tr>",
                            "<tr><td>FOLIG</td><td>Martine Rancé</td><td>Confections</td><td>Sir Rodney&#39;s Scones</td><td>40</td></tr>",
                            "<tr><td>FOLIG</td><td>Martine Rancé</td><td>Dairy Products</td><td>Raclette Courdavault</td><td>12</td></tr>",
                            "<tr><td>FOLIG</td><td>Martine Rancé</td><td>Grains/Cereals</td><td>Gustaf&#39;s Knäckebröd</td><td>6</td></tr>",
                            "<tr><td>FOLIG</td><td>Martine Rancé</td><td>Meat/Poultry</td><td>Tourtière</td><td>6</td></tr>",
                            "<tr><td>FOLIG</td><td>Martine Rancé</td><td>Produce</td><td>Uncle Bob&#39;s Organic Dried Pears</td><td>35</td></tr>",
                            "<tr><td>FOLIG</td><td>Martine Rancé</td><td>Seafood</td><td>Carnarvon Tigers</td><td>80</td></tr>",
                            "<tr><td>FOLKO</td><td>Maria Larsson</td><td>Beverages</td><td>Lakkalikööri</td><td>68</td></tr>",
                            "<tr><td>FOLKO</td><td>Maria Larsson</td><td>Condiments</td><td>Chef Anton&#39;s Cajun Seasoning</td><td>50</td></tr>",
                            "<tr><td>FOLKO</td><td>Maria Larsson</td><td>Confections</td><td>Zaanse koeken</td><td>60</td></tr>",
                            "<tr><td>FOLKO</td><td>Maria Larsson</td><td>Dairy Products</td><td>Queso Cabrales</td><td>56</td></tr>",
                            "<tr><td>FOLKO</td><td>Maria Larsson</td><td>Grains/Cereals</td><td>Gnocchi di nonna Alice</td><td>60</td></tr>",
                            "<tr><td>FOLKO</td><td>Maria Larsson</td><td>Meat/Poultry</td><td>Thüringer Rostbratwurst</td><td>50</td></tr>",
                            "<tr><td>FOLKO</td><td>Maria Larsson</td><td>Produce</td><td>Manjimup Dried Apples</td><td>88</td></tr>",
                            "<tr><td>FOLKO</td><td>Maria Larsson</td><td>Seafood</td><td>Jack&#39;s New England Clam Chowder</td><td>72</td></tr>",
                            "<tr><td>FRANK</td><td>Peter Franken</td><td>Beverages</td><td>Rhönbräu Klosterbier</td><td>74</td></tr>",
                            "<tr><td>FRANK</td><td>Peter Franken</td><td>Condiments</td><td>Original Frankfurter grüne Soße</td><td>15</td></tr>",
                            "<tr><td>FRANK</td><td>Peter Franken</td><td>Confections</td><td>Sir Rodney&#39;s Scones</td><td>117</td></tr>",
                            "<tr><td>FRANK</td><td>Peter Franken</td><td>Dairy Products</td><td>Flotemysost</td><td>120</td></tr>",
                            "<tr><td>FRANK</td><td>Peter Franken</td><td>Grains/Cereals</td><td>Tunnbröd</td><td>112</td></tr>",
                            "<tr><td>FRANK</td><td>Peter Franken</td><td>Meat/Poultry</td><td>Tourtière</td><td>50</td></tr>",
                            "<tr><td>FRANK</td><td>Peter Franken</td><td>Produce</td><td>Tofu</td><td>51</td></tr>",
                            "<tr><td>FRANK</td><td>Peter Franken</td><td>Seafood</td><td>Röd Kaviar</td><td>70</td></tr>",
                            "<tr><td>FRANR</td><td>Carine Schmitt</td><td>Beverages</td><td>Lakkalikööri</td><td>20</td></tr>",
                            "<tr><td>FRANR</td><td>Carine Schmitt</td><td>Condiments</td><td>Louisiana Fiery Hot Pepper Sauce</td><td>12</td></tr>",
                            "<tr><td>FRANR</td><td>Carine Schmitt</td><td>Confections</td><td>Tarte au sucre</td><td>10</td></tr>",
                            "<tr><td>FRANR</td><td>Carine Schmitt</td><td>Meat/Poultry</td><td>Thüringer Rostbratwurst</td><td>14</td></tr>",
                            "<tr><td>FRANR</td><td>Carine Schmitt</td><td>Produce</td><td>Manjimup Dried Apples</td><td>3</td></tr>",
                            "<tr><td>FRANS</td><td>Paolo Accorti</td><td>Condiments</td><td>Original Frankfurter grüne Soße</td><td>10</td></tr>",
                            "<tr><td>FRANS</td><td>Paolo Accorti</td><td>Confections</td><td>Zaanse koeken</td><td>5</td></tr>",
                            "<tr><td>FRANS</td><td>Paolo Accorti</td><td>Dairy Products</td><td>Camembert Pierrot</td><td>4</td></tr>",
                            "<tr><td>FRANS</td><td>Paolo Accorti</td><td>Produce</td><td>Manjimup Dried Apples</td><td>10</td></tr>",
                            "<tr><td>FRANS</td><td>Paolo Accorti</td><td>Seafood</td><td>Carnarvon Tigers</td><td>8</td></tr>",
                            "<tr><td>FURIB</td><td>Lino Rodriguez</td><td>Beverages</td><td>Steeleye Stout</td><td>20</td></tr>",
                            "<tr><td>FURIB</td><td>Lino Rodriguez</td><td>Condiments</td><td>Gula Malacca</td><td>55</td></tr>",
                            "<tr><td>FURIB</td><td>Lino Rodriguez</td><td>Confections</td><td>Pavlova</td><td>40</td></tr>",
                            "<tr><td>FURIB</td><td>Lino Rodriguez</td><td>Dairy Products</td><td>Camembert Pierrot</td><td>22</td></tr>",
                            "<tr><td>FURIB</td><td>Lino Rodriguez</td><td>Grains/Cereals</td><td>Gnocchi di nonna Alice</td><td>42</td></tr>",
                            "<tr><td>FURIB</td><td>Lino Rodriguez</td><td>Meat/Poultry</td><td>Tourtière</td><td>20</td></tr>",
                            "<tr><td>FURIB</td><td>Lino Rodriguez</td><td>Seafood</td><td>Ikura</td><td>24</td></tr>",
                            "<tr><td>GALED</td><td>Eduardo Saavedra</td><td>Beverages</td><td>Lakkalikööri</td><td>5</td></tr>",
                            "<tr><td>GALED</td><td>Eduardo Saavedra</td><td>Condiments</td><td>Original Frankfurter grüne Soße</td><td>5</td></tr>",
                            "<tr><td>GALED</td><td>Eduardo Saavedra</td><td>Confections</td><td>Zaanse koeken</td><td>5</td></tr>",
                            "<tr><td>GALED</td><td>Eduardo Saavedra</td><td>Grains/Cereals</td><td>Wimmers gute Semmelknödel</td><td>7</td></tr>",
                            "<tr><td>GALED</td><td>Eduardo Saavedra</td><td>Seafood</td><td>Ikura</td><td>5</td></tr>",
                            "<tr><td>GODOS</td><td>José Pedro Freyre</td><td>Beverages</td><td>Chang</td><td>20</td></tr>",
                            "<tr><td>GODOS</td><td>José Pedro Freyre</td><td>Condiments</td><td>Louisiana Fiery Hot Pepper Sauce</td><td>51</td></tr>",
                            "<tr><td>GODOS</td><td>José Pedro Freyre</td><td>Confections</td><td>Scottish Longbreads</td><td>33</td></tr>",
                            "<tr><td>GODOS</td><td>José Pedro Freyre</td><td>Dairy Products</td><td>Camembert Pierrot</td><td>9</td></tr>",
                            "<tr><td>GODOS</td><td>José Pedro Freyre</td><td>Grains/Cereals</td><td>Wimmers gute Semmelknödel</td><td>24</td></tr>",
                            "<tr><td>GODOS</td><td>José Pedro Freyre</td><td>Meat/Poultry</td><td>Thüringer Rostbratwurst</td><td>20</td></tr>",
                            "<tr><td>GODOS</td><td>José Pedro Freyre</td><td>Produce</td><td>Manjimup Dried Apples</td><td>40</td></tr>",
                            "<tr><td>GODOS</td><td>José Pedro Freyre</td><td>Seafood</td><td>Boston Crab Meat</td><td>40</td></tr>",
                            "<tr><td>GOURL</td><td>André Fonseca</td><td>Beverages</td><td>Lakkalikööri</td><td>20</td></tr>",
                            "<tr><td>GOURL</td><td>André Fonseca</td><td>Condiments</td><td>Northwoods Cranberry Sauce</td><td>40</td></tr>",
                            "<tr><td>GOURL</td><td>André Fonseca</td><td>Confections</td><td>Zaanse koeken</td><td>15</td></tr>",
                            "<tr><td>GOURL</td><td>André Fonseca</td><td>Dairy Products</td><td>Raclette Courdavault</td><td>20</td></tr>",
                            "<tr><td>GOURL</td><td>André Fonseca</td><td>Grains/Cereals</td><td>Singaporean Hokkien Fried Mee</td><td>40</td></tr>",
                            "<tr><td>GOURL</td><td>André Fonseca</td><td>Produce</td><td>Manjimup Dried Apples</td><td>28</td></tr>",
                            "<tr><td>GOURL</td><td>André Fonseca</td><td>Seafood</td><td>Ikura</td><td>20</td></tr>",
                            "<tr><td>GREAL</td><td>Howard Snyder</td><td>Beverages</td><td>Côte de Blaye</td><td>45</td></tr>",
                            "<tr><td>GREAL</td><td>Howard Snyder</td><td>Condiments</td><td>Gula Malacca</td><td>28</td></tr>",
                            "<tr><td>GREAL</td><td>Howard Snyder</td><td>Confections</td><td>Sir Rodney&#39;s Scones</td><td>32</td></tr>",
                            "<tr><td>GREAL</td><td>Howard Snyder</td><td>Dairy Products</td><td>Raclette Courdavault</td><td>30</td></tr>",
                            "<tr><td>GREAL</td><td>Howard Snyder</td><td>Grains/Cereals</td><td>Wimmers gute Semmelknödel</td><td>28</td></tr>",
                            "<tr><td>GREAL</td><td>Howard Snyder</td><td>Meat/Poultry</td><td>Thüringer Rostbratwurst</td><td>2</td></tr>",
                            "<tr><td>GREAL</td><td>Howard Snyder</td><td>Produce</td><td>Tofu</td><td>3</td></tr>",
                            "<tr><td>GREAL</td><td>Howard Snyder</td><td>Seafood</td><td>Inlagd Sill</td><td>30</td></tr>",
                            "<tr><td>GROSR</td><td>Manuel Pereira</td><td>Beverages</td><td>Rhönbräu Klosterbier</td><td>10</td></tr>",
                            "<tr><td>GROSR</td><td>Manuel Pereira</td><td>Dairy Products</td><td>Mozzarella di Giovanni</td><td>4</td></tr>",
                            "<tr><td>GROSR</td><td>Manuel Pereira</td><td>Meat/Poultry</td><td>Thüringer Rostbratwurst</td><td>10</td></tr>",
                            "<tr><td>GROSR</td><td>Manuel Pereira</td><td>Seafood</td><td>Ikura</td><td>10</td></tr>",
                            "<tr><td>HANAR</td><td>Mario Pontes</td><td>Beverages</td><td>Guaraná Fantástica</td><td>70</td></tr>",
                            "<tr><td>HANAR</td><td>Mario Pontes</td><td>Condiments</td><td>Louisiana Fiery Hot Pepper Sauce</td><td>72</td></tr>",
                            "<tr><td>HANAR</td><td>Mario Pontes</td><td>Confections</td><td>Maxilaku</td><td>40</td></tr>",
                            "<tr><td>HANAR</td><td>Mario Pontes</td><td>Dairy Products</td><td>Gorgonzola Telino</td><td>65</td></tr>",
                            "<tr><td>HANAR</td><td>Mario Pontes</td><td>Grains/Cereals</td><td>Gnocchi di nonna Alice</td><td>20</td></tr>",
                            "<tr><td>HANAR</td><td>Mario Pontes</td><td>Meat/Poultry</td><td>Alice Mutton</td><td>15</td></tr>",
                            "<tr><td>HANAR</td><td>Mario Pontes</td><td>Produce</td><td>Manjimup Dried Apples</td><td>35</td></tr>",
                            "<tr><td>HANAR</td><td>Mario Pontes</td><td>Seafood</td><td>Ikura</td><td>70</td></tr>",
                            "<tr><td>HILAA</td><td>Carlos Hernández</td><td>Beverages</td><td>Rhönbräu Klosterbier</td><td>106</td></tr>",
                            "<tr><td>HILAA</td><td>Carlos Hernández</td><td>Condiments</td><td>Original Frankfurter grüne Soße</td><td>15</td></tr>",
                            "<tr><td>HILAA</td><td>Carlos Hernández</td><td>Confections</td><td>Scottish Longbreads</td><td>30</td></tr>",
                            "<tr><td>HILAA</td><td>Carlos Hernández</td><td>Dairy Products</td><td>Raclette Courdavault</td><td>95</td></tr>",
                            "<tr><td>HILAA</td><td>Carlos Hernández</td><td>Grains/Cereals</td><td>Wimmers gute Semmelknödel</td><td>43</td></tr>",
                            "<tr><td>HILAA</td><td>Carlos Hernández</td><td>Meat/Poultry</td><td>Perth Pasties</td><td>70</td></tr>",
                            "<tr><td>HILAA</td><td>Carlos Hernández</td><td>Produce</td><td>Manjimup Dried Apples</td><td>45</td></tr>",
                            "<tr><td>HILAA</td><td>Carlos Hernández</td><td>Seafood</td><td>Konbu</td><td>68</td></tr>",
                            "<tr><td>HUNGC</td><td>Yoshi Latimer</td><td>Confections</td><td>Sir Rodney&#39;s Marmalade</td><td>21</td></tr>",
                            "<tr><td>HUNGC</td><td>Yoshi Latimer</td><td>Dairy Products</td><td>Geitost</td><td>20</td></tr>",
                            "<tr><td>HUNGC</td><td>Yoshi Latimer</td><td>Meat/Poultry</td><td>Tourtière</td><td>14</td></tr>",
                            "<tr><td>HUNGC</td><td>Yoshi Latimer</td><td>Produce</td><td>Tofu</td><td>15</td></tr>",
                            "<tr><td>HUNGC</td><td>Yoshi Latimer</td><td>Seafood</td><td>Röd Kaviar</td><td>30</td></tr>",
                            "<tr><td>HUNGO</td><td>Patricia McKenna</td><td>Beverages</td><td>Chang</td><td>47</td></tr>",
                            "<tr><td>HUNGO</td><td>Patricia McKenna</td><td>Condiments</td><td>Louisiana Fiery Hot Pepper Sauce</td><td>60</td></tr>",
                            "<tr><td>HUNGO</td><td>Patricia McKenna</td><td>Confections</td><td>Valkoinen suklaa</td><td>40</td></tr>",
                            "<tr><td>HUNGO</td><td>Patricia McKenna</td><td>Dairy Products</td><td>Raclette Courdavault</td><td>112</td></tr>",
                            "<tr><td>HUNGO</td><td>Patricia McKenna</td><td>Grains/Cereals</td><td>Gnocchi di nonna Alice</td><td>30</td></tr>",
                            "<tr><td>HUNGO</td><td>Patricia McKenna</td><td>Meat/Poultry</td><td>Thüringer Rostbratwurst</td><td>150</td></tr>",
                            "<tr><td>HUNGO</td><td>Patricia McKenna</td><td>Produce</td><td>Tofu</td><td>70</td></tr>",
                            "<tr><td>HUNGO</td><td>Patricia McKenna</td><td>Seafood</td><td>Escargots de Bourgogne</td><td>129</td></tr>",
                            "<tr><td>ISLAT</td><td>Helen Bennett</td><td>Beverages</td><td>Outback Lager</td><td>50</td></tr>",
                            "<tr><td>ISLAT</td><td>Helen Bennett</td><td>Condiments</td><td>Sirop d&#39;érable</td><td>30</td></tr>",
                            "<tr><td>ISLAT</td><td>Helen Bennett</td><td>Confections</td><td>Teatime Chocolate Biscuits</td><td>5</td></tr>",
                            "<tr><td>ISLAT</td><td>Helen Bennett</td><td>Dairy Products</td><td>Flotemysost</td><td>27</td></tr>",
                            "<tr><td>ISLAT</td><td>Helen Bennett</td><td>Grains/Cereals</td><td>Gnocchi di nonna Alice</td><td>15</td></tr>",
                            "<tr><td>ISLAT</td><td>Helen Bennett</td><td>Meat/Poultry</td><td>Perth Pasties</td><td>2</td></tr>",
                            "<tr><td>ISLAT</td><td>Helen Bennett</td><td>Seafood</td><td>Jack&#39;s New England Clam Chowder</td><td>20</td></tr>",
                            "<tr><td>KOENE</td><td>Philip Cramer</td><td>Beverages</td><td>Lakkalikööri</td><td>35</td></tr>",
                            "<tr><td>KOENE</td><td>Philip Cramer</td><td>Condiments</td><td>Aniseed Syrup</td><td>49</td></tr>",
                            "<tr><td>KOENE</td><td>Philip Cramer</td><td>Confections</td><td>Gumbär Gummibärchen</td><td>58</td></tr>",
                            "<tr><td>KOENE</td><td>Philip Cramer</td><td>Dairy Products</td><td>Raclette Courdavault</td><td>85</td></tr>",
                            "<tr><td>KOENE</td><td>Philip Cramer</td><td>Meat/Poultry</td><td>Pâté chinois</td><td>47</td></tr>",
                            "<tr><td>KOENE</td><td>Philip Cramer</td><td>Produce</td><td>Tofu</td><td>9</td></tr>",
                            "<tr><td>KOENE</td><td>Philip Cramer</td><td>Seafood</td><td>Inlagd Sill</td><td>60</td></tr>",
                            "<tr><td>LACOR</td><td>Daniel Tonini</td><td>Beverages</td><td>Lakkalikööri</td><td>20</td></tr>",
                            "<tr><td>LACOR</td><td>Daniel Tonini</td><td>Confections</td><td>Schoggi Schokolade</td><td>10</td></tr>",
                            "<tr><td>LACOR</td><td>Daniel Tonini</td><td>Dairy Products</td><td>Geitost</td><td>7</td></tr>",
                            "<tr><td>LACOR</td><td>Daniel Tonini</td><td>Grains/Cereals</td><td>Filo Mix</td><td>5</td></tr>",
                            "<tr><td>LACOR</td><td>Daniel Tonini</td><td>Meat/Poultry</td><td>Alice Mutton</td><td>6</td></tr>",
                            "<tr><td>LACOR</td><td>Daniel Tonini</td><td>Produce</td><td>Uncle Bob&#39;s Organic Dried Pears</td><td>5</td></tr>",
                            "<tr><td>LACOR</td><td>Daniel Tonini</td><td>Seafood</td><td>Jack&#39;s New England Clam Chowder</td><td>6</td></tr>",
                            "<tr><td>LAMAI</td><td>Annette Roulet</td><td>Beverages</td><td>Lakkalikööri</td><td>34</td></tr>",
                            "<tr><td>LAMAI</td><td>Annette Roulet</td><td>Condiments</td><td>Gula Malacca</td><td>16</td></tr>",
                            "<tr><td>LAMAI</td><td>Annette Roulet</td><td>Confections</td><td>Tarte au sucre</td><td>40</td></tr>",
                            "<tr><td>LAMAI</td><td>Annette Roulet</td><td>Dairy Products</td><td>Gudbrandsdalsost</td><td>28</td></tr>",
                            "<tr><td>LAMAI</td><td>Annette Roulet</td><td>Grains/Cereals</td><td>Singaporean Hokkien Fried Mee</td><td>10</td></tr>",
                            "<tr><td>LAMAI</td><td>Annette Roulet</td><td>Meat/Poultry</td><td>Thüringer Rostbratwurst</td><td>20</td></tr>",
                            "<tr><td>LAMAI</td><td>Annette Roulet</td><td>Produce</td><td>Rössle Sauerkraut</td><td>8</td></tr>",
                            "<tr><td>LAMAI</td><td>Annette Roulet</td><td>Seafood</td><td>Inlagd Sill</td><td>47</td></tr>",
                            "<tr><td>LAUGB</td><td>Yoshi Tannamuri</td><td>Beverages</td><td>Guaraná Fantástica</td><td>5</td></tr>",
                            "<tr><td>LAUGB</td><td>Yoshi Tannamuri</td><td>Condiments</td><td>Original Frankfurter grüne Soße</td><td>5</td></tr>",
                            "<tr><td>LAUGB</td><td>Yoshi Tannamuri</td><td>Confections</td><td>NuNuCa Nuß-Nougat-Creme</td><td>5</td></tr>",
                            "<tr><td>LAUGB</td><td>Yoshi Tannamuri</td><td>Grains/Cereals</td><td>Tunnbröd</td><td>10</td></tr>",
                            "<tr><td>LAUGB</td><td>Yoshi Tannamuri</td><td>Seafood</td><td>Jack&#39;s New England Clam Chowder</td><td>20</td></tr>",
                            "<tr><td>LAZYK</td><td>John Steel</td><td>Dairy Products</td><td>Queso Cabrales</td><td>10</td></tr>",
                            "<tr><td>LAZYK</td><td>John Steel</td><td>Seafood</td><td>Boston Crab Meat</td><td>10</td></tr>",
                            "<tr><td>LEHMS</td><td>Renate Messner</td><td>Beverages</td><td>Chai</td><td>80</td></tr>",
                            "<tr><td>LEHMS</td><td>Renate Messner</td><td>Condiments</td><td>Original Frankfurter grüne Soße</td><td>25</td></tr>",
                            "<tr><td>LEHMS</td><td>Renate Messner</td><td>Confections</td><td>Pavlova</td><td>30</td></tr>",
                            "<tr><td>LEHMS</td><td>Renate Messner</td><td>Dairy Products</td><td>Camembert Pierrot</td><td>55</td></tr>",
                            "<tr><td>LEHMS</td><td>Renate Messner</td><td>Grains/Cereals</td><td>Wimmers gute Semmelknödel</td><td>80</td></tr>",
                            "<tr><td>LEHMS</td><td>Renate Messner</td><td>Meat/Poultry</td><td>Thüringer Rostbratwurst</td><td>18</td></tr>",
                            "<tr><td>LEHMS</td><td>Renate Messner</td><td>Seafood</td><td>Nord-Ost Matjeshering</td><td>45</td></tr>",
                            "<tr><td>LETSS</td><td>Jaime Yorres</td><td>Beverages</td><td>Rhönbräu Klosterbier</td><td>21</td></tr>",
                            "<tr><td>LETSS</td><td>Jaime Yorres</td><td>Condiments</td><td>Sirop d&#39;érable</td><td>20</td></tr>",
                            "<tr><td>LETSS</td><td>Jaime Yorres</td><td>Confections</td><td>Sir Rodney&#39;s Scones</td><td>40</td></tr>",
                            "<tr><td>LETSS</td><td>Jaime Yorres</td><td>Grains/Cereals</td><td>Gnocchi di nonna Alice</td><td>21</td></tr>",
                            "<tr><td>LETSS</td><td>Jaime Yorres</td><td>Meat/Poultry</td><td>Tourtière</td><td>40</td></tr>",
                            "<tr><td>LETSS</td><td>Jaime Yorres</td><td>Seafood</td><td>Carnarvon Tigers</td><td>12</td></tr>",
                            "<tr><td>LILAS</td><td>Carlos González</td><td>Beverages</td><td>Outback Lager</td><td>35</td></tr>",
                            "<tr><td>LILAS</td><td>Carlos González</td><td>Condiments</td><td>Original Frankfurter grüne Soße</td><td>30</td></tr>",
                            "<tr><td>LILAS</td><td>Carlos González</td><td>Confections</td><td>Gumbär Gummibärchen</td><td>66</td></tr>",
                            "<tr><td>LILAS</td><td>Carlos González</td><td>Dairy Products</td><td>Mascarpone Fabioli</td><td>50</td></tr>",
                            "<tr><td>LILAS</td><td>Carlos González</td><td>Grains/Cereals</td><td>Tunnbröd</td><td>70</td></tr>",
                            "<tr><td>LILAS</td><td>Carlos González</td><td>Meat/Poultry</td><td>Pâté chinois</td><td>60</td></tr>",
                            "<tr><td>LILAS</td><td>Carlos González</td><td>Produce</td><td>Rössle Sauerkraut</td><td>20</td></tr>",
                            "<tr><td>LILAS</td><td>Carlos González</td><td>Seafood</td><td>Nord-Ost Matjeshering</td><td>32</td></tr>",
                            "<tr><td>LINOD</td><td>Felipe Izquierdo</td><td>Beverages</td><td>Outback Lager</td><td>90</td></tr>",
                            "<tr><td>LINOD</td><td>Felipe Izquierdo</td><td>Condiments</td><td>Aniseed Syrup</td><td>70</td></tr>",
                            "<tr><td>LINOD</td><td>Felipe Izquierdo</td><td>Confections</td><td>Maxilaku</td><td>60</td></tr>",
                            "<tr><td>LINOD</td><td>Felipe Izquierdo</td><td>Dairy Products</td><td>Mozzarella di Giovanni</td><td>60</td></tr>",
                            "<tr><td>LINOD</td><td>Felipe Izquierdo</td><td>Grains/Cereals</td><td>Ravioli Angelo</td><td>28</td></tr>",
                            "<tr><td>LINOD</td><td>Felipe Izquierdo</td><td>Meat/Poultry</td><td>Pâté chinois</td><td>30</td></tr>",
                            "<tr><td>LINOD</td><td>Felipe Izquierdo</td><td>Produce</td><td>Rössle Sauerkraut</td><td>20</td></tr>",
                            "<tr><td>LINOD</td><td>Felipe Izquierdo</td><td>Seafood</td><td>Inlagd Sill</td><td>50</td></tr>",
                            "<tr><td>LONEP</td><td>Fran Wilson</td><td>Beverages</td><td>Chai</td><td>20</td></tr>",
                            "<tr><td>LONEP</td><td>Fran Wilson</td><td>Confections</td><td>Scottish Longbreads</td><td>13</td></tr>",
                            "<tr><td>LONEP</td><td>Fran Wilson</td><td>Dairy Products</td><td>Queso Manchego La Pastora</td><td>20</td></tr>",
                            "<tr><td>LONEP</td><td>Fran Wilson</td><td>Grains/Cereals</td><td>Gnocchi di nonna Alice</td><td>5</td></tr>",
                            "<tr><td>LONEP</td><td>Fran Wilson</td><td>Meat/Poultry</td><td>Perth Pasties</td><td>3</td></tr>",
                            "<tr><td>LONEP</td><td>Fran Wilson</td><td>Produce</td><td>Manjimup Dried Apples</td><td>20</td></tr>",
                            "<tr><td>LONEP</td><td>Fran Wilson</td><td>Seafood</td><td>Carnarvon Tigers</td><td>10</td></tr>",
                            "<tr><td>MAGAA</td><td>Giovanni Rovelli</td><td>Beverages</td><td>Guaraná Fantástica</td><td>40</td></tr>",
                            "<tr><td>MAGAA</td><td>Giovanni Rovelli</td><td>Condiments</td><td>Louisiana Hot Spiced Okra</td><td>30</td></tr>",
                            "<tr><td>MAGAA</td><td>Giovanni Rovelli</td><td>Confections</td><td>Gumbär Gummibärchen</td><td>30</td></tr>",
                            "<tr><td>MAGAA</td><td>Giovanni Rovelli</td><td>Dairy Products</td><td>Mozzarella di Giovanni</td><td>30</td></tr>",
                            "<tr><td>MAGAA</td><td>Giovanni Rovelli</td><td>Grains/Cereals</td><td>Singaporean Hokkien Fried Mee</td><td>40</td></tr>",
                            "<tr><td>MAGAA</td><td>Giovanni Rovelli</td><td>Seafood</td><td>Inlagd Sill</td><td>30</td></tr>",
                            "<tr><td>MAISD</td><td>Catherine Dewey</td><td>Beverages</td><td>Ipoh Coffee</td><td>30</td></tr>",
                            "<tr><td>MAISD</td><td>Catherine Dewey</td><td>Condiments</td><td>Northwoods Cranberry Sauce</td><td>20</td></tr>",
                            "<tr><td>MAISD</td><td>Catherine Dewey</td><td>Confections</td><td>Schoggi Schokolade</td><td>40</td></tr>",
                            "<tr><td>MAISD</td><td>Catherine Dewey</td><td>Dairy Products</td><td>Raclette Courdavault</td><td>40</td></tr>",
                            "<tr><td>MAISD</td><td>Catherine Dewey</td><td>Grains/Cereals</td><td>Gnocchi di nonna Alice</td><td>16</td></tr>",
                            "<tr><td>MAISD</td><td>Catherine Dewey</td><td>Meat/Poultry</td><td>Pâté chinois</td><td>14</td></tr>",
                            "<tr><td>MAISD</td><td>Catherine Dewey</td><td>Produce</td><td>Rössle Sauerkraut</td><td>20</td></tr>",
                            "<tr><td>MAISD</td><td>Catherine Dewey</td><td>Seafood</td><td>Rogede sild</td><td>15</td></tr>",
                            "<tr><td>MEREP</td><td>Jean Fresnière</td><td>Beverages</td><td>Steeleye Stout</td><td>60</td></tr>",
                            "<tr><td>MEREP</td><td>Jean Fresnière</td><td>Condiments</td><td>Grandma&#39;s Boysenberry Spread</td><td>70</td></tr>",
                            "<tr><td>MEREP</td><td>Jean Fresnière</td><td>Confections</td><td>Pavlova</td><td>46</td></tr>",
                            "<tr><td>MEREP</td><td>Jean Fresnière</td><td>Dairy Products</td><td>Camembert Pierrot</td><td>70</td></tr>",
                            "<tr><td>MEREP</td><td>Jean Fresnière</td><td>Grains/Cereals</td><td>Gnocchi di nonna Alice</td><td>80</td></tr>",
                            "<tr><td>MEREP</td><td>Jean Fresnière</td><td>Meat/Poultry</td><td>Alice Mutton</td><td>70</td></tr>",
                            "<tr><td>MEREP</td><td>Jean Fresnière</td><td>Produce</td><td>Longlife Tofu</td><td>30</td></tr>",
                            "<tr><td>MEREP</td><td>Jean Fresnière</td><td>Seafood</td><td>Carnarvon Tigers</td><td>40</td></tr>",
                            "<tr><td>MORGK</td><td>Alexander Feuer</td><td>Beverages</td><td>Lakkalikööri</td><td>10</td></tr>",
                            "<tr><td>MORGK</td><td>Alexander Feuer</td><td>Condiments</td><td>Vegie-spread</td><td>6</td></tr>",
                            "<tr><td>MORGK</td><td>Alexander Feuer</td><td>Confections</td><td>Tarte au sucre</td><td>32</td></tr>",
                            "<tr><td>MORGK</td><td>Alexander Feuer</td><td>Dairy Products</td><td>Mozzarella di Giovanni</td><td>30</td></tr>",
                            "<tr><td>MORGK</td><td>Alexander Feuer</td><td>Produce</td><td>Rössle Sauerkraut</td><td>20</td></tr>",
                            "<tr><td>MORGK</td><td>Alexander Feuer</td><td>Seafood</td><td>Konbu</td><td>20</td></tr>",
                            "<tr><td>NORTS</td><td>Simon Crowther</td><td>Beverages</td><td>Outback Lager</td><td>9</td></tr>",
                            "<tr><td>NORTS</td><td>Simon Crowther</td><td>Dairy Products</td><td>Raclette Courdavault</td><td>4</td></tr>",
                            "<tr><td>NORTS</td><td>Simon Crowther</td><td>Grains/Cereals</td><td>Filo Mix</td><td>6</td></tr>",
                            "<tr><td>OCEAN</td><td>Yvonne Moncada</td><td>Beverages</td><td>Lakkalikööri</td><td>10</td></tr>",
                            "<tr><td>OCEAN</td><td>Yvonne Moncada</td><td>Condiments</td><td>Chef Anton&#39;s Gumbo Mix</td><td>20</td></tr>",
                            "<tr><td>OCEAN</td><td>Yvonne Moncada</td><td>Confections</td><td>Sir Rodney&#39;s Marmalade</td><td>15</td></tr>",
                            "<tr><td>OCEAN</td><td>Yvonne Moncada</td><td>Dairy Products</td><td>Queso Cabrales</td><td>30</td></tr>",
                            "<tr><td>OCEAN</td><td>Yvonne Moncada</td><td>Produce</td><td>Tofu</td><td>12</td></tr>",
                            "<tr><td>OCEAN</td><td>Yvonne Moncada</td><td>Seafood</td><td>Konbu</td><td>5</td></tr>",
                            "<tr><td>OLDWO</td><td>Rene Phillips</td><td>Beverages</td><td>Lakkalikööri</td><td>50</td></tr>",
                            "<tr><td>OLDWO</td><td>Rene Phillips</td><td>Condiments</td><td>Louisiana Fiery Hot Pepper Sauce</td><td>15</td></tr>",
                            "<tr><td>OLDWO</td><td>Rene Phillips</td><td>Confections</td><td>Pavlova</td><td>120</td></tr>",
                            "<tr><td>OLDWO</td><td>Rene Phillips</td><td>Dairy Products</td><td>Gorgonzola Telino</td><td>34</td></tr>",
                            "<tr><td>OLDWO</td><td>Rene Phillips</td><td>Grains/Cereals</td><td>Gnocchi di nonna Alice</td><td>44</td></tr>",
                            "<tr><td>OLDWO</td><td>Rene Phillips</td><td>Meat/Poultry</td><td>Thüringer Rostbratwurst</td><td>25</td></tr>",
                            "<tr><td>OLDWO</td><td>Rene Phillips</td><td>Produce</td><td>Manjimup Dried Apples</td><td>16</td></tr>",
                            "<tr><td>OLDWO</td><td>Rene Phillips</td><td>Seafood</td><td>Escargots de Bourgogne</td><td>30</td></tr>",
                            "<tr><td>OTTIK</td><td>Henriette Pfalzheim</td><td>Beverages</td><td>Chang</td><td>40</td></tr>",
                            "<tr><td>OTTIK</td><td>Henriette Pfalzheim</td><td>Condiments</td><td>Original Frankfurter grüne Soße</td><td>31</td></tr>",
                            "<tr><td>OTTIK</td><td>Henriette Pfalzheim</td><td>Confections</td><td>Zaanse koeken</td><td>40</td></tr>",
                            "<tr><td>OTTIK</td><td>Henriette Pfalzheim</td><td>Dairy Products</td><td>Queso Cabrales</td><td>30</td></tr>",
                            "<tr><td>OTTIK</td><td>Henriette Pfalzheim</td><td>Grains/Cereals</td><td>Ravioli Angelo</td><td>50</td></tr>",
                            "<tr><td>OTTIK</td><td>Henriette Pfalzheim</td><td>Meat/Poultry</td><td>Perth Pasties</td><td>9</td></tr>",
                            "<tr><td>OTTIK</td><td>Henriette Pfalzheim</td><td>Produce</td><td>Uncle Bob&#39;s Organic Dried Pears</td><td>55</td></tr>",
                            "<tr><td>OTTIK</td><td>Henriette Pfalzheim</td><td>Seafood</td><td>Jack&#39;s New England Clam Chowder</td><td>45</td></tr>",
                            "<tr><td>PERIC</td><td>Guillermo Fernández</td><td>Beverages</td><td>Laughing Lumberjack Lager</td><td>30</td></tr>",
                            "<tr><td>PERIC</td><td>Guillermo Fernández</td><td>Dairy Products</td><td>Queso Cabrales</td><td>10</td></tr>",
                            "<tr><td>PERIC</td><td>Guillermo Fernández</td><td>Grains/Cereals</td><td>Filo Mix</td><td>20</td></tr>",
                            "<tr><td>PERIC</td><td>Guillermo Fernández</td><td>Meat/Poultry</td><td>Perth Pasties</td><td>6</td></tr>",
                            "<tr><td>PERIC</td><td>Guillermo Fernández</td><td>Produce</td><td>Manjimup Dried Apples</td><td>20</td></tr>",
                            "<tr><td>PERIC</td><td>Guillermo Fernández</td><td>Seafood</td><td>Rogede sild</td><td>21</td></tr>",
                            "<tr><td>PICCO</td><td>Georg Pipps</td><td>Beverages</td><td>Côte de Blaye</td><td>50</td></tr>",
                            "<tr><td>PICCO</td><td>Georg Pipps</td><td>Condiments</td><td>Sirop d&#39;érable</td><td>20</td></tr>",
                            "<tr><td>PICCO</td><td>Georg Pipps</td><td>Confections</td><td>Pavlova</td><td>18</td></tr>",
                            "<tr><td>PICCO</td><td>Georg Pipps</td><td>Dairy Products</td><td>Gudbrandsdalsost</td><td>80</td></tr>",
                            "<tr><td>PICCO</td><td>Georg Pipps</td><td>Grains/Cereals</td><td>Gustaf&#39;s Knäckebröd</td><td>35</td></tr>",
                            "<tr><td>PICCO</td><td>Georg Pipps</td><td>Meat/Poultry</td><td>Alice Mutton</td><td>70</td></tr>",
                            "<tr><td>PICCO</td><td>Georg Pipps</td><td>Produce</td><td>Tofu</td><td>35</td></tr>",
                            "<tr><td>PICCO</td><td>Georg Pipps</td><td>Seafood</td><td>Carnarvon Tigers</td><td>35</td></tr>",
                            "<tr><td>PRINI</td><td>Isabel de Castro</td><td>Beverages</td><td>Chartreuse verte</td><td>20</td></tr>",
                            "<tr><td>PRINI</td><td>Isabel de Castro</td><td>Condiments</td><td>Northwoods Cranberry Sauce</td><td>30</td></tr>",
                            "<tr><td>PRINI</td><td>Isabel de Castro</td><td>Confections</td><td>Sir Rodney&#39;s Scones</td><td>31</td></tr>",
                            "<tr><td>PRINI</td><td>Isabel de Castro</td><td>Grains/Cereals</td><td>Gnocchi di nonna Alice</td><td>28</td></tr>",
                            "<tr><td>PRINI</td><td>Isabel de Castro</td><td>Meat/Poultry</td><td>Thüringer Rostbratwurst</td><td>10</td></tr>",
                            "<tr><td>PRINI</td><td>Isabel de Castro</td><td>Produce</td><td>Manjimup Dried Apples</td><td>18</td></tr>",
                            "<tr><td>QUEDE</td><td>Bernardo Batista</td><td>Beverages</td><td>Steeleye Stout</td><td>61</td></tr>",
                            "<tr><td>QUEDE</td><td>Bernardo Batista</td><td>Condiments</td><td>Grandma&#39;s Boysenberry Spread</td><td>40</td></tr>",
                            "<tr><td>QUEDE</td><td>Bernardo Batista</td><td>Confections</td><td>Gumbär Gummibärchen</td><td>36</td></tr>",
                            "<tr><td>QUEDE</td><td>Bernardo Batista</td><td>Dairy Products</td><td>Queso Cabrales</td><td>15</td></tr>",
                            "<tr><td>QUEDE</td><td>Bernardo Batista</td><td>Meat/Poultry</td><td>Perth Pasties</td><td>15</td></tr>",
                            "<tr><td>QUEDE</td><td>Bernardo Batista</td><td>Produce</td><td>Tofu</td><td>15</td></tr>",
                            "<tr><td>QUEDE</td><td>Bernardo Batista</td><td>Seafood</td><td>Konbu</td><td>20</td></tr>",
                            "<tr><td>QUEEN</td><td>Lúcia Carvalho</td><td>Beverages</td><td>Lakkalikööri</td><td>60</td></tr>",
                            "<tr><td>QUEEN</td><td>Lúcia Carvalho</td><td>Condiments</td><td>Chef Anton&#39;s Cajun Seasoning</td><td>36</td></tr>",
                            "<tr><td>QUEEN</td><td>Lúcia Carvalho</td><td>Confections</td><td>Gumbär Gummibärchen</td><td>50</td></tr>",
                            "<tr><td>QUEEN</td><td>Lúcia Carvalho</td><td>Dairy Products</td><td>Camembert Pierrot</td><td>85</td></tr>",
                            "<tr><td>QUEEN</td><td>Lúcia Carvalho</td><td>Grains/Cereals</td><td>Gnocchi di nonna Alice</td><td>60</td></tr>",
                            "<tr><td>QUEEN</td><td>Lúcia Carvalho</td><td>Meat/Poultry</td><td>Tourtière</td><td>24</td></tr>",
                            "<tr><td>QUEEN</td><td>Lúcia Carvalho</td><td>Produce</td><td>Rössle Sauerkraut</td><td>50</td></tr>",
                            "<tr><td>QUEEN</td><td>Lúcia Carvalho</td><td>Seafood</td><td>Boston Crab Meat</td><td>32</td></tr>",
                            "<tr><td>QUICK</td><td>Horst Kloss</td><td>Beverages</td><td>Lakkalikööri</td><td>167</td></tr>",
                            "<tr><td>QUICK</td><td>Horst Kloss</td><td>Condiments</td><td>Original Frankfurter grüne Soße</td><td>125</td></tr>",
                            "<tr><td>QUICK</td><td>Horst Kloss</td><td>Confections</td><td>Teatime Chocolate Biscuits</td><td>130</td></tr>",
                            "<tr><td>QUICK</td><td>Horst Kloss</td><td>Dairy Products</td><td>Camembert Pierrot</td><td>243</td></tr>",
                            "<tr><td>QUICK</td><td>Horst Kloss</td><td>Grains/Cereals</td><td>Singaporean Hokkien Fried Mee</td><td>191</td></tr>",
                            "<tr><td>QUICK</td><td>Horst Kloss</td><td>Meat/Poultry</td><td>Pâté chinois</td><td>120</td></tr>",
                            "<tr><td>QUICK</td><td>Horst Kloss</td><td>Produce</td><td>Uncle Bob&#39;s Organic Dried Pears</td><td>135</td></tr>",
                            "<tr><td>QUICK</td><td>Horst Kloss</td><td>Seafood</td><td>Boston Crab Meat</td><td>170</td></tr>",
                            "<tr><td>RANCH</td><td>Sergio Gutiérrez</td><td>Beverages</td><td>Côte de Blaye</td><td>2</td></tr>",
                            "<tr><td>RANCH</td><td>Sergio Gutiérrez</td><td>Condiments</td><td>Sirop d&#39;érable</td><td>10</td></tr>",
                            "<tr><td>RANCH</td><td>Sergio Gutiérrez</td><td>Confections</td><td>Pavlova</td><td>6</td></tr>",
                            "<tr><td>RANCH</td><td>Sergio Gutiérrez</td><td>Dairy Products</td><td>Mascarpone Fabioli</td><td>6</td></tr>",
                            "<tr><td>RANCH</td><td>Sergio Gutiérrez</td><td>Grains/Cereals</td><td>Ravioli Angelo</td><td>20</td></tr>",
                            "<tr><td>RANCH</td><td>Sergio Gutiérrez</td><td>Produce</td><td>Manjimup Dried Apples</td><td>7</td></tr>",
                            "<tr><td>RANCH</td><td>Sergio Gutiérrez</td><td>Seafood</td><td>Boston Crab Meat</td><td>20</td></tr>",
                            "<tr><td>RATTC</td><td>Paula Wilson</td><td>Beverages</td><td>Côte de Blaye</td><td>70</td></tr>",
                            "<tr><td>RATTC</td><td>Paula Wilson</td><td>Condiments</td><td>Original Frankfurter grüne Soße</td><td>32</td></tr>",
                            "<tr><td>RATTC</td><td>Paula Wilson</td><td>Confections</td><td>Tarte au sucre</td><td>185</td></tr>",
                            "<tr><td>RATTC</td><td>Paula Wilson</td><td>Dairy Products</td><td>Gorgonzola Telino</td><td>81</td></tr>",
                            "<tr><td>RATTC</td><td>Paula Wilson</td><td>Grains/Cereals</td><td>Gnocchi di nonna Alice</td><td>122</td></tr>",
                            "<tr><td>RATTC</td><td>Paula Wilson</td><td>Meat/Poultry</td><td>Alice Mutton</td><td>73</td></tr>",
                            "<tr><td>RATTC</td><td>Paula Wilson</td><td>Produce</td><td>Uncle Bob&#39;s Organic Dried Pears</td><td>76</td></tr>",
                            "<tr><td>RATTC</td><td>Paula Wilson</td><td>Seafood</td><td>Escargots de Bourgogne</td><td>30</td></tr>",
                            "<tr><td>REGGC</td><td>Maurizio Moroni</td><td>Beverages</td><td>Outback Lager</td><td>12</td></tr>",
                            "<tr><td>REGGC</td><td>Maurizio Moroni</td><td>Condiments</td><td>Original Frankfurter grüne Soße</td><td>20</td></tr>",
                            "<tr><td>REGGC</td><td>Maurizio Moroni</td><td>Confections</td><td>Maxilaku</td><td>28</td></tr>",
                            "<tr><td>REGGC</td><td>Maurizio Moroni</td><td>Dairy Products</td><td>Mozzarella di Giovanni</td><td>40</td></tr>",
                            "<tr><td>REGGC</td><td>Maurizio Moroni</td><td>Grains/Cereals</td><td>Filo Mix</td><td>18</td></tr>",
                            "<tr><td>REGGC</td><td>Maurizio Moroni</td><td>Meat/Poultry</td><td>Alice Mutton</td><td>20</td></tr>",
                            "<tr><td>REGGC</td><td>Maurizio Moroni</td><td>Produce</td><td>Uncle Bob&#39;s Organic Dried Pears</td><td>40</td></tr>",
                            "<tr><td>REGGC</td><td>Maurizio Moroni</td><td>Seafood</td><td>Spegesild</td><td>20</td></tr>",
                            "<tr><td>RICAR</td><td>Janete Limeira</td><td>Beverages</td><td>Chang</td><td>37</td></tr>",
                            "<tr><td>RICAR</td><td>Janete Limeira</td><td>Condiments</td><td>Louisiana Fiery Hot Pepper Sauce</td><td>35</td></tr>",
                            "<tr><td>RICAR</td><td>Janete Limeira</td><td>Confections</td><td>Pavlova</td><td>70</td></tr>",
                            "<tr><td>RICAR</td><td>Janete Limeira</td><td>Dairy Products</td><td>Camembert Pierrot</td><td>75</td></tr>",
                            "<tr><td>RICAR</td><td>Janete Limeira</td><td>Grains/Cereals</td><td>Filo Mix</td><td>70</td></tr>",
                            "<tr><td>RICAR</td><td>Janete Limeira</td><td>Meat/Poultry</td><td>Alice Mutton</td><td>12</td></tr>",
                            "<tr><td>RICAR</td><td>Janete Limeira</td><td>Seafood</td><td>Spegesild</td><td>50</td></tr>",
                            "<tr><td>RICSU</td><td>Michael Holz</td><td>Beverages</td><td>Rhönbräu Klosterbier</td><td>50</td></tr>",
                            "<tr><td>RICSU</td><td>Michael Holz</td><td>Condiments</td><td>Louisiana Fiery Hot Pepper Sauce</td><td>10</td></tr>",
                            "<tr><td>RICSU</td><td>Michael Holz</td><td>Confections</td><td>Pavlova</td><td>35</td></tr>",
                            "<tr><td>RICSU</td><td>Michael Holz</td><td>Dairy Products</td><td>Camembert Pierrot</td><td>60</td></tr>",
                            "<tr><td>RICSU</td><td>Michael Holz</td><td>Grains/Cereals</td><td>Filo Mix</td><td>60</td></tr>",
                            "<tr><td>RICSU</td><td>Michael Holz</td><td>Meat/Poultry</td><td>Perth Pasties</td><td>70</td></tr>",
                            "<tr><td>RICSU</td><td>Michael Holz</td><td>Produce</td><td>Manjimup Dried Apples</td><td>6</td></tr>",
                            "<tr><td>RICSU</td><td>Michael Holz</td><td>Seafood</td><td>Konbu</td><td>42</td></tr>",
                            "<tr><td>ROMEY</td><td>Alejandra Camino</td><td>Beverages</td><td>Guaraná Fantástica</td><td>6</td></tr>",
                            "<tr><td>ROMEY</td><td>Alejandra Camino</td><td>Confections</td><td>Scottish Longbreads</td><td>2</td></tr>",
                            "<tr><td>ROMEY</td><td>Alejandra Camino</td><td>Dairy Products</td><td>Camembert Pierrot</td><td>10</td></tr>",
                            "<tr><td>ROMEY</td><td>Alejandra Camino</td><td>Grains/Cereals</td><td>Tunnbröd</td><td>10</td></tr>",
                            "<tr><td>ROMEY</td><td>Alejandra Camino</td><td>Meat/Poultry</td><td>Perth Pasties</td><td>10</td></tr>",
                            "<tr><td>ROMEY</td><td>Alejandra Camino</td><td>Seafood</td><td>Rogede sild</td><td>20</td></tr>",
                            "<tr><td>SANTG</td><td>Jonas Bergulfsen</td><td>Beverages</td><td>Guaraná Fantástica</td><td>23</td></tr>",
                            "<tr><td>SANTG</td><td>Jonas Bergulfsen</td><td>Condiments</td><td>Original Frankfurter grüne Soße</td><td>18</td></tr>",
                            "<tr><td>SANTG</td><td>Jonas Bergulfsen</td><td>Confections</td><td>Pavlova</td><td>15</td></tr>",
                            "<tr><td>SANTG</td><td>Jonas Bergulfsen</td><td>Dairy Products</td><td>Flotemysost</td><td>15</td></tr>",
                            "<tr><td>SANTG</td><td>Jonas Bergulfsen</td><td>Meat/Poultry</td><td>Perth Pasties</td><td>5</td></tr>",
                            "<tr><td>SANTG</td><td>Jonas Bergulfsen</td><td>Produce</td><td>Uncle Bob&#39;s Organic Dried Pears</td><td>12</td></tr>",
                            "<tr><td>SANTG</td><td>Jonas Bergulfsen</td><td>Seafood</td><td>Nord-Ost Matjeshering</td><td>15</td></tr>",
                            "<tr><td>SAVEA</td><td>Jose Pavarotti</td><td>Beverages</td><td>Chang</td><td>203</td></tr>",
                            "<tr><td>SAVEA</td><td>Jose Pavarotti</td><td>Condiments</td><td>Gula Malacca</td><td>100</td></tr>",
                            "<tr><td>SAVEA</td><td>Jose Pavarotti</td><td>Confections</td><td>Scottish Longbreads</td><td>220</td></tr>",
                            "<tr><td>SAVEA</td><td>Jose Pavarotti</td><td>Dairy Products</td><td>Raclette Courdavault</td><td>147</td></tr>",
                            "<tr><td>SAVEA</td><td>Jose Pavarotti</td><td>Grains/Cereals</td><td>Gnocchi di nonna Alice</td><td>131</td></tr>",
                            "<tr><td>SAVEA</td><td>Jose Pavarotti</td><td>Meat/Poultry</td><td>Alice Mutton</td><td>204</td></tr>",
                            "<tr><td>SAVEA</td><td>Jose Pavarotti</td><td>Produce</td><td>Tofu</td><td>72</td></tr>",
                            "<tr><td>SAVEA</td><td>Jose Pavarotti</td><td>Seafood</td><td>Konbu</td><td>248</td></tr>",
                            "<tr><td>SEVES</td><td>Hari Kumar</td><td>Beverages</td><td>Guaraná Fantástica</td><td>80</td></tr>",
                            "<tr><td>SEVES</td><td>Hari Kumar</td><td>Confections</td><td>Pavlova</td><td>56</td></tr>",
                            "<tr><td>SEVES</td><td>Hari Kumar</td><td>Dairy Products</td><td>Camembert Pierrot</td><td>80</td></tr>",
                            "<tr><td>SEVES</td><td>Hari Kumar</td><td>Grains/Cereals</td><td>Tunnbröd</td><td>50</td></tr>",
                            "<tr><td>SEVES</td><td>Hari Kumar</td><td>Meat/Poultry</td><td>Perth Pasties</td><td>40</td></tr>",
                            "<tr><td>SEVES</td><td>Hari Kumar</td><td>Produce</td><td>Rössle Sauerkraut</td><td>44</td></tr>",
                            "<tr><td>SEVES</td><td>Hari Kumar</td><td>Seafood</td><td>Inlagd Sill</td><td>60</td></tr>",
                            "<tr><td>SIMOB</td><td>Jytte Petersen</td><td>Beverages</td><td>Côte de Blaye</td><td>50</td></tr>",
                            "<tr><td>SIMOB</td><td>Jytte Petersen</td><td>Condiments</td><td>Original Frankfurter grüne Soße</td><td>35</td></tr>",
                            "<tr><td>SIMOB</td><td>Jytte Petersen</td><td>Confections</td><td>Scottish Longbreads</td><td>36</td></tr>",
                            "<tr><td>SIMOB</td><td>Jytte Petersen</td><td>Dairy Products</td><td>Mozzarella di Giovanni</td><td>24</td></tr>",
                            "<tr><td>SIMOB</td><td>Jytte Petersen</td><td>Meat/Poultry</td><td>Pâté chinois</td><td>60</td></tr>",
                            "<tr><td>SIMOB</td><td>Jytte Petersen</td><td>Produce</td><td>Manjimup Dried Apples</td><td>30</td></tr>",
                            "<tr><td>SIMOB</td><td>Jytte Petersen</td><td>Seafood</td><td>Inlagd Sill</td><td>30</td></tr>",
                            "<tr><td>SPECD</td><td>Dominique Perrier</td><td>Beverages</td><td>Rhönbräu Klosterbier</td><td>14</td></tr>",
                            "<tr><td>SPECD</td><td>Dominique Perrier</td><td>Confections</td><td>Pavlova</td><td>3</td></tr>",
                            "<tr><td>SPECD</td><td>Dominique Perrier</td><td>Dairy Products</td><td>Queso Cabrales</td><td>10</td></tr>",
                            "<tr><td>SPECD</td><td>Dominique Perrier</td><td>Seafood</td><td>Carnarvon Tigers</td><td>6</td></tr>",
                            "<tr><td>SPLIR</td><td>Art Braunschweiger</td><td>Beverages</td><td>Steeleye Stout</td><td>20</td></tr>",
                            "<tr><td>SPLIR</td><td>Art Braunschweiger</td><td>Condiments</td><td>Vegie-spread</td><td>10</td></tr>",
                            "<tr><td>SPLIR</td><td>Art Braunschweiger</td><td>Confections</td><td>Scottish Longbreads</td><td>14</td></tr>",
                            "<tr><td>SPLIR</td><td>Art Braunschweiger</td><td>Dairy Products</td><td>Geitost</td><td>24</td></tr>",
                            "<tr><td>SPLIR</td><td>Art Braunschweiger</td><td>Grains/Cereals</td><td>Gnocchi di nonna Alice</td><td>30</td></tr>",
                            "<tr><td>SPLIR</td><td>Art Braunschweiger</td><td>Meat/Poultry</td><td>Tourtière</td><td>64</td></tr>",
                            "<tr><td>SPLIR</td><td>Art Braunschweiger</td><td>Produce</td><td>Uncle Bob&#39;s Organic Dried Pears</td><td>10</td></tr>",
                            "<tr><td>SPLIR</td><td>Art Braunschweiger</td><td>Seafood</td><td>Carnarvon Tigers</td><td>21</td></tr>",
                            "<tr><td>SUPRD</td><td>Pascale Cartrain</td><td>Beverages</td><td>Steeleye Stout</td><td>60</td></tr>",
                            "<tr><td>SUPRD</td><td>Pascale Cartrain</td><td>Condiments</td><td>Louisiana Hot Spiced Okra</td><td>60</td></tr>",
                            "<tr><td>SUPRD</td><td>Pascale Cartrain</td><td>Confections</td><td>Sir Rodney&#39;s Marmalade</td><td>40</td></tr>",
                            "<tr><td>SUPRD</td><td>Pascale Cartrain</td><td>Dairy Products</td><td>Flotemysost</td><td>80</td></tr>",
                            "<tr><td>SUPRD</td><td>Pascale Cartrain</td><td>Grains/Cereals</td><td>Singaporean Hokkien Fried Mee</td><td>82</td></tr>",
                            "<tr><td>SUPRD</td><td>Pascale Cartrain</td><td>Meat/Poultry</td><td>Alice Mutton</td><td>40</td></tr>",
                            "<tr><td>SUPRD</td><td>Pascale Cartrain</td><td>Produce</td><td>Rössle Sauerkraut</td><td>58</td></tr>",
                            "<tr><td>SUPRD</td><td>Pascale Cartrain</td><td>Seafood</td><td>Escargots de Bourgogne</td><td>30</td></tr>",
                            "<tr><td>THEBI</td><td>Liz Nixon</td><td>Beverages</td><td>Côte de Blaye</td><td>10</td></tr>",
                            "<tr><td>THEBI</td><td>Liz Nixon</td><td>Condiments</td><td>Chef Anton&#39;s Gumbo Mix</td><td>4</td></tr>",
                            "<tr><td>THEBI</td><td>Liz Nixon</td><td>Confections</td><td>Pavlova</td><td>10</td></tr>",
                            "<tr><td>THEBI</td><td>Liz Nixon</td><td>Dairy Products</td><td>Mozzarella di Giovanni</td><td>2</td></tr>",
                            "<tr><td>THEBI</td><td>Liz Nixon</td><td>Seafood</td><td>Inlagd Sill</td><td>5</td></tr>",
                            "<tr><td>THECR</td><td>Liu Wong</td><td>Beverages</td><td>Chai</td><td>4</td></tr>",
                            "<tr><td>THECR</td><td>Liu Wong</td><td>Condiments</td><td>Gula Malacca</td><td>10</td></tr>",
                            "<tr><td>THECR</td><td>Liu Wong</td><td>Grains/Cereals</td><td>Filo Mix</td><td>10</td></tr>",
                            "<tr><td>THECR</td><td>Liu Wong</td><td>Meat/Poultry</td><td>Thüringer Rostbratwurst</td><td>6</td></tr>",
                            "<tr><td>THECR</td><td>Liu Wong</td><td>Produce</td><td>Rössle Sauerkraut</td><td>10</td></tr>",
                            "<tr><td>THECR</td><td>Liu Wong</td><td>Seafood</td><td>Boston Crab Meat</td><td>10</td></tr>",
                            "<tr><td>TOMSP</td><td>Karin Josephs</td><td>Beverages</td><td>Sasquatch Ale</td><td>30</td></tr>",
                            "<tr><td>TOMSP</td><td>Karin Josephs</td><td>Confections</td><td>Maxilaku</td><td>40</td></tr>",
                            "<tr><td>TOMSP</td><td>Karin Josephs</td><td>Dairy Products</td><td>Gorgonzola Telino</td><td>3</td></tr>",
                            "<tr><td>TOMSP</td><td>Karin Josephs</td><td>Grains/Cereals</td><td>Gnocchi di nonna Alice</td><td>28</td></tr>",
                            "<tr><td>TOMSP</td><td>Karin Josephs</td><td>Produce</td><td>Manjimup Dried Apples</td><td>40</td></tr>",
                            "<tr><td>TOMSP</td><td>Karin Josephs</td><td>Seafood</td><td>Jack&#39;s New England Clam Chowder</td><td>14</td></tr>",
                            "<tr><td>TORTU</td><td>Miguel Angel Paolino</td><td>Beverages</td><td>Lakkalikööri</td><td>30</td></tr>",
                            "<tr><td>TORTU</td><td>Miguel Angel Paolino</td><td>Condiments</td><td>Gula Malacca</td><td>51</td></tr>",
                            "<tr><td>TORTU</td><td>Miguel Angel Paolino</td><td>Confections</td><td>Maxilaku</td><td>30</td></tr>",
                            "<tr><td>TORTU</td><td>Miguel Angel Paolino</td><td>Dairy Products</td><td>Geitost</td><td>30</td></tr>",
                            "<tr><td>TORTU</td><td>Miguel Angel Paolino</td><td>Meat/Poultry</td><td>Alice Mutton</td><td>18</td></tr>",
                            "<tr><td>TORTU</td><td>Miguel Angel Paolino</td><td>Produce</td><td>Rössle Sauerkraut</td><td>14</td></tr>",
                            "<tr><td>TORTU</td><td>Miguel Angel Paolino</td><td>Seafood</td><td>Ikura</td><td>17</td></tr>",
                            "<tr><td>TRADH</td><td>Anabela Domingues</td><td>Beverages</td><td>Chartreuse verte</td><td>28</td></tr>",
                            "<tr><td>TRADH</td><td>Anabela Domingues</td><td>Condiments</td><td>Chef Anton&#39;s Cajun Seasoning</td><td>20</td></tr>",
                            "<tr><td>TRADH</td><td>Anabela Domingues</td><td>Confections</td><td>Scottish Longbreads</td><td>24</td></tr>",
                            "<tr><td>TRADH</td><td>Anabela Domingues</td><td>Dairy Products</td><td>Camembert Pierrot</td><td>30</td></tr>",
                            "<tr><td>TRADH</td><td>Anabela Domingues</td><td>Meat/Poultry</td><td>Pâté chinois</td><td>20</td></tr>",
                            "<tr><td>TRADH</td><td>Anabela Domingues</td><td>Seafood</td><td>Escargots de Bourgogne</td><td>30</td></tr>",
                            "<tr><td>TRAIH</td><td>Helvetius Nagy</td><td>Beverages</td><td>Rhönbräu Klosterbier</td><td>20</td></tr>",
                            "<tr><td>TRAIH</td><td>Helvetius Nagy</td><td>Condiments</td><td>Original Frankfurter grüne Soße</td><td>18</td></tr>",
                            "<tr><td>TRAIH</td><td>Helvetius Nagy</td><td>Confections</td><td>Tarte au sucre</td><td>13</td></tr>",
                            "<tr><td>TRAIH</td><td>Helvetius Nagy</td><td>Dairy Products</td><td>Geitost</td><td>14</td></tr>",
                            "<tr><td>TRAIH</td><td>Helvetius Nagy</td><td>Grains/Cereals</td><td>Wimmers gute Semmelknödel</td><td>6</td></tr>",
                            "<tr><td>TRAIH</td><td>Helvetius Nagy</td><td>Seafood</td><td>Boston Crab Meat</td><td>2</td></tr>",
                            "<tr><td>VAFFE</td><td>Palle Ibsen</td><td>Beverages</td><td>Sasquatch Ale</td><td>50</td></tr>",
                            "<tr><td>VAFFE</td><td>Palle Ibsen</td><td>Condiments</td><td>Original Frankfurter grüne Soße</td><td>66</td></tr>",
                            "<tr><td>VAFFE</td><td>Palle Ibsen</td><td>Confections</td><td>Scottish Longbreads</td><td>60</td></tr>",
                            "<tr><td>VAFFE</td><td>Palle Ibsen</td><td>Dairy Products</td><td>Flotemysost</td><td>30</td></tr>",
                            "<tr><td>VAFFE</td><td>Palle Ibsen</td><td>Grains/Cereals</td><td>Filo Mix</td><td>15</td></tr>",
                            "<tr><td>VAFFE</td><td>Palle Ibsen</td><td>Meat/Poultry</td><td>Tourtière</td><td>68</td></tr>",
                            "<tr><td>VAFFE</td><td>Palle Ibsen</td><td>Produce</td><td>Rössle Sauerkraut</td><td>60</td></tr>",
                            "<tr><td>VAFFE</td><td>Palle Ibsen</td><td>Seafood</td><td>Boston Crab Meat</td><td>70</td></tr>",
                            "<tr><td>VICTE</td><td>Mary Saveley</td><td>Beverages</td><td>Steeleye Stout</td><td>30</td></tr>",
                            "<tr><td>VICTE</td><td>Mary Saveley</td><td>Condiments</td><td>Sirop d&#39;érable</td><td>30</td></tr>",
                            "<tr><td>VICTE</td><td>Mary Saveley</td><td>Confections</td><td>Tarte au sucre</td><td>40</td></tr>",
                            "<tr><td>VICTE</td><td>Mary Saveley</td><td>Dairy Products</td><td>Mozzarella di Giovanni</td><td>40</td></tr>",
                            "<tr><td>VICTE</td><td>Mary Saveley</td><td>Grains/Cereals</td><td>Ravioli Angelo</td><td>15</td></tr>",
                            "<tr><td>VICTE</td><td>Mary Saveley</td><td>Meat/Poultry</td><td>Tourtière</td><td>6</td></tr>",
                            "<tr><td>VICTE</td><td>Mary Saveley</td><td>Produce</td><td>Uncle Bob&#39;s Organic Dried Pears</td><td>26</td></tr>",
                            "<tr><td>VICTE</td><td>Mary Saveley</td><td>Seafood</td><td>Ikura</td><td>40</td></tr>",
                            "<tr><td>VINET</td><td>Paul Henriot</td><td>Dairy Products</td><td>Flotemysost</td><td>20</td></tr>",
                            "<tr><td>VINET</td><td>Paul Henriot</td><td>Grains/Cereals</td><td>Filo Mix</td><td>18</td></tr>",
                            "<tr><td>VINET</td><td>Paul Henriot</td><td>Seafood</td><td>Jack&#39;s New England Clam Chowder</td><td>12</td></tr>",
                            "<tr><td>WANDK</td><td>Rita Müller</td><td>Beverages</td><td>Chang</td><td>30</td></tr>",
                            "<tr><td>WANDK</td><td>Rita Müller</td><td>Condiments</td><td>Sirop d&#39;érable</td><td>15</td></tr>",
                            "<tr><td>WANDK</td><td>Rita Müller</td><td>Confections</td><td>Sir Rodney&#39;s Scones</td><td>40</td></tr>",
                            "<tr><td>WANDK</td><td>Rita Müller</td><td>Dairy Products</td><td>Mascarpone Fabioli</td><td>65</td></tr>",
                            "<tr><td>WANDK</td><td>Rita Müller</td><td>Grains/Cereals</td><td>Tunnbröd</td><td>25</td></tr>",
                            "<tr><td>WANDK</td><td>Rita Müller</td><td>Meat/Poultry</td><td>Perth Pasties</td><td>20</td></tr>",
                            "<tr><td>WANDK</td><td>Rita Müller</td><td>Produce</td><td>Rössle Sauerkraut</td><td>4</td></tr>",
                            "<tr><td>WANDK</td><td>Rita Müller</td><td>Seafood</td><td>Boston Crab Meat</td><td>10</td></tr>",
                            "<tr><td>WARTH</td><td>Pirkko Koskitalo</td><td>Beverages</td><td>Ipoh Coffee</td><td>25</td></tr>",
                            "<tr><td>WARTH</td><td>Pirkko Koskitalo</td><td>Condiments</td><td>Chef Anton&#39;s Cajun Seasoning</td><td>25</td></tr>",
                            "<tr><td>WARTH</td><td>Pirkko Koskitalo</td><td>Confections</td><td>Teatime Chocolate Biscuits</td><td>20</td></tr>",
                            "<tr><td>WARTH</td><td>Pirkko Koskitalo</td><td>Dairy Products</td><td>Flotemysost</td><td>100</td></tr>",
                            "<tr><td>WARTH</td><td>Pirkko Koskitalo</td><td>Grains/Cereals</td><td>Gnocchi di nonna Alice</td><td>50</td></tr>",
                            "<tr><td>WARTH</td><td>Pirkko Koskitalo</td><td>Meat/Poultry</td><td>Perth Pasties</td><td>75</td></tr>",
                            "<tr><td>WARTH</td><td>Pirkko Koskitalo</td><td>Produce</td><td>Tofu</td><td>35</td></tr>",
                            "<tr><td>WARTH</td><td>Pirkko Koskitalo</td><td>Seafood</td><td>Rogede sild</td><td>40</td></tr>",
                            "<tr><td>WELLI</td><td>Paula Parente</td><td>Beverages</td><td>Chai</td><td>41</td></tr>",
                            "<tr><td>WELLI</td><td>Paula Parente</td><td>Condiments</td><td>Original Frankfurter grüne Soße</td><td>12</td></tr>",
                            "<tr><td>WELLI</td><td>Paula Parente</td><td>Confections</td><td>Teatime Chocolate Biscuits</td><td>24</td></tr>",
                            "<tr><td>WELLI</td><td>Paula Parente</td><td>Dairy Products</td><td>Raclette Courdavault</td><td>15</td></tr>",
                            "<tr><td>WELLI</td><td>Paula Parente</td><td>Grains/Cereals</td><td>Filo Mix</td><td>20</td></tr>",
                            "<tr><td>WELLI</td><td>Paula Parente</td><td>Meat/Poultry</td><td>Mishi Kobe Niku</td><td>20</td></tr>",
                            "<tr><td>WELLI</td><td>Paula Parente</td><td>Seafood</td><td>Spegesild</td><td>21</td></tr>",
                            "<tr><td>WHITC</td><td>Karl Jablonski</td><td>Beverages</td><td>Sasquatch Ale</td><td>70</td></tr>",
                            "<tr><td>WHITC</td><td>Karl Jablonski</td><td>Condiments</td><td>Northwoods Cranberry Sauce</td><td>70</td></tr>",
                            "<tr><td>WHITC</td><td>Karl Jablonski</td><td>Confections</td><td>Sir Rodney&#39;s Scones</td><td>52</td></tr>",
                            "<tr><td>WHITC</td><td>Karl Jablonski</td><td>Dairy Products</td><td>Geitost</td><td>95</td></tr>",
                            "<tr><td>WHITC</td><td>Karl Jablonski</td><td>Grains/Cereals</td><td>Gnocchi di nonna Alice</td><td>19</td></tr>",
                            "<tr><td>WHITC</td><td>Karl Jablonski</td><td>Meat/Poultry</td><td>Alice Mutton</td><td>62</td></tr>",
                            "<tr><td>WHITC</td><td>Karl Jablonski</td><td>Produce</td><td>Rössle Sauerkraut</td><td>5</td></tr>",
                            "<tr><td>WHITC</td><td>Karl Jablonski</td><td>Seafood</td><td>Rogede sild</td><td>40</td></tr>",
                            "<tr><td>WILMK</td><td>Matti Karttunen</td><td>Beverages</td><td>Guaraná Fantástica</td><td>20</td></tr>",
                            "<tr><td>WILMK</td><td>Matti Karttunen</td><td>Condiments</td><td>Northwoods Cranberry Sauce</td><td>10</td></tr>",
                            "<tr><td>WILMK</td><td>Matti Karttunen</td><td>Confections</td><td>Sir Rodney&#39;s Scones</td><td>20</td></tr>",
                            "<tr><td>WILMK</td><td>Matti Karttunen</td><td>Dairy Products</td><td>Raclette Courdavault</td><td>10</td></tr>",
                            "<tr><td>WILMK</td><td>Matti Karttunen</td><td>Grains/Cereals</td><td>Singaporean Hokkien Fried Mee</td><td>6</td></tr>",
                            "<tr><td>WILMK</td><td>Matti Karttunen</td><td>Meat/Poultry</td><td>Pâté chinois</td><td>5</td></tr>",
                            "<tr><td>WILMK</td><td>Matti Karttunen</td><td>Produce</td><td>Rössle Sauerkraut</td><td>3</td></tr>",
                            "<tr><td>WILMK</td><td>Matti Karttunen</td><td>Seafood</td><td>Boston Crab Meat</td><td>12</td></tr>",
                            "<tr><td>WOLZA</td><td>Zbyszek Piestrzeniewicz</td><td>Beverages</td><td>Rhönbräu Klosterbier</td><td>30</td></tr>",
                            "<tr><td>WOLZA</td><td>Zbyszek Piestrzeniewicz</td><td>Condiments</td><td>Sirop d&#39;érable</td><td>22</td></tr>",
                            "<tr><td>WOLZA</td><td>Zbyszek Piestrzeniewicz</td><td>Confections</td><td>Scottish Longbreads</td><td>15</td></tr>",
                            "<tr><td>WOLZA</td><td>Zbyszek Piestrzeniewicz</td><td>Dairy Products</td><td>Gorgonzola Telino</td><td>30</td></tr>",
                            "<tr><td>WOLZA</td><td>Zbyszek Piestrzeniewicz</td><td>Meat/Poultry</td><td>Tourtière</td><td>3</td></tr>",
                            "<tr><td>WOLZA</td><td>Zbyszek Piestrzeniewicz</td><td>Produce</td><td>Longlife Tofu</td><td>20</td></tr>",
                            "<tr><td>WOLZA</td><td>Zbyszek Piestrzeniewicz</td><td>Seafood</td><td>Escargots de Bourgogne</td><td>15</td></tr>",
                            "</table>"
                        ]
                    }
                }
            ],
            "execution_count": 10
        },
        {
            "cell_type": "markdown",
            "source": [
                "- _<span lang=\"RU\" style=\"font-size: 12pt; font-family: Arial, sans-serif;\">Сколько всего единиц товаров (то есть, штук –&nbsp;Quantity) продал каждый продавец (имя, фамилия) осенью 1996 года?</span>_"
            ],
            "metadata": {
                "azdata_cell_guid": "5dac0766-3a58-4fd3-a88f-e24f74a429b2"
            },
            "attachments": {}
        },
        {
            "cell_type": "code",
            "source": [
                "WITH CustomerCategorySales AS (\n",
                "    SELECT\n",
                "        c.CustomerID,\n",
                "        c.ContactName,\n",
                "        p.CategoryID,\n",
                "        p.ProductID,\n",
                "        SUM(od.Quantity) AS TotalQuantity\n",
                "    FROM Customers c\n",
                "    JOIN Orders o ON c.CustomerID = o.CustomerID\n",
                "    JOIN [Order Details] od ON o.OrderID = od.OrderID\n",
                "    JOIN Products p ON od.ProductID = p.ProductID\n",
                "    GROUP BY c.CustomerID, c.ContactName, p.CategoryID, p.ProductID\n",
                "),\n",
                "CustomerFavoriteProducts AS (\n",
                "    SELECT\n",
                "        ccs.CustomerID,\n",
                "        ccs.ContactName,\n",
                "        ccs.CategoryID,\n",
                "        ccs.ProductID,\n",
                "        ccs.TotalQuantity,\n",
                "        ROW_NUMBER() OVER (PARTITION BY ccs.CustomerID, ccs.CategoryID ORDER BY ccs.TotalQuantity DESC) AS rn\n",
                "    FROM CustomerCategorySales ccs\n",
                ")\n",
                "SELECT \n",
                "    cfp.CustomerID,\n",
                "    cfp.ContactName,\n",
                "    cat.CategoryName,\n",
                "    p.ProductName,\n",
                "    cfp.TotalQuantity\n",
                "FROM CustomerFavoriteProducts cfp\n",
                "JOIN Products p ON cfp.ProductID = p.ProductID\n",
                "JOIN Categories cat ON cfp.CategoryID = cat.CategoryID\n",
                "WHERE cfp.rn = 1\n",
                "ORDER BY cfp.CustomerID, cfp.CategoryID;\n",
                ""
            ],
            "metadata": {
                "azdata_cell_guid": "986e1e87-521a-451c-acd2-52cb1d23c6af",
                "language": "sql"
            },
            "outputs": [
                {
                    "output_type": "display_data",
                    "data": {
                        "text/html": "(598 rows affected)"
                    },
                    "metadata": {}
                },
                {
                    "output_type": "display_data",
                    "data": {
                        "text/html": "Total execution time: 00:00:00.042"
                    },
                    "metadata": {}
                },
                {
                    "output_type": "execute_result",
                    "metadata": {},
                    "execution_count": 11,
                    "data": {
                        "application/vnd.dataresource+json": {
                            "schema": {
                                "fields": [
                                    {
                                        "name": "CustomerID"
                                    },
                                    {
                                        "name": "ContactName"
                                    },
                                    {
                                        "name": "CategoryName"
                                    },
                                    {
                                        "name": "ProductName"
                                    },
                                    {
                                        "name": "TotalQuantity"
                                    }
                                ]
                            },
                            "data": [
                                {
                                    "CustomerID": "ALFKI",
                                    "ContactName": "Maria Anders",
                                    "CategoryName": "Beverages",
                                    "ProductName": "Chartreuse verte",
                                    "TotalQuantity": "21"
                                },
                                {
                                    "CustomerID": "ALFKI",
                                    "ContactName": "Maria Anders",
                                    "CategoryName": "Condiments",
                                    "ProductName": "Vegie-spread",
                                    "TotalQuantity": "20"
                                },
                                {
                                    "CustomerID": "ALFKI",
                                    "ContactName": "Maria Anders",
                                    "CategoryName": "Dairy Products",
                                    "ProductName": "Flotemysost",
                                    "TotalQuantity": "20"
                                },
                                {
                                    "CustomerID": "ALFKI",
                                    "ContactName": "Maria Anders",
                                    "CategoryName": "Produce",
                                    "ProductName": "Rössle Sauerkraut",
                                    "TotalQuantity": "17"
                                },
                                {
                                    "CustomerID": "ALFKI",
                                    "ContactName": "Maria Anders",
                                    "CategoryName": "Seafood",
                                    "ProductName": "Escargots de Bourgogne",
                                    "TotalQuantity": "40"
                                },
                                {
                                    "CustomerID": "ANATR",
                                    "ContactName": "Ana Trujillo",
                                    "CategoryName": "Beverages",
                                    "ProductName": "Outback Lager",
                                    "TotalQuantity": "5"
                                },
                                {
                                    "CustomerID": "ANATR",
                                    "ContactName": "Ana Trujillo",
                                    "CategoryName": "Confections",
                                    "ProductName": "Teatime Chocolate Biscuits",
                                    "TotalQuantity": "7"
                                },
                                {
                                    "CustomerID": "ANATR",
                                    "ContactName": "Ana Trujillo",
                                    "CategoryName": "Dairy Products",
                                    "ProductName": "Mascarpone Fabioli",
                                    "TotalQuantity": "10"
                                },
                                {
                                    "CustomerID": "ANATR",
                                    "ContactName": "Ana Trujillo",
                                    "CategoryName": "Grains/Cereals",
                                    "ProductName": "Singaporean Hokkien Fried Mee",
                                    "TotalQuantity": "5"
                                },
                                {
                                    "CustomerID": "ANATR",
                                    "ContactName": "Ana Trujillo",
                                    "CategoryName": "Produce",
                                    "ProductName": "Tofu",
                                    "TotalQuantity": "3"
                                },
                                {
                                    "CustomerID": "ANATR",
                                    "ContactName": "Ana Trujillo",
                                    "CategoryName": "Seafood",
                                    "ProductName": "Konbu",
                                    "TotalQuantity": "10"
                                },
                                {
                                    "CustomerID": "ANTON",
                                    "ContactName": "Antonio Moreno",
                                    "CategoryName": "Beverages",
                                    "ProductName": "Sasquatch Ale",
                                    "TotalQuantity": "40"
                                },
                                {
                                    "CustomerID": "ANTON",
                                    "ContactName": "Antonio Moreno",
                                    "CategoryName": "Condiments",
                                    "ProductName": "Louisiana Hot Spiced Okra",
                                    "TotalQuantity": "4"
                                },
                                {
                                    "CustomerID": "ANTON",
                                    "ContactName": "Antonio Moreno",
                                    "CategoryName": "Confections",
                                    "ProductName": "Gumbär Gummibärchen",
                                    "TotalQuantity": "30"
                                },
                                {
                                    "CustomerID": "ANTON",
                                    "ContactName": "Antonio Moreno",
                                    "CategoryName": "Dairy Products",
                                    "ProductName": "Queso Cabrales",
                                    "TotalQuantity": "74"
                                },
                                {
                                    "CustomerID": "ANTON",
                                    "ContactName": "Antonio Moreno",
                                    "CategoryName": "Grains/Cereals",
                                    "ProductName": "Singaporean Hokkien Fried Mee",
                                    "TotalQuantity": "20"
                                },
                                {
                                    "CustomerID": "ANTON",
                                    "ContactName": "Antonio Moreno",
                                    "CategoryName": "Meat/Poultry",
                                    "ProductName": "Perth Pasties",
                                    "TotalQuantity": "25"
                                },
                                {
                                    "CustomerID": "ANTON",
                                    "ContactName": "Antonio Moreno",
                                    "CategoryName": "Seafood",
                                    "ProductName": "Boston Crab Meat",
                                    "TotalQuantity": "10"
                                },
                                {
                                    "CustomerID": "AROUT",
                                    "ContactName": "Thomas Hardy",
                                    "CategoryName": "Beverages",
                                    "ProductName": "Outback Lager",
                                    "TotalQuantity": "53"
                                },
                                {
                                    "CustomerID": "AROUT",
                                    "ContactName": "Thomas Hardy",
                                    "CategoryName": "Confections",
                                    "ProductName": "Sir Rodney's Marmalade",
                                    "TotalQuantity": "50"
                                },
                                {
                                    "CustomerID": "AROUT",
                                    "ContactName": "Thomas Hardy",
                                    "CategoryName": "Dairy Products",
                                    "ProductName": "Gorgonzola Telino",
                                    "TotalQuantity": "115"
                                },
                                {
                                    "CustomerID": "AROUT",
                                    "ContactName": "Thomas Hardy",
                                    "CategoryName": "Grains/Cereals",
                                    "ProductName": "Ravioli Angelo",
                                    "TotalQuantity": "65"
                                },
                                {
                                    "CustomerID": "AROUT",
                                    "ContactName": "Thomas Hardy",
                                    "CategoryName": "Meat/Poultry",
                                    "ProductName": "Pâté chinois",
                                    "TotalQuantity": "21"
                                },
                                {
                                    "CustomerID": "AROUT",
                                    "ContactName": "Thomas Hardy",
                                    "CategoryName": "Produce",
                                    "ProductName": "Manjimup Dried Apples",
                                    "TotalQuantity": "20"
                                },
                                {
                                    "CustomerID": "AROUT",
                                    "ContactName": "Thomas Hardy",
                                    "CategoryName": "Seafood",
                                    "ProductName": "Spegesild",
                                    "TotalQuantity": "28"
                                },
                                {
                                    "CustomerID": "BERGS",
                                    "ContactName": "Christina Berglund",
                                    "CategoryName": "Beverages",
                                    "ProductName": "Ipoh Coffee",
                                    "TotalQuantity": "60"
                                },
                                {
                                    "CustomerID": "BERGS",
                                    "ContactName": "Christina Berglund",
                                    "CategoryName": "Condiments",
                                    "ProductName": "Aniseed Syrup",
                                    "TotalQuantity": "30"
                                },
                                {
                                    "CustomerID": "BERGS",
                                    "ContactName": "Christina Berglund",
                                    "CategoryName": "Confections",
                                    "ProductName": "Zaanse koeken",
                                    "TotalQuantity": "61"
                                },
                                {
                                    "CustomerID": "BERGS",
                                    "ContactName": "Christina Berglund",
                                    "CategoryName": "Dairy Products",
                                    "ProductName": "Camembert Pierrot",
                                    "TotalQuantity": "35"
                                },
                                {
                                    "CustomerID": "BERGS",
                                    "ContactName": "Christina Berglund",
                                    "CategoryName": "Grains/Cereals",
                                    "ProductName": "Filo Mix",
                                    "TotalQuantity": "25"
                                },
                                {
                                    "CustomerID": "BERGS",
                                    "ContactName": "Christina Berglund",
                                    "CategoryName": "Meat/Poultry",
                                    "ProductName": "Tourtière",
                                    "TotalQuantity": "36"
                                },
                                {
                                    "CustomerID": "BERGS",
                                    "ContactName": "Christina Berglund",
                                    "CategoryName": "Produce",
                                    "ProductName": "Rössle Sauerkraut",
                                    "TotalQuantity": "50"
                                },
                                {
                                    "CustomerID": "BERGS",
                                    "ContactName": "Christina Berglund",
                                    "CategoryName": "Seafood",
                                    "ProductName": "Boston Crab Meat",
                                    "TotalQuantity": "75"
                                },
                                {
                                    "CustomerID": "BLAUS",
                                    "ContactName": "Hanna Moos",
                                    "CategoryName": "Beverages",
                                    "ProductName": "Lakkalikööri",
                                    "TotalQuantity": "14"
                                },
                                {
                                    "CustomerID": "BLAUS",
                                    "ContactName": "Hanna Moos",
                                    "CategoryName": "Condiments",
                                    "ProductName": "Sirop d'érable",
                                    "TotalQuantity": "4"
                                },
                                {
                                    "CustomerID": "BLAUS",
                                    "ContactName": "Hanna Moos",
                                    "CategoryName": "Confections",
                                    "ProductName": "Sir Rodney's Scones",
                                    "TotalQuantity": "23"
                                },
                                {
                                    "CustomerID": "BLAUS",
                                    "ContactName": "Hanna Moos",
                                    "CategoryName": "Dairy Products",
                                    "ProductName": "Camembert Pierrot",
                                    "TotalQuantity": "21"
                                },
                                {
                                    "CustomerID": "BLAUS",
                                    "ContactName": "Hanna Moos",
                                    "CategoryName": "Grains/Cereals",
                                    "ProductName": "Ravioli Angelo",
                                    "TotalQuantity": "4"
                                },
                                {
                                    "CustomerID": "BLAUS",
                                    "ContactName": "Hanna Moos",
                                    "CategoryName": "Meat/Poultry",
                                    "ProductName": "Tourtière",
                                    "TotalQuantity": "20"
                                },
                                {
                                    "CustomerID": "BLAUS",
                                    "ContactName": "Hanna Moos",
                                    "CategoryName": "Produce",
                                    "ProductName": "Manjimup Dried Apples",
                                    "TotalQuantity": "8"
                                },
                                {
                                    "CustomerID": "BLAUS",
                                    "ContactName": "Hanna Moos",
                                    "CategoryName": "Seafood",
                                    "ProductName": "Carnarvon Tigers",
                                    "TotalQuantity": "10"
                                },
                                {
                                    "CustomerID": "BLONP",
                                    "ContactName": "Frédérique Citeaux",
                                    "CategoryName": "Beverages",
                                    "ProductName": "Chartreuse verte",
                                    "TotalQuantity": "60"
                                },
                                {
                                    "CustomerID": "BLONP",
                                    "ContactName": "Frédérique Citeaux",
                                    "CategoryName": "Confections",
                                    "ProductName": "Maxilaku",
                                    "TotalQuantity": "35"
                                },
                                {
                                    "CustomerID": "BLONP",
                                    "ContactName": "Frédérique Citeaux",
                                    "CategoryName": "Dairy Products",
                                    "ProductName": "Gorgonzola Telino",
                                    "TotalQuantity": "85"
                                },
                                {
                                    "CustomerID": "BLONP",
                                    "ContactName": "Frédérique Citeaux",
                                    "CategoryName": "Grains/Cereals",
                                    "ProductName": "Gnocchi di nonna Alice",
                                    "TotalQuantity": "40"
                                },
                                {
                                    "CustomerID": "BLONP",
                                    "ContactName": "Frédérique Citeaux",
                                    "CategoryName": "Meat/Poultry",
                                    "ProductName": "Thüringer Rostbratwurst",
                                    "TotalQuantity": "35"
                                },
                                {
                                    "CustomerID": "BLONP",
                                    "ContactName": "Frédérique Citeaux",
                                    "CategoryName": "Produce",
                                    "ProductName": "Rössle Sauerkraut",
                                    "TotalQuantity": "30"
                                },
                                {
                                    "CustomerID": "BLONP",
                                    "ContactName": "Frédérique Citeaux",
                                    "CategoryName": "Seafood",
                                    "ProductName": "Carnarvon Tigers",
                                    "TotalQuantity": "18"
                                },
                                {
                                    "CustomerID": "BOLID",
                                    "ContactName": "Martín Sommer",
                                    "CategoryName": "Beverages",
                                    "ProductName": "Rhönbräu Klosterbier",
                                    "TotalQuantity": "50"
                                },
                                {
                                    "CustomerID": "BOLID",
                                    "ContactName": "Martín Sommer",
                                    "CategoryName": "Condiments",
                                    "ProductName": "Chef Anton's Cajun Seasoning",
                                    "TotalQuantity": "24"
                                },
                                {
                                    "CustomerID": "BOLID",
                                    "ContactName": "Martín Sommer",
                                    "CategoryName": "Grains/Cereals",
                                    "ProductName": "Filo Mix",
                                    "TotalQuantity": "40"
                                },
                                {
                                    "CustomerID": "BOLID",
                                    "ContactName": "Martín Sommer",
                                    "CategoryName": "Meat/Poultry",
                                    "ProductName": "Alice Mutton",
                                    "TotalQuantity": "40"
                                },
                                {
                                    "CustomerID": "BONAP",
                                    "ContactName": "Laurence Lebihan",
                                    "CategoryName": "Beverages",
                                    "ProductName": "Ipoh Coffee",
                                    "TotalQuantity": "40"
                                },
                                {
                                    "CustomerID": "BONAP",
                                    "ContactName": "Laurence Lebihan",
                                    "CategoryName": "Condiments",
                                    "ProductName": "Grandma's Boysenberry Spread",
                                    "TotalQuantity": "70"
                                },
                                {
                                    "CustomerID": "BONAP",
                                    "ContactName": "Laurence Lebihan",
                                    "CategoryName": "Confections",
                                    "ProductName": "Pavlova",
                                    "TotalQuantity": "57"
                                },
                                {
                                    "CustomerID": "BONAP",
                                    "ContactName": "Laurence Lebihan",
                                    "CategoryName": "Dairy Products",
                                    "ProductName": "Flotemysost",
                                    "TotalQuantity": "30"
                                },
                                {
                                    "CustomerID": "BONAP",
                                    "ContactName": "Laurence Lebihan",
                                    "CategoryName": "Grains/Cereals",
                                    "ProductName": "Gnocchi di nonna Alice",
                                    "TotalQuantity": "30"
                                },
                                {
                                    "CustomerID": "BONAP",
                                    "ContactName": "Laurence Lebihan",
                                    "CategoryName": "Meat/Poultry",
                                    "ProductName": "Tourtière",
                                    "TotalQuantity": "39"
                                },
                                {
                                    "CustomerID": "BONAP",
                                    "ContactName": "Laurence Lebihan",
                                    "CategoryName": "Produce",
                                    "ProductName": "Uncle Bob's Organic Dried Pears",
                                    "TotalQuantity": "58"
                                },
                                {
                                    "CustomerID": "BONAP",
                                    "ContactName": "Laurence Lebihan",
                                    "CategoryName": "Seafood",
                                    "ProductName": "Carnarvon Tigers",
                                    "TotalQuantity": "50"
                                },
                                {
                                    "CustomerID": "BOTTM",
                                    "ContactName": "Elizabeth Lincoln",
                                    "CategoryName": "Beverages",
                                    "ProductName": "Chai",
                                    "TotalQuantity": "60"
                                },
                                {
                                    "CustomerID": "BOTTM",
                                    "ContactName": "Elizabeth Lincoln",
                                    "CategoryName": "Condiments",
                                    "ProductName": "Gula Malacca",
                                    "TotalQuantity": "58"
                                },
                                {
                                    "CustomerID": "BOTTM",
                                    "ContactName": "Elizabeth Lincoln",
                                    "CategoryName": "Confections",
                                    "ProductName": "Tarte au sucre",
                                    "TotalQuantity": "101"
                                },
                                {
                                    "CustomerID": "BOTTM",
                                    "ContactName": "Elizabeth Lincoln",
                                    "CategoryName": "Dairy Products",
                                    "ProductName": "Camembert Pierrot",
                                    "TotalQuantity": "75"
                                },
                                {
                                    "CustomerID": "BOTTM",
                                    "ContactName": "Elizabeth Lincoln",
                                    "CategoryName": "Grains/Cereals",
                                    "ProductName": "Singaporean Hokkien Fried Mee",
                                    "TotalQuantity": "20"
                                },
                                {
                                    "CustomerID": "BOTTM",
                                    "ContactName": "Elizabeth Lincoln",
                                    "CategoryName": "Meat/Poultry",
                                    "ProductName": "Alice Mutton",
                                    "TotalQuantity": "56"
                                },
                                {
                                    "CustomerID": "BOTTM",
                                    "ContactName": "Elizabeth Lincoln",
                                    "CategoryName": "Produce",
                                    "ProductName": "Manjimup Dried Apples",
                                    "TotalQuantity": "24"
                                },
                                {
                                    "CustomerID": "BOTTM",
                                    "ContactName": "Elizabeth Lincoln",
                                    "CategoryName": "Seafood",
                                    "ProductName": "Boston Crab Meat",
                                    "TotalQuantity": "50"
                                },
                                {
                                    "CustomerID": "BSBEV",
                                    "ContactName": "Victoria Ashworth",
                                    "CategoryName": "Beverages",
                                    "ProductName": "Ipoh Coffee",
                                    "TotalQuantity": "30"
                                },
                                {
                                    "CustomerID": "BSBEV",
                                    "ContactName": "Victoria Ashworth",
                                    "CategoryName": "Condiments",
                                    "ProductName": "Aniseed Syrup",
                                    "TotalQuantity": "30"
                                },
                                {
                                    "CustomerID": "BSBEV",
                                    "ContactName": "Victoria Ashworth",
                                    "CategoryName": "Confections",
                                    "ProductName": "Sir Rodney's Scones",
                                    "TotalQuantity": "29"
                                },
                                {
                                    "CustomerID": "BSBEV",
                                    "ContactName": "Victoria Ashworth",
                                    "CategoryName": "Dairy Products",
                                    "ProductName": "Geitost",
                                    "TotalQuantity": "15"
                                },
                                {
                                    "CustomerID": "BSBEV",
                                    "ContactName": "Victoria Ashworth",
                                    "CategoryName": "Grains/Cereals",
                                    "ProductName": "Gustaf's Knäckebröd",
                                    "TotalQuantity": "21"
                                },
                                {
                                    "CustomerID": "BSBEV",
                                    "ContactName": "Victoria Ashworth",
                                    "CategoryName": "Produce",
                                    "ProductName": "Uncle Bob's Organic Dried Pears",
                                    "TotalQuantity": "34"
                                },
                                {
                                    "CustomerID": "BSBEV",
                                    "ContactName": "Victoria Ashworth",
                                    "CategoryName": "Seafood",
                                    "ProductName": "Konbu",
                                    "TotalQuantity": "23"
                                },
                                {
                                    "CustomerID": "CACTU",
                                    "ContactName": "Patricio Simpson",
                                    "CategoryName": "Beverages",
                                    "ProductName": "Sasquatch Ale",
                                    "TotalQuantity": "20"
                                },
                                {
                                    "CustomerID": "CACTU",
                                    "ContactName": "Patricio Simpson",
                                    "CategoryName": "Confections",
                                    "ProductName": "Scottish Longbreads",
                                    "TotalQuantity": "6"
                                },
                                {
                                    "CustomerID": "CACTU",
                                    "ContactName": "Patricio Simpson",
                                    "CategoryName": "Dairy Products",
                                    "ProductName": "Geitost",
                                    "TotalQuantity": "10"
                                },
                                {
                                    "CustomerID": "CACTU",
                                    "ContactName": "Patricio Simpson",
                                    "CategoryName": "Produce",
                                    "ProductName": "Rössle Sauerkraut",
                                    "TotalQuantity": "8"
                                },
                                {
                                    "CustomerID": "CACTU",
                                    "ContactName": "Patricio Simpson",
                                    "CategoryName": "Seafood",
                                    "ProductName": "Jack's New England Clam Chowder",
                                    "TotalQuantity": "10"
                                },
                                {
                                    "CustomerID": "CENTC",
                                    "ContactName": "Francisco Chang",
                                    "CategoryName": "Confections",
                                    "ProductName": "Sir Rodney's Scones",
                                    "TotalQuantity": "10"
                                },
                                {
                                    "CustomerID": "CENTC",
                                    "ContactName": "Francisco Chang",
                                    "CategoryName": "Seafood",
                                    "ProductName": "Gravad lax",
                                    "TotalQuantity": "1"
                                },
                                {
                                    "CustomerID": "CHOPS",
                                    "ContactName": "Yang Wang",
                                    "CategoryName": "Beverages",
                                    "ProductName": "Chang",
                                    "TotalQuantity": "30"
                                },
                                {
                                    "CustomerID": "CHOPS",
                                    "ContactName": "Yang Wang",
                                    "CategoryName": "Condiments",
                                    "ProductName": "Vegie-spread",
                                    "TotalQuantity": "42"
                                },
                                {
                                    "CustomerID": "CHOPS",
                                    "ContactName": "Yang Wang",
                                    "CategoryName": "Confections",
                                    "ProductName": "Sir Rodney's Scones",
                                    "TotalQuantity": "40"
                                },
                                {
                                    "CustomerID": "CHOPS",
                                    "ContactName": "Yang Wang",
                                    "CategoryName": "Dairy Products",
                                    "ProductName": "Gudbrandsdalsost",
                                    "TotalQuantity": "40"
                                },
                                {
                                    "CustomerID": "CHOPS",
                                    "ContactName": "Yang Wang",
                                    "CategoryName": "Grains/Cereals",
                                    "ProductName": "Gnocchi di nonna Alice",
                                    "TotalQuantity": "72"
                                },
                                {
                                    "CustomerID": "CHOPS",
                                    "ContactName": "Yang Wang",
                                    "CategoryName": "Meat/Poultry",
                                    "ProductName": "Pâté chinois",
                                    "TotalQuantity": "21"
                                },
                                {
                                    "CustomerID": "CHOPS",
                                    "ContactName": "Yang Wang",
                                    "CategoryName": "Produce",
                                    "ProductName": "Longlife Tofu",
                                    "TotalQuantity": "41"
                                },
                                {
                                    "CustomerID": "CHOPS",
                                    "ContactName": "Yang Wang",
                                    "CategoryName": "Seafood",
                                    "ProductName": "Ikura",
                                    "TotalQuantity": "16"
                                },
                                {
                                    "CustomerID": "COMMI",
                                    "ContactName": "Pedro Afonso",
                                    "CategoryName": "Condiments",
                                    "ProductName": "Chef Anton's Gumbo Mix",
                                    "TotalQuantity": "20"
                                },
                                {
                                    "CustomerID": "COMMI",
                                    "ContactName": "Pedro Afonso",
                                    "CategoryName": "Confections",
                                    "ProductName": "Maxilaku",
                                    "TotalQuantity": "15"
                                },
                                {
                                    "CustomerID": "COMMI",
                                    "ContactName": "Pedro Afonso",
                                    "CategoryName": "Dairy Products",
                                    "ProductName": "Queso Cabrales",
                                    "TotalQuantity": "10"
                                },
                                {
                                    "CustomerID": "COMMI",
                                    "ContactName": "Pedro Afonso",
                                    "CategoryName": "Grains/Cereals",
                                    "ProductName": "Gnocchi di nonna Alice",
                                    "TotalQuantity": "30"
                                },
                                {
                                    "CustomerID": "COMMI",
                                    "ContactName": "Pedro Afonso",
                                    "CategoryName": "Meat/Poultry",
                                    "ProductName": "Thüringer Rostbratwurst",
                                    "TotalQuantity": "15"
                                },
                                {
                                    "CustomerID": "COMMI",
                                    "ContactName": "Pedro Afonso",
                                    "CategoryName": "Seafood",
                                    "ProductName": "Spegesild",
                                    "TotalQuantity": "14"
                                },
                                {
                                    "CustomerID": "CONSH",
                                    "ContactName": "Elizabeth Brown",
                                    "CategoryName": "Beverages",
                                    "ProductName": "Chang",
                                    "TotalQuantity": "10"
                                },
                                {
                                    "CustomerID": "CONSH",
                                    "ContactName": "Elizabeth Brown",
                                    "CategoryName": "Condiments",
                                    "ProductName": "Chef Anton's Gumbo Mix",
                                    "TotalQuantity": "30"
                                },
                                {
                                    "CustomerID": "CONSH",
                                    "ContactName": "Elizabeth Brown",
                                    "CategoryName": "Dairy Products",
                                    "ProductName": "Mozzarella di Giovanni",
                                    "TotalQuantity": "10"
                                },
                                {
                                    "CustomerID": "CONSH",
                                    "ContactName": "Elizabeth Brown",
                                    "CategoryName": "Grains/Cereals",
                                    "ProductName": "Tunnbröd",
                                    "TotalQuantity": "21"
                                },
                                {
                                    "CustomerID": "CONSH",
                                    "ContactName": "Elizabeth Brown",
                                    "CategoryName": "Meat/Poultry",
                                    "ProductName": "Mishi Kobe Niku",
                                    "TotalQuantity": "3"
                                },
                                {
                                    "CustomerID": "CONSH",
                                    "ContactName": "Elizabeth Brown",
                                    "CategoryName": "Seafood",
                                    "ProductName": "Konbu",
                                    "TotalQuantity": "1"
                                },
                                {
                                    "CustomerID": "DRACD",
                                    "ContactName": "Sven Ottlieb",
                                    "CategoryName": "Beverages",
                                    "ProductName": "Rhönbräu Klosterbier",
                                    "TotalQuantity": "12"
                                },
                                {
                                    "CustomerID": "DRACD",
                                    "ContactName": "Sven Ottlieb",
                                    "CategoryName": "Confections",
                                    "ProductName": "Gumbär Gummibärchen",
                                    "TotalQuantity": "12"
                                },
                                {
                                    "CustomerID": "DRACD",
                                    "ContactName": "Sven Ottlieb",
                                    "CategoryName": "Dairy Products",
                                    "ProductName": "Raclette Courdavault",
                                    "TotalQuantity": "30"
                                },
                                {
                                    "CustomerID": "DRACD",
                                    "ContactName": "Sven Ottlieb",
                                    "CategoryName": "Meat/Poultry",
                                    "ProductName": "Perth Pasties",
                                    "TotalQuantity": "20"
                                },
                                {
                                    "CustomerID": "DRACD",
                                    "ContactName": "Sven Ottlieb",
                                    "CategoryName": "Seafood",
                                    "ProductName": "Konbu",
                                    "TotalQuantity": "25"
                                },
                                {
                                    "CustomerID": "DUMON",
                                    "ContactName": "Janine Labrune",
                                    "CategoryName": "Beverages",
                                    "ProductName": "Sasquatch Ale",
                                    "TotalQuantity": "10"
                                },
                                {
                                    "CustomerID": "DUMON",
                                    "ContactName": "Janine Labrune",
                                    "CategoryName": "Confections",
                                    "ProductName": "Sir Rodney's Scones",
                                    "TotalQuantity": "6"
                                },
                                {
                                    "CustomerID": "DUMON",
                                    "ContactName": "Janine Labrune",
                                    "CategoryName": "Dairy Products",
                                    "ProductName": "Gudbrandsdalsost",
                                    "TotalQuantity": "7"
                                },
                                {
                                    "CustomerID": "DUMON",
                                    "ContactName": "Janine Labrune",
                                    "CategoryName": "Grains/Cereals",
                                    "ProductName": "Filo Mix",
                                    "TotalQuantity": "9"
                                },
                                {
                                    "CustomerID": "DUMON",
                                    "ContactName": "Janine Labrune",
                                    "CategoryName": "Meat/Poultry",
                                    "ProductName": "Alice Mutton",
                                    "TotalQuantity": "15"
                                },
                                {
                                    "CustomerID": "DUMON",
                                    "ContactName": "Janine Labrune",
                                    "CategoryName": "Seafood",
                                    "ProductName": "Jack's New England Clam Chowder",
                                    "TotalQuantity": "14"
                                },
                                {
                                    "CustomerID": "EASTC",
                                    "ContactName": "Ann Devon",
                                    "CategoryName": "Beverages",
                                    "ProductName": "Steeleye Stout",
                                    "TotalQuantity": "35"
                                },
                                {
                                    "CustomerID": "EASTC",
                                    "ContactName": "Ann Devon",
                                    "CategoryName": "Condiments",
                                    "ProductName": "Chef Anton's Gumbo Mix",
                                    "TotalQuantity": "30"
                                },
                                {
                                    "CustomerID": "EASTC",
                                    "ContactName": "Ann Devon",
                                    "CategoryName": "Confections",
                                    "ProductName": "Maxilaku",
                                    "TotalQuantity": "30"
                                },
                                {
                                    "CustomerID": "EASTC",
                                    "ContactName": "Ann Devon",
                                    "CategoryName": "Dairy Products",
                                    "ProductName": "Flotemysost",
                                    "TotalQuantity": "55"
                                },
                                {
                                    "CustomerID": "EASTC",
                                    "ContactName": "Ann Devon",
                                    "CategoryName": "Meat/Poultry",
                                    "ProductName": "Pâté chinois",
                                    "TotalQuantity": "35"
                                },
                                {
                                    "CustomerID": "EASTC",
                                    "ContactName": "Ann Devon",
                                    "CategoryName": "Produce",
                                    "ProductName": "Uncle Bob's Organic Dried Pears",
                                    "TotalQuantity": "100"
                                },
                                {
                                    "CustomerID": "EASTC",
                                    "ContactName": "Ann Devon",
                                    "CategoryName": "Seafood",
                                    "ProductName": "Nord-Ost Matjeshering",
                                    "TotalQuantity": "15"
                                },
                                {
                                    "CustomerID": "ERNSH",
                                    "ContactName": "Roland Mendel",
                                    "CategoryName": "Beverages",
                                    "ProductName": "Guaraná Fantástica",
                                    "TotalQuantity": "248"
                                },
                                {
                                    "CustomerID": "ERNSH",
                                    "ContactName": "Roland Mendel",
                                    "CategoryName": "Condiments",
                                    "ProductName": "Sirop d'érable",
                                    "TotalQuantity": "186"
                                },
                                {
                                    "CustomerID": "ERNSH",
                                    "ContactName": "Roland Mendel",
                                    "CategoryName": "Confections",
                                    "ProductName": "Pavlova",
                                    "TotalQuantity": "146"
                                },
                                {
                                    "CustomerID": "ERNSH",
                                    "ContactName": "Roland Mendel",
                                    "CategoryName": "Dairy Products",
                                    "ProductName": "Raclette Courdavault",
                                    "TotalQuantity": "180"
                                },
                                {
                                    "CustomerID": "ERNSH",
                                    "ContactName": "Roland Mendel",
                                    "CategoryName": "Grains/Cereals",
                                    "ProductName": "Wimmers gute Semmelknödel",
                                    "TotalQuantity": "199"
                                },
                                {
                                    "CustomerID": "ERNSH",
                                    "ContactName": "Roland Mendel",
                                    "CategoryName": "Meat/Poultry",
                                    "ProductName": "Alice Mutton",
                                    "TotalQuantity": "121"
                                },
                                {
                                    "CustomerID": "ERNSH",
                                    "ContactName": "Roland Mendel",
                                    "CategoryName": "Produce",
                                    "ProductName": "Manjimup Dried Apples",
                                    "TotalQuantity": "120"
                                },
                                {
                                    "CustomerID": "ERNSH",
                                    "ContactName": "Roland Mendel",
                                    "CategoryName": "Seafood",
                                    "ProductName": "Ikura",
                                    "TotalQuantity": "100"
                                },
                                {
                                    "CustomerID": "FAMIA",
                                    "ContactName": "Aria Cruz",
                                    "CategoryName": "Beverages",
                                    "ProductName": "Rhönbräu Klosterbier",
                                    "TotalQuantity": "56"
                                },
                                {
                                    "CustomerID": "FAMIA",
                                    "ContactName": "Aria Cruz",
                                    "CategoryName": "Confections",
                                    "ProductName": "Teatime Chocolate Biscuits",
                                    "TotalQuantity": "18"
                                },
                                {
                                    "CustomerID": "FAMIA",
                                    "ContactName": "Aria Cruz",
                                    "CategoryName": "Dairy Products",
                                    "ProductName": "Geitost",
                                    "TotalQuantity": "50"
                                },
                                {
                                    "CustomerID": "FAMIA",
                                    "ContactName": "Aria Cruz",
                                    "CategoryName": "Grains/Cereals",
                                    "ProductName": "Filo Mix",
                                    "TotalQuantity": "4"
                                },
                                {
                                    "CustomerID": "FAMIA",
                                    "ContactName": "Aria Cruz",
                                    "CategoryName": "Meat/Poultry",
                                    "ProductName": "Tourtière",
                                    "TotalQuantity": "30"
                                },
                                {
                                    "CustomerID": "FAMIA",
                                    "ContactName": "Aria Cruz",
                                    "CategoryName": "Seafood",
                                    "ProductName": "Nord-Ost Matjeshering",
                                    "TotalQuantity": "30"
                                },
                                {
                                    "CustomerID": "FOLIG",
                                    "ContactName": "Martine Rancé",
                                    "CategoryName": "Beverages",
                                    "ProductName": "Guaraná Fantástica",
                                    "TotalQuantity": "20"
                                },
                                {
                                    "CustomerID": "FOLIG",
                                    "ContactName": "Martine Rancé",
                                    "CategoryName": "Condiments",
                                    "ProductName": "Vegie-spread",
                                    "TotalQuantity": "30"
                                },
                                {
                                    "CustomerID": "FOLIG",
                                    "ContactName": "Martine Rancé",
                                    "CategoryName": "Confections",
                                    "ProductName": "Sir Rodney's Scones",
                                    "TotalQuantity": "40"
                                },
                                {
                                    "CustomerID": "FOLIG",
                                    "ContactName": "Martine Rancé",
                                    "CategoryName": "Dairy Products",
                                    "ProductName": "Raclette Courdavault",
                                    "TotalQuantity": "12"
                                },
                                {
                                    "CustomerID": "FOLIG",
                                    "ContactName": "Martine Rancé",
                                    "CategoryName": "Grains/Cereals",
                                    "ProductName": "Gustaf's Knäckebröd",
                                    "TotalQuantity": "6"
                                },
                                {
                                    "CustomerID": "FOLIG",
                                    "ContactName": "Martine Rancé",
                                    "CategoryName": "Meat/Poultry",
                                    "ProductName": "Tourtière",
                                    "TotalQuantity": "6"
                                },
                                {
                                    "CustomerID": "FOLIG",
                                    "ContactName": "Martine Rancé",
                                    "CategoryName": "Produce",
                                    "ProductName": "Uncle Bob's Organic Dried Pears",
                                    "TotalQuantity": "35"
                                },
                                {
                                    "CustomerID": "FOLIG",
                                    "ContactName": "Martine Rancé",
                                    "CategoryName": "Seafood",
                                    "ProductName": "Carnarvon Tigers",
                                    "TotalQuantity": "80"
                                },
                                {
                                    "CustomerID": "FOLKO",
                                    "ContactName": "Maria Larsson",
                                    "CategoryName": "Beverages",
                                    "ProductName": "Lakkalikööri",
                                    "TotalQuantity": "68"
                                },
                                {
                                    "CustomerID": "FOLKO",
                                    "ContactName": "Maria Larsson",
                                    "CategoryName": "Condiments",
                                    "ProductName": "Chef Anton's Cajun Seasoning",
                                    "TotalQuantity": "50"
                                },
                                {
                                    "CustomerID": "FOLKO",
                                    "ContactName": "Maria Larsson",
                                    "CategoryName": "Confections",
                                    "ProductName": "Zaanse koeken",
                                    "TotalQuantity": "60"
                                },
                                {
                                    "CustomerID": "FOLKO",
                                    "ContactName": "Maria Larsson",
                                    "CategoryName": "Dairy Products",
                                    "ProductName": "Queso Cabrales",
                                    "TotalQuantity": "56"
                                },
                                {
                                    "CustomerID": "FOLKO",
                                    "ContactName": "Maria Larsson",
                                    "CategoryName": "Grains/Cereals",
                                    "ProductName": "Gnocchi di nonna Alice",
                                    "TotalQuantity": "60"
                                },
                                {
                                    "CustomerID": "FOLKO",
                                    "ContactName": "Maria Larsson",
                                    "CategoryName": "Meat/Poultry",
                                    "ProductName": "Thüringer Rostbratwurst",
                                    "TotalQuantity": "50"
                                },
                                {
                                    "CustomerID": "FOLKO",
                                    "ContactName": "Maria Larsson",
                                    "CategoryName": "Produce",
                                    "ProductName": "Manjimup Dried Apples",
                                    "TotalQuantity": "88"
                                },
                                {
                                    "CustomerID": "FOLKO",
                                    "ContactName": "Maria Larsson",
                                    "CategoryName": "Seafood",
                                    "ProductName": "Jack's New England Clam Chowder",
                                    "TotalQuantity": "72"
                                },
                                {
                                    "CustomerID": "FRANK",
                                    "ContactName": "Peter Franken",
                                    "CategoryName": "Beverages",
                                    "ProductName": "Rhönbräu Klosterbier",
                                    "TotalQuantity": "74"
                                },
                                {
                                    "CustomerID": "FRANK",
                                    "ContactName": "Peter Franken",
                                    "CategoryName": "Condiments",
                                    "ProductName": "Original Frankfurter grüne Soße",
                                    "TotalQuantity": "15"
                                },
                                {
                                    "CustomerID": "FRANK",
                                    "ContactName": "Peter Franken",
                                    "CategoryName": "Confections",
                                    "ProductName": "Sir Rodney's Scones",
                                    "TotalQuantity": "117"
                                },
                                {
                                    "CustomerID": "FRANK",
                                    "ContactName": "Peter Franken",
                                    "CategoryName": "Dairy Products",
                                    "ProductName": "Flotemysost",
                                    "TotalQuantity": "120"
                                },
                                {
                                    "CustomerID": "FRANK",
                                    "ContactName": "Peter Franken",
                                    "CategoryName": "Grains/Cereals",
                                    "ProductName": "Tunnbröd",
                                    "TotalQuantity": "112"
                                },
                                {
                                    "CustomerID": "FRANK",
                                    "ContactName": "Peter Franken",
                                    "CategoryName": "Meat/Poultry",
                                    "ProductName": "Tourtière",
                                    "TotalQuantity": "50"
                                },
                                {
                                    "CustomerID": "FRANK",
                                    "ContactName": "Peter Franken",
                                    "CategoryName": "Produce",
                                    "ProductName": "Tofu",
                                    "TotalQuantity": "51"
                                },
                                {
                                    "CustomerID": "FRANK",
                                    "ContactName": "Peter Franken",
                                    "CategoryName": "Seafood",
                                    "ProductName": "Röd Kaviar",
                                    "TotalQuantity": "70"
                                },
                                {
                                    "CustomerID": "FRANR",
                                    "ContactName": "Carine Schmitt",
                                    "CategoryName": "Beverages",
                                    "ProductName": "Lakkalikööri",
                                    "TotalQuantity": "20"
                                },
                                {
                                    "CustomerID": "FRANR",
                                    "ContactName": "Carine Schmitt",
                                    "CategoryName": "Condiments",
                                    "ProductName": "Louisiana Fiery Hot Pepper Sauce",
                                    "TotalQuantity": "12"
                                },
                                {
                                    "CustomerID": "FRANR",
                                    "ContactName": "Carine Schmitt",
                                    "CategoryName": "Confections",
                                    "ProductName": "Tarte au sucre",
                                    "TotalQuantity": "10"
                                },
                                {
                                    "CustomerID": "FRANR",
                                    "ContactName": "Carine Schmitt",
                                    "CategoryName": "Meat/Poultry",
                                    "ProductName": "Thüringer Rostbratwurst",
                                    "TotalQuantity": "14"
                                },
                                {
                                    "CustomerID": "FRANR",
                                    "ContactName": "Carine Schmitt",
                                    "CategoryName": "Produce",
                                    "ProductName": "Manjimup Dried Apples",
                                    "TotalQuantity": "3"
                                },
                                {
                                    "CustomerID": "FRANS",
                                    "ContactName": "Paolo Accorti",
                                    "CategoryName": "Condiments",
                                    "ProductName": "Original Frankfurter grüne Soße",
                                    "TotalQuantity": "10"
                                },
                                {
                                    "CustomerID": "FRANS",
                                    "ContactName": "Paolo Accorti",
                                    "CategoryName": "Confections",
                                    "ProductName": "Zaanse koeken",
                                    "TotalQuantity": "5"
                                },
                                {
                                    "CustomerID": "FRANS",
                                    "ContactName": "Paolo Accorti",
                                    "CategoryName": "Dairy Products",
                                    "ProductName": "Camembert Pierrot",
                                    "TotalQuantity": "4"
                                },
                                {
                                    "CustomerID": "FRANS",
                                    "ContactName": "Paolo Accorti",
                                    "CategoryName": "Produce",
                                    "ProductName": "Manjimup Dried Apples",
                                    "TotalQuantity": "10"
                                },
                                {
                                    "CustomerID": "FRANS",
                                    "ContactName": "Paolo Accorti",
                                    "CategoryName": "Seafood",
                                    "ProductName": "Carnarvon Tigers",
                                    "TotalQuantity": "8"
                                },
                                {
                                    "CustomerID": "FURIB",
                                    "ContactName": "Lino Rodriguez",
                                    "CategoryName": "Beverages",
                                    "ProductName": "Steeleye Stout",
                                    "TotalQuantity": "20"
                                },
                                {
                                    "CustomerID": "FURIB",
                                    "ContactName": "Lino Rodriguez",
                                    "CategoryName": "Condiments",
                                    "ProductName": "Gula Malacca",
                                    "TotalQuantity": "55"
                                },
                                {
                                    "CustomerID": "FURIB",
                                    "ContactName": "Lino Rodriguez",
                                    "CategoryName": "Confections",
                                    "ProductName": "Pavlova",
                                    "TotalQuantity": "40"
                                },
                                {
                                    "CustomerID": "FURIB",
                                    "ContactName": "Lino Rodriguez",
                                    "CategoryName": "Dairy Products",
                                    "ProductName": "Camembert Pierrot",
                                    "TotalQuantity": "22"
                                },
                                {
                                    "CustomerID": "FURIB",
                                    "ContactName": "Lino Rodriguez",
                                    "CategoryName": "Grains/Cereals",
                                    "ProductName": "Gnocchi di nonna Alice",
                                    "TotalQuantity": "42"
                                },
                                {
                                    "CustomerID": "FURIB",
                                    "ContactName": "Lino Rodriguez",
                                    "CategoryName": "Meat/Poultry",
                                    "ProductName": "Tourtière",
                                    "TotalQuantity": "20"
                                },
                                {
                                    "CustomerID": "FURIB",
                                    "ContactName": "Lino Rodriguez",
                                    "CategoryName": "Seafood",
                                    "ProductName": "Ikura",
                                    "TotalQuantity": "24"
                                },
                                {
                                    "CustomerID": "GALED",
                                    "ContactName": "Eduardo Saavedra",
                                    "CategoryName": "Beverages",
                                    "ProductName": "Lakkalikööri",
                                    "TotalQuantity": "5"
                                },
                                {
                                    "CustomerID": "GALED",
                                    "ContactName": "Eduardo Saavedra",
                                    "CategoryName": "Condiments",
                                    "ProductName": "Original Frankfurter grüne Soße",
                                    "TotalQuantity": "5"
                                },
                                {
                                    "CustomerID": "GALED",
                                    "ContactName": "Eduardo Saavedra",
                                    "CategoryName": "Confections",
                                    "ProductName": "Zaanse koeken",
                                    "TotalQuantity": "5"
                                },
                                {
                                    "CustomerID": "GALED",
                                    "ContactName": "Eduardo Saavedra",
                                    "CategoryName": "Grains/Cereals",
                                    "ProductName": "Wimmers gute Semmelknödel",
                                    "TotalQuantity": "7"
                                },
                                {
                                    "CustomerID": "GALED",
                                    "ContactName": "Eduardo Saavedra",
                                    "CategoryName": "Seafood",
                                    "ProductName": "Ikura",
                                    "TotalQuantity": "5"
                                },
                                {
                                    "CustomerID": "GODOS",
                                    "ContactName": "José Pedro Freyre",
                                    "CategoryName": "Beverages",
                                    "ProductName": "Chang",
                                    "TotalQuantity": "20"
                                },
                                {
                                    "CustomerID": "GODOS",
                                    "ContactName": "José Pedro Freyre",
                                    "CategoryName": "Condiments",
                                    "ProductName": "Louisiana Fiery Hot Pepper Sauce",
                                    "TotalQuantity": "51"
                                },
                                {
                                    "CustomerID": "GODOS",
                                    "ContactName": "José Pedro Freyre",
                                    "CategoryName": "Confections",
                                    "ProductName": "Scottish Longbreads",
                                    "TotalQuantity": "33"
                                },
                                {
                                    "CustomerID": "GODOS",
                                    "ContactName": "José Pedro Freyre",
                                    "CategoryName": "Dairy Products",
                                    "ProductName": "Camembert Pierrot",
                                    "TotalQuantity": "9"
                                },
                                {
                                    "CustomerID": "GODOS",
                                    "ContactName": "José Pedro Freyre",
                                    "CategoryName": "Grains/Cereals",
                                    "ProductName": "Wimmers gute Semmelknödel",
                                    "TotalQuantity": "24"
                                },
                                {
                                    "CustomerID": "GODOS",
                                    "ContactName": "José Pedro Freyre",
                                    "CategoryName": "Meat/Poultry",
                                    "ProductName": "Thüringer Rostbratwurst",
                                    "TotalQuantity": "20"
                                },
                                {
                                    "CustomerID": "GODOS",
                                    "ContactName": "José Pedro Freyre",
                                    "CategoryName": "Produce",
                                    "ProductName": "Manjimup Dried Apples",
                                    "TotalQuantity": "40"
                                },
                                {
                                    "CustomerID": "GODOS",
                                    "ContactName": "José Pedro Freyre",
                                    "CategoryName": "Seafood",
                                    "ProductName": "Boston Crab Meat",
                                    "TotalQuantity": "40"
                                },
                                {
                                    "CustomerID": "GOURL",
                                    "ContactName": "André Fonseca",
                                    "CategoryName": "Beverages",
                                    "ProductName": "Lakkalikööri",
                                    "TotalQuantity": "20"
                                },
                                {
                                    "CustomerID": "GOURL",
                                    "ContactName": "André Fonseca",
                                    "CategoryName": "Condiments",
                                    "ProductName": "Northwoods Cranberry Sauce",
                                    "TotalQuantity": "40"
                                },
                                {
                                    "CustomerID": "GOURL",
                                    "ContactName": "André Fonseca",
                                    "CategoryName": "Confections",
                                    "ProductName": "Zaanse koeken",
                                    "TotalQuantity": "15"
                                },
                                {
                                    "CustomerID": "GOURL",
                                    "ContactName": "André Fonseca",
                                    "CategoryName": "Dairy Products",
                                    "ProductName": "Raclette Courdavault",
                                    "TotalQuantity": "20"
                                },
                                {
                                    "CustomerID": "GOURL",
                                    "ContactName": "André Fonseca",
                                    "CategoryName": "Grains/Cereals",
                                    "ProductName": "Singaporean Hokkien Fried Mee",
                                    "TotalQuantity": "40"
                                },
                                {
                                    "CustomerID": "GOURL",
                                    "ContactName": "André Fonseca",
                                    "CategoryName": "Produce",
                                    "ProductName": "Manjimup Dried Apples",
                                    "TotalQuantity": "28"
                                },
                                {
                                    "CustomerID": "GOURL",
                                    "ContactName": "André Fonseca",
                                    "CategoryName": "Seafood",
                                    "ProductName": "Ikura",
                                    "TotalQuantity": "20"
                                },
                                {
                                    "CustomerID": "GREAL",
                                    "ContactName": "Howard Snyder",
                                    "CategoryName": "Beverages",
                                    "ProductName": "Côte de Blaye",
                                    "TotalQuantity": "45"
                                },
                                {
                                    "CustomerID": "GREAL",
                                    "ContactName": "Howard Snyder",
                                    "CategoryName": "Condiments",
                                    "ProductName": "Gula Malacca",
                                    "TotalQuantity": "28"
                                },
                                {
                                    "CustomerID": "GREAL",
                                    "ContactName": "Howard Snyder",
                                    "CategoryName": "Confections",
                                    "ProductName": "Sir Rodney's Scones",
                                    "TotalQuantity": "32"
                                },
                                {
                                    "CustomerID": "GREAL",
                                    "ContactName": "Howard Snyder",
                                    "CategoryName": "Dairy Products",
                                    "ProductName": "Raclette Courdavault",
                                    "TotalQuantity": "30"
                                },
                                {
                                    "CustomerID": "GREAL",
                                    "ContactName": "Howard Snyder",
                                    "CategoryName": "Grains/Cereals",
                                    "ProductName": "Wimmers gute Semmelknödel",
                                    "TotalQuantity": "28"
                                },
                                {
                                    "CustomerID": "GREAL",
                                    "ContactName": "Howard Snyder",
                                    "CategoryName": "Meat/Poultry",
                                    "ProductName": "Thüringer Rostbratwurst",
                                    "TotalQuantity": "2"
                                },
                                {
                                    "CustomerID": "GREAL",
                                    "ContactName": "Howard Snyder",
                                    "CategoryName": "Produce",
                                    "ProductName": "Tofu",
                                    "TotalQuantity": "3"
                                },
                                {
                                    "CustomerID": "GREAL",
                                    "ContactName": "Howard Snyder",
                                    "CategoryName": "Seafood",
                                    "ProductName": "Inlagd Sill",
                                    "TotalQuantity": "30"
                                },
                                {
                                    "CustomerID": "GROSR",
                                    "ContactName": "Manuel Pereira",
                                    "CategoryName": "Beverages",
                                    "ProductName": "Rhönbräu Klosterbier",
                                    "TotalQuantity": "10"
                                },
                                {
                                    "CustomerID": "GROSR",
                                    "ContactName": "Manuel Pereira",
                                    "CategoryName": "Dairy Products",
                                    "ProductName": "Mozzarella di Giovanni",
                                    "TotalQuantity": "4"
                                },
                                {
                                    "CustomerID": "GROSR",
                                    "ContactName": "Manuel Pereira",
                                    "CategoryName": "Meat/Poultry",
                                    "ProductName": "Thüringer Rostbratwurst",
                                    "TotalQuantity": "10"
                                },
                                {
                                    "CustomerID": "GROSR",
                                    "ContactName": "Manuel Pereira",
                                    "CategoryName": "Seafood",
                                    "ProductName": "Ikura",
                                    "TotalQuantity": "10"
                                },
                                {
                                    "CustomerID": "HANAR",
                                    "ContactName": "Mario Pontes",
                                    "CategoryName": "Beverages",
                                    "ProductName": "Guaraná Fantástica",
                                    "TotalQuantity": "70"
                                },
                                {
                                    "CustomerID": "HANAR",
                                    "ContactName": "Mario Pontes",
                                    "CategoryName": "Condiments",
                                    "ProductName": "Louisiana Fiery Hot Pepper Sauce",
                                    "TotalQuantity": "72"
                                },
                                {
                                    "CustomerID": "HANAR",
                                    "ContactName": "Mario Pontes",
                                    "CategoryName": "Confections",
                                    "ProductName": "Maxilaku",
                                    "TotalQuantity": "40"
                                },
                                {
                                    "CustomerID": "HANAR",
                                    "ContactName": "Mario Pontes",
                                    "CategoryName": "Dairy Products",
                                    "ProductName": "Gorgonzola Telino",
                                    "TotalQuantity": "65"
                                },
                                {
                                    "CustomerID": "HANAR",
                                    "ContactName": "Mario Pontes",
                                    "CategoryName": "Grains/Cereals",
                                    "ProductName": "Gnocchi di nonna Alice",
                                    "TotalQuantity": "20"
                                },
                                {
                                    "CustomerID": "HANAR",
                                    "ContactName": "Mario Pontes",
                                    "CategoryName": "Meat/Poultry",
                                    "ProductName": "Alice Mutton",
                                    "TotalQuantity": "15"
                                },
                                {
                                    "CustomerID": "HANAR",
                                    "ContactName": "Mario Pontes",
                                    "CategoryName": "Produce",
                                    "ProductName": "Manjimup Dried Apples",
                                    "TotalQuantity": "35"
                                },
                                {
                                    "CustomerID": "HANAR",
                                    "ContactName": "Mario Pontes",
                                    "CategoryName": "Seafood",
                                    "ProductName": "Ikura",
                                    "TotalQuantity": "70"
                                },
                                {
                                    "CustomerID": "HILAA",
                                    "ContactName": "Carlos Hernández",
                                    "CategoryName": "Beverages",
                                    "ProductName": "Rhönbräu Klosterbier",
                                    "TotalQuantity": "106"
                                },
                                {
                                    "CustomerID": "HILAA",
                                    "ContactName": "Carlos Hernández",
                                    "CategoryName": "Condiments",
                                    "ProductName": "Original Frankfurter grüne Soße",
                                    "TotalQuantity": "15"
                                },
                                {
                                    "CustomerID": "HILAA",
                                    "ContactName": "Carlos Hernández",
                                    "CategoryName": "Confections",
                                    "ProductName": "Scottish Longbreads",
                                    "TotalQuantity": "30"
                                },
                                {
                                    "CustomerID": "HILAA",
                                    "ContactName": "Carlos Hernández",
                                    "CategoryName": "Dairy Products",
                                    "ProductName": "Raclette Courdavault",
                                    "TotalQuantity": "95"
                                },
                                {
                                    "CustomerID": "HILAA",
                                    "ContactName": "Carlos Hernández",
                                    "CategoryName": "Grains/Cereals",
                                    "ProductName": "Wimmers gute Semmelknödel",
                                    "TotalQuantity": "43"
                                },
                                {
                                    "CustomerID": "HILAA",
                                    "ContactName": "Carlos Hernández",
                                    "CategoryName": "Meat/Poultry",
                                    "ProductName": "Perth Pasties",
                                    "TotalQuantity": "70"
                                },
                                {
                                    "CustomerID": "HILAA",
                                    "ContactName": "Carlos Hernández",
                                    "CategoryName": "Produce",
                                    "ProductName": "Manjimup Dried Apples",
                                    "TotalQuantity": "45"
                                },
                                {
                                    "CustomerID": "HILAA",
                                    "ContactName": "Carlos Hernández",
                                    "CategoryName": "Seafood",
                                    "ProductName": "Konbu",
                                    "TotalQuantity": "68"
                                },
                                {
                                    "CustomerID": "HUNGC",
                                    "ContactName": "Yoshi Latimer",
                                    "CategoryName": "Confections",
                                    "ProductName": "Sir Rodney's Marmalade",
                                    "TotalQuantity": "21"
                                },
                                {
                                    "CustomerID": "HUNGC",
                                    "ContactName": "Yoshi Latimer",
                                    "CategoryName": "Dairy Products",
                                    "ProductName": "Geitost",
                                    "TotalQuantity": "20"
                                },
                                {
                                    "CustomerID": "HUNGC",
                                    "ContactName": "Yoshi Latimer",
                                    "CategoryName": "Meat/Poultry",
                                    "ProductName": "Tourtière",
                                    "TotalQuantity": "14"
                                },
                                {
                                    "CustomerID": "HUNGC",
                                    "ContactName": "Yoshi Latimer",
                                    "CategoryName": "Produce",
                                    "ProductName": "Tofu",
                                    "TotalQuantity": "15"
                                },
                                {
                                    "CustomerID": "HUNGC",
                                    "ContactName": "Yoshi Latimer",
                                    "CategoryName": "Seafood",
                                    "ProductName": "Röd Kaviar",
                                    "TotalQuantity": "30"
                                },
                                {
                                    "CustomerID": "HUNGO",
                                    "ContactName": "Patricia McKenna",
                                    "CategoryName": "Beverages",
                                    "ProductName": "Chang",
                                    "TotalQuantity": "47"
                                },
                                {
                                    "CustomerID": "HUNGO",
                                    "ContactName": "Patricia McKenna",
                                    "CategoryName": "Condiments",
                                    "ProductName": "Louisiana Fiery Hot Pepper Sauce",
                                    "TotalQuantity": "60"
                                },
                                {
                                    "CustomerID": "HUNGO",
                                    "ContactName": "Patricia McKenna",
                                    "CategoryName": "Confections",
                                    "ProductName": "Valkoinen suklaa",
                                    "TotalQuantity": "40"
                                },
                                {
                                    "CustomerID": "HUNGO",
                                    "ContactName": "Patricia McKenna",
                                    "CategoryName": "Dairy Products",
                                    "ProductName": "Raclette Courdavault",
                                    "TotalQuantity": "112"
                                },
                                {
                                    "CustomerID": "HUNGO",
                                    "ContactName": "Patricia McKenna",
                                    "CategoryName": "Grains/Cereals",
                                    "ProductName": "Gnocchi di nonna Alice",
                                    "TotalQuantity": "30"
                                },
                                {
                                    "CustomerID": "HUNGO",
                                    "ContactName": "Patricia McKenna",
                                    "CategoryName": "Meat/Poultry",
                                    "ProductName": "Thüringer Rostbratwurst",
                                    "TotalQuantity": "150"
                                },
                                {
                                    "CustomerID": "HUNGO",
                                    "ContactName": "Patricia McKenna",
                                    "CategoryName": "Produce",
                                    "ProductName": "Tofu",
                                    "TotalQuantity": "70"
                                },
                                {
                                    "CustomerID": "HUNGO",
                                    "ContactName": "Patricia McKenna",
                                    "CategoryName": "Seafood",
                                    "ProductName": "Escargots de Bourgogne",
                                    "TotalQuantity": "129"
                                },
                                {
                                    "CustomerID": "ISLAT",
                                    "ContactName": "Helen Bennett",
                                    "CategoryName": "Beverages",
                                    "ProductName": "Outback Lager",
                                    "TotalQuantity": "50"
                                },
                                {
                                    "CustomerID": "ISLAT",
                                    "ContactName": "Helen Bennett",
                                    "CategoryName": "Condiments",
                                    "ProductName": "Sirop d'érable",
                                    "TotalQuantity": "30"
                                },
                                {
                                    "CustomerID": "ISLAT",
                                    "ContactName": "Helen Bennett",
                                    "CategoryName": "Confections",
                                    "ProductName": "Teatime Chocolate Biscuits",
                                    "TotalQuantity": "5"
                                },
                                {
                                    "CustomerID": "ISLAT",
                                    "ContactName": "Helen Bennett",
                                    "CategoryName": "Dairy Products",
                                    "ProductName": "Flotemysost",
                                    "TotalQuantity": "27"
                                },
                                {
                                    "CustomerID": "ISLAT",
                                    "ContactName": "Helen Bennett",
                                    "CategoryName": "Grains/Cereals",
                                    "ProductName": "Gnocchi di nonna Alice",
                                    "TotalQuantity": "15"
                                },
                                {
                                    "CustomerID": "ISLAT",
                                    "ContactName": "Helen Bennett",
                                    "CategoryName": "Meat/Poultry",
                                    "ProductName": "Perth Pasties",
                                    "TotalQuantity": "2"
                                },
                                {
                                    "CustomerID": "ISLAT",
                                    "ContactName": "Helen Bennett",
                                    "CategoryName": "Seafood",
                                    "ProductName": "Jack's New England Clam Chowder",
                                    "TotalQuantity": "20"
                                },
                                {
                                    "CustomerID": "KOENE",
                                    "ContactName": "Philip Cramer",
                                    "CategoryName": "Beverages",
                                    "ProductName": "Lakkalikööri",
                                    "TotalQuantity": "35"
                                },
                                {
                                    "CustomerID": "KOENE",
                                    "ContactName": "Philip Cramer",
                                    "CategoryName": "Condiments",
                                    "ProductName": "Aniseed Syrup",
                                    "TotalQuantity": "49"
                                },
                                {
                                    "CustomerID": "KOENE",
                                    "ContactName": "Philip Cramer",
                                    "CategoryName": "Confections",
                                    "ProductName": "Gumbär Gummibärchen",
                                    "TotalQuantity": "58"
                                },
                                {
                                    "CustomerID": "KOENE",
                                    "ContactName": "Philip Cramer",
                                    "CategoryName": "Dairy Products",
                                    "ProductName": "Raclette Courdavault",
                                    "TotalQuantity": "85"
                                },
                                {
                                    "CustomerID": "KOENE",
                                    "ContactName": "Philip Cramer",
                                    "CategoryName": "Meat/Poultry",
                                    "ProductName": "Pâté chinois",
                                    "TotalQuantity": "47"
                                },
                                {
                                    "CustomerID": "KOENE",
                                    "ContactName": "Philip Cramer",
                                    "CategoryName": "Produce",
                                    "ProductName": "Tofu",
                                    "TotalQuantity": "9"
                                },
                                {
                                    "CustomerID": "KOENE",
                                    "ContactName": "Philip Cramer",
                                    "CategoryName": "Seafood",
                                    "ProductName": "Inlagd Sill",
                                    "TotalQuantity": "60"
                                },
                                {
                                    "CustomerID": "LACOR",
                                    "ContactName": "Daniel Tonini",
                                    "CategoryName": "Beverages",
                                    "ProductName": "Lakkalikööri",
                                    "TotalQuantity": "20"
                                },
                                {
                                    "CustomerID": "LACOR",
                                    "ContactName": "Daniel Tonini",
                                    "CategoryName": "Confections",
                                    "ProductName": "Schoggi Schokolade",
                                    "TotalQuantity": "10"
                                },
                                {
                                    "CustomerID": "LACOR",
                                    "ContactName": "Daniel Tonini",
                                    "CategoryName": "Dairy Products",
                                    "ProductName": "Geitost",
                                    "TotalQuantity": "7"
                                },
                                {
                                    "CustomerID": "LACOR",
                                    "ContactName": "Daniel Tonini",
                                    "CategoryName": "Grains/Cereals",
                                    "ProductName": "Filo Mix",
                                    "TotalQuantity": "5"
                                },
                                {
                                    "CustomerID": "LACOR",
                                    "ContactName": "Daniel Tonini",
                                    "CategoryName": "Meat/Poultry",
                                    "ProductName": "Alice Mutton",
                                    "TotalQuantity": "6"
                                },
                                {
                                    "CustomerID": "LACOR",
                                    "ContactName": "Daniel Tonini",
                                    "CategoryName": "Produce",
                                    "ProductName": "Uncle Bob's Organic Dried Pears",
                                    "TotalQuantity": "5"
                                },
                                {
                                    "CustomerID": "LACOR",
                                    "ContactName": "Daniel Tonini",
                                    "CategoryName": "Seafood",
                                    "ProductName": "Jack's New England Clam Chowder",
                                    "TotalQuantity": "6"
                                },
                                {
                                    "CustomerID": "LAMAI",
                                    "ContactName": "Annette Roulet",
                                    "CategoryName": "Beverages",
                                    "ProductName": "Lakkalikööri",
                                    "TotalQuantity": "34"
                                },
                                {
                                    "CustomerID": "LAMAI",
                                    "ContactName": "Annette Roulet",
                                    "CategoryName": "Condiments",
                                    "ProductName": "Gula Malacca",
                                    "TotalQuantity": "16"
                                },
                                {
                                    "CustomerID": "LAMAI",
                                    "ContactName": "Annette Roulet",
                                    "CategoryName": "Confections",
                                    "ProductName": "Tarte au sucre",
                                    "TotalQuantity": "40"
                                },
                                {
                                    "CustomerID": "LAMAI",
                                    "ContactName": "Annette Roulet",
                                    "CategoryName": "Dairy Products",
                                    "ProductName": "Gudbrandsdalsost",
                                    "TotalQuantity": "28"
                                },
                                {
                                    "CustomerID": "LAMAI",
                                    "ContactName": "Annette Roulet",
                                    "CategoryName": "Grains/Cereals",
                                    "ProductName": "Singaporean Hokkien Fried Mee",
                                    "TotalQuantity": "10"
                                },
                                {
                                    "CustomerID": "LAMAI",
                                    "ContactName": "Annette Roulet",
                                    "CategoryName": "Meat/Poultry",
                                    "ProductName": "Thüringer Rostbratwurst",
                                    "TotalQuantity": "20"
                                },
                                {
                                    "CustomerID": "LAMAI",
                                    "ContactName": "Annette Roulet",
                                    "CategoryName": "Produce",
                                    "ProductName": "Rössle Sauerkraut",
                                    "TotalQuantity": "8"
                                },
                                {
                                    "CustomerID": "LAMAI",
                                    "ContactName": "Annette Roulet",
                                    "CategoryName": "Seafood",
                                    "ProductName": "Inlagd Sill",
                                    "TotalQuantity": "47"
                                },
                                {
                                    "CustomerID": "LAUGB",
                                    "ContactName": "Yoshi Tannamuri",
                                    "CategoryName": "Beverages",
                                    "ProductName": "Guaraná Fantástica",
                                    "TotalQuantity": "5"
                                },
                                {
                                    "CustomerID": "LAUGB",
                                    "ContactName": "Yoshi Tannamuri",
                                    "CategoryName": "Condiments",
                                    "ProductName": "Original Frankfurter grüne Soße",
                                    "TotalQuantity": "5"
                                },
                                {
                                    "CustomerID": "LAUGB",
                                    "ContactName": "Yoshi Tannamuri",
                                    "CategoryName": "Confections",
                                    "ProductName": "NuNuCa Nuß-Nougat-Creme",
                                    "TotalQuantity": "5"
                                },
                                {
                                    "CustomerID": "LAUGB",
                                    "ContactName": "Yoshi Tannamuri",
                                    "CategoryName": "Grains/Cereals",
                                    "ProductName": "Tunnbröd",
                                    "TotalQuantity": "10"
                                },
                                {
                                    "CustomerID": "LAUGB",
                                    "ContactName": "Yoshi Tannamuri",
                                    "CategoryName": "Seafood",
                                    "ProductName": "Jack's New England Clam Chowder",
                                    "TotalQuantity": "20"
                                },
                                {
                                    "CustomerID": "LAZYK",
                                    "ContactName": "John Steel",
                                    "CategoryName": "Dairy Products",
                                    "ProductName": "Queso Cabrales",
                                    "TotalQuantity": "10"
                                },
                                {
                                    "CustomerID": "LAZYK",
                                    "ContactName": "John Steel",
                                    "CategoryName": "Seafood",
                                    "ProductName": "Boston Crab Meat",
                                    "TotalQuantity": "10"
                                },
                                {
                                    "CustomerID": "LEHMS",
                                    "ContactName": "Renate Messner",
                                    "CategoryName": "Beverages",
                                    "ProductName": "Chai",
                                    "TotalQuantity": "80"
                                },
                                {
                                    "CustomerID": "LEHMS",
                                    "ContactName": "Renate Messner",
                                    "CategoryName": "Condiments",
                                    "ProductName": "Original Frankfurter grüne Soße",
                                    "TotalQuantity": "25"
                                },
                                {
                                    "CustomerID": "LEHMS",
                                    "ContactName": "Renate Messner",
                                    "CategoryName": "Confections",
                                    "ProductName": "Pavlova",
                                    "TotalQuantity": "30"
                                },
                                {
                                    "CustomerID": "LEHMS",
                                    "ContactName": "Renate Messner",
                                    "CategoryName": "Dairy Products",
                                    "ProductName": "Camembert Pierrot",
                                    "TotalQuantity": "55"
                                },
                                {
                                    "CustomerID": "LEHMS",
                                    "ContactName": "Renate Messner",
                                    "CategoryName": "Grains/Cereals",
                                    "ProductName": "Wimmers gute Semmelknödel",
                                    "TotalQuantity": "80"
                                },
                                {
                                    "CustomerID": "LEHMS",
                                    "ContactName": "Renate Messner",
                                    "CategoryName": "Meat/Poultry",
                                    "ProductName": "Thüringer Rostbratwurst",
                                    "TotalQuantity": "18"
                                },
                                {
                                    "CustomerID": "LEHMS",
                                    "ContactName": "Renate Messner",
                                    "CategoryName": "Seafood",
                                    "ProductName": "Nord-Ost Matjeshering",
                                    "TotalQuantity": "45"
                                },
                                {
                                    "CustomerID": "LETSS",
                                    "ContactName": "Jaime Yorres",
                                    "CategoryName": "Beverages",
                                    "ProductName": "Rhönbräu Klosterbier",
                                    "TotalQuantity": "21"
                                },
                                {
                                    "CustomerID": "LETSS",
                                    "ContactName": "Jaime Yorres",
                                    "CategoryName": "Condiments",
                                    "ProductName": "Sirop d'érable",
                                    "TotalQuantity": "20"
                                },
                                {
                                    "CustomerID": "LETSS",
                                    "ContactName": "Jaime Yorres",
                                    "CategoryName": "Confections",
                                    "ProductName": "Sir Rodney's Scones",
                                    "TotalQuantity": "40"
                                },
                                {
                                    "CustomerID": "LETSS",
                                    "ContactName": "Jaime Yorres",
                                    "CategoryName": "Grains/Cereals",
                                    "ProductName": "Gnocchi di nonna Alice",
                                    "TotalQuantity": "21"
                                },
                                {
                                    "CustomerID": "LETSS",
                                    "ContactName": "Jaime Yorres",
                                    "CategoryName": "Meat/Poultry",
                                    "ProductName": "Tourtière",
                                    "TotalQuantity": "40"
                                },
                                {
                                    "CustomerID": "LETSS",
                                    "ContactName": "Jaime Yorres",
                                    "CategoryName": "Seafood",
                                    "ProductName": "Carnarvon Tigers",
                                    "TotalQuantity": "12"
                                },
                                {
                                    "CustomerID": "LILAS",
                                    "ContactName": "Carlos González",
                                    "CategoryName": "Beverages",
                                    "ProductName": "Outback Lager",
                                    "TotalQuantity": "35"
                                },
                                {
                                    "CustomerID": "LILAS",
                                    "ContactName": "Carlos González",
                                    "CategoryName": "Condiments",
                                    "ProductName": "Original Frankfurter grüne Soße",
                                    "TotalQuantity": "30"
                                },
                                {
                                    "CustomerID": "LILAS",
                                    "ContactName": "Carlos González",
                                    "CategoryName": "Confections",
                                    "ProductName": "Gumbär Gummibärchen",
                                    "TotalQuantity": "66"
                                },
                                {
                                    "CustomerID": "LILAS",
                                    "ContactName": "Carlos González",
                                    "CategoryName": "Dairy Products",
                                    "ProductName": "Mascarpone Fabioli",
                                    "TotalQuantity": "50"
                                },
                                {
                                    "CustomerID": "LILAS",
                                    "ContactName": "Carlos González",
                                    "CategoryName": "Grains/Cereals",
                                    "ProductName": "Tunnbröd",
                                    "TotalQuantity": "70"
                                },
                                {
                                    "CustomerID": "LILAS",
                                    "ContactName": "Carlos González",
                                    "CategoryName": "Meat/Poultry",
                                    "ProductName": "Pâté chinois",
                                    "TotalQuantity": "60"
                                },
                                {
                                    "CustomerID": "LILAS",
                                    "ContactName": "Carlos González",
                                    "CategoryName": "Produce",
                                    "ProductName": "Rössle Sauerkraut",
                                    "TotalQuantity": "20"
                                },
                                {
                                    "CustomerID": "LILAS",
                                    "ContactName": "Carlos González",
                                    "CategoryName": "Seafood",
                                    "ProductName": "Nord-Ost Matjeshering",
                                    "TotalQuantity": "32"
                                },
                                {
                                    "CustomerID": "LINOD",
                                    "ContactName": "Felipe Izquierdo",
                                    "CategoryName": "Beverages",
                                    "ProductName": "Outback Lager",
                                    "TotalQuantity": "90"
                                },
                                {
                                    "CustomerID": "LINOD",
                                    "ContactName": "Felipe Izquierdo",
                                    "CategoryName": "Condiments",
                                    "ProductName": "Aniseed Syrup",
                                    "TotalQuantity": "70"
                                },
                                {
                                    "CustomerID": "LINOD",
                                    "ContactName": "Felipe Izquierdo",
                                    "CategoryName": "Confections",
                                    "ProductName": "Maxilaku",
                                    "TotalQuantity": "60"
                                },
                                {
                                    "CustomerID": "LINOD",
                                    "ContactName": "Felipe Izquierdo",
                                    "CategoryName": "Dairy Products",
                                    "ProductName": "Mozzarella di Giovanni",
                                    "TotalQuantity": "60"
                                },
                                {
                                    "CustomerID": "LINOD",
                                    "ContactName": "Felipe Izquierdo",
                                    "CategoryName": "Grains/Cereals",
                                    "ProductName": "Ravioli Angelo",
                                    "TotalQuantity": "28"
                                },
                                {
                                    "CustomerID": "LINOD",
                                    "ContactName": "Felipe Izquierdo",
                                    "CategoryName": "Meat/Poultry",
                                    "ProductName": "Pâté chinois",
                                    "TotalQuantity": "30"
                                },
                                {
                                    "CustomerID": "LINOD",
                                    "ContactName": "Felipe Izquierdo",
                                    "CategoryName": "Produce",
                                    "ProductName": "Rössle Sauerkraut",
                                    "TotalQuantity": "20"
                                },
                                {
                                    "CustomerID": "LINOD",
                                    "ContactName": "Felipe Izquierdo",
                                    "CategoryName": "Seafood",
                                    "ProductName": "Inlagd Sill",
                                    "TotalQuantity": "50"
                                },
                                {
                                    "CustomerID": "LONEP",
                                    "ContactName": "Fran Wilson",
                                    "CategoryName": "Beverages",
                                    "ProductName": "Chai",
                                    "TotalQuantity": "20"
                                },
                                {
                                    "CustomerID": "LONEP",
                                    "ContactName": "Fran Wilson",
                                    "CategoryName": "Confections",
                                    "ProductName": "Scottish Longbreads",
                                    "TotalQuantity": "13"
                                },
                                {
                                    "CustomerID": "LONEP",
                                    "ContactName": "Fran Wilson",
                                    "CategoryName": "Dairy Products",
                                    "ProductName": "Queso Manchego La Pastora",
                                    "TotalQuantity": "20"
                                },
                                {
                                    "CustomerID": "LONEP",
                                    "ContactName": "Fran Wilson",
                                    "CategoryName": "Grains/Cereals",
                                    "ProductName": "Gnocchi di nonna Alice",
                                    "TotalQuantity": "5"
                                },
                                {
                                    "CustomerID": "LONEP",
                                    "ContactName": "Fran Wilson",
                                    "CategoryName": "Meat/Poultry",
                                    "ProductName": "Perth Pasties",
                                    "TotalQuantity": "3"
                                },
                                {
                                    "CustomerID": "LONEP",
                                    "ContactName": "Fran Wilson",
                                    "CategoryName": "Produce",
                                    "ProductName": "Manjimup Dried Apples",
                                    "TotalQuantity": "20"
                                },
                                {
                                    "CustomerID": "LONEP",
                                    "ContactName": "Fran Wilson",
                                    "CategoryName": "Seafood",
                                    "ProductName": "Carnarvon Tigers",
                                    "TotalQuantity": "10"
                                },
                                {
                                    "CustomerID": "MAGAA",
                                    "ContactName": "Giovanni Rovelli",
                                    "CategoryName": "Beverages",
                                    "ProductName": "Guaraná Fantástica",
                                    "TotalQuantity": "40"
                                },
                                {
                                    "CustomerID": "MAGAA",
                                    "ContactName": "Giovanni Rovelli",
                                    "CategoryName": "Condiments",
                                    "ProductName": "Louisiana Hot Spiced Okra",
                                    "TotalQuantity": "30"
                                },
                                {
                                    "CustomerID": "MAGAA",
                                    "ContactName": "Giovanni Rovelli",
                                    "CategoryName": "Confections",
                                    "ProductName": "Gumbär Gummibärchen",
                                    "TotalQuantity": "30"
                                },
                                {
                                    "CustomerID": "MAGAA",
                                    "ContactName": "Giovanni Rovelli",
                                    "CategoryName": "Dairy Products",
                                    "ProductName": "Mozzarella di Giovanni",
                                    "TotalQuantity": "30"
                                },
                                {
                                    "CustomerID": "MAGAA",
                                    "ContactName": "Giovanni Rovelli",
                                    "CategoryName": "Grains/Cereals",
                                    "ProductName": "Singaporean Hokkien Fried Mee",
                                    "TotalQuantity": "40"
                                },
                                {
                                    "CustomerID": "MAGAA",
                                    "ContactName": "Giovanni Rovelli",
                                    "CategoryName": "Seafood",
                                    "ProductName": "Inlagd Sill",
                                    "TotalQuantity": "30"
                                },
                                {
                                    "CustomerID": "MAISD",
                                    "ContactName": "Catherine Dewey",
                                    "CategoryName": "Beverages",
                                    "ProductName": "Ipoh Coffee",
                                    "TotalQuantity": "30"
                                },
                                {
                                    "CustomerID": "MAISD",
                                    "ContactName": "Catherine Dewey",
                                    "CategoryName": "Condiments",
                                    "ProductName": "Northwoods Cranberry Sauce",
                                    "TotalQuantity": "20"
                                },
                                {
                                    "CustomerID": "MAISD",
                                    "ContactName": "Catherine Dewey",
                                    "CategoryName": "Confections",
                                    "ProductName": "Schoggi Schokolade",
                                    "TotalQuantity": "40"
                                },
                                {
                                    "CustomerID": "MAISD",
                                    "ContactName": "Catherine Dewey",
                                    "CategoryName": "Dairy Products",
                                    "ProductName": "Raclette Courdavault",
                                    "TotalQuantity": "40"
                                },
                                {
                                    "CustomerID": "MAISD",
                                    "ContactName": "Catherine Dewey",
                                    "CategoryName": "Grains/Cereals",
                                    "ProductName": "Gnocchi di nonna Alice",
                                    "TotalQuantity": "16"
                                },
                                {
                                    "CustomerID": "MAISD",
                                    "ContactName": "Catherine Dewey",
                                    "CategoryName": "Meat/Poultry",
                                    "ProductName": "Pâté chinois",
                                    "TotalQuantity": "14"
                                },
                                {
                                    "CustomerID": "MAISD",
                                    "ContactName": "Catherine Dewey",
                                    "CategoryName": "Produce",
                                    "ProductName": "Rössle Sauerkraut",
                                    "TotalQuantity": "20"
                                },
                                {
                                    "CustomerID": "MAISD",
                                    "ContactName": "Catherine Dewey",
                                    "CategoryName": "Seafood",
                                    "ProductName": "Rogede sild",
                                    "TotalQuantity": "15"
                                },
                                {
                                    "CustomerID": "MEREP",
                                    "ContactName": "Jean Fresnière",
                                    "CategoryName": "Beverages",
                                    "ProductName": "Steeleye Stout",
                                    "TotalQuantity": "60"
                                },
                                {
                                    "CustomerID": "MEREP",
                                    "ContactName": "Jean Fresnière",
                                    "CategoryName": "Condiments",
                                    "ProductName": "Grandma's Boysenberry Spread",
                                    "TotalQuantity": "70"
                                },
                                {
                                    "CustomerID": "MEREP",
                                    "ContactName": "Jean Fresnière",
                                    "CategoryName": "Confections",
                                    "ProductName": "Pavlova",
                                    "TotalQuantity": "46"
                                },
                                {
                                    "CustomerID": "MEREP",
                                    "ContactName": "Jean Fresnière",
                                    "CategoryName": "Dairy Products",
                                    "ProductName": "Camembert Pierrot",
                                    "TotalQuantity": "70"
                                },
                                {
                                    "CustomerID": "MEREP",
                                    "ContactName": "Jean Fresnière",
                                    "CategoryName": "Grains/Cereals",
                                    "ProductName": "Gnocchi di nonna Alice",
                                    "TotalQuantity": "80"
                                },
                                {
                                    "CustomerID": "MEREP",
                                    "ContactName": "Jean Fresnière",
                                    "CategoryName": "Meat/Poultry",
                                    "ProductName": "Alice Mutton",
                                    "TotalQuantity": "70"
                                },
                                {
                                    "CustomerID": "MEREP",
                                    "ContactName": "Jean Fresnière",
                                    "CategoryName": "Produce",
                                    "ProductName": "Longlife Tofu",
                                    "TotalQuantity": "30"
                                },
                                {
                                    "CustomerID": "MEREP",
                                    "ContactName": "Jean Fresnière",
                                    "CategoryName": "Seafood",
                                    "ProductName": "Carnarvon Tigers",
                                    "TotalQuantity": "40"
                                },
                                {
                                    "CustomerID": "MORGK",
                                    "ContactName": "Alexander Feuer",
                                    "CategoryName": "Beverages",
                                    "ProductName": "Lakkalikööri",
                                    "TotalQuantity": "10"
                                },
                                {
                                    "CustomerID": "MORGK",
                                    "ContactName": "Alexander Feuer",
                                    "CategoryName": "Condiments",
                                    "ProductName": "Vegie-spread",
                                    "TotalQuantity": "6"
                                },
                                {
                                    "CustomerID": "MORGK",
                                    "ContactName": "Alexander Feuer",
                                    "CategoryName": "Confections",
                                    "ProductName": "Tarte au sucre",
                                    "TotalQuantity": "32"
                                },
                                {
                                    "CustomerID": "MORGK",
                                    "ContactName": "Alexander Feuer",
                                    "CategoryName": "Dairy Products",
                                    "ProductName": "Mozzarella di Giovanni",
                                    "TotalQuantity": "30"
                                },
                                {
                                    "CustomerID": "MORGK",
                                    "ContactName": "Alexander Feuer",
                                    "CategoryName": "Produce",
                                    "ProductName": "Rössle Sauerkraut",
                                    "TotalQuantity": "20"
                                },
                                {
                                    "CustomerID": "MORGK",
                                    "ContactName": "Alexander Feuer",
                                    "CategoryName": "Seafood",
                                    "ProductName": "Konbu",
                                    "TotalQuantity": "20"
                                },
                                {
                                    "CustomerID": "NORTS",
                                    "ContactName": "Simon Crowther",
                                    "CategoryName": "Beverages",
                                    "ProductName": "Outback Lager",
                                    "TotalQuantity": "9"
                                },
                                {
                                    "CustomerID": "NORTS",
                                    "ContactName": "Simon Crowther",
                                    "CategoryName": "Dairy Products",
                                    "ProductName": "Raclette Courdavault",
                                    "TotalQuantity": "4"
                                },
                                {
                                    "CustomerID": "NORTS",
                                    "ContactName": "Simon Crowther",
                                    "CategoryName": "Grains/Cereals",
                                    "ProductName": "Filo Mix",
                                    "TotalQuantity": "6"
                                },
                                {
                                    "CustomerID": "OCEAN",
                                    "ContactName": "Yvonne Moncada",
                                    "CategoryName": "Beverages",
                                    "ProductName": "Lakkalikööri",
                                    "TotalQuantity": "10"
                                },
                                {
                                    "CustomerID": "OCEAN",
                                    "ContactName": "Yvonne Moncada",
                                    "CategoryName": "Condiments",
                                    "ProductName": "Chef Anton's Gumbo Mix",
                                    "TotalQuantity": "20"
                                },
                                {
                                    "CustomerID": "OCEAN",
                                    "ContactName": "Yvonne Moncada",
                                    "CategoryName": "Confections",
                                    "ProductName": "Sir Rodney's Marmalade",
                                    "TotalQuantity": "15"
                                },
                                {
                                    "CustomerID": "OCEAN",
                                    "ContactName": "Yvonne Moncada",
                                    "CategoryName": "Dairy Products",
                                    "ProductName": "Queso Cabrales",
                                    "TotalQuantity": "30"
                                },
                                {
                                    "CustomerID": "OCEAN",
                                    "ContactName": "Yvonne Moncada",
                                    "CategoryName": "Produce",
                                    "ProductName": "Tofu",
                                    "TotalQuantity": "12"
                                },
                                {
                                    "CustomerID": "OCEAN",
                                    "ContactName": "Yvonne Moncada",
                                    "CategoryName": "Seafood",
                                    "ProductName": "Konbu",
                                    "TotalQuantity": "5"
                                },
                                {
                                    "CustomerID": "OLDWO",
                                    "ContactName": "Rene Phillips",
                                    "CategoryName": "Beverages",
                                    "ProductName": "Lakkalikööri",
                                    "TotalQuantity": "50"
                                },
                                {
                                    "CustomerID": "OLDWO",
                                    "ContactName": "Rene Phillips",
                                    "CategoryName": "Condiments",
                                    "ProductName": "Louisiana Fiery Hot Pepper Sauce",
                                    "TotalQuantity": "15"
                                },
                                {
                                    "CustomerID": "OLDWO",
                                    "ContactName": "Rene Phillips",
                                    "CategoryName": "Confections",
                                    "ProductName": "Pavlova",
                                    "TotalQuantity": "120"
                                },
                                {
                                    "CustomerID": "OLDWO",
                                    "ContactName": "Rene Phillips",
                                    "CategoryName": "Dairy Products",
                                    "ProductName": "Gorgonzola Telino",
                                    "TotalQuantity": "34"
                                },
                                {
                                    "CustomerID": "OLDWO",
                                    "ContactName": "Rene Phillips",
                                    "CategoryName": "Grains/Cereals",
                                    "ProductName": "Gnocchi di nonna Alice",
                                    "TotalQuantity": "44"
                                },
                                {
                                    "CustomerID": "OLDWO",
                                    "ContactName": "Rene Phillips",
                                    "CategoryName": "Meat/Poultry",
                                    "ProductName": "Thüringer Rostbratwurst",
                                    "TotalQuantity": "25"
                                },
                                {
                                    "CustomerID": "OLDWO",
                                    "ContactName": "Rene Phillips",
                                    "CategoryName": "Produce",
                                    "ProductName": "Manjimup Dried Apples",
                                    "TotalQuantity": "16"
                                },
                                {
                                    "CustomerID": "OLDWO",
                                    "ContactName": "Rene Phillips",
                                    "CategoryName": "Seafood",
                                    "ProductName": "Escargots de Bourgogne",
                                    "TotalQuantity": "30"
                                },
                                {
                                    "CustomerID": "OTTIK",
                                    "ContactName": "Henriette Pfalzheim",
                                    "CategoryName": "Beverages",
                                    "ProductName": "Chang",
                                    "TotalQuantity": "40"
                                },
                                {
                                    "CustomerID": "OTTIK",
                                    "ContactName": "Henriette Pfalzheim",
                                    "CategoryName": "Condiments",
                                    "ProductName": "Original Frankfurter grüne Soße",
                                    "TotalQuantity": "31"
                                },
                                {
                                    "CustomerID": "OTTIK",
                                    "ContactName": "Henriette Pfalzheim",
                                    "CategoryName": "Confections",
                                    "ProductName": "Zaanse koeken",
                                    "TotalQuantity": "40"
                                },
                                {
                                    "CustomerID": "OTTIK",
                                    "ContactName": "Henriette Pfalzheim",
                                    "CategoryName": "Dairy Products",
                                    "ProductName": "Queso Cabrales",
                                    "TotalQuantity": "30"
                                },
                                {
                                    "CustomerID": "OTTIK",
                                    "ContactName": "Henriette Pfalzheim",
                                    "CategoryName": "Grains/Cereals",
                                    "ProductName": "Ravioli Angelo",
                                    "TotalQuantity": "50"
                                },
                                {
                                    "CustomerID": "OTTIK",
                                    "ContactName": "Henriette Pfalzheim",
                                    "CategoryName": "Meat/Poultry",
                                    "ProductName": "Perth Pasties",
                                    "TotalQuantity": "9"
                                },
                                {
                                    "CustomerID": "OTTIK",
                                    "ContactName": "Henriette Pfalzheim",
                                    "CategoryName": "Produce",
                                    "ProductName": "Uncle Bob's Organic Dried Pears",
                                    "TotalQuantity": "55"
                                },
                                {
                                    "CustomerID": "OTTIK",
                                    "ContactName": "Henriette Pfalzheim",
                                    "CategoryName": "Seafood",
                                    "ProductName": "Jack's New England Clam Chowder",
                                    "TotalQuantity": "45"
                                },
                                {
                                    "CustomerID": "PERIC",
                                    "ContactName": "Guillermo Fernández",
                                    "CategoryName": "Beverages",
                                    "ProductName": "Laughing Lumberjack Lager",
                                    "TotalQuantity": "30"
                                },
                                {
                                    "CustomerID": "PERIC",
                                    "ContactName": "Guillermo Fernández",
                                    "CategoryName": "Dairy Products",
                                    "ProductName": "Queso Cabrales",
                                    "TotalQuantity": "10"
                                },
                                {
                                    "CustomerID": "PERIC",
                                    "ContactName": "Guillermo Fernández",
                                    "CategoryName": "Grains/Cereals",
                                    "ProductName": "Filo Mix",
                                    "TotalQuantity": "20"
                                },
                                {
                                    "CustomerID": "PERIC",
                                    "ContactName": "Guillermo Fernández",
                                    "CategoryName": "Meat/Poultry",
                                    "ProductName": "Perth Pasties",
                                    "TotalQuantity": "6"
                                },
                                {
                                    "CustomerID": "PERIC",
                                    "ContactName": "Guillermo Fernández",
                                    "CategoryName": "Produce",
                                    "ProductName": "Manjimup Dried Apples",
                                    "TotalQuantity": "20"
                                },
                                {
                                    "CustomerID": "PERIC",
                                    "ContactName": "Guillermo Fernández",
                                    "CategoryName": "Seafood",
                                    "ProductName": "Rogede sild",
                                    "TotalQuantity": "21"
                                },
                                {
                                    "CustomerID": "PICCO",
                                    "ContactName": "Georg Pipps",
                                    "CategoryName": "Beverages",
                                    "ProductName": "Côte de Blaye",
                                    "TotalQuantity": "50"
                                },
                                {
                                    "CustomerID": "PICCO",
                                    "ContactName": "Georg Pipps",
                                    "CategoryName": "Condiments",
                                    "ProductName": "Sirop d'érable",
                                    "TotalQuantity": "20"
                                },
                                {
                                    "CustomerID": "PICCO",
                                    "ContactName": "Georg Pipps",
                                    "CategoryName": "Confections",
                                    "ProductName": "Pavlova",
                                    "TotalQuantity": "18"
                                },
                                {
                                    "CustomerID": "PICCO",
                                    "ContactName": "Georg Pipps",
                                    "CategoryName": "Dairy Products",
                                    "ProductName": "Gudbrandsdalsost",
                                    "TotalQuantity": "80"
                                },
                                {
                                    "CustomerID": "PICCO",
                                    "ContactName": "Georg Pipps",
                                    "CategoryName": "Grains/Cereals",
                                    "ProductName": "Gustaf's Knäckebröd",
                                    "TotalQuantity": "35"
                                },
                                {
                                    "CustomerID": "PICCO",
                                    "ContactName": "Georg Pipps",
                                    "CategoryName": "Meat/Poultry",
                                    "ProductName": "Alice Mutton",
                                    "TotalQuantity": "70"
                                },
                                {
                                    "CustomerID": "PICCO",
                                    "ContactName": "Georg Pipps",
                                    "CategoryName": "Produce",
                                    "ProductName": "Tofu",
                                    "TotalQuantity": "35"
                                },
                                {
                                    "CustomerID": "PICCO",
                                    "ContactName": "Georg Pipps",
                                    "CategoryName": "Seafood",
                                    "ProductName": "Carnarvon Tigers",
                                    "TotalQuantity": "35"
                                },
                                {
                                    "CustomerID": "PRINI",
                                    "ContactName": "Isabel de Castro",
                                    "CategoryName": "Beverages",
                                    "ProductName": "Chartreuse verte",
                                    "TotalQuantity": "20"
                                },
                                {
                                    "CustomerID": "PRINI",
                                    "ContactName": "Isabel de Castro",
                                    "CategoryName": "Condiments",
                                    "ProductName": "Northwoods Cranberry Sauce",
                                    "TotalQuantity": "30"
                                },
                                {
                                    "CustomerID": "PRINI",
                                    "ContactName": "Isabel de Castro",
                                    "CategoryName": "Confections",
                                    "ProductName": "Sir Rodney's Scones",
                                    "TotalQuantity": "31"
                                },
                                {
                                    "CustomerID": "PRINI",
                                    "ContactName": "Isabel de Castro",
                                    "CategoryName": "Grains/Cereals",
                                    "ProductName": "Gnocchi di nonna Alice",
                                    "TotalQuantity": "28"
                                },
                                {
                                    "CustomerID": "PRINI",
                                    "ContactName": "Isabel de Castro",
                                    "CategoryName": "Meat/Poultry",
                                    "ProductName": "Thüringer Rostbratwurst",
                                    "TotalQuantity": "10"
                                },
                                {
                                    "CustomerID": "PRINI",
                                    "ContactName": "Isabel de Castro",
                                    "CategoryName": "Produce",
                                    "ProductName": "Manjimup Dried Apples",
                                    "TotalQuantity": "18"
                                },
                                {
                                    "CustomerID": "QUEDE",
                                    "ContactName": "Bernardo Batista",
                                    "CategoryName": "Beverages",
                                    "ProductName": "Steeleye Stout",
                                    "TotalQuantity": "61"
                                },
                                {
                                    "CustomerID": "QUEDE",
                                    "ContactName": "Bernardo Batista",
                                    "CategoryName": "Condiments",
                                    "ProductName": "Grandma's Boysenberry Spread",
                                    "TotalQuantity": "40"
                                },
                                {
                                    "CustomerID": "QUEDE",
                                    "ContactName": "Bernardo Batista",
                                    "CategoryName": "Confections",
                                    "ProductName": "Gumbär Gummibärchen",
                                    "TotalQuantity": "36"
                                },
                                {
                                    "CustomerID": "QUEDE",
                                    "ContactName": "Bernardo Batista",
                                    "CategoryName": "Dairy Products",
                                    "ProductName": "Queso Cabrales",
                                    "TotalQuantity": "15"
                                },
                                {
                                    "CustomerID": "QUEDE",
                                    "ContactName": "Bernardo Batista",
                                    "CategoryName": "Meat/Poultry",
                                    "ProductName": "Perth Pasties",
                                    "TotalQuantity": "15"
                                },
                                {
                                    "CustomerID": "QUEDE",
                                    "ContactName": "Bernardo Batista",
                                    "CategoryName": "Produce",
                                    "ProductName": "Tofu",
                                    "TotalQuantity": "15"
                                },
                                {
                                    "CustomerID": "QUEDE",
                                    "ContactName": "Bernardo Batista",
                                    "CategoryName": "Seafood",
                                    "ProductName": "Konbu",
                                    "TotalQuantity": "20"
                                },
                                {
                                    "CustomerID": "QUEEN",
                                    "ContactName": "Lúcia Carvalho",
                                    "CategoryName": "Beverages",
                                    "ProductName": "Lakkalikööri",
                                    "TotalQuantity": "60"
                                },
                                {
                                    "CustomerID": "QUEEN",
                                    "ContactName": "Lúcia Carvalho",
                                    "CategoryName": "Condiments",
                                    "ProductName": "Chef Anton's Cajun Seasoning",
                                    "TotalQuantity": "36"
                                },
                                {
                                    "CustomerID": "QUEEN",
                                    "ContactName": "Lúcia Carvalho",
                                    "CategoryName": "Confections",
                                    "ProductName": "Gumbär Gummibärchen",
                                    "TotalQuantity": "50"
                                },
                                {
                                    "CustomerID": "QUEEN",
                                    "ContactName": "Lúcia Carvalho",
                                    "CategoryName": "Dairy Products",
                                    "ProductName": "Camembert Pierrot",
                                    "TotalQuantity": "85"
                                },
                                {
                                    "CustomerID": "QUEEN",
                                    "ContactName": "Lúcia Carvalho",
                                    "CategoryName": "Grains/Cereals",
                                    "ProductName": "Gnocchi di nonna Alice",
                                    "TotalQuantity": "60"
                                },
                                {
                                    "CustomerID": "QUEEN",
                                    "ContactName": "Lúcia Carvalho",
                                    "CategoryName": "Meat/Poultry",
                                    "ProductName": "Tourtière",
                                    "TotalQuantity": "24"
                                },
                                {
                                    "CustomerID": "QUEEN",
                                    "ContactName": "Lúcia Carvalho",
                                    "CategoryName": "Produce",
                                    "ProductName": "Rössle Sauerkraut",
                                    "TotalQuantity": "50"
                                },
                                {
                                    "CustomerID": "QUEEN",
                                    "ContactName": "Lúcia Carvalho",
                                    "CategoryName": "Seafood",
                                    "ProductName": "Boston Crab Meat",
                                    "TotalQuantity": "32"
                                },
                                {
                                    "CustomerID": "QUICK",
                                    "ContactName": "Horst Kloss",
                                    "CategoryName": "Beverages",
                                    "ProductName": "Lakkalikööri",
                                    "TotalQuantity": "167"
                                },
                                {
                                    "CustomerID": "QUICK",
                                    "ContactName": "Horst Kloss",
                                    "CategoryName": "Condiments",
                                    "ProductName": "Original Frankfurter grüne Soße",
                                    "TotalQuantity": "125"
                                },
                                {
                                    "CustomerID": "QUICK",
                                    "ContactName": "Horst Kloss",
                                    "CategoryName": "Confections",
                                    "ProductName": "Teatime Chocolate Biscuits",
                                    "TotalQuantity": "130"
                                },
                                {
                                    "CustomerID": "QUICK",
                                    "ContactName": "Horst Kloss",
                                    "CategoryName": "Dairy Products",
                                    "ProductName": "Camembert Pierrot",
                                    "TotalQuantity": "243"
                                },
                                {
                                    "CustomerID": "QUICK",
                                    "ContactName": "Horst Kloss",
                                    "CategoryName": "Grains/Cereals",
                                    "ProductName": "Singaporean Hokkien Fried Mee",
                                    "TotalQuantity": "191"
                                },
                                {
                                    "CustomerID": "QUICK",
                                    "ContactName": "Horst Kloss",
                                    "CategoryName": "Meat/Poultry",
                                    "ProductName": "Pâté chinois",
                                    "TotalQuantity": "120"
                                },
                                {
                                    "CustomerID": "QUICK",
                                    "ContactName": "Horst Kloss",
                                    "CategoryName": "Produce",
                                    "ProductName": "Uncle Bob's Organic Dried Pears",
                                    "TotalQuantity": "135"
                                },
                                {
                                    "CustomerID": "QUICK",
                                    "ContactName": "Horst Kloss",
                                    "CategoryName": "Seafood",
                                    "ProductName": "Boston Crab Meat",
                                    "TotalQuantity": "170"
                                },
                                {
                                    "CustomerID": "RANCH",
                                    "ContactName": "Sergio Gutiérrez",
                                    "CategoryName": "Beverages",
                                    "ProductName": "Côte de Blaye",
                                    "TotalQuantity": "2"
                                },
                                {
                                    "CustomerID": "RANCH",
                                    "ContactName": "Sergio Gutiérrez",
                                    "CategoryName": "Condiments",
                                    "ProductName": "Sirop d'érable",
                                    "TotalQuantity": "10"
                                },
                                {
                                    "CustomerID": "RANCH",
                                    "ContactName": "Sergio Gutiérrez",
                                    "CategoryName": "Confections",
                                    "ProductName": "Pavlova",
                                    "TotalQuantity": "6"
                                },
                                {
                                    "CustomerID": "RANCH",
                                    "ContactName": "Sergio Gutiérrez",
                                    "CategoryName": "Dairy Products",
                                    "ProductName": "Mascarpone Fabioli",
                                    "TotalQuantity": "6"
                                },
                                {
                                    "CustomerID": "RANCH",
                                    "ContactName": "Sergio Gutiérrez",
                                    "CategoryName": "Grains/Cereals",
                                    "ProductName": "Ravioli Angelo",
                                    "TotalQuantity": "20"
                                },
                                {
                                    "CustomerID": "RANCH",
                                    "ContactName": "Sergio Gutiérrez",
                                    "CategoryName": "Produce",
                                    "ProductName": "Manjimup Dried Apples",
                                    "TotalQuantity": "7"
                                },
                                {
                                    "CustomerID": "RANCH",
                                    "ContactName": "Sergio Gutiérrez",
                                    "CategoryName": "Seafood",
                                    "ProductName": "Boston Crab Meat",
                                    "TotalQuantity": "20"
                                },
                                {
                                    "CustomerID": "RATTC",
                                    "ContactName": "Paula Wilson",
                                    "CategoryName": "Beverages",
                                    "ProductName": "Côte de Blaye",
                                    "TotalQuantity": "70"
                                },
                                {
                                    "CustomerID": "RATTC",
                                    "ContactName": "Paula Wilson",
                                    "CategoryName": "Condiments",
                                    "ProductName": "Original Frankfurter grüne Soße",
                                    "TotalQuantity": "32"
                                },
                                {
                                    "CustomerID": "RATTC",
                                    "ContactName": "Paula Wilson",
                                    "CategoryName": "Confections",
                                    "ProductName": "Tarte au sucre",
                                    "TotalQuantity": "185"
                                },
                                {
                                    "CustomerID": "RATTC",
                                    "ContactName": "Paula Wilson",
                                    "CategoryName": "Dairy Products",
                                    "ProductName": "Gorgonzola Telino",
                                    "TotalQuantity": "81"
                                },
                                {
                                    "CustomerID": "RATTC",
                                    "ContactName": "Paula Wilson",
                                    "CategoryName": "Grains/Cereals",
                                    "ProductName": "Gnocchi di nonna Alice",
                                    "TotalQuantity": "122"
                                },
                                {
                                    "CustomerID": "RATTC",
                                    "ContactName": "Paula Wilson",
                                    "CategoryName": "Meat/Poultry",
                                    "ProductName": "Alice Mutton",
                                    "TotalQuantity": "73"
                                },
                                {
                                    "CustomerID": "RATTC",
                                    "ContactName": "Paula Wilson",
                                    "CategoryName": "Produce",
                                    "ProductName": "Uncle Bob's Organic Dried Pears",
                                    "TotalQuantity": "76"
                                },
                                {
                                    "CustomerID": "RATTC",
                                    "ContactName": "Paula Wilson",
                                    "CategoryName": "Seafood",
                                    "ProductName": "Escargots de Bourgogne",
                                    "TotalQuantity": "30"
                                },
                                {
                                    "CustomerID": "REGGC",
                                    "ContactName": "Maurizio Moroni",
                                    "CategoryName": "Beverages",
                                    "ProductName": "Outback Lager",
                                    "TotalQuantity": "12"
                                },
                                {
                                    "CustomerID": "REGGC",
                                    "ContactName": "Maurizio Moroni",
                                    "CategoryName": "Condiments",
                                    "ProductName": "Original Frankfurter grüne Soße",
                                    "TotalQuantity": "20"
                                },
                                {
                                    "CustomerID": "REGGC",
                                    "ContactName": "Maurizio Moroni",
                                    "CategoryName": "Confections",
                                    "ProductName": "Maxilaku",
                                    "TotalQuantity": "28"
                                },
                                {
                                    "CustomerID": "REGGC",
                                    "ContactName": "Maurizio Moroni",
                                    "CategoryName": "Dairy Products",
                                    "ProductName": "Mozzarella di Giovanni",
                                    "TotalQuantity": "40"
                                },
                                {
                                    "CustomerID": "REGGC",
                                    "ContactName": "Maurizio Moroni",
                                    "CategoryName": "Grains/Cereals",
                                    "ProductName": "Filo Mix",
                                    "TotalQuantity": "18"
                                },
                                {
                                    "CustomerID": "REGGC",
                                    "ContactName": "Maurizio Moroni",
                                    "CategoryName": "Meat/Poultry",
                                    "ProductName": "Alice Mutton",
                                    "TotalQuantity": "20"
                                },
                                {
                                    "CustomerID": "REGGC",
                                    "ContactName": "Maurizio Moroni",
                                    "CategoryName": "Produce",
                                    "ProductName": "Uncle Bob's Organic Dried Pears",
                                    "TotalQuantity": "40"
                                },
                                {
                                    "CustomerID": "REGGC",
                                    "ContactName": "Maurizio Moroni",
                                    "CategoryName": "Seafood",
                                    "ProductName": "Spegesild",
                                    "TotalQuantity": "20"
                                },
                                {
                                    "CustomerID": "RICAR",
                                    "ContactName": "Janete Limeira",
                                    "CategoryName": "Beverages",
                                    "ProductName": "Chang",
                                    "TotalQuantity": "37"
                                },
                                {
                                    "CustomerID": "RICAR",
                                    "ContactName": "Janete Limeira",
                                    "CategoryName": "Condiments",
                                    "ProductName": "Louisiana Fiery Hot Pepper Sauce",
                                    "TotalQuantity": "35"
                                },
                                {
                                    "CustomerID": "RICAR",
                                    "ContactName": "Janete Limeira",
                                    "CategoryName": "Confections",
                                    "ProductName": "Pavlova",
                                    "TotalQuantity": "70"
                                },
                                {
                                    "CustomerID": "RICAR",
                                    "ContactName": "Janete Limeira",
                                    "CategoryName": "Dairy Products",
                                    "ProductName": "Camembert Pierrot",
                                    "TotalQuantity": "75"
                                },
                                {
                                    "CustomerID": "RICAR",
                                    "ContactName": "Janete Limeira",
                                    "CategoryName": "Grains/Cereals",
                                    "ProductName": "Filo Mix",
                                    "TotalQuantity": "70"
                                },
                                {
                                    "CustomerID": "RICAR",
                                    "ContactName": "Janete Limeira",
                                    "CategoryName": "Meat/Poultry",
                                    "ProductName": "Alice Mutton",
                                    "TotalQuantity": "12"
                                },
                                {
                                    "CustomerID": "RICAR",
                                    "ContactName": "Janete Limeira",
                                    "CategoryName": "Seafood",
                                    "ProductName": "Spegesild",
                                    "TotalQuantity": "50"
                                },
                                {
                                    "CustomerID": "RICSU",
                                    "ContactName": "Michael Holz",
                                    "CategoryName": "Beverages",
                                    "ProductName": "Rhönbräu Klosterbier",
                                    "TotalQuantity": "50"
                                },
                                {
                                    "CustomerID": "RICSU",
                                    "ContactName": "Michael Holz",
                                    "CategoryName": "Condiments",
                                    "ProductName": "Louisiana Fiery Hot Pepper Sauce",
                                    "TotalQuantity": "10"
                                },
                                {
                                    "CustomerID": "RICSU",
                                    "ContactName": "Michael Holz",
                                    "CategoryName": "Confections",
                                    "ProductName": "Pavlova",
                                    "TotalQuantity": "35"
                                },
                                {
                                    "CustomerID": "RICSU",
                                    "ContactName": "Michael Holz",
                                    "CategoryName": "Dairy Products",
                                    "ProductName": "Camembert Pierrot",
                                    "TotalQuantity": "60"
                                },
                                {
                                    "CustomerID": "RICSU",
                                    "ContactName": "Michael Holz",
                                    "CategoryName": "Grains/Cereals",
                                    "ProductName": "Filo Mix",
                                    "TotalQuantity": "60"
                                },
                                {
                                    "CustomerID": "RICSU",
                                    "ContactName": "Michael Holz",
                                    "CategoryName": "Meat/Poultry",
                                    "ProductName": "Perth Pasties",
                                    "TotalQuantity": "70"
                                },
                                {
                                    "CustomerID": "RICSU",
                                    "ContactName": "Michael Holz",
                                    "CategoryName": "Produce",
                                    "ProductName": "Manjimup Dried Apples",
                                    "TotalQuantity": "6"
                                },
                                {
                                    "CustomerID": "RICSU",
                                    "ContactName": "Michael Holz",
                                    "CategoryName": "Seafood",
                                    "ProductName": "Konbu",
                                    "TotalQuantity": "42"
                                },
                                {
                                    "CustomerID": "ROMEY",
                                    "ContactName": "Alejandra Camino",
                                    "CategoryName": "Beverages",
                                    "ProductName": "Guaraná Fantástica",
                                    "TotalQuantity": "6"
                                },
                                {
                                    "CustomerID": "ROMEY",
                                    "ContactName": "Alejandra Camino",
                                    "CategoryName": "Confections",
                                    "ProductName": "Scottish Longbreads",
                                    "TotalQuantity": "2"
                                },
                                {
                                    "CustomerID": "ROMEY",
                                    "ContactName": "Alejandra Camino",
                                    "CategoryName": "Dairy Products",
                                    "ProductName": "Camembert Pierrot",
                                    "TotalQuantity": "10"
                                },
                                {
                                    "CustomerID": "ROMEY",
                                    "ContactName": "Alejandra Camino",
                                    "CategoryName": "Grains/Cereals",
                                    "ProductName": "Tunnbröd",
                                    "TotalQuantity": "10"
                                },
                                {
                                    "CustomerID": "ROMEY",
                                    "ContactName": "Alejandra Camino",
                                    "CategoryName": "Meat/Poultry",
                                    "ProductName": "Perth Pasties",
                                    "TotalQuantity": "10"
                                },
                                {
                                    "CustomerID": "ROMEY",
                                    "ContactName": "Alejandra Camino",
                                    "CategoryName": "Seafood",
                                    "ProductName": "Rogede sild",
                                    "TotalQuantity": "20"
                                },
                                {
                                    "CustomerID": "SANTG",
                                    "ContactName": "Jonas Bergulfsen",
                                    "CategoryName": "Beverages",
                                    "ProductName": "Guaraná Fantástica",
                                    "TotalQuantity": "23"
                                },
                                {
                                    "CustomerID": "SANTG",
                                    "ContactName": "Jonas Bergulfsen",
                                    "CategoryName": "Condiments",
                                    "ProductName": "Original Frankfurter grüne Soße",
                                    "TotalQuantity": "18"
                                },
                                {
                                    "CustomerID": "SANTG",
                                    "ContactName": "Jonas Bergulfsen",
                                    "CategoryName": "Confections",
                                    "ProductName": "Pavlova",
                                    "TotalQuantity": "15"
                                },
                                {
                                    "CustomerID": "SANTG",
                                    "ContactName": "Jonas Bergulfsen",
                                    "CategoryName": "Dairy Products",
                                    "ProductName": "Flotemysost",
                                    "TotalQuantity": "15"
                                },
                                {
                                    "CustomerID": "SANTG",
                                    "ContactName": "Jonas Bergulfsen",
                                    "CategoryName": "Meat/Poultry",
                                    "ProductName": "Perth Pasties",
                                    "TotalQuantity": "5"
                                },
                                {
                                    "CustomerID": "SANTG",
                                    "ContactName": "Jonas Bergulfsen",
                                    "CategoryName": "Produce",
                                    "ProductName": "Uncle Bob's Organic Dried Pears",
                                    "TotalQuantity": "12"
                                },
                                {
                                    "CustomerID": "SANTG",
                                    "ContactName": "Jonas Bergulfsen",
                                    "CategoryName": "Seafood",
                                    "ProductName": "Nord-Ost Matjeshering",
                                    "TotalQuantity": "15"
                                },
                                {
                                    "CustomerID": "SAVEA",
                                    "ContactName": "Jose Pavarotti",
                                    "CategoryName": "Beverages",
                                    "ProductName": "Chang",
                                    "TotalQuantity": "203"
                                },
                                {
                                    "CustomerID": "SAVEA",
                                    "ContactName": "Jose Pavarotti",
                                    "CategoryName": "Condiments",
                                    "ProductName": "Gula Malacca",
                                    "TotalQuantity": "100"
                                },
                                {
                                    "CustomerID": "SAVEA",
                                    "ContactName": "Jose Pavarotti",
                                    "CategoryName": "Confections",
                                    "ProductName": "Scottish Longbreads",
                                    "TotalQuantity": "220"
                                },
                                {
                                    "CustomerID": "SAVEA",
                                    "ContactName": "Jose Pavarotti",
                                    "CategoryName": "Dairy Products",
                                    "ProductName": "Raclette Courdavault",
                                    "TotalQuantity": "147"
                                },
                                {
                                    "CustomerID": "SAVEA",
                                    "ContactName": "Jose Pavarotti",
                                    "CategoryName": "Grains/Cereals",
                                    "ProductName": "Gnocchi di nonna Alice",
                                    "TotalQuantity": "131"
                                },
                                {
                                    "CustomerID": "SAVEA",
                                    "ContactName": "Jose Pavarotti",
                                    "CategoryName": "Meat/Poultry",
                                    "ProductName": "Alice Mutton",
                                    "TotalQuantity": "204"
                                },
                                {
                                    "CustomerID": "SAVEA",
                                    "ContactName": "Jose Pavarotti",
                                    "CategoryName": "Produce",
                                    "ProductName": "Tofu",
                                    "TotalQuantity": "72"
                                },
                                {
                                    "CustomerID": "SAVEA",
                                    "ContactName": "Jose Pavarotti",
                                    "CategoryName": "Seafood",
                                    "ProductName": "Konbu",
                                    "TotalQuantity": "248"
                                },
                                {
                                    "CustomerID": "SEVES",
                                    "ContactName": "Hari Kumar",
                                    "CategoryName": "Beverages",
                                    "ProductName": "Guaraná Fantástica",
                                    "TotalQuantity": "80"
                                },
                                {
                                    "CustomerID": "SEVES",
                                    "ContactName": "Hari Kumar",
                                    "CategoryName": "Confections",
                                    "ProductName": "Pavlova",
                                    "TotalQuantity": "56"
                                },
                                {
                                    "CustomerID": "SEVES",
                                    "ContactName": "Hari Kumar",
                                    "CategoryName": "Dairy Products",
                                    "ProductName": "Camembert Pierrot",
                                    "TotalQuantity": "80"
                                },
                                {
                                    "CustomerID": "SEVES",
                                    "ContactName": "Hari Kumar",
                                    "CategoryName": "Grains/Cereals",
                                    "ProductName": "Tunnbröd",
                                    "TotalQuantity": "50"
                                },
                                {
                                    "CustomerID": "SEVES",
                                    "ContactName": "Hari Kumar",
                                    "CategoryName": "Meat/Poultry",
                                    "ProductName": "Perth Pasties",
                                    "TotalQuantity": "40"
                                },
                                {
                                    "CustomerID": "SEVES",
                                    "ContactName": "Hari Kumar",
                                    "CategoryName": "Produce",
                                    "ProductName": "Rössle Sauerkraut",
                                    "TotalQuantity": "44"
                                },
                                {
                                    "CustomerID": "SEVES",
                                    "ContactName": "Hari Kumar",
                                    "CategoryName": "Seafood",
                                    "ProductName": "Inlagd Sill",
                                    "TotalQuantity": "60"
                                },
                                {
                                    "CustomerID": "SIMOB",
                                    "ContactName": "Jytte Petersen",
                                    "CategoryName": "Beverages",
                                    "ProductName": "Côte de Blaye",
                                    "TotalQuantity": "50"
                                },
                                {
                                    "CustomerID": "SIMOB",
                                    "ContactName": "Jytte Petersen",
                                    "CategoryName": "Condiments",
                                    "ProductName": "Original Frankfurter grüne Soße",
                                    "TotalQuantity": "35"
                                },
                                {
                                    "CustomerID": "SIMOB",
                                    "ContactName": "Jytte Petersen",
                                    "CategoryName": "Confections",
                                    "ProductName": "Scottish Longbreads",
                                    "TotalQuantity": "36"
                                },
                                {
                                    "CustomerID": "SIMOB",
                                    "ContactName": "Jytte Petersen",
                                    "CategoryName": "Dairy Products",
                                    "ProductName": "Mozzarella di Giovanni",
                                    "TotalQuantity": "24"
                                },
                                {
                                    "CustomerID": "SIMOB",
                                    "ContactName": "Jytte Petersen",
                                    "CategoryName": "Meat/Poultry",
                                    "ProductName": "Pâté chinois",
                                    "TotalQuantity": "60"
                                },
                                {
                                    "CustomerID": "SIMOB",
                                    "ContactName": "Jytte Petersen",
                                    "CategoryName": "Produce",
                                    "ProductName": "Manjimup Dried Apples",
                                    "TotalQuantity": "30"
                                },
                                {
                                    "CustomerID": "SIMOB",
                                    "ContactName": "Jytte Petersen",
                                    "CategoryName": "Seafood",
                                    "ProductName": "Inlagd Sill",
                                    "TotalQuantity": "30"
                                },
                                {
                                    "CustomerID": "SPECD",
                                    "ContactName": "Dominique Perrier",
                                    "CategoryName": "Beverages",
                                    "ProductName": "Rhönbräu Klosterbier",
                                    "TotalQuantity": "14"
                                },
                                {
                                    "CustomerID": "SPECD",
                                    "ContactName": "Dominique Perrier",
                                    "CategoryName": "Confections",
                                    "ProductName": "Pavlova",
                                    "TotalQuantity": "3"
                                },
                                {
                                    "CustomerID": "SPECD",
                                    "ContactName": "Dominique Perrier",
                                    "CategoryName": "Dairy Products",
                                    "ProductName": "Queso Cabrales",
                                    "TotalQuantity": "10"
                                },
                                {
                                    "CustomerID": "SPECD",
                                    "ContactName": "Dominique Perrier",
                                    "CategoryName": "Seafood",
                                    "ProductName": "Carnarvon Tigers",
                                    "TotalQuantity": "6"
                                },
                                {
                                    "CustomerID": "SPLIR",
                                    "ContactName": "Art Braunschweiger",
                                    "CategoryName": "Beverages",
                                    "ProductName": "Steeleye Stout",
                                    "TotalQuantity": "20"
                                },
                                {
                                    "CustomerID": "SPLIR",
                                    "ContactName": "Art Braunschweiger",
                                    "CategoryName": "Condiments",
                                    "ProductName": "Vegie-spread",
                                    "TotalQuantity": "10"
                                },
                                {
                                    "CustomerID": "SPLIR",
                                    "ContactName": "Art Braunschweiger",
                                    "CategoryName": "Confections",
                                    "ProductName": "Scottish Longbreads",
                                    "TotalQuantity": "14"
                                },
                                {
                                    "CustomerID": "SPLIR",
                                    "ContactName": "Art Braunschweiger",
                                    "CategoryName": "Dairy Products",
                                    "ProductName": "Geitost",
                                    "TotalQuantity": "24"
                                },
                                {
                                    "CustomerID": "SPLIR",
                                    "ContactName": "Art Braunschweiger",
                                    "CategoryName": "Grains/Cereals",
                                    "ProductName": "Gnocchi di nonna Alice",
                                    "TotalQuantity": "30"
                                },
                                {
                                    "CustomerID": "SPLIR",
                                    "ContactName": "Art Braunschweiger",
                                    "CategoryName": "Meat/Poultry",
                                    "ProductName": "Tourtière",
                                    "TotalQuantity": "64"
                                },
                                {
                                    "CustomerID": "SPLIR",
                                    "ContactName": "Art Braunschweiger",
                                    "CategoryName": "Produce",
                                    "ProductName": "Uncle Bob's Organic Dried Pears",
                                    "TotalQuantity": "10"
                                },
                                {
                                    "CustomerID": "SPLIR",
                                    "ContactName": "Art Braunschweiger",
                                    "CategoryName": "Seafood",
                                    "ProductName": "Carnarvon Tigers",
                                    "TotalQuantity": "21"
                                },
                                {
                                    "CustomerID": "SUPRD",
                                    "ContactName": "Pascale Cartrain",
                                    "CategoryName": "Beverages",
                                    "ProductName": "Steeleye Stout",
                                    "TotalQuantity": "60"
                                },
                                {
                                    "CustomerID": "SUPRD",
                                    "ContactName": "Pascale Cartrain",
                                    "CategoryName": "Condiments",
                                    "ProductName": "Louisiana Hot Spiced Okra",
                                    "TotalQuantity": "60"
                                },
                                {
                                    "CustomerID": "SUPRD",
                                    "ContactName": "Pascale Cartrain",
                                    "CategoryName": "Confections",
                                    "ProductName": "Sir Rodney's Marmalade",
                                    "TotalQuantity": "40"
                                },
                                {
                                    "CustomerID": "SUPRD",
                                    "ContactName": "Pascale Cartrain",
                                    "CategoryName": "Dairy Products",
                                    "ProductName": "Flotemysost",
                                    "TotalQuantity": "80"
                                },
                                {
                                    "CustomerID": "SUPRD",
                                    "ContactName": "Pascale Cartrain",
                                    "CategoryName": "Grains/Cereals",
                                    "ProductName": "Singaporean Hokkien Fried Mee",
                                    "TotalQuantity": "82"
                                },
                                {
                                    "CustomerID": "SUPRD",
                                    "ContactName": "Pascale Cartrain",
                                    "CategoryName": "Meat/Poultry",
                                    "ProductName": "Alice Mutton",
                                    "TotalQuantity": "40"
                                },
                                {
                                    "CustomerID": "SUPRD",
                                    "ContactName": "Pascale Cartrain",
                                    "CategoryName": "Produce",
                                    "ProductName": "Rössle Sauerkraut",
                                    "TotalQuantity": "58"
                                },
                                {
                                    "CustomerID": "SUPRD",
                                    "ContactName": "Pascale Cartrain",
                                    "CategoryName": "Seafood",
                                    "ProductName": "Escargots de Bourgogne",
                                    "TotalQuantity": "30"
                                },
                                {
                                    "CustomerID": "THEBI",
                                    "ContactName": "Liz Nixon",
                                    "CategoryName": "Beverages",
                                    "ProductName": "Côte de Blaye",
                                    "TotalQuantity": "10"
                                },
                                {
                                    "CustomerID": "THEBI",
                                    "ContactName": "Liz Nixon",
                                    "CategoryName": "Condiments",
                                    "ProductName": "Chef Anton's Gumbo Mix",
                                    "TotalQuantity": "4"
                                },
                                {
                                    "CustomerID": "THEBI",
                                    "ContactName": "Liz Nixon",
                                    "CategoryName": "Confections",
                                    "ProductName": "Pavlova",
                                    "TotalQuantity": "10"
                                },
                                {
                                    "CustomerID": "THEBI",
                                    "ContactName": "Liz Nixon",
                                    "CategoryName": "Dairy Products",
                                    "ProductName": "Mozzarella di Giovanni",
                                    "TotalQuantity": "2"
                                },
                                {
                                    "CustomerID": "THEBI",
                                    "ContactName": "Liz Nixon",
                                    "CategoryName": "Seafood",
                                    "ProductName": "Inlagd Sill",
                                    "TotalQuantity": "5"
                                },
                                {
                                    "CustomerID": "THECR",
                                    "ContactName": "Liu Wong",
                                    "CategoryName": "Beverages",
                                    "ProductName": "Chai",
                                    "TotalQuantity": "4"
                                },
                                {
                                    "CustomerID": "THECR",
                                    "ContactName": "Liu Wong",
                                    "CategoryName": "Condiments",
                                    "ProductName": "Gula Malacca",
                                    "TotalQuantity": "10"
                                },
                                {
                                    "CustomerID": "THECR",
                                    "ContactName": "Liu Wong",
                                    "CategoryName": "Grains/Cereals",
                                    "ProductName": "Filo Mix",
                                    "TotalQuantity": "10"
                                },
                                {
                                    "CustomerID": "THECR",
                                    "ContactName": "Liu Wong",
                                    "CategoryName": "Meat/Poultry",
                                    "ProductName": "Thüringer Rostbratwurst",
                                    "TotalQuantity": "6"
                                },
                                {
                                    "CustomerID": "THECR",
                                    "ContactName": "Liu Wong",
                                    "CategoryName": "Produce",
                                    "ProductName": "Rössle Sauerkraut",
                                    "TotalQuantity": "10"
                                },
                                {
                                    "CustomerID": "THECR",
                                    "ContactName": "Liu Wong",
                                    "CategoryName": "Seafood",
                                    "ProductName": "Boston Crab Meat",
                                    "TotalQuantity": "10"
                                },
                                {
                                    "CustomerID": "TOMSP",
                                    "ContactName": "Karin Josephs",
                                    "CategoryName": "Beverages",
                                    "ProductName": "Sasquatch Ale",
                                    "TotalQuantity": "30"
                                },
                                {
                                    "CustomerID": "TOMSP",
                                    "ContactName": "Karin Josephs",
                                    "CategoryName": "Confections",
                                    "ProductName": "Maxilaku",
                                    "TotalQuantity": "40"
                                },
                                {
                                    "CustomerID": "TOMSP",
                                    "ContactName": "Karin Josephs",
                                    "CategoryName": "Dairy Products",
                                    "ProductName": "Gorgonzola Telino",
                                    "TotalQuantity": "3"
                                },
                                {
                                    "CustomerID": "TOMSP",
                                    "ContactName": "Karin Josephs",
                                    "CategoryName": "Grains/Cereals",
                                    "ProductName": "Gnocchi di nonna Alice",
                                    "TotalQuantity": "28"
                                },
                                {
                                    "CustomerID": "TOMSP",
                                    "ContactName": "Karin Josephs",
                                    "CategoryName": "Produce",
                                    "ProductName": "Manjimup Dried Apples",
                                    "TotalQuantity": "40"
                                },
                                {
                                    "CustomerID": "TOMSP",
                                    "ContactName": "Karin Josephs",
                                    "CategoryName": "Seafood",
                                    "ProductName": "Jack's New England Clam Chowder",
                                    "TotalQuantity": "14"
                                },
                                {
                                    "CustomerID": "TORTU",
                                    "ContactName": "Miguel Angel Paolino",
                                    "CategoryName": "Beverages",
                                    "ProductName": "Lakkalikööri",
                                    "TotalQuantity": "30"
                                },
                                {
                                    "CustomerID": "TORTU",
                                    "ContactName": "Miguel Angel Paolino",
                                    "CategoryName": "Condiments",
                                    "ProductName": "Gula Malacca",
                                    "TotalQuantity": "51"
                                },
                                {
                                    "CustomerID": "TORTU",
                                    "ContactName": "Miguel Angel Paolino",
                                    "CategoryName": "Confections",
                                    "ProductName": "Maxilaku",
                                    "TotalQuantity": "30"
                                },
                                {
                                    "CustomerID": "TORTU",
                                    "ContactName": "Miguel Angel Paolino",
                                    "CategoryName": "Dairy Products",
                                    "ProductName": "Geitost",
                                    "TotalQuantity": "30"
                                },
                                {
                                    "CustomerID": "TORTU",
                                    "ContactName": "Miguel Angel Paolino",
                                    "CategoryName": "Meat/Poultry",
                                    "ProductName": "Alice Mutton",
                                    "TotalQuantity": "18"
                                },
                                {
                                    "CustomerID": "TORTU",
                                    "ContactName": "Miguel Angel Paolino",
                                    "CategoryName": "Produce",
                                    "ProductName": "Rössle Sauerkraut",
                                    "TotalQuantity": "14"
                                },
                                {
                                    "CustomerID": "TORTU",
                                    "ContactName": "Miguel Angel Paolino",
                                    "CategoryName": "Seafood",
                                    "ProductName": "Ikura",
                                    "TotalQuantity": "17"
                                },
                                {
                                    "CustomerID": "TRADH",
                                    "ContactName": "Anabela Domingues",
                                    "CategoryName": "Beverages",
                                    "ProductName": "Chartreuse verte",
                                    "TotalQuantity": "28"
                                },
                                {
                                    "CustomerID": "TRADH",
                                    "ContactName": "Anabela Domingues",
                                    "CategoryName": "Condiments",
                                    "ProductName": "Chef Anton's Cajun Seasoning",
                                    "TotalQuantity": "20"
                                },
                                {
                                    "CustomerID": "TRADH",
                                    "ContactName": "Anabela Domingues",
                                    "CategoryName": "Confections",
                                    "ProductName": "Scottish Longbreads",
                                    "TotalQuantity": "24"
                                },
                                {
                                    "CustomerID": "TRADH",
                                    "ContactName": "Anabela Domingues",
                                    "CategoryName": "Dairy Products",
                                    "ProductName": "Camembert Pierrot",
                                    "TotalQuantity": "30"
                                },
                                {
                                    "CustomerID": "TRADH",
                                    "ContactName": "Anabela Domingues",
                                    "CategoryName": "Meat/Poultry",
                                    "ProductName": "Pâté chinois",
                                    "TotalQuantity": "20"
                                },
                                {
                                    "CustomerID": "TRADH",
                                    "ContactName": "Anabela Domingues",
                                    "CategoryName": "Seafood",
                                    "ProductName": "Escargots de Bourgogne",
                                    "TotalQuantity": "30"
                                },
                                {
                                    "CustomerID": "TRAIH",
                                    "ContactName": "Helvetius Nagy",
                                    "CategoryName": "Beverages",
                                    "ProductName": "Rhönbräu Klosterbier",
                                    "TotalQuantity": "20"
                                },
                                {
                                    "CustomerID": "TRAIH",
                                    "ContactName": "Helvetius Nagy",
                                    "CategoryName": "Condiments",
                                    "ProductName": "Original Frankfurter grüne Soße",
                                    "TotalQuantity": "18"
                                },
                                {
                                    "CustomerID": "TRAIH",
                                    "ContactName": "Helvetius Nagy",
                                    "CategoryName": "Confections",
                                    "ProductName": "Tarte au sucre",
                                    "TotalQuantity": "13"
                                },
                                {
                                    "CustomerID": "TRAIH",
                                    "ContactName": "Helvetius Nagy",
                                    "CategoryName": "Dairy Products",
                                    "ProductName": "Geitost",
                                    "TotalQuantity": "14"
                                },
                                {
                                    "CustomerID": "TRAIH",
                                    "ContactName": "Helvetius Nagy",
                                    "CategoryName": "Grains/Cereals",
                                    "ProductName": "Wimmers gute Semmelknödel",
                                    "TotalQuantity": "6"
                                },
                                {
                                    "CustomerID": "TRAIH",
                                    "ContactName": "Helvetius Nagy",
                                    "CategoryName": "Seafood",
                                    "ProductName": "Boston Crab Meat",
                                    "TotalQuantity": "2"
                                },
                                {
                                    "CustomerID": "VAFFE",
                                    "ContactName": "Palle Ibsen",
                                    "CategoryName": "Beverages",
                                    "ProductName": "Sasquatch Ale",
                                    "TotalQuantity": "50"
                                },
                                {
                                    "CustomerID": "VAFFE",
                                    "ContactName": "Palle Ibsen",
                                    "CategoryName": "Condiments",
                                    "ProductName": "Original Frankfurter grüne Soße",
                                    "TotalQuantity": "66"
                                },
                                {
                                    "CustomerID": "VAFFE",
                                    "ContactName": "Palle Ibsen",
                                    "CategoryName": "Confections",
                                    "ProductName": "Scottish Longbreads",
                                    "TotalQuantity": "60"
                                },
                                {
                                    "CustomerID": "VAFFE",
                                    "ContactName": "Palle Ibsen",
                                    "CategoryName": "Dairy Products",
                                    "ProductName": "Flotemysost",
                                    "TotalQuantity": "30"
                                },
                                {
                                    "CustomerID": "VAFFE",
                                    "ContactName": "Palle Ibsen",
                                    "CategoryName": "Grains/Cereals",
                                    "ProductName": "Filo Mix",
                                    "TotalQuantity": "15"
                                },
                                {
                                    "CustomerID": "VAFFE",
                                    "ContactName": "Palle Ibsen",
                                    "CategoryName": "Meat/Poultry",
                                    "ProductName": "Tourtière",
                                    "TotalQuantity": "68"
                                },
                                {
                                    "CustomerID": "VAFFE",
                                    "ContactName": "Palle Ibsen",
                                    "CategoryName": "Produce",
                                    "ProductName": "Rössle Sauerkraut",
                                    "TotalQuantity": "60"
                                },
                                {
                                    "CustomerID": "VAFFE",
                                    "ContactName": "Palle Ibsen",
                                    "CategoryName": "Seafood",
                                    "ProductName": "Boston Crab Meat",
                                    "TotalQuantity": "70"
                                },
                                {
                                    "CustomerID": "VICTE",
                                    "ContactName": "Mary Saveley",
                                    "CategoryName": "Beverages",
                                    "ProductName": "Steeleye Stout",
                                    "TotalQuantity": "30"
                                },
                                {
                                    "CustomerID": "VICTE",
                                    "ContactName": "Mary Saveley",
                                    "CategoryName": "Condiments",
                                    "ProductName": "Sirop d'érable",
                                    "TotalQuantity": "30"
                                },
                                {
                                    "CustomerID": "VICTE",
                                    "ContactName": "Mary Saveley",
                                    "CategoryName": "Confections",
                                    "ProductName": "Tarte au sucre",
                                    "TotalQuantity": "40"
                                },
                                {
                                    "CustomerID": "VICTE",
                                    "ContactName": "Mary Saveley",
                                    "CategoryName": "Dairy Products",
                                    "ProductName": "Mozzarella di Giovanni",
                                    "TotalQuantity": "40"
                                },
                                {
                                    "CustomerID": "VICTE",
                                    "ContactName": "Mary Saveley",
                                    "CategoryName": "Grains/Cereals",
                                    "ProductName": "Ravioli Angelo",
                                    "TotalQuantity": "15"
                                },
                                {
                                    "CustomerID": "VICTE",
                                    "ContactName": "Mary Saveley",
                                    "CategoryName": "Meat/Poultry",
                                    "ProductName": "Tourtière",
                                    "TotalQuantity": "6"
                                },
                                {
                                    "CustomerID": "VICTE",
                                    "ContactName": "Mary Saveley",
                                    "CategoryName": "Produce",
                                    "ProductName": "Uncle Bob's Organic Dried Pears",
                                    "TotalQuantity": "26"
                                },
                                {
                                    "CustomerID": "VICTE",
                                    "ContactName": "Mary Saveley",
                                    "CategoryName": "Seafood",
                                    "ProductName": "Ikura",
                                    "TotalQuantity": "40"
                                },
                                {
                                    "CustomerID": "VINET",
                                    "ContactName": "Paul Henriot",
                                    "CategoryName": "Dairy Products",
                                    "ProductName": "Flotemysost",
                                    "TotalQuantity": "20"
                                },
                                {
                                    "CustomerID": "VINET",
                                    "ContactName": "Paul Henriot",
                                    "CategoryName": "Grains/Cereals",
                                    "ProductName": "Filo Mix",
                                    "TotalQuantity": "18"
                                },
                                {
                                    "CustomerID": "VINET",
                                    "ContactName": "Paul Henriot",
                                    "CategoryName": "Seafood",
                                    "ProductName": "Jack's New England Clam Chowder",
                                    "TotalQuantity": "12"
                                },
                                {
                                    "CustomerID": "WANDK",
                                    "ContactName": "Rita Müller",
                                    "CategoryName": "Beverages",
                                    "ProductName": "Chang",
                                    "TotalQuantity": "30"
                                },
                                {
                                    "CustomerID": "WANDK",
                                    "ContactName": "Rita Müller",
                                    "CategoryName": "Condiments",
                                    "ProductName": "Sirop d'érable",
                                    "TotalQuantity": "15"
                                },
                                {
                                    "CustomerID": "WANDK",
                                    "ContactName": "Rita Müller",
                                    "CategoryName": "Confections",
                                    "ProductName": "Sir Rodney's Scones",
                                    "TotalQuantity": "40"
                                },
                                {
                                    "CustomerID": "WANDK",
                                    "ContactName": "Rita Müller",
                                    "CategoryName": "Dairy Products",
                                    "ProductName": "Mascarpone Fabioli",
                                    "TotalQuantity": "65"
                                },
                                {
                                    "CustomerID": "WANDK",
                                    "ContactName": "Rita Müller",
                                    "CategoryName": "Grains/Cereals",
                                    "ProductName": "Tunnbröd",
                                    "TotalQuantity": "25"
                                },
                                {
                                    "CustomerID": "WANDK",
                                    "ContactName": "Rita Müller",
                                    "CategoryName": "Meat/Poultry",
                                    "ProductName": "Perth Pasties",
                                    "TotalQuantity": "20"
                                },
                                {
                                    "CustomerID": "WANDK",
                                    "ContactName": "Rita Müller",
                                    "CategoryName": "Produce",
                                    "ProductName": "Rössle Sauerkraut",
                                    "TotalQuantity": "4"
                                },
                                {
                                    "CustomerID": "WANDK",
                                    "ContactName": "Rita Müller",
                                    "CategoryName": "Seafood",
                                    "ProductName": "Boston Crab Meat",
                                    "TotalQuantity": "10"
                                },
                                {
                                    "CustomerID": "WARTH",
                                    "ContactName": "Pirkko Koskitalo",
                                    "CategoryName": "Beverages",
                                    "ProductName": "Ipoh Coffee",
                                    "TotalQuantity": "25"
                                },
                                {
                                    "CustomerID": "WARTH",
                                    "ContactName": "Pirkko Koskitalo",
                                    "CategoryName": "Condiments",
                                    "ProductName": "Chef Anton's Cajun Seasoning",
                                    "TotalQuantity": "25"
                                },
                                {
                                    "CustomerID": "WARTH",
                                    "ContactName": "Pirkko Koskitalo",
                                    "CategoryName": "Confections",
                                    "ProductName": "Teatime Chocolate Biscuits",
                                    "TotalQuantity": "20"
                                },
                                {
                                    "CustomerID": "WARTH",
                                    "ContactName": "Pirkko Koskitalo",
                                    "CategoryName": "Dairy Products",
                                    "ProductName": "Flotemysost",
                                    "TotalQuantity": "100"
                                },
                                {
                                    "CustomerID": "WARTH",
                                    "ContactName": "Pirkko Koskitalo",
                                    "CategoryName": "Grains/Cereals",
                                    "ProductName": "Gnocchi di nonna Alice",
                                    "TotalQuantity": "50"
                                },
                                {
                                    "CustomerID": "WARTH",
                                    "ContactName": "Pirkko Koskitalo",
                                    "CategoryName": "Meat/Poultry",
                                    "ProductName": "Perth Pasties",
                                    "TotalQuantity": "75"
                                },
                                {
                                    "CustomerID": "WARTH",
                                    "ContactName": "Pirkko Koskitalo",
                                    "CategoryName": "Produce",
                                    "ProductName": "Tofu",
                                    "TotalQuantity": "35"
                                },
                                {
                                    "CustomerID": "WARTH",
                                    "ContactName": "Pirkko Koskitalo",
                                    "CategoryName": "Seafood",
                                    "ProductName": "Rogede sild",
                                    "TotalQuantity": "40"
                                },
                                {
                                    "CustomerID": "WELLI",
                                    "ContactName": "Paula Parente",
                                    "CategoryName": "Beverages",
                                    "ProductName": "Chai",
                                    "TotalQuantity": "41"
                                },
                                {
                                    "CustomerID": "WELLI",
                                    "ContactName": "Paula Parente",
                                    "CategoryName": "Condiments",
                                    "ProductName": "Original Frankfurter grüne Soße",
                                    "TotalQuantity": "12"
                                },
                                {
                                    "CustomerID": "WELLI",
                                    "ContactName": "Paula Parente",
                                    "CategoryName": "Confections",
                                    "ProductName": "Teatime Chocolate Biscuits",
                                    "TotalQuantity": "24"
                                },
                                {
                                    "CustomerID": "WELLI",
                                    "ContactName": "Paula Parente",
                                    "CategoryName": "Dairy Products",
                                    "ProductName": "Raclette Courdavault",
                                    "TotalQuantity": "15"
                                },
                                {
                                    "CustomerID": "WELLI",
                                    "ContactName": "Paula Parente",
                                    "CategoryName": "Grains/Cereals",
                                    "ProductName": "Filo Mix",
                                    "TotalQuantity": "20"
                                },
                                {
                                    "CustomerID": "WELLI",
                                    "ContactName": "Paula Parente",
                                    "CategoryName": "Meat/Poultry",
                                    "ProductName": "Mishi Kobe Niku",
                                    "TotalQuantity": "20"
                                },
                                {
                                    "CustomerID": "WELLI",
                                    "ContactName": "Paula Parente",
                                    "CategoryName": "Seafood",
                                    "ProductName": "Spegesild",
                                    "TotalQuantity": "21"
                                },
                                {
                                    "CustomerID": "WHITC",
                                    "ContactName": "Karl Jablonski",
                                    "CategoryName": "Beverages",
                                    "ProductName": "Sasquatch Ale",
                                    "TotalQuantity": "70"
                                },
                                {
                                    "CustomerID": "WHITC",
                                    "ContactName": "Karl Jablonski",
                                    "CategoryName": "Condiments",
                                    "ProductName": "Northwoods Cranberry Sauce",
                                    "TotalQuantity": "70"
                                },
                                {
                                    "CustomerID": "WHITC",
                                    "ContactName": "Karl Jablonski",
                                    "CategoryName": "Confections",
                                    "ProductName": "Sir Rodney's Scones",
                                    "TotalQuantity": "52"
                                },
                                {
                                    "CustomerID": "WHITC",
                                    "ContactName": "Karl Jablonski",
                                    "CategoryName": "Dairy Products",
                                    "ProductName": "Geitost",
                                    "TotalQuantity": "95"
                                },
                                {
                                    "CustomerID": "WHITC",
                                    "ContactName": "Karl Jablonski",
                                    "CategoryName": "Grains/Cereals",
                                    "ProductName": "Gnocchi di nonna Alice",
                                    "TotalQuantity": "19"
                                },
                                {
                                    "CustomerID": "WHITC",
                                    "ContactName": "Karl Jablonski",
                                    "CategoryName": "Meat/Poultry",
                                    "ProductName": "Alice Mutton",
                                    "TotalQuantity": "62"
                                },
                                {
                                    "CustomerID": "WHITC",
                                    "ContactName": "Karl Jablonski",
                                    "CategoryName": "Produce",
                                    "ProductName": "Rössle Sauerkraut",
                                    "TotalQuantity": "5"
                                },
                                {
                                    "CustomerID": "WHITC",
                                    "ContactName": "Karl Jablonski",
                                    "CategoryName": "Seafood",
                                    "ProductName": "Rogede sild",
                                    "TotalQuantity": "40"
                                },
                                {
                                    "CustomerID": "WILMK",
                                    "ContactName": "Matti Karttunen",
                                    "CategoryName": "Beverages",
                                    "ProductName": "Guaraná Fantástica",
                                    "TotalQuantity": "20"
                                },
                                {
                                    "CustomerID": "WILMK",
                                    "ContactName": "Matti Karttunen",
                                    "CategoryName": "Condiments",
                                    "ProductName": "Northwoods Cranberry Sauce",
                                    "TotalQuantity": "10"
                                },
                                {
                                    "CustomerID": "WILMK",
                                    "ContactName": "Matti Karttunen",
                                    "CategoryName": "Confections",
                                    "ProductName": "Sir Rodney's Scones",
                                    "TotalQuantity": "20"
                                },
                                {
                                    "CustomerID": "WILMK",
                                    "ContactName": "Matti Karttunen",
                                    "CategoryName": "Dairy Products",
                                    "ProductName": "Raclette Courdavault",
                                    "TotalQuantity": "10"
                                },
                                {
                                    "CustomerID": "WILMK",
                                    "ContactName": "Matti Karttunen",
                                    "CategoryName": "Grains/Cereals",
                                    "ProductName": "Singaporean Hokkien Fried Mee",
                                    "TotalQuantity": "6"
                                },
                                {
                                    "CustomerID": "WILMK",
                                    "ContactName": "Matti Karttunen",
                                    "CategoryName": "Meat/Poultry",
                                    "ProductName": "Pâté chinois",
                                    "TotalQuantity": "5"
                                },
                                {
                                    "CustomerID": "WILMK",
                                    "ContactName": "Matti Karttunen",
                                    "CategoryName": "Produce",
                                    "ProductName": "Rössle Sauerkraut",
                                    "TotalQuantity": "3"
                                },
                                {
                                    "CustomerID": "WILMK",
                                    "ContactName": "Matti Karttunen",
                                    "CategoryName": "Seafood",
                                    "ProductName": "Boston Crab Meat",
                                    "TotalQuantity": "12"
                                },
                                {
                                    "CustomerID": "WOLZA",
                                    "ContactName": "Zbyszek Piestrzeniewicz",
                                    "CategoryName": "Beverages",
                                    "ProductName": "Rhönbräu Klosterbier",
                                    "TotalQuantity": "30"
                                },
                                {
                                    "CustomerID": "WOLZA",
                                    "ContactName": "Zbyszek Piestrzeniewicz",
                                    "CategoryName": "Condiments",
                                    "ProductName": "Sirop d'érable",
                                    "TotalQuantity": "22"
                                },
                                {
                                    "CustomerID": "WOLZA",
                                    "ContactName": "Zbyszek Piestrzeniewicz",
                                    "CategoryName": "Confections",
                                    "ProductName": "Scottish Longbreads",
                                    "TotalQuantity": "15"
                                },
                                {
                                    "CustomerID": "WOLZA",
                                    "ContactName": "Zbyszek Piestrzeniewicz",
                                    "CategoryName": "Dairy Products",
                                    "ProductName": "Gorgonzola Telino",
                                    "TotalQuantity": "30"
                                },
                                {
                                    "CustomerID": "WOLZA",
                                    "ContactName": "Zbyszek Piestrzeniewicz",
                                    "CategoryName": "Meat/Poultry",
                                    "ProductName": "Tourtière",
                                    "TotalQuantity": "3"
                                },
                                {
                                    "CustomerID": "WOLZA",
                                    "ContactName": "Zbyszek Piestrzeniewicz",
                                    "CategoryName": "Produce",
                                    "ProductName": "Longlife Tofu",
                                    "TotalQuantity": "20"
                                },
                                {
                                    "CustomerID": "WOLZA",
                                    "ContactName": "Zbyszek Piestrzeniewicz",
                                    "CategoryName": "Seafood",
                                    "ProductName": "Escargots de Bourgogne",
                                    "TotalQuantity": "15"
                                }
                            ]
                        },
                        "text/html": [
                            "<table>",
                            "<tr><th>CustomerID</th><th>ContactName</th><th>CategoryName</th><th>ProductName</th><th>TotalQuantity</th></tr>",
                            "<tr><td>ALFKI</td><td>Maria Anders</td><td>Beverages</td><td>Chartreuse verte</td><td>21</td></tr>",
                            "<tr><td>ALFKI</td><td>Maria Anders</td><td>Condiments</td><td>Vegie-spread</td><td>20</td></tr>",
                            "<tr><td>ALFKI</td><td>Maria Anders</td><td>Dairy Products</td><td>Flotemysost</td><td>20</td></tr>",
                            "<tr><td>ALFKI</td><td>Maria Anders</td><td>Produce</td><td>Rössle Sauerkraut</td><td>17</td></tr>",
                            "<tr><td>ALFKI</td><td>Maria Anders</td><td>Seafood</td><td>Escargots de Bourgogne</td><td>40</td></tr>",
                            "<tr><td>ANATR</td><td>Ana Trujillo</td><td>Beverages</td><td>Outback Lager</td><td>5</td></tr>",
                            "<tr><td>ANATR</td><td>Ana Trujillo</td><td>Confections</td><td>Teatime Chocolate Biscuits</td><td>7</td></tr>",
                            "<tr><td>ANATR</td><td>Ana Trujillo</td><td>Dairy Products</td><td>Mascarpone Fabioli</td><td>10</td></tr>",
                            "<tr><td>ANATR</td><td>Ana Trujillo</td><td>Grains/Cereals</td><td>Singaporean Hokkien Fried Mee</td><td>5</td></tr>",
                            "<tr><td>ANATR</td><td>Ana Trujillo</td><td>Produce</td><td>Tofu</td><td>3</td></tr>",
                            "<tr><td>ANATR</td><td>Ana Trujillo</td><td>Seafood</td><td>Konbu</td><td>10</td></tr>",
                            "<tr><td>ANTON</td><td>Antonio Moreno</td><td>Beverages</td><td>Sasquatch Ale</td><td>40</td></tr>",
                            "<tr><td>ANTON</td><td>Antonio Moreno</td><td>Condiments</td><td>Louisiana Hot Spiced Okra</td><td>4</td></tr>",
                            "<tr><td>ANTON</td><td>Antonio Moreno</td><td>Confections</td><td>Gumbär Gummibärchen</td><td>30</td></tr>",
                            "<tr><td>ANTON</td><td>Antonio Moreno</td><td>Dairy Products</td><td>Queso Cabrales</td><td>74</td></tr>",
                            "<tr><td>ANTON</td><td>Antonio Moreno</td><td>Grains/Cereals</td><td>Singaporean Hokkien Fried Mee</td><td>20</td></tr>",
                            "<tr><td>ANTON</td><td>Antonio Moreno</td><td>Meat/Poultry</td><td>Perth Pasties</td><td>25</td></tr>",
                            "<tr><td>ANTON</td><td>Antonio Moreno</td><td>Seafood</td><td>Boston Crab Meat</td><td>10</td></tr>",
                            "<tr><td>AROUT</td><td>Thomas Hardy</td><td>Beverages</td><td>Outback Lager</td><td>53</td></tr>",
                            "<tr><td>AROUT</td><td>Thomas Hardy</td><td>Confections</td><td>Sir Rodney&#39;s Marmalade</td><td>50</td></tr>",
                            "<tr><td>AROUT</td><td>Thomas Hardy</td><td>Dairy Products</td><td>Gorgonzola Telino</td><td>115</td></tr>",
                            "<tr><td>AROUT</td><td>Thomas Hardy</td><td>Grains/Cereals</td><td>Ravioli Angelo</td><td>65</td></tr>",
                            "<tr><td>AROUT</td><td>Thomas Hardy</td><td>Meat/Poultry</td><td>Pâté chinois</td><td>21</td></tr>",
                            "<tr><td>AROUT</td><td>Thomas Hardy</td><td>Produce</td><td>Manjimup Dried Apples</td><td>20</td></tr>",
                            "<tr><td>AROUT</td><td>Thomas Hardy</td><td>Seafood</td><td>Spegesild</td><td>28</td></tr>",
                            "<tr><td>BERGS</td><td>Christina Berglund</td><td>Beverages</td><td>Ipoh Coffee</td><td>60</td></tr>",
                            "<tr><td>BERGS</td><td>Christina Berglund</td><td>Condiments</td><td>Aniseed Syrup</td><td>30</td></tr>",
                            "<tr><td>BERGS</td><td>Christina Berglund</td><td>Confections</td><td>Zaanse koeken</td><td>61</td></tr>",
                            "<tr><td>BERGS</td><td>Christina Berglund</td><td>Dairy Products</td><td>Camembert Pierrot</td><td>35</td></tr>",
                            "<tr><td>BERGS</td><td>Christina Berglund</td><td>Grains/Cereals</td><td>Filo Mix</td><td>25</td></tr>",
                            "<tr><td>BERGS</td><td>Christina Berglund</td><td>Meat/Poultry</td><td>Tourtière</td><td>36</td></tr>",
                            "<tr><td>BERGS</td><td>Christina Berglund</td><td>Produce</td><td>Rössle Sauerkraut</td><td>50</td></tr>",
                            "<tr><td>BERGS</td><td>Christina Berglund</td><td>Seafood</td><td>Boston Crab Meat</td><td>75</td></tr>",
                            "<tr><td>BLAUS</td><td>Hanna Moos</td><td>Beverages</td><td>Lakkalikööri</td><td>14</td></tr>",
                            "<tr><td>BLAUS</td><td>Hanna Moos</td><td>Condiments</td><td>Sirop d&#39;érable</td><td>4</td></tr>",
                            "<tr><td>BLAUS</td><td>Hanna Moos</td><td>Confections</td><td>Sir Rodney&#39;s Scones</td><td>23</td></tr>",
                            "<tr><td>BLAUS</td><td>Hanna Moos</td><td>Dairy Products</td><td>Camembert Pierrot</td><td>21</td></tr>",
                            "<tr><td>BLAUS</td><td>Hanna Moos</td><td>Grains/Cereals</td><td>Ravioli Angelo</td><td>4</td></tr>",
                            "<tr><td>BLAUS</td><td>Hanna Moos</td><td>Meat/Poultry</td><td>Tourtière</td><td>20</td></tr>",
                            "<tr><td>BLAUS</td><td>Hanna Moos</td><td>Produce</td><td>Manjimup Dried Apples</td><td>8</td></tr>",
                            "<tr><td>BLAUS</td><td>Hanna Moos</td><td>Seafood</td><td>Carnarvon Tigers</td><td>10</td></tr>",
                            "<tr><td>BLONP</td><td>Frédérique Citeaux</td><td>Beverages</td><td>Chartreuse verte</td><td>60</td></tr>",
                            "<tr><td>BLONP</td><td>Frédérique Citeaux</td><td>Confections</td><td>Maxilaku</td><td>35</td></tr>",
                            "<tr><td>BLONP</td><td>Frédérique Citeaux</td><td>Dairy Products</td><td>Gorgonzola Telino</td><td>85</td></tr>",
                            "<tr><td>BLONP</td><td>Frédérique Citeaux</td><td>Grains/Cereals</td><td>Gnocchi di nonna Alice</td><td>40</td></tr>",
                            "<tr><td>BLONP</td><td>Frédérique Citeaux</td><td>Meat/Poultry</td><td>Thüringer Rostbratwurst</td><td>35</td></tr>",
                            "<tr><td>BLONP</td><td>Frédérique Citeaux</td><td>Produce</td><td>Rössle Sauerkraut</td><td>30</td></tr>",
                            "<tr><td>BLONP</td><td>Frédérique Citeaux</td><td>Seafood</td><td>Carnarvon Tigers</td><td>18</td></tr>",
                            "<tr><td>BOLID</td><td>Martín Sommer</td><td>Beverages</td><td>Rhönbräu Klosterbier</td><td>50</td></tr>",
                            "<tr><td>BOLID</td><td>Martín Sommer</td><td>Condiments</td><td>Chef Anton&#39;s Cajun Seasoning</td><td>24</td></tr>",
                            "<tr><td>BOLID</td><td>Martín Sommer</td><td>Grains/Cereals</td><td>Filo Mix</td><td>40</td></tr>",
                            "<tr><td>BOLID</td><td>Martín Sommer</td><td>Meat/Poultry</td><td>Alice Mutton</td><td>40</td></tr>",
                            "<tr><td>BONAP</td><td>Laurence Lebihan</td><td>Beverages</td><td>Ipoh Coffee</td><td>40</td></tr>",
                            "<tr><td>BONAP</td><td>Laurence Lebihan</td><td>Condiments</td><td>Grandma&#39;s Boysenberry Spread</td><td>70</td></tr>",
                            "<tr><td>BONAP</td><td>Laurence Lebihan</td><td>Confections</td><td>Pavlova</td><td>57</td></tr>",
                            "<tr><td>BONAP</td><td>Laurence Lebihan</td><td>Dairy Products</td><td>Flotemysost</td><td>30</td></tr>",
                            "<tr><td>BONAP</td><td>Laurence Lebihan</td><td>Grains/Cereals</td><td>Gnocchi di nonna Alice</td><td>30</td></tr>",
                            "<tr><td>BONAP</td><td>Laurence Lebihan</td><td>Meat/Poultry</td><td>Tourtière</td><td>39</td></tr>",
                            "<tr><td>BONAP</td><td>Laurence Lebihan</td><td>Produce</td><td>Uncle Bob&#39;s Organic Dried Pears</td><td>58</td></tr>",
                            "<tr><td>BONAP</td><td>Laurence Lebihan</td><td>Seafood</td><td>Carnarvon Tigers</td><td>50</td></tr>",
                            "<tr><td>BOTTM</td><td>Elizabeth Lincoln</td><td>Beverages</td><td>Chai</td><td>60</td></tr>",
                            "<tr><td>BOTTM</td><td>Elizabeth Lincoln</td><td>Condiments</td><td>Gula Malacca</td><td>58</td></tr>",
                            "<tr><td>BOTTM</td><td>Elizabeth Lincoln</td><td>Confections</td><td>Tarte au sucre</td><td>101</td></tr>",
                            "<tr><td>BOTTM</td><td>Elizabeth Lincoln</td><td>Dairy Products</td><td>Camembert Pierrot</td><td>75</td></tr>",
                            "<tr><td>BOTTM</td><td>Elizabeth Lincoln</td><td>Grains/Cereals</td><td>Singaporean Hokkien Fried Mee</td><td>20</td></tr>",
                            "<tr><td>BOTTM</td><td>Elizabeth Lincoln</td><td>Meat/Poultry</td><td>Alice Mutton</td><td>56</td></tr>",
                            "<tr><td>BOTTM</td><td>Elizabeth Lincoln</td><td>Produce</td><td>Manjimup Dried Apples</td><td>24</td></tr>",
                            "<tr><td>BOTTM</td><td>Elizabeth Lincoln</td><td>Seafood</td><td>Boston Crab Meat</td><td>50</td></tr>",
                            "<tr><td>BSBEV</td><td>Victoria Ashworth</td><td>Beverages</td><td>Ipoh Coffee</td><td>30</td></tr>",
                            "<tr><td>BSBEV</td><td>Victoria Ashworth</td><td>Condiments</td><td>Aniseed Syrup</td><td>30</td></tr>",
                            "<tr><td>BSBEV</td><td>Victoria Ashworth</td><td>Confections</td><td>Sir Rodney&#39;s Scones</td><td>29</td></tr>",
                            "<tr><td>BSBEV</td><td>Victoria Ashworth</td><td>Dairy Products</td><td>Geitost</td><td>15</td></tr>",
                            "<tr><td>BSBEV</td><td>Victoria Ashworth</td><td>Grains/Cereals</td><td>Gustaf&#39;s Knäckebröd</td><td>21</td></tr>",
                            "<tr><td>BSBEV</td><td>Victoria Ashworth</td><td>Produce</td><td>Uncle Bob&#39;s Organic Dried Pears</td><td>34</td></tr>",
                            "<tr><td>BSBEV</td><td>Victoria Ashworth</td><td>Seafood</td><td>Konbu</td><td>23</td></tr>",
                            "<tr><td>CACTU</td><td>Patricio Simpson</td><td>Beverages</td><td>Sasquatch Ale</td><td>20</td></tr>",
                            "<tr><td>CACTU</td><td>Patricio Simpson</td><td>Confections</td><td>Scottish Longbreads</td><td>6</td></tr>",
                            "<tr><td>CACTU</td><td>Patricio Simpson</td><td>Dairy Products</td><td>Geitost</td><td>10</td></tr>",
                            "<tr><td>CACTU</td><td>Patricio Simpson</td><td>Produce</td><td>Rössle Sauerkraut</td><td>8</td></tr>",
                            "<tr><td>CACTU</td><td>Patricio Simpson</td><td>Seafood</td><td>Jack&#39;s New England Clam Chowder</td><td>10</td></tr>",
                            "<tr><td>CENTC</td><td>Francisco Chang</td><td>Confections</td><td>Sir Rodney&#39;s Scones</td><td>10</td></tr>",
                            "<tr><td>CENTC</td><td>Francisco Chang</td><td>Seafood</td><td>Gravad lax</td><td>1</td></tr>",
                            "<tr><td>CHOPS</td><td>Yang Wang</td><td>Beverages</td><td>Chang</td><td>30</td></tr>",
                            "<tr><td>CHOPS</td><td>Yang Wang</td><td>Condiments</td><td>Vegie-spread</td><td>42</td></tr>",
                            "<tr><td>CHOPS</td><td>Yang Wang</td><td>Confections</td><td>Sir Rodney&#39;s Scones</td><td>40</td></tr>",
                            "<tr><td>CHOPS</td><td>Yang Wang</td><td>Dairy Products</td><td>Gudbrandsdalsost</td><td>40</td></tr>",
                            "<tr><td>CHOPS</td><td>Yang Wang</td><td>Grains/Cereals</td><td>Gnocchi di nonna Alice</td><td>72</td></tr>",
                            "<tr><td>CHOPS</td><td>Yang Wang</td><td>Meat/Poultry</td><td>Pâté chinois</td><td>21</td></tr>",
                            "<tr><td>CHOPS</td><td>Yang Wang</td><td>Produce</td><td>Longlife Tofu</td><td>41</td></tr>",
                            "<tr><td>CHOPS</td><td>Yang Wang</td><td>Seafood</td><td>Ikura</td><td>16</td></tr>",
                            "<tr><td>COMMI</td><td>Pedro Afonso</td><td>Condiments</td><td>Chef Anton&#39;s Gumbo Mix</td><td>20</td></tr>",
                            "<tr><td>COMMI</td><td>Pedro Afonso</td><td>Confections</td><td>Maxilaku</td><td>15</td></tr>",
                            "<tr><td>COMMI</td><td>Pedro Afonso</td><td>Dairy Products</td><td>Queso Cabrales</td><td>10</td></tr>",
                            "<tr><td>COMMI</td><td>Pedro Afonso</td><td>Grains/Cereals</td><td>Gnocchi di nonna Alice</td><td>30</td></tr>",
                            "<tr><td>COMMI</td><td>Pedro Afonso</td><td>Meat/Poultry</td><td>Thüringer Rostbratwurst</td><td>15</td></tr>",
                            "<tr><td>COMMI</td><td>Pedro Afonso</td><td>Seafood</td><td>Spegesild</td><td>14</td></tr>",
                            "<tr><td>CONSH</td><td>Elizabeth Brown</td><td>Beverages</td><td>Chang</td><td>10</td></tr>",
                            "<tr><td>CONSH</td><td>Elizabeth Brown</td><td>Condiments</td><td>Chef Anton&#39;s Gumbo Mix</td><td>30</td></tr>",
                            "<tr><td>CONSH</td><td>Elizabeth Brown</td><td>Dairy Products</td><td>Mozzarella di Giovanni</td><td>10</td></tr>",
                            "<tr><td>CONSH</td><td>Elizabeth Brown</td><td>Grains/Cereals</td><td>Tunnbröd</td><td>21</td></tr>",
                            "<tr><td>CONSH</td><td>Elizabeth Brown</td><td>Meat/Poultry</td><td>Mishi Kobe Niku</td><td>3</td></tr>",
                            "<tr><td>CONSH</td><td>Elizabeth Brown</td><td>Seafood</td><td>Konbu</td><td>1</td></tr>",
                            "<tr><td>DRACD</td><td>Sven Ottlieb</td><td>Beverages</td><td>Rhönbräu Klosterbier</td><td>12</td></tr>",
                            "<tr><td>DRACD</td><td>Sven Ottlieb</td><td>Confections</td><td>Gumbär Gummibärchen</td><td>12</td></tr>",
                            "<tr><td>DRACD</td><td>Sven Ottlieb</td><td>Dairy Products</td><td>Raclette Courdavault</td><td>30</td></tr>",
                            "<tr><td>DRACD</td><td>Sven Ottlieb</td><td>Meat/Poultry</td><td>Perth Pasties</td><td>20</td></tr>",
                            "<tr><td>DRACD</td><td>Sven Ottlieb</td><td>Seafood</td><td>Konbu</td><td>25</td></tr>",
                            "<tr><td>DUMON</td><td>Janine Labrune</td><td>Beverages</td><td>Sasquatch Ale</td><td>10</td></tr>",
                            "<tr><td>DUMON</td><td>Janine Labrune</td><td>Confections</td><td>Sir Rodney&#39;s Scones</td><td>6</td></tr>",
                            "<tr><td>DUMON</td><td>Janine Labrune</td><td>Dairy Products</td><td>Gudbrandsdalsost</td><td>7</td></tr>",
                            "<tr><td>DUMON</td><td>Janine Labrune</td><td>Grains/Cereals</td><td>Filo Mix</td><td>9</td></tr>",
                            "<tr><td>DUMON</td><td>Janine Labrune</td><td>Meat/Poultry</td><td>Alice Mutton</td><td>15</td></tr>",
                            "<tr><td>DUMON</td><td>Janine Labrune</td><td>Seafood</td><td>Jack&#39;s New England Clam Chowder</td><td>14</td></tr>",
                            "<tr><td>EASTC</td><td>Ann Devon</td><td>Beverages</td><td>Steeleye Stout</td><td>35</td></tr>",
                            "<tr><td>EASTC</td><td>Ann Devon</td><td>Condiments</td><td>Chef Anton&#39;s Gumbo Mix</td><td>30</td></tr>",
                            "<tr><td>EASTC</td><td>Ann Devon</td><td>Confections</td><td>Maxilaku</td><td>30</td></tr>",
                            "<tr><td>EASTC</td><td>Ann Devon</td><td>Dairy Products</td><td>Flotemysost</td><td>55</td></tr>",
                            "<tr><td>EASTC</td><td>Ann Devon</td><td>Meat/Poultry</td><td>Pâté chinois</td><td>35</td></tr>",
                            "<tr><td>EASTC</td><td>Ann Devon</td><td>Produce</td><td>Uncle Bob&#39;s Organic Dried Pears</td><td>100</td></tr>",
                            "<tr><td>EASTC</td><td>Ann Devon</td><td>Seafood</td><td>Nord-Ost Matjeshering</td><td>15</td></tr>",
                            "<tr><td>ERNSH</td><td>Roland Mendel</td><td>Beverages</td><td>Guaraná Fantástica</td><td>248</td></tr>",
                            "<tr><td>ERNSH</td><td>Roland Mendel</td><td>Condiments</td><td>Sirop d&#39;érable</td><td>186</td></tr>",
                            "<tr><td>ERNSH</td><td>Roland Mendel</td><td>Confections</td><td>Pavlova</td><td>146</td></tr>",
                            "<tr><td>ERNSH</td><td>Roland Mendel</td><td>Dairy Products</td><td>Raclette Courdavault</td><td>180</td></tr>",
                            "<tr><td>ERNSH</td><td>Roland Mendel</td><td>Grains/Cereals</td><td>Wimmers gute Semmelknödel</td><td>199</td></tr>",
                            "<tr><td>ERNSH</td><td>Roland Mendel</td><td>Meat/Poultry</td><td>Alice Mutton</td><td>121</td></tr>",
                            "<tr><td>ERNSH</td><td>Roland Mendel</td><td>Produce</td><td>Manjimup Dried Apples</td><td>120</td></tr>",
                            "<tr><td>ERNSH</td><td>Roland Mendel</td><td>Seafood</td><td>Ikura</td><td>100</td></tr>",
                            "<tr><td>FAMIA</td><td>Aria Cruz</td><td>Beverages</td><td>Rhönbräu Klosterbier</td><td>56</td></tr>",
                            "<tr><td>FAMIA</td><td>Aria Cruz</td><td>Confections</td><td>Teatime Chocolate Biscuits</td><td>18</td></tr>",
                            "<tr><td>FAMIA</td><td>Aria Cruz</td><td>Dairy Products</td><td>Geitost</td><td>50</td></tr>",
                            "<tr><td>FAMIA</td><td>Aria Cruz</td><td>Grains/Cereals</td><td>Filo Mix</td><td>4</td></tr>",
                            "<tr><td>FAMIA</td><td>Aria Cruz</td><td>Meat/Poultry</td><td>Tourtière</td><td>30</td></tr>",
                            "<tr><td>FAMIA</td><td>Aria Cruz</td><td>Seafood</td><td>Nord-Ost Matjeshering</td><td>30</td></tr>",
                            "<tr><td>FOLIG</td><td>Martine Rancé</td><td>Beverages</td><td>Guaraná Fantástica</td><td>20</td></tr>",
                            "<tr><td>FOLIG</td><td>Martine Rancé</td><td>Condiments</td><td>Vegie-spread</td><td>30</td></tr>",
                            "<tr><td>FOLIG</td><td>Martine Rancé</td><td>Confections</td><td>Sir Rodney&#39;s Scones</td><td>40</td></tr>",
                            "<tr><td>FOLIG</td><td>Martine Rancé</td><td>Dairy Products</td><td>Raclette Courdavault</td><td>12</td></tr>",
                            "<tr><td>FOLIG</td><td>Martine Rancé</td><td>Grains/Cereals</td><td>Gustaf&#39;s Knäckebröd</td><td>6</td></tr>",
                            "<tr><td>FOLIG</td><td>Martine Rancé</td><td>Meat/Poultry</td><td>Tourtière</td><td>6</td></tr>",
                            "<tr><td>FOLIG</td><td>Martine Rancé</td><td>Produce</td><td>Uncle Bob&#39;s Organic Dried Pears</td><td>35</td></tr>",
                            "<tr><td>FOLIG</td><td>Martine Rancé</td><td>Seafood</td><td>Carnarvon Tigers</td><td>80</td></tr>",
                            "<tr><td>FOLKO</td><td>Maria Larsson</td><td>Beverages</td><td>Lakkalikööri</td><td>68</td></tr>",
                            "<tr><td>FOLKO</td><td>Maria Larsson</td><td>Condiments</td><td>Chef Anton&#39;s Cajun Seasoning</td><td>50</td></tr>",
                            "<tr><td>FOLKO</td><td>Maria Larsson</td><td>Confections</td><td>Zaanse koeken</td><td>60</td></tr>",
                            "<tr><td>FOLKO</td><td>Maria Larsson</td><td>Dairy Products</td><td>Queso Cabrales</td><td>56</td></tr>",
                            "<tr><td>FOLKO</td><td>Maria Larsson</td><td>Grains/Cereals</td><td>Gnocchi di nonna Alice</td><td>60</td></tr>",
                            "<tr><td>FOLKO</td><td>Maria Larsson</td><td>Meat/Poultry</td><td>Thüringer Rostbratwurst</td><td>50</td></tr>",
                            "<tr><td>FOLKO</td><td>Maria Larsson</td><td>Produce</td><td>Manjimup Dried Apples</td><td>88</td></tr>",
                            "<tr><td>FOLKO</td><td>Maria Larsson</td><td>Seafood</td><td>Jack&#39;s New England Clam Chowder</td><td>72</td></tr>",
                            "<tr><td>FRANK</td><td>Peter Franken</td><td>Beverages</td><td>Rhönbräu Klosterbier</td><td>74</td></tr>",
                            "<tr><td>FRANK</td><td>Peter Franken</td><td>Condiments</td><td>Original Frankfurter grüne Soße</td><td>15</td></tr>",
                            "<tr><td>FRANK</td><td>Peter Franken</td><td>Confections</td><td>Sir Rodney&#39;s Scones</td><td>117</td></tr>",
                            "<tr><td>FRANK</td><td>Peter Franken</td><td>Dairy Products</td><td>Flotemysost</td><td>120</td></tr>",
                            "<tr><td>FRANK</td><td>Peter Franken</td><td>Grains/Cereals</td><td>Tunnbröd</td><td>112</td></tr>",
                            "<tr><td>FRANK</td><td>Peter Franken</td><td>Meat/Poultry</td><td>Tourtière</td><td>50</td></tr>",
                            "<tr><td>FRANK</td><td>Peter Franken</td><td>Produce</td><td>Tofu</td><td>51</td></tr>",
                            "<tr><td>FRANK</td><td>Peter Franken</td><td>Seafood</td><td>Röd Kaviar</td><td>70</td></tr>",
                            "<tr><td>FRANR</td><td>Carine Schmitt</td><td>Beverages</td><td>Lakkalikööri</td><td>20</td></tr>",
                            "<tr><td>FRANR</td><td>Carine Schmitt</td><td>Condiments</td><td>Louisiana Fiery Hot Pepper Sauce</td><td>12</td></tr>",
                            "<tr><td>FRANR</td><td>Carine Schmitt</td><td>Confections</td><td>Tarte au sucre</td><td>10</td></tr>",
                            "<tr><td>FRANR</td><td>Carine Schmitt</td><td>Meat/Poultry</td><td>Thüringer Rostbratwurst</td><td>14</td></tr>",
                            "<tr><td>FRANR</td><td>Carine Schmitt</td><td>Produce</td><td>Manjimup Dried Apples</td><td>3</td></tr>",
                            "<tr><td>FRANS</td><td>Paolo Accorti</td><td>Condiments</td><td>Original Frankfurter grüne Soße</td><td>10</td></tr>",
                            "<tr><td>FRANS</td><td>Paolo Accorti</td><td>Confections</td><td>Zaanse koeken</td><td>5</td></tr>",
                            "<tr><td>FRANS</td><td>Paolo Accorti</td><td>Dairy Products</td><td>Camembert Pierrot</td><td>4</td></tr>",
                            "<tr><td>FRANS</td><td>Paolo Accorti</td><td>Produce</td><td>Manjimup Dried Apples</td><td>10</td></tr>",
                            "<tr><td>FRANS</td><td>Paolo Accorti</td><td>Seafood</td><td>Carnarvon Tigers</td><td>8</td></tr>",
                            "<tr><td>FURIB</td><td>Lino Rodriguez</td><td>Beverages</td><td>Steeleye Stout</td><td>20</td></tr>",
                            "<tr><td>FURIB</td><td>Lino Rodriguez</td><td>Condiments</td><td>Gula Malacca</td><td>55</td></tr>",
                            "<tr><td>FURIB</td><td>Lino Rodriguez</td><td>Confections</td><td>Pavlova</td><td>40</td></tr>",
                            "<tr><td>FURIB</td><td>Lino Rodriguez</td><td>Dairy Products</td><td>Camembert Pierrot</td><td>22</td></tr>",
                            "<tr><td>FURIB</td><td>Lino Rodriguez</td><td>Grains/Cereals</td><td>Gnocchi di nonna Alice</td><td>42</td></tr>",
                            "<tr><td>FURIB</td><td>Lino Rodriguez</td><td>Meat/Poultry</td><td>Tourtière</td><td>20</td></tr>",
                            "<tr><td>FURIB</td><td>Lino Rodriguez</td><td>Seafood</td><td>Ikura</td><td>24</td></tr>",
                            "<tr><td>GALED</td><td>Eduardo Saavedra</td><td>Beverages</td><td>Lakkalikööri</td><td>5</td></tr>",
                            "<tr><td>GALED</td><td>Eduardo Saavedra</td><td>Condiments</td><td>Original Frankfurter grüne Soße</td><td>5</td></tr>",
                            "<tr><td>GALED</td><td>Eduardo Saavedra</td><td>Confections</td><td>Zaanse koeken</td><td>5</td></tr>",
                            "<tr><td>GALED</td><td>Eduardo Saavedra</td><td>Grains/Cereals</td><td>Wimmers gute Semmelknödel</td><td>7</td></tr>",
                            "<tr><td>GALED</td><td>Eduardo Saavedra</td><td>Seafood</td><td>Ikura</td><td>5</td></tr>",
                            "<tr><td>GODOS</td><td>José Pedro Freyre</td><td>Beverages</td><td>Chang</td><td>20</td></tr>",
                            "<tr><td>GODOS</td><td>José Pedro Freyre</td><td>Condiments</td><td>Louisiana Fiery Hot Pepper Sauce</td><td>51</td></tr>",
                            "<tr><td>GODOS</td><td>José Pedro Freyre</td><td>Confections</td><td>Scottish Longbreads</td><td>33</td></tr>",
                            "<tr><td>GODOS</td><td>José Pedro Freyre</td><td>Dairy Products</td><td>Camembert Pierrot</td><td>9</td></tr>",
                            "<tr><td>GODOS</td><td>José Pedro Freyre</td><td>Grains/Cereals</td><td>Wimmers gute Semmelknödel</td><td>24</td></tr>",
                            "<tr><td>GODOS</td><td>José Pedro Freyre</td><td>Meat/Poultry</td><td>Thüringer Rostbratwurst</td><td>20</td></tr>",
                            "<tr><td>GODOS</td><td>José Pedro Freyre</td><td>Produce</td><td>Manjimup Dried Apples</td><td>40</td></tr>",
                            "<tr><td>GODOS</td><td>José Pedro Freyre</td><td>Seafood</td><td>Boston Crab Meat</td><td>40</td></tr>",
                            "<tr><td>GOURL</td><td>André Fonseca</td><td>Beverages</td><td>Lakkalikööri</td><td>20</td></tr>",
                            "<tr><td>GOURL</td><td>André Fonseca</td><td>Condiments</td><td>Northwoods Cranberry Sauce</td><td>40</td></tr>",
                            "<tr><td>GOURL</td><td>André Fonseca</td><td>Confections</td><td>Zaanse koeken</td><td>15</td></tr>",
                            "<tr><td>GOURL</td><td>André Fonseca</td><td>Dairy Products</td><td>Raclette Courdavault</td><td>20</td></tr>",
                            "<tr><td>GOURL</td><td>André Fonseca</td><td>Grains/Cereals</td><td>Singaporean Hokkien Fried Mee</td><td>40</td></tr>",
                            "<tr><td>GOURL</td><td>André Fonseca</td><td>Produce</td><td>Manjimup Dried Apples</td><td>28</td></tr>",
                            "<tr><td>GOURL</td><td>André Fonseca</td><td>Seafood</td><td>Ikura</td><td>20</td></tr>",
                            "<tr><td>GREAL</td><td>Howard Snyder</td><td>Beverages</td><td>Côte de Blaye</td><td>45</td></tr>",
                            "<tr><td>GREAL</td><td>Howard Snyder</td><td>Condiments</td><td>Gula Malacca</td><td>28</td></tr>",
                            "<tr><td>GREAL</td><td>Howard Snyder</td><td>Confections</td><td>Sir Rodney&#39;s Scones</td><td>32</td></tr>",
                            "<tr><td>GREAL</td><td>Howard Snyder</td><td>Dairy Products</td><td>Raclette Courdavault</td><td>30</td></tr>",
                            "<tr><td>GREAL</td><td>Howard Snyder</td><td>Grains/Cereals</td><td>Wimmers gute Semmelknödel</td><td>28</td></tr>",
                            "<tr><td>GREAL</td><td>Howard Snyder</td><td>Meat/Poultry</td><td>Thüringer Rostbratwurst</td><td>2</td></tr>",
                            "<tr><td>GREAL</td><td>Howard Snyder</td><td>Produce</td><td>Tofu</td><td>3</td></tr>",
                            "<tr><td>GREAL</td><td>Howard Snyder</td><td>Seafood</td><td>Inlagd Sill</td><td>30</td></tr>",
                            "<tr><td>GROSR</td><td>Manuel Pereira</td><td>Beverages</td><td>Rhönbräu Klosterbier</td><td>10</td></tr>",
                            "<tr><td>GROSR</td><td>Manuel Pereira</td><td>Dairy Products</td><td>Mozzarella di Giovanni</td><td>4</td></tr>",
                            "<tr><td>GROSR</td><td>Manuel Pereira</td><td>Meat/Poultry</td><td>Thüringer Rostbratwurst</td><td>10</td></tr>",
                            "<tr><td>GROSR</td><td>Manuel Pereira</td><td>Seafood</td><td>Ikura</td><td>10</td></tr>",
                            "<tr><td>HANAR</td><td>Mario Pontes</td><td>Beverages</td><td>Guaraná Fantástica</td><td>70</td></tr>",
                            "<tr><td>HANAR</td><td>Mario Pontes</td><td>Condiments</td><td>Louisiana Fiery Hot Pepper Sauce</td><td>72</td></tr>",
                            "<tr><td>HANAR</td><td>Mario Pontes</td><td>Confections</td><td>Maxilaku</td><td>40</td></tr>",
                            "<tr><td>HANAR</td><td>Mario Pontes</td><td>Dairy Products</td><td>Gorgonzola Telino</td><td>65</td></tr>",
                            "<tr><td>HANAR</td><td>Mario Pontes</td><td>Grains/Cereals</td><td>Gnocchi di nonna Alice</td><td>20</td></tr>",
                            "<tr><td>HANAR</td><td>Mario Pontes</td><td>Meat/Poultry</td><td>Alice Mutton</td><td>15</td></tr>",
                            "<tr><td>HANAR</td><td>Mario Pontes</td><td>Produce</td><td>Manjimup Dried Apples</td><td>35</td></tr>",
                            "<tr><td>HANAR</td><td>Mario Pontes</td><td>Seafood</td><td>Ikura</td><td>70</td></tr>",
                            "<tr><td>HILAA</td><td>Carlos Hernández</td><td>Beverages</td><td>Rhönbräu Klosterbier</td><td>106</td></tr>",
                            "<tr><td>HILAA</td><td>Carlos Hernández</td><td>Condiments</td><td>Original Frankfurter grüne Soße</td><td>15</td></tr>",
                            "<tr><td>HILAA</td><td>Carlos Hernández</td><td>Confections</td><td>Scottish Longbreads</td><td>30</td></tr>",
                            "<tr><td>HILAA</td><td>Carlos Hernández</td><td>Dairy Products</td><td>Raclette Courdavault</td><td>95</td></tr>",
                            "<tr><td>HILAA</td><td>Carlos Hernández</td><td>Grains/Cereals</td><td>Wimmers gute Semmelknödel</td><td>43</td></tr>",
                            "<tr><td>HILAA</td><td>Carlos Hernández</td><td>Meat/Poultry</td><td>Perth Pasties</td><td>70</td></tr>",
                            "<tr><td>HILAA</td><td>Carlos Hernández</td><td>Produce</td><td>Manjimup Dried Apples</td><td>45</td></tr>",
                            "<tr><td>HILAA</td><td>Carlos Hernández</td><td>Seafood</td><td>Konbu</td><td>68</td></tr>",
                            "<tr><td>HUNGC</td><td>Yoshi Latimer</td><td>Confections</td><td>Sir Rodney&#39;s Marmalade</td><td>21</td></tr>",
                            "<tr><td>HUNGC</td><td>Yoshi Latimer</td><td>Dairy Products</td><td>Geitost</td><td>20</td></tr>",
                            "<tr><td>HUNGC</td><td>Yoshi Latimer</td><td>Meat/Poultry</td><td>Tourtière</td><td>14</td></tr>",
                            "<tr><td>HUNGC</td><td>Yoshi Latimer</td><td>Produce</td><td>Tofu</td><td>15</td></tr>",
                            "<tr><td>HUNGC</td><td>Yoshi Latimer</td><td>Seafood</td><td>Röd Kaviar</td><td>30</td></tr>",
                            "<tr><td>HUNGO</td><td>Patricia McKenna</td><td>Beverages</td><td>Chang</td><td>47</td></tr>",
                            "<tr><td>HUNGO</td><td>Patricia McKenna</td><td>Condiments</td><td>Louisiana Fiery Hot Pepper Sauce</td><td>60</td></tr>",
                            "<tr><td>HUNGO</td><td>Patricia McKenna</td><td>Confections</td><td>Valkoinen suklaa</td><td>40</td></tr>",
                            "<tr><td>HUNGO</td><td>Patricia McKenna</td><td>Dairy Products</td><td>Raclette Courdavault</td><td>112</td></tr>",
                            "<tr><td>HUNGO</td><td>Patricia McKenna</td><td>Grains/Cereals</td><td>Gnocchi di nonna Alice</td><td>30</td></tr>",
                            "<tr><td>HUNGO</td><td>Patricia McKenna</td><td>Meat/Poultry</td><td>Thüringer Rostbratwurst</td><td>150</td></tr>",
                            "<tr><td>HUNGO</td><td>Patricia McKenna</td><td>Produce</td><td>Tofu</td><td>70</td></tr>",
                            "<tr><td>HUNGO</td><td>Patricia McKenna</td><td>Seafood</td><td>Escargots de Bourgogne</td><td>129</td></tr>",
                            "<tr><td>ISLAT</td><td>Helen Bennett</td><td>Beverages</td><td>Outback Lager</td><td>50</td></tr>",
                            "<tr><td>ISLAT</td><td>Helen Bennett</td><td>Condiments</td><td>Sirop d&#39;érable</td><td>30</td></tr>",
                            "<tr><td>ISLAT</td><td>Helen Bennett</td><td>Confections</td><td>Teatime Chocolate Biscuits</td><td>5</td></tr>",
                            "<tr><td>ISLAT</td><td>Helen Bennett</td><td>Dairy Products</td><td>Flotemysost</td><td>27</td></tr>",
                            "<tr><td>ISLAT</td><td>Helen Bennett</td><td>Grains/Cereals</td><td>Gnocchi di nonna Alice</td><td>15</td></tr>",
                            "<tr><td>ISLAT</td><td>Helen Bennett</td><td>Meat/Poultry</td><td>Perth Pasties</td><td>2</td></tr>",
                            "<tr><td>ISLAT</td><td>Helen Bennett</td><td>Seafood</td><td>Jack&#39;s New England Clam Chowder</td><td>20</td></tr>",
                            "<tr><td>KOENE</td><td>Philip Cramer</td><td>Beverages</td><td>Lakkalikööri</td><td>35</td></tr>",
                            "<tr><td>KOENE</td><td>Philip Cramer</td><td>Condiments</td><td>Aniseed Syrup</td><td>49</td></tr>",
                            "<tr><td>KOENE</td><td>Philip Cramer</td><td>Confections</td><td>Gumbär Gummibärchen</td><td>58</td></tr>",
                            "<tr><td>KOENE</td><td>Philip Cramer</td><td>Dairy Products</td><td>Raclette Courdavault</td><td>85</td></tr>",
                            "<tr><td>KOENE</td><td>Philip Cramer</td><td>Meat/Poultry</td><td>Pâté chinois</td><td>47</td></tr>",
                            "<tr><td>KOENE</td><td>Philip Cramer</td><td>Produce</td><td>Tofu</td><td>9</td></tr>",
                            "<tr><td>KOENE</td><td>Philip Cramer</td><td>Seafood</td><td>Inlagd Sill</td><td>60</td></tr>",
                            "<tr><td>LACOR</td><td>Daniel Tonini</td><td>Beverages</td><td>Lakkalikööri</td><td>20</td></tr>",
                            "<tr><td>LACOR</td><td>Daniel Tonini</td><td>Confections</td><td>Schoggi Schokolade</td><td>10</td></tr>",
                            "<tr><td>LACOR</td><td>Daniel Tonini</td><td>Dairy Products</td><td>Geitost</td><td>7</td></tr>",
                            "<tr><td>LACOR</td><td>Daniel Tonini</td><td>Grains/Cereals</td><td>Filo Mix</td><td>5</td></tr>",
                            "<tr><td>LACOR</td><td>Daniel Tonini</td><td>Meat/Poultry</td><td>Alice Mutton</td><td>6</td></tr>",
                            "<tr><td>LACOR</td><td>Daniel Tonini</td><td>Produce</td><td>Uncle Bob&#39;s Organic Dried Pears</td><td>5</td></tr>",
                            "<tr><td>LACOR</td><td>Daniel Tonini</td><td>Seafood</td><td>Jack&#39;s New England Clam Chowder</td><td>6</td></tr>",
                            "<tr><td>LAMAI</td><td>Annette Roulet</td><td>Beverages</td><td>Lakkalikööri</td><td>34</td></tr>",
                            "<tr><td>LAMAI</td><td>Annette Roulet</td><td>Condiments</td><td>Gula Malacca</td><td>16</td></tr>",
                            "<tr><td>LAMAI</td><td>Annette Roulet</td><td>Confections</td><td>Tarte au sucre</td><td>40</td></tr>",
                            "<tr><td>LAMAI</td><td>Annette Roulet</td><td>Dairy Products</td><td>Gudbrandsdalsost</td><td>28</td></tr>",
                            "<tr><td>LAMAI</td><td>Annette Roulet</td><td>Grains/Cereals</td><td>Singaporean Hokkien Fried Mee</td><td>10</td></tr>",
                            "<tr><td>LAMAI</td><td>Annette Roulet</td><td>Meat/Poultry</td><td>Thüringer Rostbratwurst</td><td>20</td></tr>",
                            "<tr><td>LAMAI</td><td>Annette Roulet</td><td>Produce</td><td>Rössle Sauerkraut</td><td>8</td></tr>",
                            "<tr><td>LAMAI</td><td>Annette Roulet</td><td>Seafood</td><td>Inlagd Sill</td><td>47</td></tr>",
                            "<tr><td>LAUGB</td><td>Yoshi Tannamuri</td><td>Beverages</td><td>Guaraná Fantástica</td><td>5</td></tr>",
                            "<tr><td>LAUGB</td><td>Yoshi Tannamuri</td><td>Condiments</td><td>Original Frankfurter grüne Soße</td><td>5</td></tr>",
                            "<tr><td>LAUGB</td><td>Yoshi Tannamuri</td><td>Confections</td><td>NuNuCa Nuß-Nougat-Creme</td><td>5</td></tr>",
                            "<tr><td>LAUGB</td><td>Yoshi Tannamuri</td><td>Grains/Cereals</td><td>Tunnbröd</td><td>10</td></tr>",
                            "<tr><td>LAUGB</td><td>Yoshi Tannamuri</td><td>Seafood</td><td>Jack&#39;s New England Clam Chowder</td><td>20</td></tr>",
                            "<tr><td>LAZYK</td><td>John Steel</td><td>Dairy Products</td><td>Queso Cabrales</td><td>10</td></tr>",
                            "<tr><td>LAZYK</td><td>John Steel</td><td>Seafood</td><td>Boston Crab Meat</td><td>10</td></tr>",
                            "<tr><td>LEHMS</td><td>Renate Messner</td><td>Beverages</td><td>Chai</td><td>80</td></tr>",
                            "<tr><td>LEHMS</td><td>Renate Messner</td><td>Condiments</td><td>Original Frankfurter grüne Soße</td><td>25</td></tr>",
                            "<tr><td>LEHMS</td><td>Renate Messner</td><td>Confections</td><td>Pavlova</td><td>30</td></tr>",
                            "<tr><td>LEHMS</td><td>Renate Messner</td><td>Dairy Products</td><td>Camembert Pierrot</td><td>55</td></tr>",
                            "<tr><td>LEHMS</td><td>Renate Messner</td><td>Grains/Cereals</td><td>Wimmers gute Semmelknödel</td><td>80</td></tr>",
                            "<tr><td>LEHMS</td><td>Renate Messner</td><td>Meat/Poultry</td><td>Thüringer Rostbratwurst</td><td>18</td></tr>",
                            "<tr><td>LEHMS</td><td>Renate Messner</td><td>Seafood</td><td>Nord-Ost Matjeshering</td><td>45</td></tr>",
                            "<tr><td>LETSS</td><td>Jaime Yorres</td><td>Beverages</td><td>Rhönbräu Klosterbier</td><td>21</td></tr>",
                            "<tr><td>LETSS</td><td>Jaime Yorres</td><td>Condiments</td><td>Sirop d&#39;érable</td><td>20</td></tr>",
                            "<tr><td>LETSS</td><td>Jaime Yorres</td><td>Confections</td><td>Sir Rodney&#39;s Scones</td><td>40</td></tr>",
                            "<tr><td>LETSS</td><td>Jaime Yorres</td><td>Grains/Cereals</td><td>Gnocchi di nonna Alice</td><td>21</td></tr>",
                            "<tr><td>LETSS</td><td>Jaime Yorres</td><td>Meat/Poultry</td><td>Tourtière</td><td>40</td></tr>",
                            "<tr><td>LETSS</td><td>Jaime Yorres</td><td>Seafood</td><td>Carnarvon Tigers</td><td>12</td></tr>",
                            "<tr><td>LILAS</td><td>Carlos González</td><td>Beverages</td><td>Outback Lager</td><td>35</td></tr>",
                            "<tr><td>LILAS</td><td>Carlos González</td><td>Condiments</td><td>Original Frankfurter grüne Soße</td><td>30</td></tr>",
                            "<tr><td>LILAS</td><td>Carlos González</td><td>Confections</td><td>Gumbär Gummibärchen</td><td>66</td></tr>",
                            "<tr><td>LILAS</td><td>Carlos González</td><td>Dairy Products</td><td>Mascarpone Fabioli</td><td>50</td></tr>",
                            "<tr><td>LILAS</td><td>Carlos González</td><td>Grains/Cereals</td><td>Tunnbröd</td><td>70</td></tr>",
                            "<tr><td>LILAS</td><td>Carlos González</td><td>Meat/Poultry</td><td>Pâté chinois</td><td>60</td></tr>",
                            "<tr><td>LILAS</td><td>Carlos González</td><td>Produce</td><td>Rössle Sauerkraut</td><td>20</td></tr>",
                            "<tr><td>LILAS</td><td>Carlos González</td><td>Seafood</td><td>Nord-Ost Matjeshering</td><td>32</td></tr>",
                            "<tr><td>LINOD</td><td>Felipe Izquierdo</td><td>Beverages</td><td>Outback Lager</td><td>90</td></tr>",
                            "<tr><td>LINOD</td><td>Felipe Izquierdo</td><td>Condiments</td><td>Aniseed Syrup</td><td>70</td></tr>",
                            "<tr><td>LINOD</td><td>Felipe Izquierdo</td><td>Confections</td><td>Maxilaku</td><td>60</td></tr>",
                            "<tr><td>LINOD</td><td>Felipe Izquierdo</td><td>Dairy Products</td><td>Mozzarella di Giovanni</td><td>60</td></tr>",
                            "<tr><td>LINOD</td><td>Felipe Izquierdo</td><td>Grains/Cereals</td><td>Ravioli Angelo</td><td>28</td></tr>",
                            "<tr><td>LINOD</td><td>Felipe Izquierdo</td><td>Meat/Poultry</td><td>Pâté chinois</td><td>30</td></tr>",
                            "<tr><td>LINOD</td><td>Felipe Izquierdo</td><td>Produce</td><td>Rössle Sauerkraut</td><td>20</td></tr>",
                            "<tr><td>LINOD</td><td>Felipe Izquierdo</td><td>Seafood</td><td>Inlagd Sill</td><td>50</td></tr>",
                            "<tr><td>LONEP</td><td>Fran Wilson</td><td>Beverages</td><td>Chai</td><td>20</td></tr>",
                            "<tr><td>LONEP</td><td>Fran Wilson</td><td>Confections</td><td>Scottish Longbreads</td><td>13</td></tr>",
                            "<tr><td>LONEP</td><td>Fran Wilson</td><td>Dairy Products</td><td>Queso Manchego La Pastora</td><td>20</td></tr>",
                            "<tr><td>LONEP</td><td>Fran Wilson</td><td>Grains/Cereals</td><td>Gnocchi di nonna Alice</td><td>5</td></tr>",
                            "<tr><td>LONEP</td><td>Fran Wilson</td><td>Meat/Poultry</td><td>Perth Pasties</td><td>3</td></tr>",
                            "<tr><td>LONEP</td><td>Fran Wilson</td><td>Produce</td><td>Manjimup Dried Apples</td><td>20</td></tr>",
                            "<tr><td>LONEP</td><td>Fran Wilson</td><td>Seafood</td><td>Carnarvon Tigers</td><td>10</td></tr>",
                            "<tr><td>MAGAA</td><td>Giovanni Rovelli</td><td>Beverages</td><td>Guaraná Fantástica</td><td>40</td></tr>",
                            "<tr><td>MAGAA</td><td>Giovanni Rovelli</td><td>Condiments</td><td>Louisiana Hot Spiced Okra</td><td>30</td></tr>",
                            "<tr><td>MAGAA</td><td>Giovanni Rovelli</td><td>Confections</td><td>Gumbär Gummibärchen</td><td>30</td></tr>",
                            "<tr><td>MAGAA</td><td>Giovanni Rovelli</td><td>Dairy Products</td><td>Mozzarella di Giovanni</td><td>30</td></tr>",
                            "<tr><td>MAGAA</td><td>Giovanni Rovelli</td><td>Grains/Cereals</td><td>Singaporean Hokkien Fried Mee</td><td>40</td></tr>",
                            "<tr><td>MAGAA</td><td>Giovanni Rovelli</td><td>Seafood</td><td>Inlagd Sill</td><td>30</td></tr>",
                            "<tr><td>MAISD</td><td>Catherine Dewey</td><td>Beverages</td><td>Ipoh Coffee</td><td>30</td></tr>",
                            "<tr><td>MAISD</td><td>Catherine Dewey</td><td>Condiments</td><td>Northwoods Cranberry Sauce</td><td>20</td></tr>",
                            "<tr><td>MAISD</td><td>Catherine Dewey</td><td>Confections</td><td>Schoggi Schokolade</td><td>40</td></tr>",
                            "<tr><td>MAISD</td><td>Catherine Dewey</td><td>Dairy Products</td><td>Raclette Courdavault</td><td>40</td></tr>",
                            "<tr><td>MAISD</td><td>Catherine Dewey</td><td>Grains/Cereals</td><td>Gnocchi di nonna Alice</td><td>16</td></tr>",
                            "<tr><td>MAISD</td><td>Catherine Dewey</td><td>Meat/Poultry</td><td>Pâté chinois</td><td>14</td></tr>",
                            "<tr><td>MAISD</td><td>Catherine Dewey</td><td>Produce</td><td>Rössle Sauerkraut</td><td>20</td></tr>",
                            "<tr><td>MAISD</td><td>Catherine Dewey</td><td>Seafood</td><td>Rogede sild</td><td>15</td></tr>",
                            "<tr><td>MEREP</td><td>Jean Fresnière</td><td>Beverages</td><td>Steeleye Stout</td><td>60</td></tr>",
                            "<tr><td>MEREP</td><td>Jean Fresnière</td><td>Condiments</td><td>Grandma&#39;s Boysenberry Spread</td><td>70</td></tr>",
                            "<tr><td>MEREP</td><td>Jean Fresnière</td><td>Confections</td><td>Pavlova</td><td>46</td></tr>",
                            "<tr><td>MEREP</td><td>Jean Fresnière</td><td>Dairy Products</td><td>Camembert Pierrot</td><td>70</td></tr>",
                            "<tr><td>MEREP</td><td>Jean Fresnière</td><td>Grains/Cereals</td><td>Gnocchi di nonna Alice</td><td>80</td></tr>",
                            "<tr><td>MEREP</td><td>Jean Fresnière</td><td>Meat/Poultry</td><td>Alice Mutton</td><td>70</td></tr>",
                            "<tr><td>MEREP</td><td>Jean Fresnière</td><td>Produce</td><td>Longlife Tofu</td><td>30</td></tr>",
                            "<tr><td>MEREP</td><td>Jean Fresnière</td><td>Seafood</td><td>Carnarvon Tigers</td><td>40</td></tr>",
                            "<tr><td>MORGK</td><td>Alexander Feuer</td><td>Beverages</td><td>Lakkalikööri</td><td>10</td></tr>",
                            "<tr><td>MORGK</td><td>Alexander Feuer</td><td>Condiments</td><td>Vegie-spread</td><td>6</td></tr>",
                            "<tr><td>MORGK</td><td>Alexander Feuer</td><td>Confections</td><td>Tarte au sucre</td><td>32</td></tr>",
                            "<tr><td>MORGK</td><td>Alexander Feuer</td><td>Dairy Products</td><td>Mozzarella di Giovanni</td><td>30</td></tr>",
                            "<tr><td>MORGK</td><td>Alexander Feuer</td><td>Produce</td><td>Rössle Sauerkraut</td><td>20</td></tr>",
                            "<tr><td>MORGK</td><td>Alexander Feuer</td><td>Seafood</td><td>Konbu</td><td>20</td></tr>",
                            "<tr><td>NORTS</td><td>Simon Crowther</td><td>Beverages</td><td>Outback Lager</td><td>9</td></tr>",
                            "<tr><td>NORTS</td><td>Simon Crowther</td><td>Dairy Products</td><td>Raclette Courdavault</td><td>4</td></tr>",
                            "<tr><td>NORTS</td><td>Simon Crowther</td><td>Grains/Cereals</td><td>Filo Mix</td><td>6</td></tr>",
                            "<tr><td>OCEAN</td><td>Yvonne Moncada</td><td>Beverages</td><td>Lakkalikööri</td><td>10</td></tr>",
                            "<tr><td>OCEAN</td><td>Yvonne Moncada</td><td>Condiments</td><td>Chef Anton&#39;s Gumbo Mix</td><td>20</td></tr>",
                            "<tr><td>OCEAN</td><td>Yvonne Moncada</td><td>Confections</td><td>Sir Rodney&#39;s Marmalade</td><td>15</td></tr>",
                            "<tr><td>OCEAN</td><td>Yvonne Moncada</td><td>Dairy Products</td><td>Queso Cabrales</td><td>30</td></tr>",
                            "<tr><td>OCEAN</td><td>Yvonne Moncada</td><td>Produce</td><td>Tofu</td><td>12</td></tr>",
                            "<tr><td>OCEAN</td><td>Yvonne Moncada</td><td>Seafood</td><td>Konbu</td><td>5</td></tr>",
                            "<tr><td>OLDWO</td><td>Rene Phillips</td><td>Beverages</td><td>Lakkalikööri</td><td>50</td></tr>",
                            "<tr><td>OLDWO</td><td>Rene Phillips</td><td>Condiments</td><td>Louisiana Fiery Hot Pepper Sauce</td><td>15</td></tr>",
                            "<tr><td>OLDWO</td><td>Rene Phillips</td><td>Confections</td><td>Pavlova</td><td>120</td></tr>",
                            "<tr><td>OLDWO</td><td>Rene Phillips</td><td>Dairy Products</td><td>Gorgonzola Telino</td><td>34</td></tr>",
                            "<tr><td>OLDWO</td><td>Rene Phillips</td><td>Grains/Cereals</td><td>Gnocchi di nonna Alice</td><td>44</td></tr>",
                            "<tr><td>OLDWO</td><td>Rene Phillips</td><td>Meat/Poultry</td><td>Thüringer Rostbratwurst</td><td>25</td></tr>",
                            "<tr><td>OLDWO</td><td>Rene Phillips</td><td>Produce</td><td>Manjimup Dried Apples</td><td>16</td></tr>",
                            "<tr><td>OLDWO</td><td>Rene Phillips</td><td>Seafood</td><td>Escargots de Bourgogne</td><td>30</td></tr>",
                            "<tr><td>OTTIK</td><td>Henriette Pfalzheim</td><td>Beverages</td><td>Chang</td><td>40</td></tr>",
                            "<tr><td>OTTIK</td><td>Henriette Pfalzheim</td><td>Condiments</td><td>Original Frankfurter grüne Soße</td><td>31</td></tr>",
                            "<tr><td>OTTIK</td><td>Henriette Pfalzheim</td><td>Confections</td><td>Zaanse koeken</td><td>40</td></tr>",
                            "<tr><td>OTTIK</td><td>Henriette Pfalzheim</td><td>Dairy Products</td><td>Queso Cabrales</td><td>30</td></tr>",
                            "<tr><td>OTTIK</td><td>Henriette Pfalzheim</td><td>Grains/Cereals</td><td>Ravioli Angelo</td><td>50</td></tr>",
                            "<tr><td>OTTIK</td><td>Henriette Pfalzheim</td><td>Meat/Poultry</td><td>Perth Pasties</td><td>9</td></tr>",
                            "<tr><td>OTTIK</td><td>Henriette Pfalzheim</td><td>Produce</td><td>Uncle Bob&#39;s Organic Dried Pears</td><td>55</td></tr>",
                            "<tr><td>OTTIK</td><td>Henriette Pfalzheim</td><td>Seafood</td><td>Jack&#39;s New England Clam Chowder</td><td>45</td></tr>",
                            "<tr><td>PERIC</td><td>Guillermo Fernández</td><td>Beverages</td><td>Laughing Lumberjack Lager</td><td>30</td></tr>",
                            "<tr><td>PERIC</td><td>Guillermo Fernández</td><td>Dairy Products</td><td>Queso Cabrales</td><td>10</td></tr>",
                            "<tr><td>PERIC</td><td>Guillermo Fernández</td><td>Grains/Cereals</td><td>Filo Mix</td><td>20</td></tr>",
                            "<tr><td>PERIC</td><td>Guillermo Fernández</td><td>Meat/Poultry</td><td>Perth Pasties</td><td>6</td></tr>",
                            "<tr><td>PERIC</td><td>Guillermo Fernández</td><td>Produce</td><td>Manjimup Dried Apples</td><td>20</td></tr>",
                            "<tr><td>PERIC</td><td>Guillermo Fernández</td><td>Seafood</td><td>Rogede sild</td><td>21</td></tr>",
                            "<tr><td>PICCO</td><td>Georg Pipps</td><td>Beverages</td><td>Côte de Blaye</td><td>50</td></tr>",
                            "<tr><td>PICCO</td><td>Georg Pipps</td><td>Condiments</td><td>Sirop d&#39;érable</td><td>20</td></tr>",
                            "<tr><td>PICCO</td><td>Georg Pipps</td><td>Confections</td><td>Pavlova</td><td>18</td></tr>",
                            "<tr><td>PICCO</td><td>Georg Pipps</td><td>Dairy Products</td><td>Gudbrandsdalsost</td><td>80</td></tr>",
                            "<tr><td>PICCO</td><td>Georg Pipps</td><td>Grains/Cereals</td><td>Gustaf&#39;s Knäckebröd</td><td>35</td></tr>",
                            "<tr><td>PICCO</td><td>Georg Pipps</td><td>Meat/Poultry</td><td>Alice Mutton</td><td>70</td></tr>",
                            "<tr><td>PICCO</td><td>Georg Pipps</td><td>Produce</td><td>Tofu</td><td>35</td></tr>",
                            "<tr><td>PICCO</td><td>Georg Pipps</td><td>Seafood</td><td>Carnarvon Tigers</td><td>35</td></tr>",
                            "<tr><td>PRINI</td><td>Isabel de Castro</td><td>Beverages</td><td>Chartreuse verte</td><td>20</td></tr>",
                            "<tr><td>PRINI</td><td>Isabel de Castro</td><td>Condiments</td><td>Northwoods Cranberry Sauce</td><td>30</td></tr>",
                            "<tr><td>PRINI</td><td>Isabel de Castro</td><td>Confections</td><td>Sir Rodney&#39;s Scones</td><td>31</td></tr>",
                            "<tr><td>PRINI</td><td>Isabel de Castro</td><td>Grains/Cereals</td><td>Gnocchi di nonna Alice</td><td>28</td></tr>",
                            "<tr><td>PRINI</td><td>Isabel de Castro</td><td>Meat/Poultry</td><td>Thüringer Rostbratwurst</td><td>10</td></tr>",
                            "<tr><td>PRINI</td><td>Isabel de Castro</td><td>Produce</td><td>Manjimup Dried Apples</td><td>18</td></tr>",
                            "<tr><td>QUEDE</td><td>Bernardo Batista</td><td>Beverages</td><td>Steeleye Stout</td><td>61</td></tr>",
                            "<tr><td>QUEDE</td><td>Bernardo Batista</td><td>Condiments</td><td>Grandma&#39;s Boysenberry Spread</td><td>40</td></tr>",
                            "<tr><td>QUEDE</td><td>Bernardo Batista</td><td>Confections</td><td>Gumbär Gummibärchen</td><td>36</td></tr>",
                            "<tr><td>QUEDE</td><td>Bernardo Batista</td><td>Dairy Products</td><td>Queso Cabrales</td><td>15</td></tr>",
                            "<tr><td>QUEDE</td><td>Bernardo Batista</td><td>Meat/Poultry</td><td>Perth Pasties</td><td>15</td></tr>",
                            "<tr><td>QUEDE</td><td>Bernardo Batista</td><td>Produce</td><td>Tofu</td><td>15</td></tr>",
                            "<tr><td>QUEDE</td><td>Bernardo Batista</td><td>Seafood</td><td>Konbu</td><td>20</td></tr>",
                            "<tr><td>QUEEN</td><td>Lúcia Carvalho</td><td>Beverages</td><td>Lakkalikööri</td><td>60</td></tr>",
                            "<tr><td>QUEEN</td><td>Lúcia Carvalho</td><td>Condiments</td><td>Chef Anton&#39;s Cajun Seasoning</td><td>36</td></tr>",
                            "<tr><td>QUEEN</td><td>Lúcia Carvalho</td><td>Confections</td><td>Gumbär Gummibärchen</td><td>50</td></tr>",
                            "<tr><td>QUEEN</td><td>Lúcia Carvalho</td><td>Dairy Products</td><td>Camembert Pierrot</td><td>85</td></tr>",
                            "<tr><td>QUEEN</td><td>Lúcia Carvalho</td><td>Grains/Cereals</td><td>Gnocchi di nonna Alice</td><td>60</td></tr>",
                            "<tr><td>QUEEN</td><td>Lúcia Carvalho</td><td>Meat/Poultry</td><td>Tourtière</td><td>24</td></tr>",
                            "<tr><td>QUEEN</td><td>Lúcia Carvalho</td><td>Produce</td><td>Rössle Sauerkraut</td><td>50</td></tr>",
                            "<tr><td>QUEEN</td><td>Lúcia Carvalho</td><td>Seafood</td><td>Boston Crab Meat</td><td>32</td></tr>",
                            "<tr><td>QUICK</td><td>Horst Kloss</td><td>Beverages</td><td>Lakkalikööri</td><td>167</td></tr>",
                            "<tr><td>QUICK</td><td>Horst Kloss</td><td>Condiments</td><td>Original Frankfurter grüne Soße</td><td>125</td></tr>",
                            "<tr><td>QUICK</td><td>Horst Kloss</td><td>Confections</td><td>Teatime Chocolate Biscuits</td><td>130</td></tr>",
                            "<tr><td>QUICK</td><td>Horst Kloss</td><td>Dairy Products</td><td>Camembert Pierrot</td><td>243</td></tr>",
                            "<tr><td>QUICK</td><td>Horst Kloss</td><td>Grains/Cereals</td><td>Singaporean Hokkien Fried Mee</td><td>191</td></tr>",
                            "<tr><td>QUICK</td><td>Horst Kloss</td><td>Meat/Poultry</td><td>Pâté chinois</td><td>120</td></tr>",
                            "<tr><td>QUICK</td><td>Horst Kloss</td><td>Produce</td><td>Uncle Bob&#39;s Organic Dried Pears</td><td>135</td></tr>",
                            "<tr><td>QUICK</td><td>Horst Kloss</td><td>Seafood</td><td>Boston Crab Meat</td><td>170</td></tr>",
                            "<tr><td>RANCH</td><td>Sergio Gutiérrez</td><td>Beverages</td><td>Côte de Blaye</td><td>2</td></tr>",
                            "<tr><td>RANCH</td><td>Sergio Gutiérrez</td><td>Condiments</td><td>Sirop d&#39;érable</td><td>10</td></tr>",
                            "<tr><td>RANCH</td><td>Sergio Gutiérrez</td><td>Confections</td><td>Pavlova</td><td>6</td></tr>",
                            "<tr><td>RANCH</td><td>Sergio Gutiérrez</td><td>Dairy Products</td><td>Mascarpone Fabioli</td><td>6</td></tr>",
                            "<tr><td>RANCH</td><td>Sergio Gutiérrez</td><td>Grains/Cereals</td><td>Ravioli Angelo</td><td>20</td></tr>",
                            "<tr><td>RANCH</td><td>Sergio Gutiérrez</td><td>Produce</td><td>Manjimup Dried Apples</td><td>7</td></tr>",
                            "<tr><td>RANCH</td><td>Sergio Gutiérrez</td><td>Seafood</td><td>Boston Crab Meat</td><td>20</td></tr>",
                            "<tr><td>RATTC</td><td>Paula Wilson</td><td>Beverages</td><td>Côte de Blaye</td><td>70</td></tr>",
                            "<tr><td>RATTC</td><td>Paula Wilson</td><td>Condiments</td><td>Original Frankfurter grüne Soße</td><td>32</td></tr>",
                            "<tr><td>RATTC</td><td>Paula Wilson</td><td>Confections</td><td>Tarte au sucre</td><td>185</td></tr>",
                            "<tr><td>RATTC</td><td>Paula Wilson</td><td>Dairy Products</td><td>Gorgonzola Telino</td><td>81</td></tr>",
                            "<tr><td>RATTC</td><td>Paula Wilson</td><td>Grains/Cereals</td><td>Gnocchi di nonna Alice</td><td>122</td></tr>",
                            "<tr><td>RATTC</td><td>Paula Wilson</td><td>Meat/Poultry</td><td>Alice Mutton</td><td>73</td></tr>",
                            "<tr><td>RATTC</td><td>Paula Wilson</td><td>Produce</td><td>Uncle Bob&#39;s Organic Dried Pears</td><td>76</td></tr>",
                            "<tr><td>RATTC</td><td>Paula Wilson</td><td>Seafood</td><td>Escargots de Bourgogne</td><td>30</td></tr>",
                            "<tr><td>REGGC</td><td>Maurizio Moroni</td><td>Beverages</td><td>Outback Lager</td><td>12</td></tr>",
                            "<tr><td>REGGC</td><td>Maurizio Moroni</td><td>Condiments</td><td>Original Frankfurter grüne Soße</td><td>20</td></tr>",
                            "<tr><td>REGGC</td><td>Maurizio Moroni</td><td>Confections</td><td>Maxilaku</td><td>28</td></tr>",
                            "<tr><td>REGGC</td><td>Maurizio Moroni</td><td>Dairy Products</td><td>Mozzarella di Giovanni</td><td>40</td></tr>",
                            "<tr><td>REGGC</td><td>Maurizio Moroni</td><td>Grains/Cereals</td><td>Filo Mix</td><td>18</td></tr>",
                            "<tr><td>REGGC</td><td>Maurizio Moroni</td><td>Meat/Poultry</td><td>Alice Mutton</td><td>20</td></tr>",
                            "<tr><td>REGGC</td><td>Maurizio Moroni</td><td>Produce</td><td>Uncle Bob&#39;s Organic Dried Pears</td><td>40</td></tr>",
                            "<tr><td>REGGC</td><td>Maurizio Moroni</td><td>Seafood</td><td>Spegesild</td><td>20</td></tr>",
                            "<tr><td>RICAR</td><td>Janete Limeira</td><td>Beverages</td><td>Chang</td><td>37</td></tr>",
                            "<tr><td>RICAR</td><td>Janete Limeira</td><td>Condiments</td><td>Louisiana Fiery Hot Pepper Sauce</td><td>35</td></tr>",
                            "<tr><td>RICAR</td><td>Janete Limeira</td><td>Confections</td><td>Pavlova</td><td>70</td></tr>",
                            "<tr><td>RICAR</td><td>Janete Limeira</td><td>Dairy Products</td><td>Camembert Pierrot</td><td>75</td></tr>",
                            "<tr><td>RICAR</td><td>Janete Limeira</td><td>Grains/Cereals</td><td>Filo Mix</td><td>70</td></tr>",
                            "<tr><td>RICAR</td><td>Janete Limeira</td><td>Meat/Poultry</td><td>Alice Mutton</td><td>12</td></tr>",
                            "<tr><td>RICAR</td><td>Janete Limeira</td><td>Seafood</td><td>Spegesild</td><td>50</td></tr>",
                            "<tr><td>RICSU</td><td>Michael Holz</td><td>Beverages</td><td>Rhönbräu Klosterbier</td><td>50</td></tr>",
                            "<tr><td>RICSU</td><td>Michael Holz</td><td>Condiments</td><td>Louisiana Fiery Hot Pepper Sauce</td><td>10</td></tr>",
                            "<tr><td>RICSU</td><td>Michael Holz</td><td>Confections</td><td>Pavlova</td><td>35</td></tr>",
                            "<tr><td>RICSU</td><td>Michael Holz</td><td>Dairy Products</td><td>Camembert Pierrot</td><td>60</td></tr>",
                            "<tr><td>RICSU</td><td>Michael Holz</td><td>Grains/Cereals</td><td>Filo Mix</td><td>60</td></tr>",
                            "<tr><td>RICSU</td><td>Michael Holz</td><td>Meat/Poultry</td><td>Perth Pasties</td><td>70</td></tr>",
                            "<tr><td>RICSU</td><td>Michael Holz</td><td>Produce</td><td>Manjimup Dried Apples</td><td>6</td></tr>",
                            "<tr><td>RICSU</td><td>Michael Holz</td><td>Seafood</td><td>Konbu</td><td>42</td></tr>",
                            "<tr><td>ROMEY</td><td>Alejandra Camino</td><td>Beverages</td><td>Guaraná Fantástica</td><td>6</td></tr>",
                            "<tr><td>ROMEY</td><td>Alejandra Camino</td><td>Confections</td><td>Scottish Longbreads</td><td>2</td></tr>",
                            "<tr><td>ROMEY</td><td>Alejandra Camino</td><td>Dairy Products</td><td>Camembert Pierrot</td><td>10</td></tr>",
                            "<tr><td>ROMEY</td><td>Alejandra Camino</td><td>Grains/Cereals</td><td>Tunnbröd</td><td>10</td></tr>",
                            "<tr><td>ROMEY</td><td>Alejandra Camino</td><td>Meat/Poultry</td><td>Perth Pasties</td><td>10</td></tr>",
                            "<tr><td>ROMEY</td><td>Alejandra Camino</td><td>Seafood</td><td>Rogede sild</td><td>20</td></tr>",
                            "<tr><td>SANTG</td><td>Jonas Bergulfsen</td><td>Beverages</td><td>Guaraná Fantástica</td><td>23</td></tr>",
                            "<tr><td>SANTG</td><td>Jonas Bergulfsen</td><td>Condiments</td><td>Original Frankfurter grüne Soße</td><td>18</td></tr>",
                            "<tr><td>SANTG</td><td>Jonas Bergulfsen</td><td>Confections</td><td>Pavlova</td><td>15</td></tr>",
                            "<tr><td>SANTG</td><td>Jonas Bergulfsen</td><td>Dairy Products</td><td>Flotemysost</td><td>15</td></tr>",
                            "<tr><td>SANTG</td><td>Jonas Bergulfsen</td><td>Meat/Poultry</td><td>Perth Pasties</td><td>5</td></tr>",
                            "<tr><td>SANTG</td><td>Jonas Bergulfsen</td><td>Produce</td><td>Uncle Bob&#39;s Organic Dried Pears</td><td>12</td></tr>",
                            "<tr><td>SANTG</td><td>Jonas Bergulfsen</td><td>Seafood</td><td>Nord-Ost Matjeshering</td><td>15</td></tr>",
                            "<tr><td>SAVEA</td><td>Jose Pavarotti</td><td>Beverages</td><td>Chang</td><td>203</td></tr>",
                            "<tr><td>SAVEA</td><td>Jose Pavarotti</td><td>Condiments</td><td>Gula Malacca</td><td>100</td></tr>",
                            "<tr><td>SAVEA</td><td>Jose Pavarotti</td><td>Confections</td><td>Scottish Longbreads</td><td>220</td></tr>",
                            "<tr><td>SAVEA</td><td>Jose Pavarotti</td><td>Dairy Products</td><td>Raclette Courdavault</td><td>147</td></tr>",
                            "<tr><td>SAVEA</td><td>Jose Pavarotti</td><td>Grains/Cereals</td><td>Gnocchi di nonna Alice</td><td>131</td></tr>",
                            "<tr><td>SAVEA</td><td>Jose Pavarotti</td><td>Meat/Poultry</td><td>Alice Mutton</td><td>204</td></tr>",
                            "<tr><td>SAVEA</td><td>Jose Pavarotti</td><td>Produce</td><td>Tofu</td><td>72</td></tr>",
                            "<tr><td>SAVEA</td><td>Jose Pavarotti</td><td>Seafood</td><td>Konbu</td><td>248</td></tr>",
                            "<tr><td>SEVES</td><td>Hari Kumar</td><td>Beverages</td><td>Guaraná Fantástica</td><td>80</td></tr>",
                            "<tr><td>SEVES</td><td>Hari Kumar</td><td>Confections</td><td>Pavlova</td><td>56</td></tr>",
                            "<tr><td>SEVES</td><td>Hari Kumar</td><td>Dairy Products</td><td>Camembert Pierrot</td><td>80</td></tr>",
                            "<tr><td>SEVES</td><td>Hari Kumar</td><td>Grains/Cereals</td><td>Tunnbröd</td><td>50</td></tr>",
                            "<tr><td>SEVES</td><td>Hari Kumar</td><td>Meat/Poultry</td><td>Perth Pasties</td><td>40</td></tr>",
                            "<tr><td>SEVES</td><td>Hari Kumar</td><td>Produce</td><td>Rössle Sauerkraut</td><td>44</td></tr>",
                            "<tr><td>SEVES</td><td>Hari Kumar</td><td>Seafood</td><td>Inlagd Sill</td><td>60</td></tr>",
                            "<tr><td>SIMOB</td><td>Jytte Petersen</td><td>Beverages</td><td>Côte de Blaye</td><td>50</td></tr>",
                            "<tr><td>SIMOB</td><td>Jytte Petersen</td><td>Condiments</td><td>Original Frankfurter grüne Soße</td><td>35</td></tr>",
                            "<tr><td>SIMOB</td><td>Jytte Petersen</td><td>Confections</td><td>Scottish Longbreads</td><td>36</td></tr>",
                            "<tr><td>SIMOB</td><td>Jytte Petersen</td><td>Dairy Products</td><td>Mozzarella di Giovanni</td><td>24</td></tr>",
                            "<tr><td>SIMOB</td><td>Jytte Petersen</td><td>Meat/Poultry</td><td>Pâté chinois</td><td>60</td></tr>",
                            "<tr><td>SIMOB</td><td>Jytte Petersen</td><td>Produce</td><td>Manjimup Dried Apples</td><td>30</td></tr>",
                            "<tr><td>SIMOB</td><td>Jytte Petersen</td><td>Seafood</td><td>Inlagd Sill</td><td>30</td></tr>",
                            "<tr><td>SPECD</td><td>Dominique Perrier</td><td>Beverages</td><td>Rhönbräu Klosterbier</td><td>14</td></tr>",
                            "<tr><td>SPECD</td><td>Dominique Perrier</td><td>Confections</td><td>Pavlova</td><td>3</td></tr>",
                            "<tr><td>SPECD</td><td>Dominique Perrier</td><td>Dairy Products</td><td>Queso Cabrales</td><td>10</td></tr>",
                            "<tr><td>SPECD</td><td>Dominique Perrier</td><td>Seafood</td><td>Carnarvon Tigers</td><td>6</td></tr>",
                            "<tr><td>SPLIR</td><td>Art Braunschweiger</td><td>Beverages</td><td>Steeleye Stout</td><td>20</td></tr>",
                            "<tr><td>SPLIR</td><td>Art Braunschweiger</td><td>Condiments</td><td>Vegie-spread</td><td>10</td></tr>",
                            "<tr><td>SPLIR</td><td>Art Braunschweiger</td><td>Confections</td><td>Scottish Longbreads</td><td>14</td></tr>",
                            "<tr><td>SPLIR</td><td>Art Braunschweiger</td><td>Dairy Products</td><td>Geitost</td><td>24</td></tr>",
                            "<tr><td>SPLIR</td><td>Art Braunschweiger</td><td>Grains/Cereals</td><td>Gnocchi di nonna Alice</td><td>30</td></tr>",
                            "<tr><td>SPLIR</td><td>Art Braunschweiger</td><td>Meat/Poultry</td><td>Tourtière</td><td>64</td></tr>",
                            "<tr><td>SPLIR</td><td>Art Braunschweiger</td><td>Produce</td><td>Uncle Bob&#39;s Organic Dried Pears</td><td>10</td></tr>",
                            "<tr><td>SPLIR</td><td>Art Braunschweiger</td><td>Seafood</td><td>Carnarvon Tigers</td><td>21</td></tr>",
                            "<tr><td>SUPRD</td><td>Pascale Cartrain</td><td>Beverages</td><td>Steeleye Stout</td><td>60</td></tr>",
                            "<tr><td>SUPRD</td><td>Pascale Cartrain</td><td>Condiments</td><td>Louisiana Hot Spiced Okra</td><td>60</td></tr>",
                            "<tr><td>SUPRD</td><td>Pascale Cartrain</td><td>Confections</td><td>Sir Rodney&#39;s Marmalade</td><td>40</td></tr>",
                            "<tr><td>SUPRD</td><td>Pascale Cartrain</td><td>Dairy Products</td><td>Flotemysost</td><td>80</td></tr>",
                            "<tr><td>SUPRD</td><td>Pascale Cartrain</td><td>Grains/Cereals</td><td>Singaporean Hokkien Fried Mee</td><td>82</td></tr>",
                            "<tr><td>SUPRD</td><td>Pascale Cartrain</td><td>Meat/Poultry</td><td>Alice Mutton</td><td>40</td></tr>",
                            "<tr><td>SUPRD</td><td>Pascale Cartrain</td><td>Produce</td><td>Rössle Sauerkraut</td><td>58</td></tr>",
                            "<tr><td>SUPRD</td><td>Pascale Cartrain</td><td>Seafood</td><td>Escargots de Bourgogne</td><td>30</td></tr>",
                            "<tr><td>THEBI</td><td>Liz Nixon</td><td>Beverages</td><td>Côte de Blaye</td><td>10</td></tr>",
                            "<tr><td>THEBI</td><td>Liz Nixon</td><td>Condiments</td><td>Chef Anton&#39;s Gumbo Mix</td><td>4</td></tr>",
                            "<tr><td>THEBI</td><td>Liz Nixon</td><td>Confections</td><td>Pavlova</td><td>10</td></tr>",
                            "<tr><td>THEBI</td><td>Liz Nixon</td><td>Dairy Products</td><td>Mozzarella di Giovanni</td><td>2</td></tr>",
                            "<tr><td>THEBI</td><td>Liz Nixon</td><td>Seafood</td><td>Inlagd Sill</td><td>5</td></tr>",
                            "<tr><td>THECR</td><td>Liu Wong</td><td>Beverages</td><td>Chai</td><td>4</td></tr>",
                            "<tr><td>THECR</td><td>Liu Wong</td><td>Condiments</td><td>Gula Malacca</td><td>10</td></tr>",
                            "<tr><td>THECR</td><td>Liu Wong</td><td>Grains/Cereals</td><td>Filo Mix</td><td>10</td></tr>",
                            "<tr><td>THECR</td><td>Liu Wong</td><td>Meat/Poultry</td><td>Thüringer Rostbratwurst</td><td>6</td></tr>",
                            "<tr><td>THECR</td><td>Liu Wong</td><td>Produce</td><td>Rössle Sauerkraut</td><td>10</td></tr>",
                            "<tr><td>THECR</td><td>Liu Wong</td><td>Seafood</td><td>Boston Crab Meat</td><td>10</td></tr>",
                            "<tr><td>TOMSP</td><td>Karin Josephs</td><td>Beverages</td><td>Sasquatch Ale</td><td>30</td></tr>",
                            "<tr><td>TOMSP</td><td>Karin Josephs</td><td>Confections</td><td>Maxilaku</td><td>40</td></tr>",
                            "<tr><td>TOMSP</td><td>Karin Josephs</td><td>Dairy Products</td><td>Gorgonzola Telino</td><td>3</td></tr>",
                            "<tr><td>TOMSP</td><td>Karin Josephs</td><td>Grains/Cereals</td><td>Gnocchi di nonna Alice</td><td>28</td></tr>",
                            "<tr><td>TOMSP</td><td>Karin Josephs</td><td>Produce</td><td>Manjimup Dried Apples</td><td>40</td></tr>",
                            "<tr><td>TOMSP</td><td>Karin Josephs</td><td>Seafood</td><td>Jack&#39;s New England Clam Chowder</td><td>14</td></tr>",
                            "<tr><td>TORTU</td><td>Miguel Angel Paolino</td><td>Beverages</td><td>Lakkalikööri</td><td>30</td></tr>",
                            "<tr><td>TORTU</td><td>Miguel Angel Paolino</td><td>Condiments</td><td>Gula Malacca</td><td>51</td></tr>",
                            "<tr><td>TORTU</td><td>Miguel Angel Paolino</td><td>Confections</td><td>Maxilaku</td><td>30</td></tr>",
                            "<tr><td>TORTU</td><td>Miguel Angel Paolino</td><td>Dairy Products</td><td>Geitost</td><td>30</td></tr>",
                            "<tr><td>TORTU</td><td>Miguel Angel Paolino</td><td>Meat/Poultry</td><td>Alice Mutton</td><td>18</td></tr>",
                            "<tr><td>TORTU</td><td>Miguel Angel Paolino</td><td>Produce</td><td>Rössle Sauerkraut</td><td>14</td></tr>",
                            "<tr><td>TORTU</td><td>Miguel Angel Paolino</td><td>Seafood</td><td>Ikura</td><td>17</td></tr>",
                            "<tr><td>TRADH</td><td>Anabela Domingues</td><td>Beverages</td><td>Chartreuse verte</td><td>28</td></tr>",
                            "<tr><td>TRADH</td><td>Anabela Domingues</td><td>Condiments</td><td>Chef Anton&#39;s Cajun Seasoning</td><td>20</td></tr>",
                            "<tr><td>TRADH</td><td>Anabela Domingues</td><td>Confections</td><td>Scottish Longbreads</td><td>24</td></tr>",
                            "<tr><td>TRADH</td><td>Anabela Domingues</td><td>Dairy Products</td><td>Camembert Pierrot</td><td>30</td></tr>",
                            "<tr><td>TRADH</td><td>Anabela Domingues</td><td>Meat/Poultry</td><td>Pâté chinois</td><td>20</td></tr>",
                            "<tr><td>TRADH</td><td>Anabela Domingues</td><td>Seafood</td><td>Escargots de Bourgogne</td><td>30</td></tr>",
                            "<tr><td>TRAIH</td><td>Helvetius Nagy</td><td>Beverages</td><td>Rhönbräu Klosterbier</td><td>20</td></tr>",
                            "<tr><td>TRAIH</td><td>Helvetius Nagy</td><td>Condiments</td><td>Original Frankfurter grüne Soße</td><td>18</td></tr>",
                            "<tr><td>TRAIH</td><td>Helvetius Nagy</td><td>Confections</td><td>Tarte au sucre</td><td>13</td></tr>",
                            "<tr><td>TRAIH</td><td>Helvetius Nagy</td><td>Dairy Products</td><td>Geitost</td><td>14</td></tr>",
                            "<tr><td>TRAIH</td><td>Helvetius Nagy</td><td>Grains/Cereals</td><td>Wimmers gute Semmelknödel</td><td>6</td></tr>",
                            "<tr><td>TRAIH</td><td>Helvetius Nagy</td><td>Seafood</td><td>Boston Crab Meat</td><td>2</td></tr>",
                            "<tr><td>VAFFE</td><td>Palle Ibsen</td><td>Beverages</td><td>Sasquatch Ale</td><td>50</td></tr>",
                            "<tr><td>VAFFE</td><td>Palle Ibsen</td><td>Condiments</td><td>Original Frankfurter grüne Soße</td><td>66</td></tr>",
                            "<tr><td>VAFFE</td><td>Palle Ibsen</td><td>Confections</td><td>Scottish Longbreads</td><td>60</td></tr>",
                            "<tr><td>VAFFE</td><td>Palle Ibsen</td><td>Dairy Products</td><td>Flotemysost</td><td>30</td></tr>",
                            "<tr><td>VAFFE</td><td>Palle Ibsen</td><td>Grains/Cereals</td><td>Filo Mix</td><td>15</td></tr>",
                            "<tr><td>VAFFE</td><td>Palle Ibsen</td><td>Meat/Poultry</td><td>Tourtière</td><td>68</td></tr>",
                            "<tr><td>VAFFE</td><td>Palle Ibsen</td><td>Produce</td><td>Rössle Sauerkraut</td><td>60</td></tr>",
                            "<tr><td>VAFFE</td><td>Palle Ibsen</td><td>Seafood</td><td>Boston Crab Meat</td><td>70</td></tr>",
                            "<tr><td>VICTE</td><td>Mary Saveley</td><td>Beverages</td><td>Steeleye Stout</td><td>30</td></tr>",
                            "<tr><td>VICTE</td><td>Mary Saveley</td><td>Condiments</td><td>Sirop d&#39;érable</td><td>30</td></tr>",
                            "<tr><td>VICTE</td><td>Mary Saveley</td><td>Confections</td><td>Tarte au sucre</td><td>40</td></tr>",
                            "<tr><td>VICTE</td><td>Mary Saveley</td><td>Dairy Products</td><td>Mozzarella di Giovanni</td><td>40</td></tr>",
                            "<tr><td>VICTE</td><td>Mary Saveley</td><td>Grains/Cereals</td><td>Ravioli Angelo</td><td>15</td></tr>",
                            "<tr><td>VICTE</td><td>Mary Saveley</td><td>Meat/Poultry</td><td>Tourtière</td><td>6</td></tr>",
                            "<tr><td>VICTE</td><td>Mary Saveley</td><td>Produce</td><td>Uncle Bob&#39;s Organic Dried Pears</td><td>26</td></tr>",
                            "<tr><td>VICTE</td><td>Mary Saveley</td><td>Seafood</td><td>Ikura</td><td>40</td></tr>",
                            "<tr><td>VINET</td><td>Paul Henriot</td><td>Dairy Products</td><td>Flotemysost</td><td>20</td></tr>",
                            "<tr><td>VINET</td><td>Paul Henriot</td><td>Grains/Cereals</td><td>Filo Mix</td><td>18</td></tr>",
                            "<tr><td>VINET</td><td>Paul Henriot</td><td>Seafood</td><td>Jack&#39;s New England Clam Chowder</td><td>12</td></tr>",
                            "<tr><td>WANDK</td><td>Rita Müller</td><td>Beverages</td><td>Chang</td><td>30</td></tr>",
                            "<tr><td>WANDK</td><td>Rita Müller</td><td>Condiments</td><td>Sirop d&#39;érable</td><td>15</td></tr>",
                            "<tr><td>WANDK</td><td>Rita Müller</td><td>Confections</td><td>Sir Rodney&#39;s Scones</td><td>40</td></tr>",
                            "<tr><td>WANDK</td><td>Rita Müller</td><td>Dairy Products</td><td>Mascarpone Fabioli</td><td>65</td></tr>",
                            "<tr><td>WANDK</td><td>Rita Müller</td><td>Grains/Cereals</td><td>Tunnbröd</td><td>25</td></tr>",
                            "<tr><td>WANDK</td><td>Rita Müller</td><td>Meat/Poultry</td><td>Perth Pasties</td><td>20</td></tr>",
                            "<tr><td>WANDK</td><td>Rita Müller</td><td>Produce</td><td>Rössle Sauerkraut</td><td>4</td></tr>",
                            "<tr><td>WANDK</td><td>Rita Müller</td><td>Seafood</td><td>Boston Crab Meat</td><td>10</td></tr>",
                            "<tr><td>WARTH</td><td>Pirkko Koskitalo</td><td>Beverages</td><td>Ipoh Coffee</td><td>25</td></tr>",
                            "<tr><td>WARTH</td><td>Pirkko Koskitalo</td><td>Condiments</td><td>Chef Anton&#39;s Cajun Seasoning</td><td>25</td></tr>",
                            "<tr><td>WARTH</td><td>Pirkko Koskitalo</td><td>Confections</td><td>Teatime Chocolate Biscuits</td><td>20</td></tr>",
                            "<tr><td>WARTH</td><td>Pirkko Koskitalo</td><td>Dairy Products</td><td>Flotemysost</td><td>100</td></tr>",
                            "<tr><td>WARTH</td><td>Pirkko Koskitalo</td><td>Grains/Cereals</td><td>Gnocchi di nonna Alice</td><td>50</td></tr>",
                            "<tr><td>WARTH</td><td>Pirkko Koskitalo</td><td>Meat/Poultry</td><td>Perth Pasties</td><td>75</td></tr>",
                            "<tr><td>WARTH</td><td>Pirkko Koskitalo</td><td>Produce</td><td>Tofu</td><td>35</td></tr>",
                            "<tr><td>WARTH</td><td>Pirkko Koskitalo</td><td>Seafood</td><td>Rogede sild</td><td>40</td></tr>",
                            "<tr><td>WELLI</td><td>Paula Parente</td><td>Beverages</td><td>Chai</td><td>41</td></tr>",
                            "<tr><td>WELLI</td><td>Paula Parente</td><td>Condiments</td><td>Original Frankfurter grüne Soße</td><td>12</td></tr>",
                            "<tr><td>WELLI</td><td>Paula Parente</td><td>Confections</td><td>Teatime Chocolate Biscuits</td><td>24</td></tr>",
                            "<tr><td>WELLI</td><td>Paula Parente</td><td>Dairy Products</td><td>Raclette Courdavault</td><td>15</td></tr>",
                            "<tr><td>WELLI</td><td>Paula Parente</td><td>Grains/Cereals</td><td>Filo Mix</td><td>20</td></tr>",
                            "<tr><td>WELLI</td><td>Paula Parente</td><td>Meat/Poultry</td><td>Mishi Kobe Niku</td><td>20</td></tr>",
                            "<tr><td>WELLI</td><td>Paula Parente</td><td>Seafood</td><td>Spegesild</td><td>21</td></tr>",
                            "<tr><td>WHITC</td><td>Karl Jablonski</td><td>Beverages</td><td>Sasquatch Ale</td><td>70</td></tr>",
                            "<tr><td>WHITC</td><td>Karl Jablonski</td><td>Condiments</td><td>Northwoods Cranberry Sauce</td><td>70</td></tr>",
                            "<tr><td>WHITC</td><td>Karl Jablonski</td><td>Confections</td><td>Sir Rodney&#39;s Scones</td><td>52</td></tr>",
                            "<tr><td>WHITC</td><td>Karl Jablonski</td><td>Dairy Products</td><td>Geitost</td><td>95</td></tr>",
                            "<tr><td>WHITC</td><td>Karl Jablonski</td><td>Grains/Cereals</td><td>Gnocchi di nonna Alice</td><td>19</td></tr>",
                            "<tr><td>WHITC</td><td>Karl Jablonski</td><td>Meat/Poultry</td><td>Alice Mutton</td><td>62</td></tr>",
                            "<tr><td>WHITC</td><td>Karl Jablonski</td><td>Produce</td><td>Rössle Sauerkraut</td><td>5</td></tr>",
                            "<tr><td>WHITC</td><td>Karl Jablonski</td><td>Seafood</td><td>Rogede sild</td><td>40</td></tr>",
                            "<tr><td>WILMK</td><td>Matti Karttunen</td><td>Beverages</td><td>Guaraná Fantástica</td><td>20</td></tr>",
                            "<tr><td>WILMK</td><td>Matti Karttunen</td><td>Condiments</td><td>Northwoods Cranberry Sauce</td><td>10</td></tr>",
                            "<tr><td>WILMK</td><td>Matti Karttunen</td><td>Confections</td><td>Sir Rodney&#39;s Scones</td><td>20</td></tr>",
                            "<tr><td>WILMK</td><td>Matti Karttunen</td><td>Dairy Products</td><td>Raclette Courdavault</td><td>10</td></tr>",
                            "<tr><td>WILMK</td><td>Matti Karttunen</td><td>Grains/Cereals</td><td>Singaporean Hokkien Fried Mee</td><td>6</td></tr>",
                            "<tr><td>WILMK</td><td>Matti Karttunen</td><td>Meat/Poultry</td><td>Pâté chinois</td><td>5</td></tr>",
                            "<tr><td>WILMK</td><td>Matti Karttunen</td><td>Produce</td><td>Rössle Sauerkraut</td><td>3</td></tr>",
                            "<tr><td>WILMK</td><td>Matti Karttunen</td><td>Seafood</td><td>Boston Crab Meat</td><td>12</td></tr>",
                            "<tr><td>WOLZA</td><td>Zbyszek Piestrzeniewicz</td><td>Beverages</td><td>Rhönbräu Klosterbier</td><td>30</td></tr>",
                            "<tr><td>WOLZA</td><td>Zbyszek Piestrzeniewicz</td><td>Condiments</td><td>Sirop d&#39;érable</td><td>22</td></tr>",
                            "<tr><td>WOLZA</td><td>Zbyszek Piestrzeniewicz</td><td>Confections</td><td>Scottish Longbreads</td><td>15</td></tr>",
                            "<tr><td>WOLZA</td><td>Zbyszek Piestrzeniewicz</td><td>Dairy Products</td><td>Gorgonzola Telino</td><td>30</td></tr>",
                            "<tr><td>WOLZA</td><td>Zbyszek Piestrzeniewicz</td><td>Meat/Poultry</td><td>Tourtière</td><td>3</td></tr>",
                            "<tr><td>WOLZA</td><td>Zbyszek Piestrzeniewicz</td><td>Produce</td><td>Longlife Tofu</td><td>20</td></tr>",
                            "<tr><td>WOLZA</td><td>Zbyszek Piestrzeniewicz</td><td>Seafood</td><td>Escargots de Bourgogne</td><td>15</td></tr>",
                            "</table>"
                        ]
                    }
                }
            ],
            "execution_count": 11
        },
        {
            "cell_type": "markdown",
            "source": [
                "**<span lang=\"RU\" style=\"font-size: 12pt; font-family: Arial, sans-serif; color: rgb(31, 73, 125);\">Рейтинг 4</span>**"
            ],
            "metadata": {
                "azdata_cell_guid": "dac5c343-0f83-4596-8dba-df55fb1689ee"
            },
            "attachments": {}
        },
        {
            "cell_type": "markdown",
            "source": [
                "1. _<span lang=\"RU\" style=\"font-size: 12pt; font-family: Arial, sans-serif;\">Найти покупателей (имя, фамилия), у которых не было промежутков между заказами, превышающих полгода.</span>_"
            ],
            "metadata": {
                "azdata_cell_guid": "9d387709-8fd9-4eee-8cd8-77b2e62bd053"
            },
            "attachments": {}
        },
        {
            "cell_type": "code",
            "source": [
                "WITH CustomerOrders AS (\n",
                "    SELECT \n",
                "        c.CustomerID,\n",
                "        c.ContactName,\n",
                "        o.OrderDate,\n",
                "        LEAD(o.OrderDate, 1) OVER (PARTITION BY c.CustomerID ORDER BY o.OrderDate) AS NextOrderDate\n",
                "    FROM Customers c\n",
                "    JOIN Orders o ON c.CustomerID = o.CustomerID\n",
                "),\n",
                "CustomerGaps AS (\n",
                "    SELECT \n",
                "        CustomerID,\n",
                "        ContactName,\n",
                "        OrderDate,\n",
                "        NextOrderDate,\n",
                "        DATEDIFF(day, OrderDate, NextOrderDate) AS Gap\n",
                "    FROM CustomerOrders\n",
                ")\n",
                "SELECT DISTINCT \n",
                "    CustomerID,\n",
                "    ContactName\n",
                "FROM CustomerGaps\n",
                "WHERE Gap IS NOT NULL AND Gap <= 183\n",
                "AND CustomerID NOT IN (\n",
                "    SELECT CustomerID\n",
                "    FROM CustomerGaps\n",
                "    WHERE Gap > 183\n",
                ")\n",
                "ORDER BY ContactName;\n",
                ""
            ],
            "metadata": {
                "azdata_cell_guid": "a4dd1376-a8f7-4d22-9b68-436df8f9ee83",
                "language": "sql"
            },
            "outputs": [
                {
                    "output_type": "display_data",
                    "data": {
                        "text/html": "(48 rows affected)"
                    },
                    "metadata": {}
                },
                {
                    "output_type": "display_data",
                    "data": {
                        "text/html": "Total execution time: 00:00:00.082"
                    },
                    "metadata": {}
                },
                {
                    "output_type": "execute_result",
                    "metadata": {},
                    "execution_count": 12,
                    "data": {
                        "application/vnd.dataresource+json": {
                            "schema": {
                                "fields": [
                                    {
                                        "name": "CustomerID"
                                    },
                                    {
                                        "name": "ContactName"
                                    }
                                ]
                            },
                            "data": [
                                {
                                    "CustomerID": "EASTC",
                                    "ContactName": "Ann Devon"
                                },
                                {
                                    "CustomerID": "LAMAI",
                                    "ContactName": "Annette Roulet"
                                },
                                {
                                    "CustomerID": "ANTON",
                                    "ContactName": "Antonio Moreno"
                                },
                                {
                                    "CustomerID": "FAMIA",
                                    "ContactName": "Aria Cruz"
                                },
                                {
                                    "CustomerID": "QUEDE",
                                    "ContactName": "Bernardo Batista"
                                },
                                {
                                    "CustomerID": "FRANR",
                                    "ContactName": "Carine Schmitt"
                                },
                                {
                                    "CustomerID": "HILAA",
                                    "ContactName": "Carlos Hernández"
                                },
                                {
                                    "CustomerID": "MAISD",
                                    "ContactName": "Catherine Dewey"
                                },
                                {
                                    "CustomerID": "BERGS",
                                    "ContactName": "Christina Berglund"
                                },
                                {
                                    "CustomerID": "LACOR",
                                    "ContactName": "Daniel Tonini"
                                },
                                {
                                    "CustomerID": "SPECD",
                                    "ContactName": "Dominique Perrier"
                                },
                                {
                                    "CustomerID": "LINOD",
                                    "ContactName": "Felipe Izquierdo"
                                },
                                {
                                    "CustomerID": "BLONP",
                                    "ContactName": "Frédérique Citeaux"
                                },
                                {
                                    "CustomerID": "PICCO",
                                    "ContactName": "Georg Pipps"
                                },
                                {
                                    "CustomerID": "MAGAA",
                                    "ContactName": "Giovanni Rovelli"
                                },
                                {
                                    "CustomerID": "BLAUS",
                                    "ContactName": "Hanna Moos"
                                },
                                {
                                    "CustomerID": "ISLAT",
                                    "ContactName": "Helen Bennett"
                                },
                                {
                                    "CustomerID": "OTTIK",
                                    "ContactName": "Henriette Pfalzheim"
                                },
                                {
                                    "CustomerID": "QUICK",
                                    "ContactName": "Horst Kloss"
                                },
                                {
                                    "CustomerID": "GREAL",
                                    "ContactName": "Howard Snyder"
                                },
                                {
                                    "CustomerID": "LETSS",
                                    "ContactName": "Jaime Yorres"
                                },
                                {
                                    "CustomerID": "RICAR",
                                    "ContactName": "Janete Limeira"
                                },
                                {
                                    "CustomerID": "MEREP",
                                    "ContactName": "Jean Fresnière"
                                },
                                {
                                    "CustomerID": "LAZYK",
                                    "ContactName": "John Steel"
                                },
                                {
                                    "CustomerID": "SANTG",
                                    "ContactName": "Jonas Bergulfsen"
                                },
                                {
                                    "CustomerID": "SAVEA",
                                    "ContactName": "Jose Pavarotti"
                                },
                                {
                                    "CustomerID": "SIMOB",
                                    "ContactName": "Jytte Petersen"
                                },
                                {
                                    "CustomerID": "WHITC",
                                    "ContactName": "Karl Jablonski"
                                },
                                {
                                    "CustomerID": "BONAP",
                                    "ContactName": "Laurence Lebihan"
                                },
                                {
                                    "CustomerID": "THECR",
                                    "ContactName": "Liu Wong"
                                },
                                {
                                    "CustomerID": "QUEEN",
                                    "ContactName": "Lúcia Carvalho"
                                },
                                {
                                    "CustomerID": "ALFKI",
                                    "ContactName": "Maria Anders"
                                },
                                {
                                    "CustomerID": "FOLKO",
                                    "ContactName": "Maria Larsson"
                                },
                                {
                                    "CustomerID": "FOLIG",
                                    "ContactName": "Martine Rancé"
                                },
                                {
                                    "CustomerID": "WILMK",
                                    "ContactName": "Matti Karttunen"
                                },
                                {
                                    "CustomerID": "REGGC",
                                    "ContactName": "Maurizio Moroni"
                                },
                                {
                                    "CustomerID": "VAFFE",
                                    "ContactName": "Palle Ibsen"
                                },
                                {
                                    "CustomerID": "HUNGO",
                                    "ContactName": "Patricia McKenna"
                                },
                                {
                                    "CustomerID": "RATTC",
                                    "ContactName": "Paula Wilson"
                                },
                                {
                                    "CustomerID": "FRANK",
                                    "ContactName": "Peter Franken"
                                },
                                {
                                    "CustomerID": "KOENE",
                                    "ContactName": "Philip Cramer"
                                },
                                {
                                    "CustomerID": "WARTH",
                                    "ContactName": "Pirkko Koskitalo"
                                },
                                {
                                    "CustomerID": "LEHMS",
                                    "ContactName": "Renate Messner"
                                },
                                {
                                    "CustomerID": "OLDWO",
                                    "ContactName": "Rene Phillips"
                                },
                                {
                                    "CustomerID": "ERNSH",
                                    "ContactName": "Roland Mendel"
                                },
                                {
                                    "CustomerID": "AROUT",
                                    "ContactName": "Thomas Hardy"
                                },
                                {
                                    "CustomerID": "HUNGC",
                                    "ContactName": "Yoshi Latimer"
                                },
                                {
                                    "CustomerID": "LAUGB",
                                    "ContactName": "Yoshi Tannamuri"
                                }
                            ]
                        },
                        "text/html": [
                            "<table>",
                            "<tr><th>CustomerID</th><th>ContactName</th></tr>",
                            "<tr><td>EASTC</td><td>Ann Devon</td></tr>",
                            "<tr><td>LAMAI</td><td>Annette Roulet</td></tr>",
                            "<tr><td>ANTON</td><td>Antonio Moreno</td></tr>",
                            "<tr><td>FAMIA</td><td>Aria Cruz</td></tr>",
                            "<tr><td>QUEDE</td><td>Bernardo Batista</td></tr>",
                            "<tr><td>FRANR</td><td>Carine Schmitt</td></tr>",
                            "<tr><td>HILAA</td><td>Carlos Hernández</td></tr>",
                            "<tr><td>MAISD</td><td>Catherine Dewey</td></tr>",
                            "<tr><td>BERGS</td><td>Christina Berglund</td></tr>",
                            "<tr><td>LACOR</td><td>Daniel Tonini</td></tr>",
                            "<tr><td>SPECD</td><td>Dominique Perrier</td></tr>",
                            "<tr><td>LINOD</td><td>Felipe Izquierdo</td></tr>",
                            "<tr><td>BLONP</td><td>Frédérique Citeaux</td></tr>",
                            "<tr><td>PICCO</td><td>Georg Pipps</td></tr>",
                            "<tr><td>MAGAA</td><td>Giovanni Rovelli</td></tr>",
                            "<tr><td>BLAUS</td><td>Hanna Moos</td></tr>",
                            "<tr><td>ISLAT</td><td>Helen Bennett</td></tr>",
                            "<tr><td>OTTIK</td><td>Henriette Pfalzheim</td></tr>",
                            "<tr><td>QUICK</td><td>Horst Kloss</td></tr>",
                            "<tr><td>GREAL</td><td>Howard Snyder</td></tr>",
                            "<tr><td>LETSS</td><td>Jaime Yorres</td></tr>",
                            "<tr><td>RICAR</td><td>Janete Limeira</td></tr>",
                            "<tr><td>MEREP</td><td>Jean Fresnière</td></tr>",
                            "<tr><td>LAZYK</td><td>John Steel</td></tr>",
                            "<tr><td>SANTG</td><td>Jonas Bergulfsen</td></tr>",
                            "<tr><td>SAVEA</td><td>Jose Pavarotti</td></tr>",
                            "<tr><td>SIMOB</td><td>Jytte Petersen</td></tr>",
                            "<tr><td>WHITC</td><td>Karl Jablonski</td></tr>",
                            "<tr><td>BONAP</td><td>Laurence Lebihan</td></tr>",
                            "<tr><td>THECR</td><td>Liu Wong</td></tr>",
                            "<tr><td>QUEEN</td><td>Lúcia Carvalho</td></tr>",
                            "<tr><td>ALFKI</td><td>Maria Anders</td></tr>",
                            "<tr><td>FOLKO</td><td>Maria Larsson</td></tr>",
                            "<tr><td>FOLIG</td><td>Martine Rancé</td></tr>",
                            "<tr><td>WILMK</td><td>Matti Karttunen</td></tr>",
                            "<tr><td>REGGC</td><td>Maurizio Moroni</td></tr>",
                            "<tr><td>VAFFE</td><td>Palle Ibsen</td></tr>",
                            "<tr><td>HUNGO</td><td>Patricia McKenna</td></tr>",
                            "<tr><td>RATTC</td><td>Paula Wilson</td></tr>",
                            "<tr><td>FRANK</td><td>Peter Franken</td></tr>",
                            "<tr><td>KOENE</td><td>Philip Cramer</td></tr>",
                            "<tr><td>WARTH</td><td>Pirkko Koskitalo</td></tr>",
                            "<tr><td>LEHMS</td><td>Renate Messner</td></tr>",
                            "<tr><td>OLDWO</td><td>Rene Phillips</td></tr>",
                            "<tr><td>ERNSH</td><td>Roland Mendel</td></tr>",
                            "<tr><td>AROUT</td><td>Thomas Hardy</td></tr>",
                            "<tr><td>HUNGC</td><td>Yoshi Latimer</td></tr>",
                            "<tr><td>LAUGB</td><td>Yoshi Tannamuri</td></tr>",
                            "</table>"
                        ]
                    }
                }
            ],
            "execution_count": 12
        },
        {
            "cell_type": "markdown",
            "source": [
                "_<span lang=\"RU\" style=\"font-size: 12pt; line-height: 17.12px; font-family: Arial, sans-serif; color: rgb(31, 73, 125);\">Для каждого покупателя (имя, фамилия) найти два товара (название), на которые покупатель потратил больше всего денег в 1997-м году.&nbsp;</span>_"
            ],
            "metadata": {
                "azdata_cell_guid": "400d1941-b305-4a18-8fe9-22c1f49674cd"
            },
            "attachments": {}
        },
        {
            "cell_type": "markdown",
            "source": [
                "<span lang=\"RU\" style=\"font-size: 12pt; line-height: 17.12px; font-family: Arial, sans-serif; color: rgb(31, 73, 125);\">Используя APPLY</span>"
            ],
            "metadata": {
                "azdata_cell_guid": "8cc8778d-6967-4586-a570-e3290eec4108"
            },
            "attachments": {}
        },
        {
            "cell_type": "code",
            "source": [
                "SELECT \n",
                "    c.ContactName,\n",
                "    p1.ProductName AS TopProduct1,\n",
                "    p1.TotalSpent AS TopSpent1,\n",
                "    p2.ProductName AS TopProduct2,\n",
                "    p2.TotalSpent AS TopSpent2\n",
                "FROM Customers c\n",
                "CROSS APPLY (\n",
                "    SELECT TOP 2 \n",
                "        p.ProductName, \n",
                "        SUM(od.UnitPrice * od.Quantity) AS TotalSpent\n",
                "    FROM Orders o\n",
                "    JOIN [Order Details] od ON o.OrderID = od.OrderID\n",
                "    JOIN Products p ON od.ProductID = p.ProductID\n",
                "    WHERE o.CustomerID = c.CustomerID AND YEAR(o.OrderDate) = 1997\n",
                "    GROUP BY p.ProductName\n",
                "    ORDER BY TotalSpent DESC\n",
                ") p1\n",
                "OUTER APPLY (\n",
                "    SELECT TOP 1\n",
                "        p.ProductName, \n",
                "        SUM(od.UnitPrice * od.Quantity) AS TotalSpent\n",
                "    FROM Orders o\n",
                "    JOIN [Order Details] od ON o.OrderID = od.OrderID\n",
                "    JOIN Products p ON od.ProductID = p.ProductID\n",
                "    WHERE o.CustomerID = c.CustomerID AND YEAR(o.OrderDate) = 1997 AND p.ProductName != p1.ProductName\n",
                "    GROUP BY p.ProductName\n",
                "    ORDER BY TotalSpent DESC\n",
                ") p2\n",
                "ORDER BY c.ContactName;\n",
                ""
            ],
            "metadata": {
                "azdata_cell_guid": "07133ee1-663d-478c-b8e6-b7a2e03891b5",
                "language": "sql"
            },
            "outputs": [
                {
                    "output_type": "display_data",
                    "data": {
                        "text/html": "(170 rows affected)"
                    },
                    "metadata": {}
                },
                {
                    "output_type": "display_data",
                    "data": {
                        "text/html": "Total execution time: 00:00:00.098"
                    },
                    "metadata": {}
                },
                {
                    "output_type": "execute_result",
                    "metadata": {},
                    "execution_count": 13,
                    "data": {
                        "application/vnd.dataresource+json": {
                            "schema": {
                                "fields": [
                                    {
                                        "name": "ContactName"
                                    },
                                    {
                                        "name": "TopProduct1"
                                    },
                                    {
                                        "name": "TopSpent1"
                                    },
                                    {
                                        "name": "TopProduct2"
                                    },
                                    {
                                        "name": "TopSpent2"
                                    }
                                ]
                            },
                            "data": [
                                {
                                    "ContactName": "Alexander Feuer",
                                    "TopProduct1": "Mozzarella di Giovanni",
                                    "TopSpent1": "1044,00",
                                    "TopProduct2": "Tarte au sucre",
                                    "TopSpent2": "986,00"
                                },
                                {
                                    "ContactName": "Alexander Feuer",
                                    "TopProduct1": "Tarte au sucre",
                                    "TopSpent1": "986,00",
                                    "TopProduct2": "Mozzarella di Giovanni",
                                    "TopSpent2": "1044,00"
                                },
                                {
                                    "ContactName": "Ana Trujillo",
                                    "TopProduct1": "Camembert Pierrot",
                                    "TopSpent1": "340,00",
                                    "TopProduct2": "Mascarpone Fabioli",
                                    "TopSpent2": "320,00"
                                },
                                {
                                    "ContactName": "Ana Trujillo",
                                    "TopProduct1": "Mascarpone Fabioli",
                                    "TopSpent1": "320,00",
                                    "TopProduct2": "Camembert Pierrot",
                                    "TopSpent2": "340,00"
                                },
                                {
                                    "ContactName": "Anabela Domingues",
                                    "TopProduct1": "Tarte au sucre",
                                    "TopSpent1": "493,00",
                                    "TopProduct2": "Pâté chinois",
                                    "TopSpent2": "480,00"
                                },
                                {
                                    "ContactName": "Anabela Domingues",
                                    "TopProduct1": "Pâté chinois",
                                    "TopSpent1": "480,00",
                                    "TopProduct2": "Tarte au sucre",
                                    "TopSpent2": "493,00"
                                },
                                {
                                    "ContactName": "André Fonseca",
                                    "TopProduct1": "Northwoods Cranberry Sauce",
                                    "TopSpent1": "1600,00",
                                    "TopProduct2": "Manjimup Dried Apples",
                                    "TopSpent2": "1484,00"
                                },
                                {
                                    "ContactName": "André Fonseca",
                                    "TopProduct1": "Manjimup Dried Apples",
                                    "TopSpent1": "1484,00",
                                    "TopProduct2": "Northwoods Cranberry Sauce",
                                    "TopSpent2": "1600,00"
                                },
                                {
                                    "ContactName": "Ann Devon",
                                    "TopProduct1": "Thüringer Rostbratwurst",
                                    "TopSpent1": "2079,00",
                                    "TopProduct2": "Chef Anton's Cajun Seasoning",
                                    "TopSpent2": "550,00"
                                },
                                {
                                    "ContactName": "Ann Devon",
                                    "TopProduct1": "Chef Anton's Cajun Seasoning",
                                    "TopSpent1": "550,00",
                                    "TopProduct2": "Thüringer Rostbratwurst",
                                    "TopSpent2": "2079,00"
                                },
                                {
                                    "ContactName": "Annette Roulet",
                                    "TopProduct1": "Thüringer Rostbratwurst",
                                    "TopSpent1": "2475,80",
                                    "TopProduct2": "Tarte au sucre",
                                    "TopSpent2": "1576,00"
                                },
                                {
                                    "ContactName": "Annette Roulet",
                                    "TopProduct1": "Tarte au sucre",
                                    "TopSpent1": "1576,00",
                                    "TopProduct2": "Thüringer Rostbratwurst",
                                    "TopSpent2": "2475,80"
                                },
                                {
                                    "ContactName": "Antonio Moreno",
                                    "TopProduct1": "Queso Cabrales",
                                    "TopSpent1": "1050,00",
                                    "TopProduct2": "Gumbär Gummibärchen",
                                    "TopSpent2": "936,90"
                                },
                                {
                                    "ContactName": "Antonio Moreno",
                                    "TopProduct1": "Gumbär Gummibärchen",
                                    "TopSpent1": "936,90",
                                    "TopProduct2": "Queso Cabrales",
                                    "TopSpent2": "1050,00"
                                },
                                {
                                    "ContactName": "Aria Cruz",
                                    "TopProduct1": "Perth Pasties",
                                    "TopSpent1": "820,00",
                                    "TopProduct2": "Nord-Ost Matjeshering",
                                    "TopSpent2": "776,70"
                                },
                                {
                                    "ContactName": "Aria Cruz",
                                    "TopProduct1": "Nord-Ost Matjeshering",
                                    "TopSpent1": "776,70",
                                    "TopProduct2": "Perth Pasties",
                                    "TopSpent2": "820,00"
                                },
                                {
                                    "ContactName": "Art Braunschweiger",
                                    "TopProduct1": "Carnarvon Tigers",
                                    "TopSpent1": "1312,50",
                                    "TopProduct2": "Gudbrandsdalsost",
                                    "TopSpent2": "720,00"
                                },
                                {
                                    "ContactName": "Art Braunschweiger",
                                    "TopProduct1": "Gudbrandsdalsost",
                                    "TopSpent1": "720,00",
                                    "TopProduct2": "Carnarvon Tigers",
                                    "TopSpent2": "1312,50"
                                },
                                {
                                    "ContactName": "Bernardo Batista",
                                    "TopProduct1": "Gumbär Gummibärchen",
                                    "TopSpent1": "934,38",
                                    "TopProduct2": "Steeleye Stout",
                                    "TopSpent2": "738,00"
                                },
                                {
                                    "ContactName": "Bernardo Batista",
                                    "TopProduct1": "Steeleye Stout",
                                    "TopSpent1": "738,00",
                                    "TopProduct2": "Gumbär Gummibärchen",
                                    "TopSpent2": "934,38"
                                },
                                {
                                    "ContactName": "Carine Schmitt",
                                    "TopProduct1": "Tarte au sucre",
                                    "TopSpent1": "493,00",
                                    "TopProduct2": "Louisiana Fiery Hot Pepper Sauce",
                                    "TopSpent2": "252,60"
                                },
                                {
                                    "ContactName": "Carine Schmitt",
                                    "TopProduct1": "Louisiana Fiery Hot Pepper Sauce",
                                    "TopSpent1": "252,60",
                                    "TopProduct2": "Tarte au sucre",
                                    "TopSpent2": "493,00"
                                },
                                {
                                    "ContactName": "Carlos González",
                                    "TopProduct1": "Pâté chinois",
                                    "TopSpent1": "1152,00",
                                    "TopProduct2": "Queso Manchego La Pastora",
                                    "TopSpent2": "1140,00"
                                },
                                {
                                    "ContactName": "Carlos González",
                                    "TopProduct1": "Queso Manchego La Pastora",
                                    "TopSpent1": "1140,00",
                                    "TopProduct2": "Pâté chinois",
                                    "TopSpent2": "1152,00"
                                },
                                {
                                    "ContactName": "Carlos Hernández",
                                    "TopProduct1": "Raclette Courdavault",
                                    "TopSpent1": "4565,00",
                                    "TopProduct2": "Gudbrandsdalsost",
                                    "TopSpent2": "1512,00"
                                },
                                {
                                    "ContactName": "Carlos Hernández",
                                    "TopProduct1": "Gudbrandsdalsost",
                                    "TopSpent1": "1512,00",
                                    "TopProduct2": "Raclette Courdavault",
                                    "TopSpent2": "4565,00"
                                },
                                {
                                    "ContactName": "Catherine Dewey",
                                    "TopProduct1": "Schoggi Schokolade",
                                    "TopSpent1": "1756,00",
                                    "TopProduct2": "Ipoh Coffee",
                                    "TopSpent2": "1380,00"
                                },
                                {
                                    "ContactName": "Catherine Dewey",
                                    "TopProduct1": "Ipoh Coffee",
                                    "TopSpent1": "1380,00",
                                    "TopProduct2": "Schoggi Schokolade",
                                    "TopSpent2": "1756,00"
                                },
                                {
                                    "ContactName": "Christina Berglund",
                                    "TopProduct1": "Côte de Blaye",
                                    "TopSpent1": "3952,50",
                                    "TopProduct2": "Ipoh Coffee",
                                    "TopSpent2": "2760,00"
                                },
                                {
                                    "ContactName": "Christina Berglund",
                                    "TopProduct1": "Ipoh Coffee",
                                    "TopSpent1": "2760,00",
                                    "TopProduct2": "Côte de Blaye",
                                    "TopSpent2": "3952,50"
                                },
                                {
                                    "ContactName": "Dominique Perrier",
                                    "TopProduct1": "Pavlova",
                                    "TopSpent1": "52,35",
                                    "TopProduct2": "NULL",
                                    "TopSpent2": "NULL"
                                },
                                {
                                    "ContactName": "Eduardo Saavedra",
                                    "TopProduct1": "Wimmers gute Semmelknödel",
                                    "TopSpent1": "186,20",
                                    "TopProduct2": "Ikura",
                                    "TopSpent2": "155,00"
                                },
                                {
                                    "ContactName": "Eduardo Saavedra",
                                    "TopProduct1": "Ikura",
                                    "TopSpent1": "155,00",
                                    "TopProduct2": "Wimmers gute Semmelknödel",
                                    "TopSpent2": "186,20"
                                },
                                {
                                    "ContactName": "Elizabeth Brown",
                                    "TopProduct1": "Mozzarella di Giovanni",
                                    "TopSpent1": "278,00",
                                    "TopProduct2": "Gustaf's Knäckebröd",
                                    "TopSpent2": "201,60"
                                },
                                {
                                    "ContactName": "Elizabeth Brown",
                                    "TopProduct1": "Gustaf's Knäckebröd",
                                    "TopSpent1": "201,60",
                                    "TopProduct2": "Mozzarella di Giovanni",
                                    "TopSpent2": "278,00"
                                },
                                {
                                    "ContactName": "Elizabeth Lincoln",
                                    "TopProduct1": "Camembert Pierrot",
                                    "TopSpent1": "1700,00",
                                    "TopProduct2": "Alice Mutton",
                                    "TopSpent2": "1560,00"
                                },
                                {
                                    "ContactName": "Elizabeth Lincoln",
                                    "TopProduct1": "Alice Mutton",
                                    "TopSpent1": "1560,00",
                                    "TopProduct2": "Camembert Pierrot",
                                    "TopSpent2": "1700,00"
                                },
                                {
                                    "ContactName": "Felipe Izquierdo",
                                    "TopProduct1": "Mozzarella di Giovanni",
                                    "TopSpent1": "2088,00",
                                    "TopProduct2": "Outback Lager",
                                    "TopSpent2": "1170,00"
                                },
                                {
                                    "ContactName": "Felipe Izquierdo",
                                    "TopProduct1": "Outback Lager",
                                    "TopSpent1": "1170,00",
                                    "TopProduct2": "Mozzarella di Giovanni",
                                    "TopSpent2": "2088,00"
                                },
                                {
                                    "ContactName": "Fran Wilson",
                                    "TopProduct1": "Manjimup Dried Apples",
                                    "TopSpent1": "1060,00",
                                    "TopProduct2": "Rössle Sauerkraut",
                                    "TopSpent2": "319,20"
                                },
                                {
                                    "ContactName": "Fran Wilson",
                                    "TopProduct1": "Rössle Sauerkraut",
                                    "TopSpent1": "319,20",
                                    "TopProduct2": "Manjimup Dried Apples",
                                    "TopSpent2": "1060,00"
                                },
                                {
                                    "ContactName": "Frédérique Citeaux",
                                    "TopProduct1": "Tarte au sucre",
                                    "TopSpent1": "1379,00",
                                    "TopProduct2": "Gnocchi di nonna Alice",
                                    "TopSpent2": "1216,00"
                                },
                                {
                                    "ContactName": "Frédérique Citeaux",
                                    "TopProduct1": "Gnocchi di nonna Alice",
                                    "TopSpent1": "1216,00",
                                    "TopProduct2": "Tarte au sucre",
                                    "TopSpent2": "1379,00"
                                },
                                {
                                    "ContactName": "Georg Pipps",
                                    "TopProduct1": "Alice Mutton",
                                    "TopSpent1": "2730,00",
                                    "TopProduct2": "Ipoh Coffee",
                                    "TopSpent2": "1150,00"
                                },
                                {
                                    "ContactName": "Georg Pipps",
                                    "TopProduct1": "Ipoh Coffee",
                                    "TopSpent1": "1150,00",
                                    "TopProduct2": "Alice Mutton",
                                    "TopSpent2": "2730,00"
                                },
                                {
                                    "ContactName": "Giovanni Rovelli",
                                    "TopProduct1": "Mozzarella di Giovanni",
                                    "TopSpent1": "1044,00",
                                    "TopProduct2": "Gustaf's Knäckebröd",
                                    "TopSpent2": "840,00"
                                },
                                {
                                    "ContactName": "Giovanni Rovelli",
                                    "TopProduct1": "Gustaf's Knäckebröd",
                                    "TopSpent1": "840,00",
                                    "TopProduct2": "Mozzarella di Giovanni",
                                    "TopSpent2": "1044,00"
                                },
                                {
                                    "ContactName": "Guillermo Fernández",
                                    "TopProduct1": "Rössle Sauerkraut",
                                    "TopSpent1": "655,20",
                                    "TopProduct2": "Laughing Lumberjack Lager",
                                    "TopSpent2": "420,00"
                                },
                                {
                                    "ContactName": "Guillermo Fernández",
                                    "TopProduct1": "Laughing Lumberjack Lager",
                                    "TopSpent1": "420,00",
                                    "TopProduct2": "Rössle Sauerkraut",
                                    "TopSpent2": "655,20"
                                },
                                {
                                    "ContactName": "Hanna Moos",
                                    "TopProduct1": "Queso Cabrales",
                                    "TopSpent1": "294,00",
                                    "TopProduct2": "Lakkalikööri",
                                    "TopSpent2": "252,00"
                                },
                                {
                                    "ContactName": "Hanna Moos",
                                    "TopProduct1": "Lakkalikööri",
                                    "TopSpent1": "252,00",
                                    "TopProduct2": "Queso Cabrales",
                                    "TopSpent2": "294,00"
                                },
                                {
                                    "ContactName": "Hari Kumar",
                                    "TopProduct1": "Manjimup Dried Apples",
                                    "TopSpent1": "1293,20",
                                    "TopProduct2": "Sir Rodney's Marmalade",
                                    "TopSpent2": "1215,00"
                                },
                                {
                                    "ContactName": "Hari Kumar",
                                    "TopProduct1": "Sir Rodney's Marmalade",
                                    "TopSpent1": "1215,00",
                                    "TopProduct2": "Manjimup Dried Apples",
                                    "TopSpent2": "1293,20"
                                },
                                {
                                    "ContactName": "Helen Bennett",
                                    "TopProduct1": "Gnocchi di nonna Alice",
                                    "TopSpent1": "570,00",
                                    "TopProduct2": "Flotemysost",
                                    "TopSpent2": "528,90"
                                },
                                {
                                    "ContactName": "Helen Bennett",
                                    "TopProduct1": "Flotemysost",
                                    "TopSpent1": "528,90",
                                    "TopProduct2": "Gnocchi di nonna Alice",
                                    "TopSpent2": "570,00"
                                },
                                {
                                    "ContactName": "Helvetius Nagy",
                                    "TopProduct1": "Tarte au sucre",
                                    "TopSpent1": "493,00",
                                    "TopProduct2": "Original Frankfurter grüne Soße",
                                    "TopSpent2": "234,00"
                                },
                                {
                                    "ContactName": "Helvetius Nagy",
                                    "TopProduct1": "Original Frankfurter grüne Soße",
                                    "TopSpent1": "234,00",
                                    "TopProduct2": "Tarte au sucre",
                                    "TopSpent2": "493,00"
                                },
                                {
                                    "ContactName": "Henriette Pfalzheim",
                                    "TopProduct1": "Uncle Bob's Organic Dried Pears",
                                    "TopSpent1": "1050,00",
                                    "TopProduct2": "Camembert Pierrot",
                                    "TopSpent2": "1020,00"
                                },
                                {
                                    "ContactName": "Henriette Pfalzheim",
                                    "TopProduct1": "Camembert Pierrot",
                                    "TopSpent1": "1020,00",
                                    "TopProduct2": "Uncle Bob's Organic Dried Pears",
                                    "TopSpent2": "1050,00"
                                },
                                {
                                    "ContactName": "Horst Kloss",
                                    "TopProduct1": "Côte de Blaye",
                                    "TopSpent1": "7905,00",
                                    "TopProduct2": "Schoggi Schokolade",
                                    "TopSpent2": "5268,00"
                                },
                                {
                                    "ContactName": "Horst Kloss",
                                    "TopProduct1": "Schoggi Schokolade",
                                    "TopSpent1": "5268,00",
                                    "TopProduct2": "Côte de Blaye",
                                    "TopSpent2": "7905,00"
                                },
                                {
                                    "ContactName": "Howard Snyder",
                                    "TopProduct1": "Côte de Blaye",
                                    "TopSpent1": "3952,50",
                                    "TopProduct2": "Raclette Courdavault",
                                    "TopSpent2": "1650,00"
                                },
                                {
                                    "ContactName": "Howard Snyder",
                                    "TopProduct1": "Raclette Courdavault",
                                    "TopSpent1": "1650,00",
                                    "TopProduct2": "Côte de Blaye",
                                    "TopSpent2": "3952,50"
                                },
                                {
                                    "ContactName": "Isabel de Castro",
                                    "TopProduct1": "Gnocchi di nonna Alice",
                                    "TopSpent1": "851,20",
                                    "TopProduct2": "Chartreuse verte",
                                    "TopSpent2": "288,00"
                                },
                                {
                                    "ContactName": "Isabel de Castro",
                                    "TopProduct1": "Chartreuse verte",
                                    "TopSpent1": "288,00",
                                    "TopProduct2": "Gnocchi di nonna Alice",
                                    "TopSpent2": "851,20"
                                },
                                {
                                    "ContactName": "Jaime Yorres",
                                    "TopProduct1": "Carnarvon Tigers",
                                    "TopSpent1": "750,00",
                                    "TopProduct2": "Sirop d'érable",
                                    "TopSpent2": "570,00"
                                },
                                {
                                    "ContactName": "Jaime Yorres",
                                    "TopProduct1": "Sirop d'érable",
                                    "TopSpent1": "570,00",
                                    "TopProduct2": "Carnarvon Tigers",
                                    "TopSpent2": "750,00"
                                },
                                {
                                    "ContactName": "Janete Limeira",
                                    "TopProduct1": "Camembert Pierrot",
                                    "TopSpent1": "1088,00",
                                    "TopProduct2": "Louisiana Fiery Hot Pepper Sauce",
                                    "TopSpent2": "588,00"
                                },
                                {
                                    "ContactName": "Janete Limeira",
                                    "TopProduct1": "Louisiana Fiery Hot Pepper Sauce",
                                    "TopSpent1": "588,00",
                                    "TopProduct2": "Camembert Pierrot",
                                    "TopSpent2": "1088,00"
                                },
                                {
                                    "ContactName": "Janine Labrune",
                                    "TopProduct1": "Ikura",
                                    "TopSpent1": "310,00",
                                    "TopProduct2": "Filo Mix",
                                    "TopSpent2": "63,00"
                                },
                                {
                                    "ContactName": "Janine Labrune",
                                    "TopProduct1": "Filo Mix",
                                    "TopSpent1": "63,00",
                                    "TopProduct2": "Ikura",
                                    "TopSpent2": "310,00"
                                },
                                {
                                    "ContactName": "Jean Fresnière",
                                    "TopProduct1": "Côte de Blaye",
                                    "TopSpent1": "10329,20",
                                    "TopProduct2": "Gnocchi di nonna Alice",
                                    "TopSpent2": "3040,00"
                                },
                                {
                                    "ContactName": "Jean Fresnière",
                                    "TopProduct1": "Gnocchi di nonna Alice",
                                    "TopSpent1": "3040,00",
                                    "TopProduct2": "Côte de Blaye",
                                    "TopSpent2": "10329,20"
                                },
                                {
                                    "ContactName": "John Steel",
                                    "TopProduct1": "Queso Cabrales",
                                    "TopSpent1": "210,00",
                                    "TopProduct2": "Boston Crab Meat",
                                    "TopSpent2": "147,00"
                                },
                                {
                                    "ContactName": "John Steel",
                                    "TopProduct1": "Boston Crab Meat",
                                    "TopSpent1": "147,00",
                                    "TopProduct2": "Queso Cabrales",
                                    "TopSpent2": "210,00"
                                },
                                {
                                    "ContactName": "Jonas Bergulfsen",
                                    "TopProduct1": "Carnarvon Tigers",
                                    "TopSpent1": "500,00",
                                    "TopProduct2": "Perth Pasties",
                                    "TopSpent2": "164,00"
                                },
                                {
                                    "ContactName": "Jonas Bergulfsen",
                                    "TopProduct1": "Perth Pasties",
                                    "TopSpent1": "164,00",
                                    "TopProduct2": "Carnarvon Tigers",
                                    "TopSpent2": "500,00"
                                },
                                {
                                    "ContactName": "Jose Pavarotti",
                                    "TopProduct1": "Thüringer Rostbratwurst",
                                    "TopSpent1": "6832,44",
                                    "TopProduct2": "Gnocchi di nonna Alice",
                                    "TopSpent2": "4978,00"
                                },
                                {
                                    "ContactName": "Jose Pavarotti",
                                    "TopProduct1": "Gnocchi di nonna Alice",
                                    "TopSpent1": "4978,00",
                                    "TopProduct2": "Thüringer Rostbratwurst",
                                    "TopSpent2": "6832,44"
                                },
                                {
                                    "ContactName": "José Pedro Freyre",
                                    "TopProduct1": "Thüringer Rostbratwurst",
                                    "TopSpent1": "2475,80",
                                    "TopProduct2": "Alice Mutton",
                                    "TopSpent2": "312,00"
                                },
                                {
                                    "ContactName": "José Pedro Freyre",
                                    "TopProduct1": "Alice Mutton",
                                    "TopSpent1": "312,00",
                                    "TopProduct2": "Thüringer Rostbratwurst",
                                    "TopSpent2": "2475,80"
                                },
                                {
                                    "ContactName": "Jytte Petersen",
                                    "TopProduct1": "Côte de Blaye",
                                    "TopSpent1": "10540,00",
                                    "TopProduct2": "Manjimup Dried Apples",
                                    "TopSpent2": "1590,00"
                                },
                                {
                                    "ContactName": "Jytte Petersen",
                                    "TopProduct1": "Manjimup Dried Apples",
                                    "TopSpent1": "1590,00",
                                    "TopProduct2": "Côte de Blaye",
                                    "TopSpent2": "10540,00"
                                },
                                {
                                    "ContactName": "Karin Josephs",
                                    "TopProduct1": "Gnocchi di nonna Alice",
                                    "TopSpent1": "1064,00",
                                    "TopProduct2": "Sasquatch Ale",
                                    "TopSpent2": "364,00"
                                },
                                {
                                    "ContactName": "Karin Josephs",
                                    "TopProduct1": "Sasquatch Ale",
                                    "TopSpent1": "364,00",
                                    "TopProduct2": "Gnocchi di nonna Alice",
                                    "TopSpent2": "1064,00"
                                },
                                {
                                    "ContactName": "Karl Jablonski",
                                    "TopProduct1": "Gudbrandsdalsost",
                                    "TopSpent1": "1080,00",
                                    "TopProduct2": "Vegie-spread",
                                    "TopSpent2": "1053,60"
                                },
                                {
                                    "ContactName": "Karl Jablonski",
                                    "TopProduct1": "Vegie-spread",
                                    "TopSpent1": "1053,60",
                                    "TopProduct2": "Gudbrandsdalsost",
                                    "TopSpent2": "1080,00"
                                },
                                {
                                    "ContactName": "Laurence Lebihan",
                                    "TopProduct1": "Carnarvon Tigers",
                                    "TopSpent1": "1500,00",
                                    "TopProduct2": "Uncle Bob's Organic Dried Pears",
                                    "TopSpent2": "1500,00"
                                },
                                {
                                    "ContactName": "Laurence Lebihan",
                                    "TopProduct1": "Uncle Bob's Organic Dried Pears",
                                    "TopSpent1": "1500,00",
                                    "TopProduct2": "Carnarvon Tigers",
                                    "TopSpent2": "1500,00"
                                },
                                {
                                    "ContactName": "Lino Rodriguez",
                                    "TopProduct1": "Gnocchi di nonna Alice",
                                    "TopSpent1": "1368,00",
                                    "TopProduct2": "Gula Malacca",
                                    "TopSpent2": "1010,50"
                                },
                                {
                                    "ContactName": "Lino Rodriguez",
                                    "TopProduct1": "Gula Malacca",
                                    "TopSpent1": "1010,50",
                                    "TopProduct2": "Gnocchi di nonna Alice",
                                    "TopSpent2": "1368,00"
                                },
                                {
                                    "ContactName": "Liu Wong",
                                    "TopProduct1": "Thüringer Rostbratwurst",
                                    "TopSpent1": "742,74",
                                    "TopProduct2": "Rössle Sauerkraut",
                                    "TopSpent2": "456,00"
                                },
                                {
                                    "ContactName": "Liu Wong",
                                    "TopProduct1": "Rössle Sauerkraut",
                                    "TopSpent1": "456,00",
                                    "TopProduct2": "Thüringer Rostbratwurst",
                                    "TopSpent2": "742,74"
                                },
                                {
                                    "ContactName": "Liz Nixon",
                                    "TopProduct1": "Côte de Blaye",
                                    "TopSpent1": "2635,00",
                                    "TopProduct2": "Sasquatch Ale",
                                    "TopSpent2": "140,00"
                                },
                                {
                                    "ContactName": "Liz Nixon",
                                    "TopProduct1": "Sasquatch Ale",
                                    "TopSpent1": "140,00",
                                    "TopProduct2": "Côte de Blaye",
                                    "TopSpent2": "2635,00"
                                },
                                {
                                    "ContactName": "Lúcia Carvalho",
                                    "TopProduct1": "Gnocchi di nonna Alice",
                                    "TopSpent1": "2280,00",
                                    "TopProduct2": "Rössle Sauerkraut",
                                    "TopSpent2": "1528,80"
                                },
                                {
                                    "ContactName": "Lúcia Carvalho",
                                    "TopProduct1": "Rössle Sauerkraut",
                                    "TopSpent1": "1528,80",
                                    "TopProduct2": "Gnocchi di nonna Alice",
                                    "TopSpent2": "2280,00"
                                },
                                {
                                    "ContactName": "Manuel Pereira",
                                    "TopProduct1": "Ikura",
                                    "TopSpent1": "310,00",
                                    "TopProduct2": "Rhönbräu Klosterbier",
                                    "TopSpent2": "77,50"
                                },
                                {
                                    "ContactName": "Manuel Pereira",
                                    "TopProduct1": "Rhönbräu Klosterbier",
                                    "TopSpent1": "77,50",
                                    "TopProduct2": "Ikura",
                                    "TopSpent2": "310,00"
                                },
                                {
                                    "ContactName": "Maria Anders",
                                    "TopProduct1": "Vegie-spread",
                                    "TopSpent1": "878,00",
                                    "TopProduct2": "Rössle Sauerkraut",
                                    "TopSpent2": "684,00"
                                },
                                {
                                    "ContactName": "Maria Anders",
                                    "TopProduct1": "Rössle Sauerkraut",
                                    "TopSpent1": "684,00",
                                    "TopProduct2": "Vegie-spread",
                                    "TopSpent2": "878,00"
                                },
                                {
                                    "ContactName": "Maria Larsson",
                                    "TopProduct1": "Manjimup Dried Apples",
                                    "TopSpent1": "4134,00",
                                    "TopProduct2": "Gnocchi di nonna Alice",
                                    "TopSpent2": "2280,00"
                                },
                                {
                                    "ContactName": "Maria Larsson",
                                    "TopProduct1": "Gnocchi di nonna Alice",
                                    "TopSpent1": "2280,00",
                                    "TopProduct2": "Manjimup Dried Apples",
                                    "TopSpent2": "4134,00"
                                },
                                {
                                    "ContactName": "Mario Pontes",
                                    "TopProduct1": "Côte de Blaye",
                                    "TopSpent1": "2371,50",
                                    "TopProduct2": "Carnarvon Tigers",
                                    "TopSpent2": "1250,00"
                                },
                                {
                                    "ContactName": "Mario Pontes",
                                    "TopProduct1": "Carnarvon Tigers",
                                    "TopSpent1": "1250,00",
                                    "TopProduct2": "Côte de Blaye",
                                    "TopSpent2": "2371,50"
                                },
                                {
                                    "ContactName": "Martín Sommer",
                                    "TopProduct1": "Thüringer Rostbratwurst",
                                    "TopSpent1": "2475,80",
                                    "TopProduct2": "Alice Mutton",
                                    "TopSpent2": "1560,00"
                                },
                                {
                                    "ContactName": "Martín Sommer",
                                    "TopProduct1": "Alice Mutton",
                                    "TopSpent1": "1560,00",
                                    "TopProduct2": "Thüringer Rostbratwurst",
                                    "TopSpent2": "2475,80"
                                },
                                {
                                    "ContactName": "Martine Rancé",
                                    "TopProduct1": "Carnarvon Tigers",
                                    "TopSpent1": "5000,00",
                                    "TopProduct2": "Tarte au sucre",
                                    "TopSpent2": "1379,00"
                                },
                                {
                                    "ContactName": "Martine Rancé",
                                    "TopProduct1": "Tarte au sucre",
                                    "TopSpent1": "1379,00",
                                    "TopProduct2": "Carnarvon Tigers",
                                    "TopSpent2": "5000,00"
                                },
                                {
                                    "ContactName": "Mary Saveley",
                                    "TopProduct1": "Tarte au sucre",
                                    "TopSpent1": "1972,00",
                                    "TopProduct2": "Mozzarella di Giovanni",
                                    "TopSpent2": "1112,00"
                                },
                                {
                                    "ContactName": "Mary Saveley",
                                    "TopProduct1": "Mozzarella di Giovanni",
                                    "TopSpent1": "1112,00",
                                    "TopProduct2": "Tarte au sucre",
                                    "TopSpent2": "1972,00"
                                },
                                {
                                    "ContactName": "Matti Karttunen",
                                    "TopProduct1": "Northwoods Cranberry Sauce",
                                    "TopSpent1": "400,00",
                                    "TopProduct2": "Ipoh Coffee",
                                    "TopSpent2": "276,00"
                                },
                                {
                                    "ContactName": "Matti Karttunen",
                                    "TopProduct1": "Ipoh Coffee",
                                    "TopSpent1": "276,00",
                                    "TopProduct2": "Northwoods Cranberry Sauce",
                                    "TopSpent2": "400,00"
                                },
                                {
                                    "ContactName": "Maurizio Moroni",
                                    "TopProduct1": "Alice Mutton",
                                    "TopSpent1": "780,00",
                                    "TopProduct2": "Raclette Courdavault",
                                    "TopSpent2": "550,00"
                                },
                                {
                                    "ContactName": "Maurizio Moroni",
                                    "TopProduct1": "Raclette Courdavault",
                                    "TopSpent1": "550,00",
                                    "TopProduct2": "Alice Mutton",
                                    "TopSpent2": "780,00"
                                },
                                {
                                    "ContactName": "Michael Holz",
                                    "TopProduct1": "Thüringer Rostbratwurst",
                                    "TopSpent1": "4456,44",
                                    "TopProduct2": "Camembert Pierrot",
                                    "TopSpent2": "1632,00"
                                },
                                {
                                    "ContactName": "Michael Holz",
                                    "TopProduct1": "Camembert Pierrot",
                                    "TopSpent1": "1632,00",
                                    "TopProduct2": "Thüringer Rostbratwurst",
                                    "TopSpent2": "4456,44"
                                },
                                {
                                    "ContactName": "Miguel Angel Paolino",
                                    "TopProduct1": "Côte de Blaye",
                                    "TopSpent1": "3952,50",
                                    "TopProduct2": "Gula Malacca",
                                    "TopSpent2": "991,95"
                                },
                                {
                                    "ContactName": "Miguel Angel Paolino",
                                    "TopProduct1": "Gula Malacca",
                                    "TopSpent1": "991,95",
                                    "TopProduct2": "Côte de Blaye",
                                    "TopSpent2": "3952,50"
                                },
                                {
                                    "ContactName": "Palle Ibsen",
                                    "TopProduct1": "Rössle Sauerkraut",
                                    "TopSpent1": "2736,00",
                                    "TopProduct2": "Thüringer Rostbratwurst",
                                    "TopSpent2": "1782,00"
                                },
                                {
                                    "ContactName": "Palle Ibsen",
                                    "TopProduct1": "Thüringer Rostbratwurst",
                                    "TopSpent1": "1782,00",
                                    "TopProduct2": "Rössle Sauerkraut",
                                    "TopSpent2": "2736,00"
                                },
                                {
                                    "ContactName": "Paolo Accorti",
                                    "TopProduct1": "Longlife Tofu",
                                    "TopSpent1": "50,00",
                                    "TopProduct2": "Gumbär Gummibärchen",
                                    "TopSpent2": "49,80"
                                },
                                {
                                    "ContactName": "Paolo Accorti",
                                    "TopProduct1": "Gumbär Gummibärchen",
                                    "TopSpent1": "49,80",
                                    "TopProduct2": "Longlife Tofu",
                                    "TopSpent2": "50,00"
                                },
                                {
                                    "ContactName": "Pascale Cartrain",
                                    "TopProduct1": "Rössle Sauerkraut",
                                    "TopSpent1": "1092,00",
                                    "TopProduct2": "Flotemysost",
                                    "TopSpent2": "860,00"
                                },
                                {
                                    "ContactName": "Pascale Cartrain",
                                    "TopProduct1": "Flotemysost",
                                    "TopSpent1": "860,00",
                                    "TopProduct2": "Rössle Sauerkraut",
                                    "TopSpent2": "1092,00"
                                },
                                {
                                    "ContactName": "Patricia McKenna",
                                    "TopProduct1": "Mishi Kobe Niku",
                                    "TopSpent1": "4850,00",
                                    "TopProduct2": "Raclette Courdavault",
                                    "TopSpent2": "4510,00"
                                },
                                {
                                    "ContactName": "Patricia McKenna",
                                    "TopProduct1": "Raclette Courdavault",
                                    "TopSpent1": "4510,00",
                                    "TopProduct2": "Mishi Kobe Niku",
                                    "TopSpent2": "4850,00"
                                },
                                {
                                    "ContactName": "Patricio Simpson",
                                    "TopProduct1": "Jack's New England Clam Chowder",
                                    "TopSpent1": "96,50",
                                    "TopProduct2": "Scottish Longbreads",
                                    "TopSpent2": "75,00"
                                },
                                {
                                    "ContactName": "Patricio Simpson",
                                    "TopProduct1": "Scottish Longbreads",
                                    "TopSpent1": "75,00",
                                    "TopProduct2": "Jack's New England Clam Chowder",
                                    "TopSpent2": "96,50"
                                },
                                {
                                    "ContactName": "Paul Henriot",
                                    "TopProduct1": "Filo Mix",
                                    "TopSpent1": "126,00",
                                    "TopProduct2": "Jack's New England Clam Chowder",
                                    "TopSpent2": "115,80"
                                },
                                {
                                    "ContactName": "Paul Henriot",
                                    "TopProduct1": "Jack's New England Clam Chowder",
                                    "TopSpent1": "115,80",
                                    "TopProduct2": "Filo Mix",
                                    "TopSpent2": "126,00"
                                },
                                {
                                    "ContactName": "Paula Parente",
                                    "TopProduct1": "Mishi Kobe Niku",
                                    "TopSpent1": "1552,00",
                                    "TopProduct2": "Ipoh Coffee",
                                    "TopSpent2": "920,00"
                                },
                                {
                                    "ContactName": "Paula Parente",
                                    "TopProduct1": "Ipoh Coffee",
                                    "TopSpent1": "920,00",
                                    "TopProduct2": "Mishi Kobe Niku",
                                    "TopSpent2": "1552,00"
                                },
                                {
                                    "ContactName": "Paula Wilson",
                                    "TopProduct1": "Côte de Blaye",
                                    "TopSpent1": "6324,00",
                                    "TopProduct2": "Raclette Courdavault",
                                    "TopSpent2": "2640,00"
                                },
                                {
                                    "ContactName": "Paula Wilson",
                                    "TopProduct1": "Raclette Courdavault",
                                    "TopSpent1": "2640,00",
                                    "TopProduct2": "Côte de Blaye",
                                    "TopSpent2": "6324,00"
                                },
                                {
                                    "ContactName": "Pedro Afonso",
                                    "TopProduct1": "Gnocchi di nonna Alice",
                                    "TopSpent1": "912,00",
                                    "TopProduct2": "Queso Cabrales",
                                    "TopSpent2": "168,00"
                                },
                                {
                                    "ContactName": "Pedro Afonso",
                                    "TopProduct1": "Queso Cabrales",
                                    "TopSpent1": "168,00",
                                    "TopProduct2": "Gnocchi di nonna Alice",
                                    "TopSpent2": "912,00"
                                },
                                {
                                    "ContactName": "Peter Franken",
                                    "TopProduct1": "Thüringer Rostbratwurst",
                                    "TopSpent1": "1733,06",
                                    "TopProduct2": "Raclette Courdavault",
                                    "TopSpent2": "1320,00"
                                },
                                {
                                    "ContactName": "Peter Franken",
                                    "TopProduct1": "Raclette Courdavault",
                                    "TopSpent1": "1320,00",
                                    "TopProduct2": "Thüringer Rostbratwurst",
                                    "TopSpent2": "1733,06"
                                },
                                {
                                    "ContactName": "Philip Cramer",
                                    "TopProduct1": "Raclette Courdavault",
                                    "TopSpent1": "2959,00",
                                    "TopProduct2": "Queso Manchego La Pastora",
                                    "TopSpent2": "1368,00"
                                },
                                {
                                    "ContactName": "Philip Cramer",
                                    "TopProduct1": "Queso Manchego La Pastora",
                                    "TopSpent1": "1368,00",
                                    "TopProduct2": "Raclette Courdavault",
                                    "TopSpent2": "2959,00"
                                },
                                {
                                    "ContactName": "Pirkko Koskitalo",
                                    "TopProduct1": "Perth Pasties",
                                    "TopSpent1": "1965,00",
                                    "TopProduct2": "Gnocchi di nonna Alice",
                                    "TopSpent2": "1900,00"
                                },
                                {
                                    "ContactName": "Pirkko Koskitalo",
                                    "TopProduct1": "Gnocchi di nonna Alice",
                                    "TopSpent1": "1900,00",
                                    "TopProduct2": "Perth Pasties",
                                    "TopSpent2": "1965,00"
                                },
                                {
                                    "ContactName": "Renate Messner",
                                    "TopProduct1": "Thüringer Rostbratwurst",
                                    "TopSpent1": "2228,22",
                                    "TopProduct2": "Sir Rodney's Marmalade",
                                    "TopSpent2": "1701,00"
                                },
                                {
                                    "ContactName": "Renate Messner",
                                    "TopProduct1": "Sir Rodney's Marmalade",
                                    "TopSpent1": "1701,00",
                                    "TopProduct2": "Thüringer Rostbratwurst",
                                    "TopSpent2": "2228,22"
                                },
                                {
                                    "ContactName": "Rene Phillips",
                                    "TopProduct1": "Schoggi Schokolade",
                                    "TopSpent1": "1755,00",
                                    "TopProduct2": "Pavlova",
                                    "TopSpent2": "1221,50"
                                },
                                {
                                    "ContactName": "Rene Phillips",
                                    "TopProduct1": "Pavlova",
                                    "TopSpent1": "1221,50",
                                    "TopProduct2": "Schoggi Schokolade",
                                    "TopSpent2": "1755,00"
                                },
                                {
                                    "ContactName": "Rita Müller",
                                    "TopProduct1": "Mascarpone Fabioli",
                                    "TopSpent1": "1600,00",
                                    "TopProduct2": "Gudbrandsdalsost",
                                    "TopSpent2": "720,00"
                                },
                                {
                                    "ContactName": "Rita Müller",
                                    "TopProduct1": "Gudbrandsdalsost",
                                    "TopSpent1": "720,00",
                                    "TopProduct2": "Mascarpone Fabioli",
                                    "TopSpent2": "1600,00"
                                },
                                {
                                    "ContactName": "Roland Mendel",
                                    "TopProduct1": "Manjimup Dried Apples",
                                    "TopSpent1": "6360,00",
                                    "TopProduct2": "Alice Mutton",
                                    "TopSpent2": "4368,00"
                                },
                                {
                                    "ContactName": "Roland Mendel",
                                    "TopProduct1": "Alice Mutton",
                                    "TopSpent1": "4368,00",
                                    "TopProduct2": "Manjimup Dried Apples",
                                    "TopSpent2": "6360,00"
                                },
                                {
                                    "ContactName": "Sergio Gutiérrez",
                                    "TopProduct1": "Manjimup Dried Apples",
                                    "TopSpent1": "371,00",
                                    "TopProduct2": "Boston Crab Meat",
                                    "TopSpent2": "294,00"
                                },
                                {
                                    "ContactName": "Sergio Gutiérrez",
                                    "TopProduct1": "Boston Crab Meat",
                                    "TopSpent1": "294,00",
                                    "TopProduct2": "Manjimup Dried Apples",
                                    "TopSpent2": "371,00"
                                },
                                {
                                    "ContactName": "Simon Crowther",
                                    "TopProduct1": "Raclette Courdavault",
                                    "TopSpent1": "220,00",
                                    "TopProduct2": "Chai",
                                    "TopSpent2": "144,00"
                                },
                                {
                                    "ContactName": "Simon Crowther",
                                    "TopProduct1": "Chai",
                                    "TopSpent1": "144,00",
                                    "TopProduct2": "Raclette Courdavault",
                                    "TopSpent2": "220,00"
                                },
                                {
                                    "ContactName": "Sven Ottlieb",
                                    "TopProduct1": "Queso Cabrales",
                                    "TopSpent1": "420,00",
                                    "TopProduct2": "NULL",
                                    "TopSpent2": "NULL"
                                },
                                {
                                    "ContactName": "Thomas Hardy",
                                    "TopProduct1": "Manjimup Dried Apples",
                                    "TopSpent1": "1060,00",
                                    "TopProduct2": "Ravioli Angelo",
                                    "TopSpent2": "780,00"
                                },
                                {
                                    "ContactName": "Thomas Hardy",
                                    "TopProduct1": "Ravioli Angelo",
                                    "TopSpent1": "780,00",
                                    "TopProduct2": "Manjimup Dried Apples",
                                    "TopSpent2": "1060,00"
                                },
                                {
                                    "ContactName": "Victoria Ashworth",
                                    "TopProduct1": "Uncle Bob's Organic Dried Pears",
                                    "TopSpent1": "720,00",
                                    "TopProduct2": "Gnocchi di nonna Alice",
                                    "TopSpent2": "608,00"
                                },
                                {
                                    "ContactName": "Victoria Ashworth",
                                    "TopProduct1": "Gnocchi di nonna Alice",
                                    "TopSpent1": "608,00",
                                    "TopProduct2": "Uncle Bob's Organic Dried Pears",
                                    "TopSpent2": "720,00"
                                },
                                {
                                    "ContactName": "Yang Wang",
                                    "TopProduct1": "Manjimup Dried Apples",
                                    "TopSpent1": "1590,00",
                                    "TopProduct2": "Gnocchi di nonna Alice",
                                    "TopSpent2": "1520,00"
                                },
                                {
                                    "ContactName": "Yang Wang",
                                    "TopProduct1": "Gnocchi di nonna Alice",
                                    "TopSpent1": "1520,00",
                                    "TopProduct2": "Manjimup Dried Apples",
                                    "TopSpent2": "1590,00"
                                },
                                {
                                    "ContactName": "Yoshi Latimer",
                                    "TopProduct1": "Sir Rodney's Marmalade",
                                    "TopSpent1": "1701,00",
                                    "TopProduct2": "Röd Kaviar",
                                    "TopSpent2": "450,00"
                                },
                                {
                                    "ContactName": "Yoshi Latimer",
                                    "TopProduct1": "Röd Kaviar",
                                    "TopSpent1": "450,00",
                                    "TopProduct2": "Sir Rodney's Marmalade",
                                    "TopSpent2": "1701,00"
                                },
                                {
                                    "ContactName": "Yoshi Tannamuri",
                                    "TopProduct1": "Jack's New England Clam Chowder",
                                    "TopSpent1": "154,00",
                                    "TopProduct2": "Tunnbröd",
                                    "TopSpent2": "72,00"
                                },
                                {
                                    "ContactName": "Yoshi Tannamuri",
                                    "TopProduct1": "Tunnbröd",
                                    "TopSpent1": "72,00",
                                    "TopProduct2": "Jack's New England Clam Chowder",
                                    "TopSpent2": "154,00"
                                },
                                {
                                    "ContactName": "Yvonne Moncada",
                                    "TopProduct1": "Tofu",
                                    "TopSpent1": "223,20",
                                    "TopProduct2": "Raclette Courdavault",
                                    "TopSpent2": "110,00"
                                },
                                {
                                    "ContactName": "Yvonne Moncada",
                                    "TopProduct1": "Raclette Courdavault",
                                    "TopSpent1": "110,00",
                                    "TopProduct2": "Tofu",
                                    "TopSpent2": "223,20"
                                },
                                {
                                    "ContactName": "Zbyszek Piestrzeniewicz",
                                    "TopProduct1": "Camembert Pierrot",
                                    "TopSpent1": "510,00",
                                    "TopProduct2": "Chang",
                                    "TopSpent2": "380,00"
                                },
                                {
                                    "ContactName": "Zbyszek Piestrzeniewicz",
                                    "TopProduct1": "Chang",
                                    "TopSpent1": "380,00",
                                    "TopProduct2": "Camembert Pierrot",
                                    "TopSpent2": "510,00"
                                }
                            ]
                        },
                        "text/html": [
                            "<table>",
                            "<tr><th>ContactName</th><th>TopProduct1</th><th>TopSpent1</th><th>TopProduct2</th><th>TopSpent2</th></tr>",
                            "<tr><td>Alexander Feuer</td><td>Mozzarella di Giovanni</td><td>1044,00</td><td>Tarte au sucre</td><td>986,00</td></tr>",
                            "<tr><td>Alexander Feuer</td><td>Tarte au sucre</td><td>986,00</td><td>Mozzarella di Giovanni</td><td>1044,00</td></tr>",
                            "<tr><td>Ana Trujillo</td><td>Camembert Pierrot</td><td>340,00</td><td>Mascarpone Fabioli</td><td>320,00</td></tr>",
                            "<tr><td>Ana Trujillo</td><td>Mascarpone Fabioli</td><td>320,00</td><td>Camembert Pierrot</td><td>340,00</td></tr>",
                            "<tr><td>Anabela Domingues</td><td>Tarte au sucre</td><td>493,00</td><td>Pâté chinois</td><td>480,00</td></tr>",
                            "<tr><td>Anabela Domingues</td><td>Pâté chinois</td><td>480,00</td><td>Tarte au sucre</td><td>493,00</td></tr>",
                            "<tr><td>André Fonseca</td><td>Northwoods Cranberry Sauce</td><td>1600,00</td><td>Manjimup Dried Apples</td><td>1484,00</td></tr>",
                            "<tr><td>André Fonseca</td><td>Manjimup Dried Apples</td><td>1484,00</td><td>Northwoods Cranberry Sauce</td><td>1600,00</td></tr>",
                            "<tr><td>Ann Devon</td><td>Thüringer Rostbratwurst</td><td>2079,00</td><td>Chef Anton&#39;s Cajun Seasoning</td><td>550,00</td></tr>",
                            "<tr><td>Ann Devon</td><td>Chef Anton&#39;s Cajun Seasoning</td><td>550,00</td><td>Thüringer Rostbratwurst</td><td>2079,00</td></tr>",
                            "<tr><td>Annette Roulet</td><td>Thüringer Rostbratwurst</td><td>2475,80</td><td>Tarte au sucre</td><td>1576,00</td></tr>",
                            "<tr><td>Annette Roulet</td><td>Tarte au sucre</td><td>1576,00</td><td>Thüringer Rostbratwurst</td><td>2475,80</td></tr>",
                            "<tr><td>Antonio Moreno</td><td>Queso Cabrales</td><td>1050,00</td><td>Gumbär Gummibärchen</td><td>936,90</td></tr>",
                            "<tr><td>Antonio Moreno</td><td>Gumbär Gummibärchen</td><td>936,90</td><td>Queso Cabrales</td><td>1050,00</td></tr>",
                            "<tr><td>Aria Cruz</td><td>Perth Pasties</td><td>820,00</td><td>Nord-Ost Matjeshering</td><td>776,70</td></tr>",
                            "<tr><td>Aria Cruz</td><td>Nord-Ost Matjeshering</td><td>776,70</td><td>Perth Pasties</td><td>820,00</td></tr>",
                            "<tr><td>Art Braunschweiger</td><td>Carnarvon Tigers</td><td>1312,50</td><td>Gudbrandsdalsost</td><td>720,00</td></tr>",
                            "<tr><td>Art Braunschweiger</td><td>Gudbrandsdalsost</td><td>720,00</td><td>Carnarvon Tigers</td><td>1312,50</td></tr>",
                            "<tr><td>Bernardo Batista</td><td>Gumbär Gummibärchen</td><td>934,38</td><td>Steeleye Stout</td><td>738,00</td></tr>",
                            "<tr><td>Bernardo Batista</td><td>Steeleye Stout</td><td>738,00</td><td>Gumbär Gummibärchen</td><td>934,38</td></tr>",
                            "<tr><td>Carine Schmitt</td><td>Tarte au sucre</td><td>493,00</td><td>Louisiana Fiery Hot Pepper Sauce</td><td>252,60</td></tr>",
                            "<tr><td>Carine Schmitt</td><td>Louisiana Fiery Hot Pepper Sauce</td><td>252,60</td><td>Tarte au sucre</td><td>493,00</td></tr>",
                            "<tr><td>Carlos González</td><td>Pâté chinois</td><td>1152,00</td><td>Queso Manchego La Pastora</td><td>1140,00</td></tr>",
                            "<tr><td>Carlos González</td><td>Queso Manchego La Pastora</td><td>1140,00</td><td>Pâté chinois</td><td>1152,00</td></tr>",
                            "<tr><td>Carlos Hernández</td><td>Raclette Courdavault</td><td>4565,00</td><td>Gudbrandsdalsost</td><td>1512,00</td></tr>",
                            "<tr><td>Carlos Hernández</td><td>Gudbrandsdalsost</td><td>1512,00</td><td>Raclette Courdavault</td><td>4565,00</td></tr>",
                            "<tr><td>Catherine Dewey</td><td>Schoggi Schokolade</td><td>1756,00</td><td>Ipoh Coffee</td><td>1380,00</td></tr>",
                            "<tr><td>Catherine Dewey</td><td>Ipoh Coffee</td><td>1380,00</td><td>Schoggi Schokolade</td><td>1756,00</td></tr>",
                            "<tr><td>Christina Berglund</td><td>Côte de Blaye</td><td>3952,50</td><td>Ipoh Coffee</td><td>2760,00</td></tr>",
                            "<tr><td>Christina Berglund</td><td>Ipoh Coffee</td><td>2760,00</td><td>Côte de Blaye</td><td>3952,50</td></tr>",
                            "<tr><td>Dominique Perrier</td><td>Pavlova</td><td>52,35</td><td>NULL</td><td>NULL</td></tr>",
                            "<tr><td>Eduardo Saavedra</td><td>Wimmers gute Semmelknödel</td><td>186,20</td><td>Ikura</td><td>155,00</td></tr>",
                            "<tr><td>Eduardo Saavedra</td><td>Ikura</td><td>155,00</td><td>Wimmers gute Semmelknödel</td><td>186,20</td></tr>",
                            "<tr><td>Elizabeth Brown</td><td>Mozzarella di Giovanni</td><td>278,00</td><td>Gustaf&#39;s Knäckebröd</td><td>201,60</td></tr>",
                            "<tr><td>Elizabeth Brown</td><td>Gustaf&#39;s Knäckebröd</td><td>201,60</td><td>Mozzarella di Giovanni</td><td>278,00</td></tr>",
                            "<tr><td>Elizabeth Lincoln</td><td>Camembert Pierrot</td><td>1700,00</td><td>Alice Mutton</td><td>1560,00</td></tr>",
                            "<tr><td>Elizabeth Lincoln</td><td>Alice Mutton</td><td>1560,00</td><td>Camembert Pierrot</td><td>1700,00</td></tr>",
                            "<tr><td>Felipe Izquierdo</td><td>Mozzarella di Giovanni</td><td>2088,00</td><td>Outback Lager</td><td>1170,00</td></tr>",
                            "<tr><td>Felipe Izquierdo</td><td>Outback Lager</td><td>1170,00</td><td>Mozzarella di Giovanni</td><td>2088,00</td></tr>",
                            "<tr><td>Fran Wilson</td><td>Manjimup Dried Apples</td><td>1060,00</td><td>Rössle Sauerkraut</td><td>319,20</td></tr>",
                            "<tr><td>Fran Wilson</td><td>Rössle Sauerkraut</td><td>319,20</td><td>Manjimup Dried Apples</td><td>1060,00</td></tr>",
                            "<tr><td>Frédérique Citeaux</td><td>Tarte au sucre</td><td>1379,00</td><td>Gnocchi di nonna Alice</td><td>1216,00</td></tr>",
                            "<tr><td>Frédérique Citeaux</td><td>Gnocchi di nonna Alice</td><td>1216,00</td><td>Tarte au sucre</td><td>1379,00</td></tr>",
                            "<tr><td>Georg Pipps</td><td>Alice Mutton</td><td>2730,00</td><td>Ipoh Coffee</td><td>1150,00</td></tr>",
                            "<tr><td>Georg Pipps</td><td>Ipoh Coffee</td><td>1150,00</td><td>Alice Mutton</td><td>2730,00</td></tr>",
                            "<tr><td>Giovanni Rovelli</td><td>Mozzarella di Giovanni</td><td>1044,00</td><td>Gustaf&#39;s Knäckebröd</td><td>840,00</td></tr>",
                            "<tr><td>Giovanni Rovelli</td><td>Gustaf&#39;s Knäckebröd</td><td>840,00</td><td>Mozzarella di Giovanni</td><td>1044,00</td></tr>",
                            "<tr><td>Guillermo Fernández</td><td>Rössle Sauerkraut</td><td>655,20</td><td>Laughing Lumberjack Lager</td><td>420,00</td></tr>",
                            "<tr><td>Guillermo Fernández</td><td>Laughing Lumberjack Lager</td><td>420,00</td><td>Rössle Sauerkraut</td><td>655,20</td></tr>",
                            "<tr><td>Hanna Moos</td><td>Queso Cabrales</td><td>294,00</td><td>Lakkalikööri</td><td>252,00</td></tr>",
                            "<tr><td>Hanna Moos</td><td>Lakkalikööri</td><td>252,00</td><td>Queso Cabrales</td><td>294,00</td></tr>",
                            "<tr><td>Hari Kumar</td><td>Manjimup Dried Apples</td><td>1293,20</td><td>Sir Rodney&#39;s Marmalade</td><td>1215,00</td></tr>",
                            "<tr><td>Hari Kumar</td><td>Sir Rodney&#39;s Marmalade</td><td>1215,00</td><td>Manjimup Dried Apples</td><td>1293,20</td></tr>",
                            "<tr><td>Helen Bennett</td><td>Gnocchi di nonna Alice</td><td>570,00</td><td>Flotemysost</td><td>528,90</td></tr>",
                            "<tr><td>Helen Bennett</td><td>Flotemysost</td><td>528,90</td><td>Gnocchi di nonna Alice</td><td>570,00</td></tr>",
                            "<tr><td>Helvetius Nagy</td><td>Tarte au sucre</td><td>493,00</td><td>Original Frankfurter grüne Soße</td><td>234,00</td></tr>",
                            "<tr><td>Helvetius Nagy</td><td>Original Frankfurter grüne Soße</td><td>234,00</td><td>Tarte au sucre</td><td>493,00</td></tr>",
                            "<tr><td>Henriette Pfalzheim</td><td>Uncle Bob&#39;s Organic Dried Pears</td><td>1050,00</td><td>Camembert Pierrot</td><td>1020,00</td></tr>",
                            "<tr><td>Henriette Pfalzheim</td><td>Camembert Pierrot</td><td>1020,00</td><td>Uncle Bob&#39;s Organic Dried Pears</td><td>1050,00</td></tr>",
                            "<tr><td>Horst Kloss</td><td>Côte de Blaye</td><td>7905,00</td><td>Schoggi Schokolade</td><td>5268,00</td></tr>",
                            "<tr><td>Horst Kloss</td><td>Schoggi Schokolade</td><td>5268,00</td><td>Côte de Blaye</td><td>7905,00</td></tr>",
                            "<tr><td>Howard Snyder</td><td>Côte de Blaye</td><td>3952,50</td><td>Raclette Courdavault</td><td>1650,00</td></tr>",
                            "<tr><td>Howard Snyder</td><td>Raclette Courdavault</td><td>1650,00</td><td>Côte de Blaye</td><td>3952,50</td></tr>",
                            "<tr><td>Isabel de Castro</td><td>Gnocchi di nonna Alice</td><td>851,20</td><td>Chartreuse verte</td><td>288,00</td></tr>",
                            "<tr><td>Isabel de Castro</td><td>Chartreuse verte</td><td>288,00</td><td>Gnocchi di nonna Alice</td><td>851,20</td></tr>",
                            "<tr><td>Jaime Yorres</td><td>Carnarvon Tigers</td><td>750,00</td><td>Sirop d&#39;érable</td><td>570,00</td></tr>",
                            "<tr><td>Jaime Yorres</td><td>Sirop d&#39;érable</td><td>570,00</td><td>Carnarvon Tigers</td><td>750,00</td></tr>",
                            "<tr><td>Janete Limeira</td><td>Camembert Pierrot</td><td>1088,00</td><td>Louisiana Fiery Hot Pepper Sauce</td><td>588,00</td></tr>",
                            "<tr><td>Janete Limeira</td><td>Louisiana Fiery Hot Pepper Sauce</td><td>588,00</td><td>Camembert Pierrot</td><td>1088,00</td></tr>",
                            "<tr><td>Janine Labrune</td><td>Ikura</td><td>310,00</td><td>Filo Mix</td><td>63,00</td></tr>",
                            "<tr><td>Janine Labrune</td><td>Filo Mix</td><td>63,00</td><td>Ikura</td><td>310,00</td></tr>",
                            "<tr><td>Jean Fresnière</td><td>Côte de Blaye</td><td>10329,20</td><td>Gnocchi di nonna Alice</td><td>3040,00</td></tr>",
                            "<tr><td>Jean Fresnière</td><td>Gnocchi di nonna Alice</td><td>3040,00</td><td>Côte de Blaye</td><td>10329,20</td></tr>",
                            "<tr><td>John Steel</td><td>Queso Cabrales</td><td>210,00</td><td>Boston Crab Meat</td><td>147,00</td></tr>",
                            "<tr><td>John Steel</td><td>Boston Crab Meat</td><td>147,00</td><td>Queso Cabrales</td><td>210,00</td></tr>",
                            "<tr><td>Jonas Bergulfsen</td><td>Carnarvon Tigers</td><td>500,00</td><td>Perth Pasties</td><td>164,00</td></tr>",
                            "<tr><td>Jonas Bergulfsen</td><td>Perth Pasties</td><td>164,00</td><td>Carnarvon Tigers</td><td>500,00</td></tr>",
                            "<tr><td>Jose Pavarotti</td><td>Thüringer Rostbratwurst</td><td>6832,44</td><td>Gnocchi di nonna Alice</td><td>4978,00</td></tr>",
                            "<tr><td>Jose Pavarotti</td><td>Gnocchi di nonna Alice</td><td>4978,00</td><td>Thüringer Rostbratwurst</td><td>6832,44</td></tr>",
                            "<tr><td>José Pedro Freyre</td><td>Thüringer Rostbratwurst</td><td>2475,80</td><td>Alice Mutton</td><td>312,00</td></tr>",
                            "<tr><td>José Pedro Freyre</td><td>Alice Mutton</td><td>312,00</td><td>Thüringer Rostbratwurst</td><td>2475,80</td></tr>",
                            "<tr><td>Jytte Petersen</td><td>Côte de Blaye</td><td>10540,00</td><td>Manjimup Dried Apples</td><td>1590,00</td></tr>",
                            "<tr><td>Jytte Petersen</td><td>Manjimup Dried Apples</td><td>1590,00</td><td>Côte de Blaye</td><td>10540,00</td></tr>",
                            "<tr><td>Karin Josephs</td><td>Gnocchi di nonna Alice</td><td>1064,00</td><td>Sasquatch Ale</td><td>364,00</td></tr>",
                            "<tr><td>Karin Josephs</td><td>Sasquatch Ale</td><td>364,00</td><td>Gnocchi di nonna Alice</td><td>1064,00</td></tr>",
                            "<tr><td>Karl Jablonski</td><td>Gudbrandsdalsost</td><td>1080,00</td><td>Vegie-spread</td><td>1053,60</td></tr>",
                            "<tr><td>Karl Jablonski</td><td>Vegie-spread</td><td>1053,60</td><td>Gudbrandsdalsost</td><td>1080,00</td></tr>",
                            "<tr><td>Laurence Lebihan</td><td>Carnarvon Tigers</td><td>1500,00</td><td>Uncle Bob&#39;s Organic Dried Pears</td><td>1500,00</td></tr>",
                            "<tr><td>Laurence Lebihan</td><td>Uncle Bob&#39;s Organic Dried Pears</td><td>1500,00</td><td>Carnarvon Tigers</td><td>1500,00</td></tr>",
                            "<tr><td>Lino Rodriguez</td><td>Gnocchi di nonna Alice</td><td>1368,00</td><td>Gula Malacca</td><td>1010,50</td></tr>",
                            "<tr><td>Lino Rodriguez</td><td>Gula Malacca</td><td>1010,50</td><td>Gnocchi di nonna Alice</td><td>1368,00</td></tr>",
                            "<tr><td>Liu Wong</td><td>Thüringer Rostbratwurst</td><td>742,74</td><td>Rössle Sauerkraut</td><td>456,00</td></tr>",
                            "<tr><td>Liu Wong</td><td>Rössle Sauerkraut</td><td>456,00</td><td>Thüringer Rostbratwurst</td><td>742,74</td></tr>",
                            "<tr><td>Liz Nixon</td><td>Côte de Blaye</td><td>2635,00</td><td>Sasquatch Ale</td><td>140,00</td></tr>",
                            "<tr><td>Liz Nixon</td><td>Sasquatch Ale</td><td>140,00</td><td>Côte de Blaye</td><td>2635,00</td></tr>",
                            "<tr><td>Lúcia Carvalho</td><td>Gnocchi di nonna Alice</td><td>2280,00</td><td>Rössle Sauerkraut</td><td>1528,80</td></tr>",
                            "<tr><td>Lúcia Carvalho</td><td>Rössle Sauerkraut</td><td>1528,80</td><td>Gnocchi di nonna Alice</td><td>2280,00</td></tr>",
                            "<tr><td>Manuel Pereira</td><td>Ikura</td><td>310,00</td><td>Rhönbräu Klosterbier</td><td>77,50</td></tr>",
                            "<tr><td>Manuel Pereira</td><td>Rhönbräu Klosterbier</td><td>77,50</td><td>Ikura</td><td>310,00</td></tr>",
                            "<tr><td>Maria Anders</td><td>Vegie-spread</td><td>878,00</td><td>Rössle Sauerkraut</td><td>684,00</td></tr>",
                            "<tr><td>Maria Anders</td><td>Rössle Sauerkraut</td><td>684,00</td><td>Vegie-spread</td><td>878,00</td></tr>",
                            "<tr><td>Maria Larsson</td><td>Manjimup Dried Apples</td><td>4134,00</td><td>Gnocchi di nonna Alice</td><td>2280,00</td></tr>",
                            "<tr><td>Maria Larsson</td><td>Gnocchi di nonna Alice</td><td>2280,00</td><td>Manjimup Dried Apples</td><td>4134,00</td></tr>",
                            "<tr><td>Mario Pontes</td><td>Côte de Blaye</td><td>2371,50</td><td>Carnarvon Tigers</td><td>1250,00</td></tr>",
                            "<tr><td>Mario Pontes</td><td>Carnarvon Tigers</td><td>1250,00</td><td>Côte de Blaye</td><td>2371,50</td></tr>",
                            "<tr><td>Martín Sommer</td><td>Thüringer Rostbratwurst</td><td>2475,80</td><td>Alice Mutton</td><td>1560,00</td></tr>",
                            "<tr><td>Martín Sommer</td><td>Alice Mutton</td><td>1560,00</td><td>Thüringer Rostbratwurst</td><td>2475,80</td></tr>",
                            "<tr><td>Martine Rancé</td><td>Carnarvon Tigers</td><td>5000,00</td><td>Tarte au sucre</td><td>1379,00</td></tr>",
                            "<tr><td>Martine Rancé</td><td>Tarte au sucre</td><td>1379,00</td><td>Carnarvon Tigers</td><td>5000,00</td></tr>",
                            "<tr><td>Mary Saveley</td><td>Tarte au sucre</td><td>1972,00</td><td>Mozzarella di Giovanni</td><td>1112,00</td></tr>",
                            "<tr><td>Mary Saveley</td><td>Mozzarella di Giovanni</td><td>1112,00</td><td>Tarte au sucre</td><td>1972,00</td></tr>",
                            "<tr><td>Matti Karttunen</td><td>Northwoods Cranberry Sauce</td><td>400,00</td><td>Ipoh Coffee</td><td>276,00</td></tr>",
                            "<tr><td>Matti Karttunen</td><td>Ipoh Coffee</td><td>276,00</td><td>Northwoods Cranberry Sauce</td><td>400,00</td></tr>",
                            "<tr><td>Maurizio Moroni</td><td>Alice Mutton</td><td>780,00</td><td>Raclette Courdavault</td><td>550,00</td></tr>",
                            "<tr><td>Maurizio Moroni</td><td>Raclette Courdavault</td><td>550,00</td><td>Alice Mutton</td><td>780,00</td></tr>",
                            "<tr><td>Michael Holz</td><td>Thüringer Rostbratwurst</td><td>4456,44</td><td>Camembert Pierrot</td><td>1632,00</td></tr>",
                            "<tr><td>Michael Holz</td><td>Camembert Pierrot</td><td>1632,00</td><td>Thüringer Rostbratwurst</td><td>4456,44</td></tr>",
                            "<tr><td>Miguel Angel Paolino</td><td>Côte de Blaye</td><td>3952,50</td><td>Gula Malacca</td><td>991,95</td></tr>",
                            "<tr><td>Miguel Angel Paolino</td><td>Gula Malacca</td><td>991,95</td><td>Côte de Blaye</td><td>3952,50</td></tr>",
                            "<tr><td>Palle Ibsen</td><td>Rössle Sauerkraut</td><td>2736,00</td><td>Thüringer Rostbratwurst</td><td>1782,00</td></tr>",
                            "<tr><td>Palle Ibsen</td><td>Thüringer Rostbratwurst</td><td>1782,00</td><td>Rössle Sauerkraut</td><td>2736,00</td></tr>",
                            "<tr><td>Paolo Accorti</td><td>Longlife Tofu</td><td>50,00</td><td>Gumbär Gummibärchen</td><td>49,80</td></tr>",
                            "<tr><td>Paolo Accorti</td><td>Gumbär Gummibärchen</td><td>49,80</td><td>Longlife Tofu</td><td>50,00</td></tr>",
                            "<tr><td>Pascale Cartrain</td><td>Rössle Sauerkraut</td><td>1092,00</td><td>Flotemysost</td><td>860,00</td></tr>",
                            "<tr><td>Pascale Cartrain</td><td>Flotemysost</td><td>860,00</td><td>Rössle Sauerkraut</td><td>1092,00</td></tr>",
                            "<tr><td>Patricia McKenna</td><td>Mishi Kobe Niku</td><td>4850,00</td><td>Raclette Courdavault</td><td>4510,00</td></tr>",
                            "<tr><td>Patricia McKenna</td><td>Raclette Courdavault</td><td>4510,00</td><td>Mishi Kobe Niku</td><td>4850,00</td></tr>",
                            "<tr><td>Patricio Simpson</td><td>Jack&#39;s New England Clam Chowder</td><td>96,50</td><td>Scottish Longbreads</td><td>75,00</td></tr>",
                            "<tr><td>Patricio Simpson</td><td>Scottish Longbreads</td><td>75,00</td><td>Jack&#39;s New England Clam Chowder</td><td>96,50</td></tr>",
                            "<tr><td>Paul Henriot</td><td>Filo Mix</td><td>126,00</td><td>Jack&#39;s New England Clam Chowder</td><td>115,80</td></tr>",
                            "<tr><td>Paul Henriot</td><td>Jack&#39;s New England Clam Chowder</td><td>115,80</td><td>Filo Mix</td><td>126,00</td></tr>",
                            "<tr><td>Paula Parente</td><td>Mishi Kobe Niku</td><td>1552,00</td><td>Ipoh Coffee</td><td>920,00</td></tr>",
                            "<tr><td>Paula Parente</td><td>Ipoh Coffee</td><td>920,00</td><td>Mishi Kobe Niku</td><td>1552,00</td></tr>",
                            "<tr><td>Paula Wilson</td><td>Côte de Blaye</td><td>6324,00</td><td>Raclette Courdavault</td><td>2640,00</td></tr>",
                            "<tr><td>Paula Wilson</td><td>Raclette Courdavault</td><td>2640,00</td><td>Côte de Blaye</td><td>6324,00</td></tr>",
                            "<tr><td>Pedro Afonso</td><td>Gnocchi di nonna Alice</td><td>912,00</td><td>Queso Cabrales</td><td>168,00</td></tr>",
                            "<tr><td>Pedro Afonso</td><td>Queso Cabrales</td><td>168,00</td><td>Gnocchi di nonna Alice</td><td>912,00</td></tr>",
                            "<tr><td>Peter Franken</td><td>Thüringer Rostbratwurst</td><td>1733,06</td><td>Raclette Courdavault</td><td>1320,00</td></tr>",
                            "<tr><td>Peter Franken</td><td>Raclette Courdavault</td><td>1320,00</td><td>Thüringer Rostbratwurst</td><td>1733,06</td></tr>",
                            "<tr><td>Philip Cramer</td><td>Raclette Courdavault</td><td>2959,00</td><td>Queso Manchego La Pastora</td><td>1368,00</td></tr>",
                            "<tr><td>Philip Cramer</td><td>Queso Manchego La Pastora</td><td>1368,00</td><td>Raclette Courdavault</td><td>2959,00</td></tr>",
                            "<tr><td>Pirkko Koskitalo</td><td>Perth Pasties</td><td>1965,00</td><td>Gnocchi di nonna Alice</td><td>1900,00</td></tr>",
                            "<tr><td>Pirkko Koskitalo</td><td>Gnocchi di nonna Alice</td><td>1900,00</td><td>Perth Pasties</td><td>1965,00</td></tr>",
                            "<tr><td>Renate Messner</td><td>Thüringer Rostbratwurst</td><td>2228,22</td><td>Sir Rodney&#39;s Marmalade</td><td>1701,00</td></tr>",
                            "<tr><td>Renate Messner</td><td>Sir Rodney&#39;s Marmalade</td><td>1701,00</td><td>Thüringer Rostbratwurst</td><td>2228,22</td></tr>",
                            "<tr><td>Rene Phillips</td><td>Schoggi Schokolade</td><td>1755,00</td><td>Pavlova</td><td>1221,50</td></tr>",
                            "<tr><td>Rene Phillips</td><td>Pavlova</td><td>1221,50</td><td>Schoggi Schokolade</td><td>1755,00</td></tr>",
                            "<tr><td>Rita Müller</td><td>Mascarpone Fabioli</td><td>1600,00</td><td>Gudbrandsdalsost</td><td>720,00</td></tr>",
                            "<tr><td>Rita Müller</td><td>Gudbrandsdalsost</td><td>720,00</td><td>Mascarpone Fabioli</td><td>1600,00</td></tr>",
                            "<tr><td>Roland Mendel</td><td>Manjimup Dried Apples</td><td>6360,00</td><td>Alice Mutton</td><td>4368,00</td></tr>",
                            "<tr><td>Roland Mendel</td><td>Alice Mutton</td><td>4368,00</td><td>Manjimup Dried Apples</td><td>6360,00</td></tr>",
                            "<tr><td>Sergio Gutiérrez</td><td>Manjimup Dried Apples</td><td>371,00</td><td>Boston Crab Meat</td><td>294,00</td></tr>",
                            "<tr><td>Sergio Gutiérrez</td><td>Boston Crab Meat</td><td>294,00</td><td>Manjimup Dried Apples</td><td>371,00</td></tr>",
                            "<tr><td>Simon Crowther</td><td>Raclette Courdavault</td><td>220,00</td><td>Chai</td><td>144,00</td></tr>",
                            "<tr><td>Simon Crowther</td><td>Chai</td><td>144,00</td><td>Raclette Courdavault</td><td>220,00</td></tr>",
                            "<tr><td>Sven Ottlieb</td><td>Queso Cabrales</td><td>420,00</td><td>NULL</td><td>NULL</td></tr>",
                            "<tr><td>Thomas Hardy</td><td>Manjimup Dried Apples</td><td>1060,00</td><td>Ravioli Angelo</td><td>780,00</td></tr>",
                            "<tr><td>Thomas Hardy</td><td>Ravioli Angelo</td><td>780,00</td><td>Manjimup Dried Apples</td><td>1060,00</td></tr>",
                            "<tr><td>Victoria Ashworth</td><td>Uncle Bob&#39;s Organic Dried Pears</td><td>720,00</td><td>Gnocchi di nonna Alice</td><td>608,00</td></tr>",
                            "<tr><td>Victoria Ashworth</td><td>Gnocchi di nonna Alice</td><td>608,00</td><td>Uncle Bob&#39;s Organic Dried Pears</td><td>720,00</td></tr>",
                            "<tr><td>Yang Wang</td><td>Manjimup Dried Apples</td><td>1590,00</td><td>Gnocchi di nonna Alice</td><td>1520,00</td></tr>",
                            "<tr><td>Yang Wang</td><td>Gnocchi di nonna Alice</td><td>1520,00</td><td>Manjimup Dried Apples</td><td>1590,00</td></tr>",
                            "<tr><td>Yoshi Latimer</td><td>Sir Rodney&#39;s Marmalade</td><td>1701,00</td><td>Röd Kaviar</td><td>450,00</td></tr>",
                            "<tr><td>Yoshi Latimer</td><td>Röd Kaviar</td><td>450,00</td><td>Sir Rodney&#39;s Marmalade</td><td>1701,00</td></tr>",
                            "<tr><td>Yoshi Tannamuri</td><td>Jack&#39;s New England Clam Chowder</td><td>154,00</td><td>Tunnbröd</td><td>72,00</td></tr>",
                            "<tr><td>Yoshi Tannamuri</td><td>Tunnbröd</td><td>72,00</td><td>Jack&#39;s New England Clam Chowder</td><td>154,00</td></tr>",
                            "<tr><td>Yvonne Moncada</td><td>Tofu</td><td>223,20</td><td>Raclette Courdavault</td><td>110,00</td></tr>",
                            "<tr><td>Yvonne Moncada</td><td>Raclette Courdavault</td><td>110,00</td><td>Tofu</td><td>223,20</td></tr>",
                            "<tr><td>Zbyszek Piestrzeniewicz</td><td>Camembert Pierrot</td><td>510,00</td><td>Chang</td><td>380,00</td></tr>",
                            "<tr><td>Zbyszek Piestrzeniewicz</td><td>Chang</td><td>380,00</td><td>Camembert Pierrot</td><td>510,00</td></tr>",
                            "</table>"
                        ]
                    }
                }
            ],
            "execution_count": 13
        },
        {
            "cell_type": "markdown",
            "source": [
                "<span lang=\"RU\" style=\"font-size: 12pt; line-height: 17.12px; font-family: Arial, sans-serif; color: rgb(31, 73, 125);\">Без применения APPLY и ранжирующих функций</span>"
            ],
            "metadata": {
                "azdata_cell_guid": "3f03454e-7290-4c3f-944e-474bb18ad098"
            },
            "attachments": {}
        },
        {
            "cell_type": "code",
            "source": [
                "WITH CustomerProductSpending AS (\n",
                "    SELECT \n",
                "        c.CustomerID,\n",
                "        c.ContactName,\n",
                "        p.ProductID,\n",
                "        p.ProductName,\n",
                "        SUM(od.UnitPrice * od.Quantity) AS TotalSpent\n",
                "    FROM Customers c\n",
                "    JOIN Orders o ON c.CustomerID = o.CustomerID\n",
                "    JOIN [Order Details] od ON o.OrderID = od.OrderID\n",
                "    JOIN Products p ON od.ProductID = p.ProductID\n",
                "    WHERE YEAR(o.OrderDate) = 1997\n",
                "    GROUP BY c.CustomerID, c.ContactName, p.ProductID, p.ProductName\n",
                "),\n",
                "TopCustomerProducts AS (\n",
                "    SELECT \n",
                "        cps1.CustomerID,\n",
                "        cps1.ContactName,\n",
                "        cps1.ProductName,\n",
                "        cps1.TotalSpent\n",
                "    FROM CustomerProductSpending cps1\n",
                "    WHERE (\n",
                "        SELECT COUNT(*)\n",
                "        FROM CustomerProductSpending cps2\n",
                "        WHERE cps2.CustomerID = cps1.CustomerID AND cps2.TotalSpent > cps1.TotalSpent\n",
                "    ) < 2\n",
                ")\n",
                "SELECT \n",
                "    CustomerID,\n",
                "    ContactName,\n",
                "    ProductName,\n",
                "    TotalSpent\n",
                "FROM TopCustomerProducts\n",
                "ORDER BY CustomerID, TotalSpent DESC;\n",
                ""
            ],
            "metadata": {
                "azdata_cell_guid": "de4ac0e9-cfe4-4988-b41c-7a28a694d1be",
                "language": "sql"
            },
            "outputs": [
                {
                    "output_type": "display_data",
                    "data": {
                        "text/html": "(170 rows affected)"
                    },
                    "metadata": {}
                },
                {
                    "output_type": "display_data",
                    "data": {
                        "text/html": "Total execution time: 00:00:00.145"
                    },
                    "metadata": {}
                },
                {
                    "output_type": "execute_result",
                    "metadata": {},
                    "execution_count": 14,
                    "data": {
                        "application/vnd.dataresource+json": {
                            "schema": {
                                "fields": [
                                    {
                                        "name": "CustomerID"
                                    },
                                    {
                                        "name": "ContactName"
                                    },
                                    {
                                        "name": "ProductName"
                                    },
                                    {
                                        "name": "TotalSpent"
                                    }
                                ]
                            },
                            "data": [
                                {
                                    "CustomerID": "ALFKI",
                                    "ContactName": "Maria Anders",
                                    "ProductName": "Vegie-spread",
                                    "TotalSpent": "878,00"
                                },
                                {
                                    "CustomerID": "ALFKI",
                                    "ContactName": "Maria Anders",
                                    "ProductName": "Rössle Sauerkraut",
                                    "TotalSpent": "684,00"
                                },
                                {
                                    "CustomerID": "ANATR",
                                    "ContactName": "Ana Trujillo",
                                    "ProductName": "Camembert Pierrot",
                                    "TotalSpent": "340,00"
                                },
                                {
                                    "CustomerID": "ANATR",
                                    "ContactName": "Ana Trujillo",
                                    "ProductName": "Mascarpone Fabioli",
                                    "TotalSpent": "320,00"
                                },
                                {
                                    "CustomerID": "ANTON",
                                    "ContactName": "Antonio Moreno",
                                    "ProductName": "Queso Cabrales",
                                    "TotalSpent": "1050,00"
                                },
                                {
                                    "CustomerID": "ANTON",
                                    "ContactName": "Antonio Moreno",
                                    "ProductName": "Gumbär Gummibärchen",
                                    "TotalSpent": "936,90"
                                },
                                {
                                    "CustomerID": "AROUT",
                                    "ContactName": "Thomas Hardy",
                                    "ProductName": "Manjimup Dried Apples",
                                    "TotalSpent": "1060,00"
                                },
                                {
                                    "CustomerID": "AROUT",
                                    "ContactName": "Thomas Hardy",
                                    "ProductName": "Ravioli Angelo",
                                    "TotalSpent": "780,00"
                                },
                                {
                                    "CustomerID": "BERGS",
                                    "ContactName": "Christina Berglund",
                                    "ProductName": "Côte de Blaye",
                                    "TotalSpent": "3952,50"
                                },
                                {
                                    "CustomerID": "BERGS",
                                    "ContactName": "Christina Berglund",
                                    "ProductName": "Ipoh Coffee",
                                    "TotalSpent": "2760,00"
                                },
                                {
                                    "CustomerID": "BLAUS",
                                    "ContactName": "Hanna Moos",
                                    "ProductName": "Queso Cabrales",
                                    "TotalSpent": "294,00"
                                },
                                {
                                    "CustomerID": "BLAUS",
                                    "ContactName": "Hanna Moos",
                                    "ProductName": "Lakkalikööri",
                                    "TotalSpent": "252,00"
                                },
                                {
                                    "CustomerID": "BLONP",
                                    "ContactName": "Frédérique Citeaux",
                                    "ProductName": "Tarte au sucre",
                                    "TotalSpent": "1379,00"
                                },
                                {
                                    "CustomerID": "BLONP",
                                    "ContactName": "Frédérique Citeaux",
                                    "ProductName": "Gnocchi di nonna Alice",
                                    "TotalSpent": "1216,00"
                                },
                                {
                                    "CustomerID": "BOLID",
                                    "ContactName": "Martín Sommer",
                                    "ProductName": "Thüringer Rostbratwurst",
                                    "TotalSpent": "2475,80"
                                },
                                {
                                    "CustomerID": "BOLID",
                                    "ContactName": "Martín Sommer",
                                    "ProductName": "Alice Mutton",
                                    "TotalSpent": "1560,00"
                                },
                                {
                                    "CustomerID": "BONAP",
                                    "ContactName": "Laurence Lebihan",
                                    "ProductName": "Carnarvon Tigers",
                                    "TotalSpent": "1500,00"
                                },
                                {
                                    "CustomerID": "BONAP",
                                    "ContactName": "Laurence Lebihan",
                                    "ProductName": "Uncle Bob's Organic Dried Pears",
                                    "TotalSpent": "1500,00"
                                },
                                {
                                    "CustomerID": "BOTTM",
                                    "ContactName": "Elizabeth Lincoln",
                                    "ProductName": "Camembert Pierrot",
                                    "TotalSpent": "1700,00"
                                },
                                {
                                    "CustomerID": "BOTTM",
                                    "ContactName": "Elizabeth Lincoln",
                                    "ProductName": "Alice Mutton",
                                    "TotalSpent": "1560,00"
                                },
                                {
                                    "CustomerID": "BSBEV",
                                    "ContactName": "Victoria Ashworth",
                                    "ProductName": "Uncle Bob's Organic Dried Pears",
                                    "TotalSpent": "720,00"
                                },
                                {
                                    "CustomerID": "BSBEV",
                                    "ContactName": "Victoria Ashworth",
                                    "ProductName": "Gnocchi di nonna Alice",
                                    "TotalSpent": "608,00"
                                },
                                {
                                    "CustomerID": "CACTU",
                                    "ContactName": "Patricio Simpson",
                                    "ProductName": "Jack's New England Clam Chowder",
                                    "TotalSpent": "96,50"
                                },
                                {
                                    "CustomerID": "CACTU",
                                    "ContactName": "Patricio Simpson",
                                    "ProductName": "Scottish Longbreads",
                                    "TotalSpent": "75,00"
                                },
                                {
                                    "CustomerID": "CHOPS",
                                    "ContactName": "Yang Wang",
                                    "ProductName": "Manjimup Dried Apples",
                                    "TotalSpent": "1590,00"
                                },
                                {
                                    "CustomerID": "CHOPS",
                                    "ContactName": "Yang Wang",
                                    "ProductName": "Gnocchi di nonna Alice",
                                    "TotalSpent": "1520,00"
                                },
                                {
                                    "CustomerID": "COMMI",
                                    "ContactName": "Pedro Afonso",
                                    "ProductName": "Gnocchi di nonna Alice",
                                    "TotalSpent": "912,00"
                                },
                                {
                                    "CustomerID": "COMMI",
                                    "ContactName": "Pedro Afonso",
                                    "ProductName": "Queso Cabrales",
                                    "TotalSpent": "168,00"
                                },
                                {
                                    "CustomerID": "CONSH",
                                    "ContactName": "Elizabeth Brown",
                                    "ProductName": "Mozzarella di Giovanni",
                                    "TotalSpent": "278,00"
                                },
                                {
                                    "CustomerID": "CONSH",
                                    "ContactName": "Elizabeth Brown",
                                    "ProductName": "Gustaf's Knäckebröd",
                                    "TotalSpent": "201,60"
                                },
                                {
                                    "CustomerID": "DRACD",
                                    "ContactName": "Sven Ottlieb",
                                    "ProductName": "Queso Cabrales",
                                    "TotalSpent": "420,00"
                                },
                                {
                                    "CustomerID": "DUMON",
                                    "ContactName": "Janine Labrune",
                                    "ProductName": "Ikura",
                                    "TotalSpent": "310,00"
                                },
                                {
                                    "CustomerID": "DUMON",
                                    "ContactName": "Janine Labrune",
                                    "ProductName": "Filo Mix",
                                    "TotalSpent": "63,00"
                                },
                                {
                                    "CustomerID": "EASTC",
                                    "ContactName": "Ann Devon",
                                    "ProductName": "Thüringer Rostbratwurst",
                                    "TotalSpent": "2079,00"
                                },
                                {
                                    "CustomerID": "EASTC",
                                    "ContactName": "Ann Devon",
                                    "ProductName": "Chef Anton's Cajun Seasoning",
                                    "TotalSpent": "550,00"
                                },
                                {
                                    "CustomerID": "ERNSH",
                                    "ContactName": "Roland Mendel",
                                    "ProductName": "Manjimup Dried Apples",
                                    "TotalSpent": "6360,00"
                                },
                                {
                                    "CustomerID": "ERNSH",
                                    "ContactName": "Roland Mendel",
                                    "ProductName": "Alice Mutton",
                                    "TotalSpent": "4368,00"
                                },
                                {
                                    "CustomerID": "FAMIA",
                                    "ContactName": "Aria Cruz",
                                    "ProductName": "Perth Pasties",
                                    "TotalSpent": "820,00"
                                },
                                {
                                    "CustomerID": "FAMIA",
                                    "ContactName": "Aria Cruz",
                                    "ProductName": "Nord-Ost Matjeshering",
                                    "TotalSpent": "776,70"
                                },
                                {
                                    "CustomerID": "FOLIG",
                                    "ContactName": "Martine Rancé",
                                    "ProductName": "Carnarvon Tigers",
                                    "TotalSpent": "5000,00"
                                },
                                {
                                    "CustomerID": "FOLIG",
                                    "ContactName": "Martine Rancé",
                                    "ProductName": "Tarte au sucre",
                                    "TotalSpent": "1379,00"
                                },
                                {
                                    "CustomerID": "FOLKO",
                                    "ContactName": "Maria Larsson",
                                    "ProductName": "Manjimup Dried Apples",
                                    "TotalSpent": "4134,00"
                                },
                                {
                                    "CustomerID": "FOLKO",
                                    "ContactName": "Maria Larsson",
                                    "ProductName": "Gnocchi di nonna Alice",
                                    "TotalSpent": "2280,00"
                                },
                                {
                                    "CustomerID": "FRANK",
                                    "ContactName": "Peter Franken",
                                    "ProductName": "Thüringer Rostbratwurst",
                                    "TotalSpent": "1733,06"
                                },
                                {
                                    "CustomerID": "FRANK",
                                    "ContactName": "Peter Franken",
                                    "ProductName": "Raclette Courdavault",
                                    "TotalSpent": "1320,00"
                                },
                                {
                                    "CustomerID": "FRANR",
                                    "ContactName": "Carine Schmitt",
                                    "ProductName": "Tarte au sucre",
                                    "TotalSpent": "493,00"
                                },
                                {
                                    "CustomerID": "FRANR",
                                    "ContactName": "Carine Schmitt",
                                    "ProductName": "Louisiana Fiery Hot Pepper Sauce",
                                    "TotalSpent": "252,60"
                                },
                                {
                                    "CustomerID": "FRANS",
                                    "ContactName": "Paolo Accorti",
                                    "ProductName": "Longlife Tofu",
                                    "TotalSpent": "50,00"
                                },
                                {
                                    "CustomerID": "FRANS",
                                    "ContactName": "Paolo Accorti",
                                    "ProductName": "Gumbär Gummibärchen",
                                    "TotalSpent": "49,80"
                                },
                                {
                                    "CustomerID": "FURIB",
                                    "ContactName": "Lino Rodriguez",
                                    "ProductName": "Gnocchi di nonna Alice",
                                    "TotalSpent": "1368,00"
                                },
                                {
                                    "CustomerID": "FURIB",
                                    "ContactName": "Lino Rodriguez",
                                    "ProductName": "Gula Malacca",
                                    "TotalSpent": "1010,50"
                                },
                                {
                                    "CustomerID": "GALED",
                                    "ContactName": "Eduardo Saavedra",
                                    "ProductName": "Wimmers gute Semmelknödel",
                                    "TotalSpent": "186,20"
                                },
                                {
                                    "CustomerID": "GALED",
                                    "ContactName": "Eduardo Saavedra",
                                    "ProductName": "Ikura",
                                    "TotalSpent": "155,00"
                                },
                                {
                                    "CustomerID": "GODOS",
                                    "ContactName": "José Pedro Freyre",
                                    "ProductName": "Thüringer Rostbratwurst",
                                    "TotalSpent": "2475,80"
                                },
                                {
                                    "CustomerID": "GODOS",
                                    "ContactName": "José Pedro Freyre",
                                    "ProductName": "Alice Mutton",
                                    "TotalSpent": "312,00"
                                },
                                {
                                    "CustomerID": "GOURL",
                                    "ContactName": "André Fonseca",
                                    "ProductName": "Northwoods Cranberry Sauce",
                                    "TotalSpent": "1600,00"
                                },
                                {
                                    "CustomerID": "GOURL",
                                    "ContactName": "André Fonseca",
                                    "ProductName": "Manjimup Dried Apples",
                                    "TotalSpent": "1484,00"
                                },
                                {
                                    "CustomerID": "GREAL",
                                    "ContactName": "Howard Snyder",
                                    "ProductName": "Côte de Blaye",
                                    "TotalSpent": "3952,50"
                                },
                                {
                                    "CustomerID": "GREAL",
                                    "ContactName": "Howard Snyder",
                                    "ProductName": "Raclette Courdavault",
                                    "TotalSpent": "1650,00"
                                },
                                {
                                    "CustomerID": "GROSR",
                                    "ContactName": "Manuel Pereira",
                                    "ProductName": "Ikura",
                                    "TotalSpent": "310,00"
                                },
                                {
                                    "CustomerID": "GROSR",
                                    "ContactName": "Manuel Pereira",
                                    "ProductName": "Rhönbräu Klosterbier",
                                    "TotalSpent": "77,50"
                                },
                                {
                                    "CustomerID": "HANAR",
                                    "ContactName": "Mario Pontes",
                                    "ProductName": "Côte de Blaye",
                                    "TotalSpent": "2371,50"
                                },
                                {
                                    "CustomerID": "HANAR",
                                    "ContactName": "Mario Pontes",
                                    "ProductName": "Carnarvon Tigers",
                                    "TotalSpent": "1250,00"
                                },
                                {
                                    "CustomerID": "HILAA",
                                    "ContactName": "Carlos Hernández",
                                    "ProductName": "Raclette Courdavault",
                                    "TotalSpent": "4565,00"
                                },
                                {
                                    "CustomerID": "HILAA",
                                    "ContactName": "Carlos Hernández",
                                    "ProductName": "Gudbrandsdalsost",
                                    "TotalSpent": "1512,00"
                                },
                                {
                                    "CustomerID": "HUNGC",
                                    "ContactName": "Yoshi Latimer",
                                    "ProductName": "Sir Rodney's Marmalade",
                                    "TotalSpent": "1701,00"
                                },
                                {
                                    "CustomerID": "HUNGC",
                                    "ContactName": "Yoshi Latimer",
                                    "ProductName": "Röd Kaviar",
                                    "TotalSpent": "450,00"
                                },
                                {
                                    "CustomerID": "HUNGO",
                                    "ContactName": "Patricia McKenna",
                                    "ProductName": "Mishi Kobe Niku",
                                    "TotalSpent": "4850,00"
                                },
                                {
                                    "CustomerID": "HUNGO",
                                    "ContactName": "Patricia McKenna",
                                    "ProductName": "Raclette Courdavault",
                                    "TotalSpent": "4510,00"
                                },
                                {
                                    "CustomerID": "ISLAT",
                                    "ContactName": "Helen Bennett",
                                    "ProductName": "Gnocchi di nonna Alice",
                                    "TotalSpent": "570,00"
                                },
                                {
                                    "CustomerID": "ISLAT",
                                    "ContactName": "Helen Bennett",
                                    "ProductName": "Flotemysost",
                                    "TotalSpent": "528,90"
                                },
                                {
                                    "CustomerID": "KOENE",
                                    "ContactName": "Philip Cramer",
                                    "ProductName": "Raclette Courdavault",
                                    "TotalSpent": "2959,00"
                                },
                                {
                                    "CustomerID": "KOENE",
                                    "ContactName": "Philip Cramer",
                                    "ProductName": "Queso Manchego La Pastora",
                                    "TotalSpent": "1368,00"
                                },
                                {
                                    "CustomerID": "LAMAI",
                                    "ContactName": "Annette Roulet",
                                    "ProductName": "Thüringer Rostbratwurst",
                                    "TotalSpent": "2475,80"
                                },
                                {
                                    "CustomerID": "LAMAI",
                                    "ContactName": "Annette Roulet",
                                    "ProductName": "Tarte au sucre",
                                    "TotalSpent": "1576,00"
                                },
                                {
                                    "CustomerID": "LAUGB",
                                    "ContactName": "Yoshi Tannamuri",
                                    "ProductName": "Jack's New England Clam Chowder",
                                    "TotalSpent": "154,00"
                                },
                                {
                                    "CustomerID": "LAUGB",
                                    "ContactName": "Yoshi Tannamuri",
                                    "ProductName": "Tunnbröd",
                                    "TotalSpent": "72,00"
                                },
                                {
                                    "CustomerID": "LAZYK",
                                    "ContactName": "John Steel",
                                    "ProductName": "Queso Cabrales",
                                    "TotalSpent": "210,00"
                                },
                                {
                                    "CustomerID": "LAZYK",
                                    "ContactName": "John Steel",
                                    "ProductName": "Boston Crab Meat",
                                    "TotalSpent": "147,00"
                                },
                                {
                                    "CustomerID": "LEHMS",
                                    "ContactName": "Renate Messner",
                                    "ProductName": "Thüringer Rostbratwurst",
                                    "TotalSpent": "2228,22"
                                },
                                {
                                    "CustomerID": "LEHMS",
                                    "ContactName": "Renate Messner",
                                    "ProductName": "Sir Rodney's Marmalade",
                                    "TotalSpent": "1701,00"
                                },
                                {
                                    "CustomerID": "LETSS",
                                    "ContactName": "Jaime Yorres",
                                    "ProductName": "Carnarvon Tigers",
                                    "TotalSpent": "750,00"
                                },
                                {
                                    "CustomerID": "LETSS",
                                    "ContactName": "Jaime Yorres",
                                    "ProductName": "Sirop d'érable",
                                    "TotalSpent": "570,00"
                                },
                                {
                                    "CustomerID": "LILAS",
                                    "ContactName": "Carlos González",
                                    "ProductName": "Pâté chinois",
                                    "TotalSpent": "1152,00"
                                },
                                {
                                    "CustomerID": "LILAS",
                                    "ContactName": "Carlos González",
                                    "ProductName": "Queso Manchego La Pastora",
                                    "TotalSpent": "1140,00"
                                },
                                {
                                    "CustomerID": "LINOD",
                                    "ContactName": "Felipe Izquierdo",
                                    "ProductName": "Mozzarella di Giovanni",
                                    "TotalSpent": "2088,00"
                                },
                                {
                                    "CustomerID": "LINOD",
                                    "ContactName": "Felipe Izquierdo",
                                    "ProductName": "Outback Lager",
                                    "TotalSpent": "1170,00"
                                },
                                {
                                    "CustomerID": "LONEP",
                                    "ContactName": "Fran Wilson",
                                    "ProductName": "Manjimup Dried Apples",
                                    "TotalSpent": "1060,00"
                                },
                                {
                                    "CustomerID": "LONEP",
                                    "ContactName": "Fran Wilson",
                                    "ProductName": "Rössle Sauerkraut",
                                    "TotalSpent": "319,20"
                                },
                                {
                                    "CustomerID": "MAGAA",
                                    "ContactName": "Giovanni Rovelli",
                                    "ProductName": "Mozzarella di Giovanni",
                                    "TotalSpent": "1044,00"
                                },
                                {
                                    "CustomerID": "MAGAA",
                                    "ContactName": "Giovanni Rovelli",
                                    "ProductName": "Gustaf's Knäckebröd",
                                    "TotalSpent": "840,00"
                                },
                                {
                                    "CustomerID": "MAISD",
                                    "ContactName": "Catherine Dewey",
                                    "ProductName": "Schoggi Schokolade",
                                    "TotalSpent": "1756,00"
                                },
                                {
                                    "CustomerID": "MAISD",
                                    "ContactName": "Catherine Dewey",
                                    "ProductName": "Ipoh Coffee",
                                    "TotalSpent": "1380,00"
                                },
                                {
                                    "CustomerID": "MEREP",
                                    "ContactName": "Jean Fresnière",
                                    "ProductName": "Côte de Blaye",
                                    "TotalSpent": "10329,20"
                                },
                                {
                                    "CustomerID": "MEREP",
                                    "ContactName": "Jean Fresnière",
                                    "ProductName": "Gnocchi di nonna Alice",
                                    "TotalSpent": "3040,00"
                                },
                                {
                                    "CustomerID": "MORGK",
                                    "ContactName": "Alexander Feuer",
                                    "ProductName": "Mozzarella di Giovanni",
                                    "TotalSpent": "1044,00"
                                },
                                {
                                    "CustomerID": "MORGK",
                                    "ContactName": "Alexander Feuer",
                                    "ProductName": "Tarte au sucre",
                                    "TotalSpent": "986,00"
                                },
                                {
                                    "CustomerID": "NORTS",
                                    "ContactName": "Simon Crowther",
                                    "ProductName": "Raclette Courdavault",
                                    "TotalSpent": "220,00"
                                },
                                {
                                    "CustomerID": "NORTS",
                                    "ContactName": "Simon Crowther",
                                    "ProductName": "Chai",
                                    "TotalSpent": "144,00"
                                },
                                {
                                    "CustomerID": "OCEAN",
                                    "ContactName": "Yvonne Moncada",
                                    "ProductName": "Tofu",
                                    "TotalSpent": "223,20"
                                },
                                {
                                    "CustomerID": "OCEAN",
                                    "ContactName": "Yvonne Moncada",
                                    "ProductName": "Raclette Courdavault",
                                    "TotalSpent": "110,00"
                                },
                                {
                                    "CustomerID": "OLDWO",
                                    "ContactName": "Rene Phillips",
                                    "ProductName": "Schoggi Schokolade",
                                    "TotalSpent": "1755,00"
                                },
                                {
                                    "CustomerID": "OLDWO",
                                    "ContactName": "Rene Phillips",
                                    "ProductName": "Pavlova",
                                    "TotalSpent": "1221,50"
                                },
                                {
                                    "CustomerID": "OTTIK",
                                    "ContactName": "Henriette Pfalzheim",
                                    "ProductName": "Uncle Bob's Organic Dried Pears",
                                    "TotalSpent": "1050,00"
                                },
                                {
                                    "CustomerID": "OTTIK",
                                    "ContactName": "Henriette Pfalzheim",
                                    "ProductName": "Camembert Pierrot",
                                    "TotalSpent": "1020,00"
                                },
                                {
                                    "CustomerID": "PERIC",
                                    "ContactName": "Guillermo Fernández",
                                    "ProductName": "Rössle Sauerkraut",
                                    "TotalSpent": "655,20"
                                },
                                {
                                    "CustomerID": "PERIC",
                                    "ContactName": "Guillermo Fernández",
                                    "ProductName": "Laughing Lumberjack Lager",
                                    "TotalSpent": "420,00"
                                },
                                {
                                    "CustomerID": "PICCO",
                                    "ContactName": "Georg Pipps",
                                    "ProductName": "Alice Mutton",
                                    "TotalSpent": "2730,00"
                                },
                                {
                                    "CustomerID": "PICCO",
                                    "ContactName": "Georg Pipps",
                                    "ProductName": "Ipoh Coffee",
                                    "TotalSpent": "1150,00"
                                },
                                {
                                    "CustomerID": "PRINI",
                                    "ContactName": "Isabel de Castro",
                                    "ProductName": "Gnocchi di nonna Alice",
                                    "TotalSpent": "851,20"
                                },
                                {
                                    "CustomerID": "PRINI",
                                    "ContactName": "Isabel de Castro",
                                    "ProductName": "Chartreuse verte",
                                    "TotalSpent": "288,00"
                                },
                                {
                                    "CustomerID": "QUEDE",
                                    "ContactName": "Bernardo Batista",
                                    "ProductName": "Gumbär Gummibärchen",
                                    "TotalSpent": "934,38"
                                },
                                {
                                    "CustomerID": "QUEDE",
                                    "ContactName": "Bernardo Batista",
                                    "ProductName": "Steeleye Stout",
                                    "TotalSpent": "738,00"
                                },
                                {
                                    "CustomerID": "QUEEN",
                                    "ContactName": "Lúcia Carvalho",
                                    "ProductName": "Gnocchi di nonna Alice",
                                    "TotalSpent": "2280,00"
                                },
                                {
                                    "CustomerID": "QUEEN",
                                    "ContactName": "Lúcia Carvalho",
                                    "ProductName": "Rössle Sauerkraut",
                                    "TotalSpent": "1528,80"
                                },
                                {
                                    "CustomerID": "QUICK",
                                    "ContactName": "Horst Kloss",
                                    "ProductName": "Côte de Blaye",
                                    "TotalSpent": "7905,00"
                                },
                                {
                                    "CustomerID": "QUICK",
                                    "ContactName": "Horst Kloss",
                                    "ProductName": "Schoggi Schokolade",
                                    "TotalSpent": "5268,00"
                                },
                                {
                                    "CustomerID": "RANCH",
                                    "ContactName": "Sergio Gutiérrez",
                                    "ProductName": "Manjimup Dried Apples",
                                    "TotalSpent": "371,00"
                                },
                                {
                                    "CustomerID": "RANCH",
                                    "ContactName": "Sergio Gutiérrez",
                                    "ProductName": "Boston Crab Meat",
                                    "TotalSpent": "294,00"
                                },
                                {
                                    "CustomerID": "RATTC",
                                    "ContactName": "Paula Wilson",
                                    "ProductName": "Côte de Blaye",
                                    "TotalSpent": "6324,00"
                                },
                                {
                                    "CustomerID": "RATTC",
                                    "ContactName": "Paula Wilson",
                                    "ProductName": "Raclette Courdavault",
                                    "TotalSpent": "2640,00"
                                },
                                {
                                    "CustomerID": "REGGC",
                                    "ContactName": "Maurizio Moroni",
                                    "ProductName": "Alice Mutton",
                                    "TotalSpent": "780,00"
                                },
                                {
                                    "CustomerID": "REGGC",
                                    "ContactName": "Maurizio Moroni",
                                    "ProductName": "Raclette Courdavault",
                                    "TotalSpent": "550,00"
                                },
                                {
                                    "CustomerID": "RICAR",
                                    "ContactName": "Janete Limeira",
                                    "ProductName": "Camembert Pierrot",
                                    "TotalSpent": "1088,00"
                                },
                                {
                                    "CustomerID": "RICAR",
                                    "ContactName": "Janete Limeira",
                                    "ProductName": "Louisiana Fiery Hot Pepper Sauce",
                                    "TotalSpent": "588,00"
                                },
                                {
                                    "CustomerID": "RICSU",
                                    "ContactName": "Michael Holz",
                                    "ProductName": "Thüringer Rostbratwurst",
                                    "TotalSpent": "4456,44"
                                },
                                {
                                    "CustomerID": "RICSU",
                                    "ContactName": "Michael Holz",
                                    "ProductName": "Camembert Pierrot",
                                    "TotalSpent": "1632,00"
                                },
                                {
                                    "CustomerID": "SANTG",
                                    "ContactName": "Jonas Bergulfsen",
                                    "ProductName": "Carnarvon Tigers",
                                    "TotalSpent": "500,00"
                                },
                                {
                                    "CustomerID": "SANTG",
                                    "ContactName": "Jonas Bergulfsen",
                                    "ProductName": "Perth Pasties",
                                    "TotalSpent": "164,00"
                                },
                                {
                                    "CustomerID": "SAVEA",
                                    "ContactName": "Jose Pavarotti",
                                    "ProductName": "Thüringer Rostbratwurst",
                                    "TotalSpent": "6832,44"
                                },
                                {
                                    "CustomerID": "SAVEA",
                                    "ContactName": "Jose Pavarotti",
                                    "ProductName": "Gnocchi di nonna Alice",
                                    "TotalSpent": "4978,00"
                                },
                                {
                                    "CustomerID": "SEVES",
                                    "ContactName": "Hari Kumar",
                                    "ProductName": "Manjimup Dried Apples",
                                    "TotalSpent": "1293,20"
                                },
                                {
                                    "CustomerID": "SEVES",
                                    "ContactName": "Hari Kumar",
                                    "ProductName": "Sir Rodney's Marmalade",
                                    "TotalSpent": "1215,00"
                                },
                                {
                                    "CustomerID": "SIMOB",
                                    "ContactName": "Jytte Petersen",
                                    "ProductName": "Côte de Blaye",
                                    "TotalSpent": "10540,00"
                                },
                                {
                                    "CustomerID": "SIMOB",
                                    "ContactName": "Jytte Petersen",
                                    "ProductName": "Manjimup Dried Apples",
                                    "TotalSpent": "1590,00"
                                },
                                {
                                    "CustomerID": "SPECD",
                                    "ContactName": "Dominique Perrier",
                                    "ProductName": "Pavlova",
                                    "TotalSpent": "52,35"
                                },
                                {
                                    "CustomerID": "SPLIR",
                                    "ContactName": "Art Braunschweiger",
                                    "ProductName": "Carnarvon Tigers",
                                    "TotalSpent": "1312,50"
                                },
                                {
                                    "CustomerID": "SPLIR",
                                    "ContactName": "Art Braunschweiger",
                                    "ProductName": "Gudbrandsdalsost",
                                    "TotalSpent": "720,00"
                                },
                                {
                                    "CustomerID": "SUPRD",
                                    "ContactName": "Pascale Cartrain",
                                    "ProductName": "Rössle Sauerkraut",
                                    "TotalSpent": "1092,00"
                                },
                                {
                                    "CustomerID": "SUPRD",
                                    "ContactName": "Pascale Cartrain",
                                    "ProductName": "Flotemysost",
                                    "TotalSpent": "860,00"
                                },
                                {
                                    "CustomerID": "THEBI",
                                    "ContactName": "Liz Nixon",
                                    "ProductName": "Côte de Blaye",
                                    "TotalSpent": "2635,00"
                                },
                                {
                                    "CustomerID": "THEBI",
                                    "ContactName": "Liz Nixon",
                                    "ProductName": "Sasquatch Ale",
                                    "TotalSpent": "140,00"
                                },
                                {
                                    "CustomerID": "THECR",
                                    "ContactName": "Liu Wong",
                                    "ProductName": "Thüringer Rostbratwurst",
                                    "TotalSpent": "742,74"
                                },
                                {
                                    "CustomerID": "THECR",
                                    "ContactName": "Liu Wong",
                                    "ProductName": "Rössle Sauerkraut",
                                    "TotalSpent": "456,00"
                                },
                                {
                                    "CustomerID": "TOMSP",
                                    "ContactName": "Karin Josephs",
                                    "ProductName": "Gnocchi di nonna Alice",
                                    "TotalSpent": "1064,00"
                                },
                                {
                                    "CustomerID": "TOMSP",
                                    "ContactName": "Karin Josephs",
                                    "ProductName": "Sasquatch Ale",
                                    "TotalSpent": "364,00"
                                },
                                {
                                    "CustomerID": "TORTU",
                                    "ContactName": "Miguel Angel Paolino",
                                    "ProductName": "Côte de Blaye",
                                    "TotalSpent": "3952,50"
                                },
                                {
                                    "CustomerID": "TORTU",
                                    "ContactName": "Miguel Angel Paolino",
                                    "ProductName": "Gula Malacca",
                                    "TotalSpent": "991,95"
                                },
                                {
                                    "CustomerID": "TRADH",
                                    "ContactName": "Anabela Domingues",
                                    "ProductName": "Tarte au sucre",
                                    "TotalSpent": "493,00"
                                },
                                {
                                    "CustomerID": "TRADH",
                                    "ContactName": "Anabela Domingues",
                                    "ProductName": "Pâté chinois",
                                    "TotalSpent": "480,00"
                                },
                                {
                                    "CustomerID": "TRAIH",
                                    "ContactName": "Helvetius Nagy",
                                    "ProductName": "Tarte au sucre",
                                    "TotalSpent": "493,00"
                                },
                                {
                                    "CustomerID": "TRAIH",
                                    "ContactName": "Helvetius Nagy",
                                    "ProductName": "Original Frankfurter grüne Soße",
                                    "TotalSpent": "234,00"
                                },
                                {
                                    "CustomerID": "VAFFE",
                                    "ContactName": "Palle Ibsen",
                                    "ProductName": "Rössle Sauerkraut",
                                    "TotalSpent": "2736,00"
                                },
                                {
                                    "CustomerID": "VAFFE",
                                    "ContactName": "Palle Ibsen",
                                    "ProductName": "Thüringer Rostbratwurst",
                                    "TotalSpent": "1782,00"
                                },
                                {
                                    "CustomerID": "VICTE",
                                    "ContactName": "Mary Saveley",
                                    "ProductName": "Tarte au sucre",
                                    "TotalSpent": "1972,00"
                                },
                                {
                                    "CustomerID": "VICTE",
                                    "ContactName": "Mary Saveley",
                                    "ProductName": "Mozzarella di Giovanni",
                                    "TotalSpent": "1112,00"
                                },
                                {
                                    "CustomerID": "VINET",
                                    "ContactName": "Paul Henriot",
                                    "ProductName": "Filo Mix",
                                    "TotalSpent": "126,00"
                                },
                                {
                                    "CustomerID": "VINET",
                                    "ContactName": "Paul Henriot",
                                    "ProductName": "Jack's New England Clam Chowder",
                                    "TotalSpent": "115,80"
                                },
                                {
                                    "CustomerID": "WANDK",
                                    "ContactName": "Rita Müller",
                                    "ProductName": "Mascarpone Fabioli",
                                    "TotalSpent": "1600,00"
                                },
                                {
                                    "CustomerID": "WANDK",
                                    "ContactName": "Rita Müller",
                                    "ProductName": "Gudbrandsdalsost",
                                    "TotalSpent": "720,00"
                                },
                                {
                                    "CustomerID": "WARTH",
                                    "ContactName": "Pirkko Koskitalo",
                                    "ProductName": "Perth Pasties",
                                    "TotalSpent": "1965,00"
                                },
                                {
                                    "CustomerID": "WARTH",
                                    "ContactName": "Pirkko Koskitalo",
                                    "ProductName": "Gnocchi di nonna Alice",
                                    "TotalSpent": "1900,00"
                                },
                                {
                                    "CustomerID": "WELLI",
                                    "ContactName": "Paula Parente",
                                    "ProductName": "Mishi Kobe Niku",
                                    "TotalSpent": "1552,00"
                                },
                                {
                                    "CustomerID": "WELLI",
                                    "ContactName": "Paula Parente",
                                    "ProductName": "Ipoh Coffee",
                                    "TotalSpent": "920,00"
                                },
                                {
                                    "CustomerID": "WHITC",
                                    "ContactName": "Karl Jablonski",
                                    "ProductName": "Gudbrandsdalsost",
                                    "TotalSpent": "1080,00"
                                },
                                {
                                    "CustomerID": "WHITC",
                                    "ContactName": "Karl Jablonski",
                                    "ProductName": "Vegie-spread",
                                    "TotalSpent": "1053,60"
                                },
                                {
                                    "CustomerID": "WILMK",
                                    "ContactName": "Matti Karttunen",
                                    "ProductName": "Northwoods Cranberry Sauce",
                                    "TotalSpent": "400,00"
                                },
                                {
                                    "CustomerID": "WILMK",
                                    "ContactName": "Matti Karttunen",
                                    "ProductName": "Ipoh Coffee",
                                    "TotalSpent": "276,00"
                                },
                                {
                                    "CustomerID": "WOLZA",
                                    "ContactName": "Zbyszek Piestrzeniewicz",
                                    "ProductName": "Camembert Pierrot",
                                    "TotalSpent": "510,00"
                                },
                                {
                                    "CustomerID": "WOLZA",
                                    "ContactName": "Zbyszek Piestrzeniewicz",
                                    "ProductName": "Chang",
                                    "TotalSpent": "380,00"
                                }
                            ]
                        },
                        "text/html": [
                            "<table>",
                            "<tr><th>CustomerID</th><th>ContactName</th><th>ProductName</th><th>TotalSpent</th></tr>",
                            "<tr><td>ALFKI</td><td>Maria Anders</td><td>Vegie-spread</td><td>878,00</td></tr>",
                            "<tr><td>ALFKI</td><td>Maria Anders</td><td>Rössle Sauerkraut</td><td>684,00</td></tr>",
                            "<tr><td>ANATR</td><td>Ana Trujillo</td><td>Camembert Pierrot</td><td>340,00</td></tr>",
                            "<tr><td>ANATR</td><td>Ana Trujillo</td><td>Mascarpone Fabioli</td><td>320,00</td></tr>",
                            "<tr><td>ANTON</td><td>Antonio Moreno</td><td>Queso Cabrales</td><td>1050,00</td></tr>",
                            "<tr><td>ANTON</td><td>Antonio Moreno</td><td>Gumbär Gummibärchen</td><td>936,90</td></tr>",
                            "<tr><td>AROUT</td><td>Thomas Hardy</td><td>Manjimup Dried Apples</td><td>1060,00</td></tr>",
                            "<tr><td>AROUT</td><td>Thomas Hardy</td><td>Ravioli Angelo</td><td>780,00</td></tr>",
                            "<tr><td>BERGS</td><td>Christina Berglund</td><td>Côte de Blaye</td><td>3952,50</td></tr>",
                            "<tr><td>BERGS</td><td>Christina Berglund</td><td>Ipoh Coffee</td><td>2760,00</td></tr>",
                            "<tr><td>BLAUS</td><td>Hanna Moos</td><td>Queso Cabrales</td><td>294,00</td></tr>",
                            "<tr><td>BLAUS</td><td>Hanna Moos</td><td>Lakkalikööri</td><td>252,00</td></tr>",
                            "<tr><td>BLONP</td><td>Frédérique Citeaux</td><td>Tarte au sucre</td><td>1379,00</td></tr>",
                            "<tr><td>BLONP</td><td>Frédérique Citeaux</td><td>Gnocchi di nonna Alice</td><td>1216,00</td></tr>",
                            "<tr><td>BOLID</td><td>Martín Sommer</td><td>Thüringer Rostbratwurst</td><td>2475,80</td></tr>",
                            "<tr><td>BOLID</td><td>Martín Sommer</td><td>Alice Mutton</td><td>1560,00</td></tr>",
                            "<tr><td>BONAP</td><td>Laurence Lebihan</td><td>Carnarvon Tigers</td><td>1500,00</td></tr>",
                            "<tr><td>BONAP</td><td>Laurence Lebihan</td><td>Uncle Bob&#39;s Organic Dried Pears</td><td>1500,00</td></tr>",
                            "<tr><td>BOTTM</td><td>Elizabeth Lincoln</td><td>Camembert Pierrot</td><td>1700,00</td></tr>",
                            "<tr><td>BOTTM</td><td>Elizabeth Lincoln</td><td>Alice Mutton</td><td>1560,00</td></tr>",
                            "<tr><td>BSBEV</td><td>Victoria Ashworth</td><td>Uncle Bob&#39;s Organic Dried Pears</td><td>720,00</td></tr>",
                            "<tr><td>BSBEV</td><td>Victoria Ashworth</td><td>Gnocchi di nonna Alice</td><td>608,00</td></tr>",
                            "<tr><td>CACTU</td><td>Patricio Simpson</td><td>Jack&#39;s New England Clam Chowder</td><td>96,50</td></tr>",
                            "<tr><td>CACTU</td><td>Patricio Simpson</td><td>Scottish Longbreads</td><td>75,00</td></tr>",
                            "<tr><td>CHOPS</td><td>Yang Wang</td><td>Manjimup Dried Apples</td><td>1590,00</td></tr>",
                            "<tr><td>CHOPS</td><td>Yang Wang</td><td>Gnocchi di nonna Alice</td><td>1520,00</td></tr>",
                            "<tr><td>COMMI</td><td>Pedro Afonso</td><td>Gnocchi di nonna Alice</td><td>912,00</td></tr>",
                            "<tr><td>COMMI</td><td>Pedro Afonso</td><td>Queso Cabrales</td><td>168,00</td></tr>",
                            "<tr><td>CONSH</td><td>Elizabeth Brown</td><td>Mozzarella di Giovanni</td><td>278,00</td></tr>",
                            "<tr><td>CONSH</td><td>Elizabeth Brown</td><td>Gustaf&#39;s Knäckebröd</td><td>201,60</td></tr>",
                            "<tr><td>DRACD</td><td>Sven Ottlieb</td><td>Queso Cabrales</td><td>420,00</td></tr>",
                            "<tr><td>DUMON</td><td>Janine Labrune</td><td>Ikura</td><td>310,00</td></tr>",
                            "<tr><td>DUMON</td><td>Janine Labrune</td><td>Filo Mix</td><td>63,00</td></tr>",
                            "<tr><td>EASTC</td><td>Ann Devon</td><td>Thüringer Rostbratwurst</td><td>2079,00</td></tr>",
                            "<tr><td>EASTC</td><td>Ann Devon</td><td>Chef Anton&#39;s Cajun Seasoning</td><td>550,00</td></tr>",
                            "<tr><td>ERNSH</td><td>Roland Mendel</td><td>Manjimup Dried Apples</td><td>6360,00</td></tr>",
                            "<tr><td>ERNSH</td><td>Roland Mendel</td><td>Alice Mutton</td><td>4368,00</td></tr>",
                            "<tr><td>FAMIA</td><td>Aria Cruz</td><td>Perth Pasties</td><td>820,00</td></tr>",
                            "<tr><td>FAMIA</td><td>Aria Cruz</td><td>Nord-Ost Matjeshering</td><td>776,70</td></tr>",
                            "<tr><td>FOLIG</td><td>Martine Rancé</td><td>Carnarvon Tigers</td><td>5000,00</td></tr>",
                            "<tr><td>FOLIG</td><td>Martine Rancé</td><td>Tarte au sucre</td><td>1379,00</td></tr>",
                            "<tr><td>FOLKO</td><td>Maria Larsson</td><td>Manjimup Dried Apples</td><td>4134,00</td></tr>",
                            "<tr><td>FOLKO</td><td>Maria Larsson</td><td>Gnocchi di nonna Alice</td><td>2280,00</td></tr>",
                            "<tr><td>FRANK</td><td>Peter Franken</td><td>Thüringer Rostbratwurst</td><td>1733,06</td></tr>",
                            "<tr><td>FRANK</td><td>Peter Franken</td><td>Raclette Courdavault</td><td>1320,00</td></tr>",
                            "<tr><td>FRANR</td><td>Carine Schmitt</td><td>Tarte au sucre</td><td>493,00</td></tr>",
                            "<tr><td>FRANR</td><td>Carine Schmitt</td><td>Louisiana Fiery Hot Pepper Sauce</td><td>252,60</td></tr>",
                            "<tr><td>FRANS</td><td>Paolo Accorti</td><td>Longlife Tofu</td><td>50,00</td></tr>",
                            "<tr><td>FRANS</td><td>Paolo Accorti</td><td>Gumbär Gummibärchen</td><td>49,80</td></tr>",
                            "<tr><td>FURIB</td><td>Lino Rodriguez</td><td>Gnocchi di nonna Alice</td><td>1368,00</td></tr>",
                            "<tr><td>FURIB</td><td>Lino Rodriguez</td><td>Gula Malacca</td><td>1010,50</td></tr>",
                            "<tr><td>GALED</td><td>Eduardo Saavedra</td><td>Wimmers gute Semmelknödel</td><td>186,20</td></tr>",
                            "<tr><td>GALED</td><td>Eduardo Saavedra</td><td>Ikura</td><td>155,00</td></tr>",
                            "<tr><td>GODOS</td><td>José Pedro Freyre</td><td>Thüringer Rostbratwurst</td><td>2475,80</td></tr>",
                            "<tr><td>GODOS</td><td>José Pedro Freyre</td><td>Alice Mutton</td><td>312,00</td></tr>",
                            "<tr><td>GOURL</td><td>André Fonseca</td><td>Northwoods Cranberry Sauce</td><td>1600,00</td></tr>",
                            "<tr><td>GOURL</td><td>André Fonseca</td><td>Manjimup Dried Apples</td><td>1484,00</td></tr>",
                            "<tr><td>GREAL</td><td>Howard Snyder</td><td>Côte de Blaye</td><td>3952,50</td></tr>",
                            "<tr><td>GREAL</td><td>Howard Snyder</td><td>Raclette Courdavault</td><td>1650,00</td></tr>",
                            "<tr><td>GROSR</td><td>Manuel Pereira</td><td>Ikura</td><td>310,00</td></tr>",
                            "<tr><td>GROSR</td><td>Manuel Pereira</td><td>Rhönbräu Klosterbier</td><td>77,50</td></tr>",
                            "<tr><td>HANAR</td><td>Mario Pontes</td><td>Côte de Blaye</td><td>2371,50</td></tr>",
                            "<tr><td>HANAR</td><td>Mario Pontes</td><td>Carnarvon Tigers</td><td>1250,00</td></tr>",
                            "<tr><td>HILAA</td><td>Carlos Hernández</td><td>Raclette Courdavault</td><td>4565,00</td></tr>",
                            "<tr><td>HILAA</td><td>Carlos Hernández</td><td>Gudbrandsdalsost</td><td>1512,00</td></tr>",
                            "<tr><td>HUNGC</td><td>Yoshi Latimer</td><td>Sir Rodney&#39;s Marmalade</td><td>1701,00</td></tr>",
                            "<tr><td>HUNGC</td><td>Yoshi Latimer</td><td>Röd Kaviar</td><td>450,00</td></tr>",
                            "<tr><td>HUNGO</td><td>Patricia McKenna</td><td>Mishi Kobe Niku</td><td>4850,00</td></tr>",
                            "<tr><td>HUNGO</td><td>Patricia McKenna</td><td>Raclette Courdavault</td><td>4510,00</td></tr>",
                            "<tr><td>ISLAT</td><td>Helen Bennett</td><td>Gnocchi di nonna Alice</td><td>570,00</td></tr>",
                            "<tr><td>ISLAT</td><td>Helen Bennett</td><td>Flotemysost</td><td>528,90</td></tr>",
                            "<tr><td>KOENE</td><td>Philip Cramer</td><td>Raclette Courdavault</td><td>2959,00</td></tr>",
                            "<tr><td>KOENE</td><td>Philip Cramer</td><td>Queso Manchego La Pastora</td><td>1368,00</td></tr>",
                            "<tr><td>LAMAI</td><td>Annette Roulet</td><td>Thüringer Rostbratwurst</td><td>2475,80</td></tr>",
                            "<tr><td>LAMAI</td><td>Annette Roulet</td><td>Tarte au sucre</td><td>1576,00</td></tr>",
                            "<tr><td>LAUGB</td><td>Yoshi Tannamuri</td><td>Jack&#39;s New England Clam Chowder</td><td>154,00</td></tr>",
                            "<tr><td>LAUGB</td><td>Yoshi Tannamuri</td><td>Tunnbröd</td><td>72,00</td></tr>",
                            "<tr><td>LAZYK</td><td>John Steel</td><td>Queso Cabrales</td><td>210,00</td></tr>",
                            "<tr><td>LAZYK</td><td>John Steel</td><td>Boston Crab Meat</td><td>147,00</td></tr>",
                            "<tr><td>LEHMS</td><td>Renate Messner</td><td>Thüringer Rostbratwurst</td><td>2228,22</td></tr>",
                            "<tr><td>LEHMS</td><td>Renate Messner</td><td>Sir Rodney&#39;s Marmalade</td><td>1701,00</td></tr>",
                            "<tr><td>LETSS</td><td>Jaime Yorres</td><td>Carnarvon Tigers</td><td>750,00</td></tr>",
                            "<tr><td>LETSS</td><td>Jaime Yorres</td><td>Sirop d&#39;érable</td><td>570,00</td></tr>",
                            "<tr><td>LILAS</td><td>Carlos González</td><td>Pâté chinois</td><td>1152,00</td></tr>",
                            "<tr><td>LILAS</td><td>Carlos González</td><td>Queso Manchego La Pastora</td><td>1140,00</td></tr>",
                            "<tr><td>LINOD</td><td>Felipe Izquierdo</td><td>Mozzarella di Giovanni</td><td>2088,00</td></tr>",
                            "<tr><td>LINOD</td><td>Felipe Izquierdo</td><td>Outback Lager</td><td>1170,00</td></tr>",
                            "<tr><td>LONEP</td><td>Fran Wilson</td><td>Manjimup Dried Apples</td><td>1060,00</td></tr>",
                            "<tr><td>LONEP</td><td>Fran Wilson</td><td>Rössle Sauerkraut</td><td>319,20</td></tr>",
                            "<tr><td>MAGAA</td><td>Giovanni Rovelli</td><td>Mozzarella di Giovanni</td><td>1044,00</td></tr>",
                            "<tr><td>MAGAA</td><td>Giovanni Rovelli</td><td>Gustaf&#39;s Knäckebröd</td><td>840,00</td></tr>",
                            "<tr><td>MAISD</td><td>Catherine Dewey</td><td>Schoggi Schokolade</td><td>1756,00</td></tr>",
                            "<tr><td>MAISD</td><td>Catherine Dewey</td><td>Ipoh Coffee</td><td>1380,00</td></tr>",
                            "<tr><td>MEREP</td><td>Jean Fresnière</td><td>Côte de Blaye</td><td>10329,20</td></tr>",
                            "<tr><td>MEREP</td><td>Jean Fresnière</td><td>Gnocchi di nonna Alice</td><td>3040,00</td></tr>",
                            "<tr><td>MORGK</td><td>Alexander Feuer</td><td>Mozzarella di Giovanni</td><td>1044,00</td></tr>",
                            "<tr><td>MORGK</td><td>Alexander Feuer</td><td>Tarte au sucre</td><td>986,00</td></tr>",
                            "<tr><td>NORTS</td><td>Simon Crowther</td><td>Raclette Courdavault</td><td>220,00</td></tr>",
                            "<tr><td>NORTS</td><td>Simon Crowther</td><td>Chai</td><td>144,00</td></tr>",
                            "<tr><td>OCEAN</td><td>Yvonne Moncada</td><td>Tofu</td><td>223,20</td></tr>",
                            "<tr><td>OCEAN</td><td>Yvonne Moncada</td><td>Raclette Courdavault</td><td>110,00</td></tr>",
                            "<tr><td>OLDWO</td><td>Rene Phillips</td><td>Schoggi Schokolade</td><td>1755,00</td></tr>",
                            "<tr><td>OLDWO</td><td>Rene Phillips</td><td>Pavlova</td><td>1221,50</td></tr>",
                            "<tr><td>OTTIK</td><td>Henriette Pfalzheim</td><td>Uncle Bob&#39;s Organic Dried Pears</td><td>1050,00</td></tr>",
                            "<tr><td>OTTIK</td><td>Henriette Pfalzheim</td><td>Camembert Pierrot</td><td>1020,00</td></tr>",
                            "<tr><td>PERIC</td><td>Guillermo Fernández</td><td>Rössle Sauerkraut</td><td>655,20</td></tr>",
                            "<tr><td>PERIC</td><td>Guillermo Fernández</td><td>Laughing Lumberjack Lager</td><td>420,00</td></tr>",
                            "<tr><td>PICCO</td><td>Georg Pipps</td><td>Alice Mutton</td><td>2730,00</td></tr>",
                            "<tr><td>PICCO</td><td>Georg Pipps</td><td>Ipoh Coffee</td><td>1150,00</td></tr>",
                            "<tr><td>PRINI</td><td>Isabel de Castro</td><td>Gnocchi di nonna Alice</td><td>851,20</td></tr>",
                            "<tr><td>PRINI</td><td>Isabel de Castro</td><td>Chartreuse verte</td><td>288,00</td></tr>",
                            "<tr><td>QUEDE</td><td>Bernardo Batista</td><td>Gumbär Gummibärchen</td><td>934,38</td></tr>",
                            "<tr><td>QUEDE</td><td>Bernardo Batista</td><td>Steeleye Stout</td><td>738,00</td></tr>",
                            "<tr><td>QUEEN</td><td>Lúcia Carvalho</td><td>Gnocchi di nonna Alice</td><td>2280,00</td></tr>",
                            "<tr><td>QUEEN</td><td>Lúcia Carvalho</td><td>Rössle Sauerkraut</td><td>1528,80</td></tr>",
                            "<tr><td>QUICK</td><td>Horst Kloss</td><td>Côte de Blaye</td><td>7905,00</td></tr>",
                            "<tr><td>QUICK</td><td>Horst Kloss</td><td>Schoggi Schokolade</td><td>5268,00</td></tr>",
                            "<tr><td>RANCH</td><td>Sergio Gutiérrez</td><td>Manjimup Dried Apples</td><td>371,00</td></tr>",
                            "<tr><td>RANCH</td><td>Sergio Gutiérrez</td><td>Boston Crab Meat</td><td>294,00</td></tr>",
                            "<tr><td>RATTC</td><td>Paula Wilson</td><td>Côte de Blaye</td><td>6324,00</td></tr>",
                            "<tr><td>RATTC</td><td>Paula Wilson</td><td>Raclette Courdavault</td><td>2640,00</td></tr>",
                            "<tr><td>REGGC</td><td>Maurizio Moroni</td><td>Alice Mutton</td><td>780,00</td></tr>",
                            "<tr><td>REGGC</td><td>Maurizio Moroni</td><td>Raclette Courdavault</td><td>550,00</td></tr>",
                            "<tr><td>RICAR</td><td>Janete Limeira</td><td>Camembert Pierrot</td><td>1088,00</td></tr>",
                            "<tr><td>RICAR</td><td>Janete Limeira</td><td>Louisiana Fiery Hot Pepper Sauce</td><td>588,00</td></tr>",
                            "<tr><td>RICSU</td><td>Michael Holz</td><td>Thüringer Rostbratwurst</td><td>4456,44</td></tr>",
                            "<tr><td>RICSU</td><td>Michael Holz</td><td>Camembert Pierrot</td><td>1632,00</td></tr>",
                            "<tr><td>SANTG</td><td>Jonas Bergulfsen</td><td>Carnarvon Tigers</td><td>500,00</td></tr>",
                            "<tr><td>SANTG</td><td>Jonas Bergulfsen</td><td>Perth Pasties</td><td>164,00</td></tr>",
                            "<tr><td>SAVEA</td><td>Jose Pavarotti</td><td>Thüringer Rostbratwurst</td><td>6832,44</td></tr>",
                            "<tr><td>SAVEA</td><td>Jose Pavarotti</td><td>Gnocchi di nonna Alice</td><td>4978,00</td></tr>",
                            "<tr><td>SEVES</td><td>Hari Kumar</td><td>Manjimup Dried Apples</td><td>1293,20</td></tr>",
                            "<tr><td>SEVES</td><td>Hari Kumar</td><td>Sir Rodney&#39;s Marmalade</td><td>1215,00</td></tr>",
                            "<tr><td>SIMOB</td><td>Jytte Petersen</td><td>Côte de Blaye</td><td>10540,00</td></tr>",
                            "<tr><td>SIMOB</td><td>Jytte Petersen</td><td>Manjimup Dried Apples</td><td>1590,00</td></tr>",
                            "<tr><td>SPECD</td><td>Dominique Perrier</td><td>Pavlova</td><td>52,35</td></tr>",
                            "<tr><td>SPLIR</td><td>Art Braunschweiger</td><td>Carnarvon Tigers</td><td>1312,50</td></tr>",
                            "<tr><td>SPLIR</td><td>Art Braunschweiger</td><td>Gudbrandsdalsost</td><td>720,00</td></tr>",
                            "<tr><td>SUPRD</td><td>Pascale Cartrain</td><td>Rössle Sauerkraut</td><td>1092,00</td></tr>",
                            "<tr><td>SUPRD</td><td>Pascale Cartrain</td><td>Flotemysost</td><td>860,00</td></tr>",
                            "<tr><td>THEBI</td><td>Liz Nixon</td><td>Côte de Blaye</td><td>2635,00</td></tr>",
                            "<tr><td>THEBI</td><td>Liz Nixon</td><td>Sasquatch Ale</td><td>140,00</td></tr>",
                            "<tr><td>THECR</td><td>Liu Wong</td><td>Thüringer Rostbratwurst</td><td>742,74</td></tr>",
                            "<tr><td>THECR</td><td>Liu Wong</td><td>Rössle Sauerkraut</td><td>456,00</td></tr>",
                            "<tr><td>TOMSP</td><td>Karin Josephs</td><td>Gnocchi di nonna Alice</td><td>1064,00</td></tr>",
                            "<tr><td>TOMSP</td><td>Karin Josephs</td><td>Sasquatch Ale</td><td>364,00</td></tr>",
                            "<tr><td>TORTU</td><td>Miguel Angel Paolino</td><td>Côte de Blaye</td><td>3952,50</td></tr>",
                            "<tr><td>TORTU</td><td>Miguel Angel Paolino</td><td>Gula Malacca</td><td>991,95</td></tr>",
                            "<tr><td>TRADH</td><td>Anabela Domingues</td><td>Tarte au sucre</td><td>493,00</td></tr>",
                            "<tr><td>TRADH</td><td>Anabela Domingues</td><td>Pâté chinois</td><td>480,00</td></tr>",
                            "<tr><td>TRAIH</td><td>Helvetius Nagy</td><td>Tarte au sucre</td><td>493,00</td></tr>",
                            "<tr><td>TRAIH</td><td>Helvetius Nagy</td><td>Original Frankfurter grüne Soße</td><td>234,00</td></tr>",
                            "<tr><td>VAFFE</td><td>Palle Ibsen</td><td>Rössle Sauerkraut</td><td>2736,00</td></tr>",
                            "<tr><td>VAFFE</td><td>Palle Ibsen</td><td>Thüringer Rostbratwurst</td><td>1782,00</td></tr>",
                            "<tr><td>VICTE</td><td>Mary Saveley</td><td>Tarte au sucre</td><td>1972,00</td></tr>",
                            "<tr><td>VICTE</td><td>Mary Saveley</td><td>Mozzarella di Giovanni</td><td>1112,00</td></tr>",
                            "<tr><td>VINET</td><td>Paul Henriot</td><td>Filo Mix</td><td>126,00</td></tr>",
                            "<tr><td>VINET</td><td>Paul Henriot</td><td>Jack&#39;s New England Clam Chowder</td><td>115,80</td></tr>",
                            "<tr><td>WANDK</td><td>Rita Müller</td><td>Mascarpone Fabioli</td><td>1600,00</td></tr>",
                            "<tr><td>WANDK</td><td>Rita Müller</td><td>Gudbrandsdalsost</td><td>720,00</td></tr>",
                            "<tr><td>WARTH</td><td>Pirkko Koskitalo</td><td>Perth Pasties</td><td>1965,00</td></tr>",
                            "<tr><td>WARTH</td><td>Pirkko Koskitalo</td><td>Gnocchi di nonna Alice</td><td>1900,00</td></tr>",
                            "<tr><td>WELLI</td><td>Paula Parente</td><td>Mishi Kobe Niku</td><td>1552,00</td></tr>",
                            "<tr><td>WELLI</td><td>Paula Parente</td><td>Ipoh Coffee</td><td>920,00</td></tr>",
                            "<tr><td>WHITC</td><td>Karl Jablonski</td><td>Gudbrandsdalsost</td><td>1080,00</td></tr>",
                            "<tr><td>WHITC</td><td>Karl Jablonski</td><td>Vegie-spread</td><td>1053,60</td></tr>",
                            "<tr><td>WILMK</td><td>Matti Karttunen</td><td>Northwoods Cranberry Sauce</td><td>400,00</td></tr>",
                            "<tr><td>WILMK</td><td>Matti Karttunen</td><td>Ipoh Coffee</td><td>276,00</td></tr>",
                            "<tr><td>WOLZA</td><td>Zbyszek Piestrzeniewicz</td><td>Camembert Pierrot</td><td>510,00</td></tr>",
                            "<tr><td>WOLZA</td><td>Zbyszek Piestrzeniewicz</td><td>Chang</td><td>380,00</td></tr>",
                            "</table>"
                        ]
                    }
                }
            ],
            "execution_count": 14
        },
        {
            "cell_type": "markdown",
            "source": [
                "_<span lang=\"RU\" style=\"font-size: 12pt; line-height: 17.12px; font-family: Arial, sans-serif; color: rgb(31, 73, 125);\">Как зовут продавцов, которые оформили заказов в Берлин больше, чем в Париж?</span>_"
            ],
            "metadata": {
                "azdata_cell_guid": "b15db661-2079-434e-a497-787244120899"
            },
            "attachments": {}
        },
        {
            "cell_type": "markdown",
            "source": [
                "<span style=\"caret-color: rgb(0, 0, 0); color: rgb(0, 0, 0); font-family: -webkit-standard; font-size: medium;\">Использование подзапроса</span>"
            ],
            "metadata": {
                "azdata_cell_guid": "473911c9-aac9-4579-a13e-4f4f4a453c13"
            },
            "attachments": {}
        },
        {
            "cell_type": "code",
            "source": [
                "WITH OrdersInBerlin AS (\n",
                "    SELECT EmployeeID, COUNT(*) AS BerlinOrders\n",
                "    FROM Orders\n",
                "    WHERE ShipCity = 'Berlin'\n",
                "    GROUP BY EmployeeID\n",
                "),\n",
                "OrdersInParis AS (\n",
                "    SELECT EmployeeID, COUNT(*) AS ParisOrders\n",
                "    FROM Orders\n",
                "    WHERE ShipCity = 'Paris'\n",
                "    GROUP BY EmployeeID\n",
                ")\n",
                "SELECT e.FirstName, e.LastName\n",
                "FROM Employees e\n",
                "WHERE e.EmployeeID IN (\n",
                "    SELECT b.EmployeeID\n",
                "    FROM OrdersInBerlin b\n",
                "    LEFT JOIN OrdersInParis p ON b.EmployeeID = p.EmployeeID\n",
                "    WHERE b.BerlinOrders > ISNULL(p.ParisOrders, 0)\n",
                ");\n",
                ""
            ],
            "metadata": {
                "azdata_cell_guid": "f82b3d23-371a-4b0f-83c9-5f940176e0d0",
                "language": "sql"
            },
            "outputs": [
                {
                    "output_type": "display_data",
                    "data": {
                        "text/html": "(2 rows affected)"
                    },
                    "metadata": {}
                },
                {
                    "output_type": "display_data",
                    "data": {
                        "text/html": "Total execution time: 00:00:00.057"
                    },
                    "metadata": {}
                },
                {
                    "output_type": "execute_result",
                    "metadata": {},
                    "execution_count": 15,
                    "data": {
                        "application/vnd.dataresource+json": {
                            "schema": {
                                "fields": [
                                    {
                                        "name": "FirstName"
                                    },
                                    {
                                        "name": "LastName"
                                    }
                                ]
                            },
                            "data": [
                                {
                                    "FirstName": "Nancy",
                                    "LastName": "Davolio"
                                },
                                {
                                    "FirstName": "Margaret",
                                    "LastName": "Peacock"
                                }
                            ]
                        },
                        "text/html": [
                            "<table>",
                            "<tr><th>FirstName</th><th>LastName</th></tr>",
                            "<tr><td>Nancy</td><td>Davolio</td></tr>",
                            "<tr><td>Margaret</td><td>Peacock</td></tr>",
                            "</table>"
                        ]
                    }
                }
            ],
            "execution_count": 15
        },
        {
            "cell_type": "markdown",
            "source": [
                "<span style=\"caret-color: rgb(0, 0, 0); color: rgb(0, 0, 0); font-family: -webkit-standard; font-size: medium;\">Использование JOIN</span>"
            ],
            "metadata": {
                "azdata_cell_guid": "46809796-6472-476d-b8b7-8b969422d353"
            },
            "attachments": {}
        },
        {
            "cell_type": "code",
            "source": [
                "WITH OrdersCount AS (\n",
                "    SELECT \n",
                "        o.EmployeeID,\n",
                "        SUM(CASE WHEN o.ShipCity = 'Berlin' THEN 1 ELSE 0 END) AS BerlinOrders,\n",
                "        SUM(CASE WHEN o.ShipCity = 'Paris' THEN 1 ELSE 0 END) AS ParisOrders\n",
                "    FROM Orders o\n",
                "    GROUP BY o.EmployeeID\n",
                ")\n",
                "SELECT e.FirstName, e.LastName\n",
                "FROM Employees e\n",
                "JOIN OrdersCount oc ON e.EmployeeID = oc.EmployeeID\n",
                "WHERE oc.BerlinOrders > oc.ParisOrders;\n",
                ""
            ],
            "metadata": {
                "azdata_cell_guid": "a52e86e8-beb1-49ac-8403-40d9c2daa9d7",
                "language": "sql"
            },
            "outputs": [
                {
                    "output_type": "display_data",
                    "data": {
                        "text/html": "(2 rows affected)"
                    },
                    "metadata": {}
                },
                {
                    "output_type": "display_data",
                    "data": {
                        "text/html": "Total execution time: 00:00:00.030"
                    },
                    "metadata": {}
                },
                {
                    "output_type": "execute_result",
                    "metadata": {},
                    "execution_count": 16,
                    "data": {
                        "application/vnd.dataresource+json": {
                            "schema": {
                                "fields": [
                                    {
                                        "name": "FirstName"
                                    },
                                    {
                                        "name": "LastName"
                                    }
                                ]
                            },
                            "data": [
                                {
                                    "FirstName": "Nancy",
                                    "LastName": "Davolio"
                                },
                                {
                                    "FirstName": "Margaret",
                                    "LastName": "Peacock"
                                }
                            ]
                        },
                        "text/html": [
                            "<table>",
                            "<tr><th>FirstName</th><th>LastName</th></tr>",
                            "<tr><td>Nancy</td><td>Davolio</td></tr>",
                            "<tr><td>Margaret</td><td>Peacock</td></tr>",
                            "</table>"
                        ]
                    }
                }
            ],
            "execution_count": 16
        }
    ]
}